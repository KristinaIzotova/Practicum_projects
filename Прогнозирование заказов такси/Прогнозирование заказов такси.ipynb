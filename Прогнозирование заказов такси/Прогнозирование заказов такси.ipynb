{
 "cells": [
  {
   "cell_type": "markdown",
   "metadata": {
    "toc": true
   },
   "source": [
    "<h1>Содержание<span class=\"tocSkip\"></span></h1>\n",
    "<div class=\"toc\"><ul class=\"toc-item\"><li><span><a href=\"#Подготовка\" data-toc-modified-id=\"Подготовка-1\"><span class=\"toc-item-num\">1&nbsp;&nbsp;</span>Подготовка</a></span></li><li><span><a href=\"#Анализ\" data-toc-modified-id=\"Анализ-2\"><span class=\"toc-item-num\">2&nbsp;&nbsp;</span>Анализ</a></span></li><li><span><a href=\"#Обучение\" data-toc-modified-id=\"Обучение-3\"><span class=\"toc-item-num\">3&nbsp;&nbsp;</span>Обучение</a></span></li><li><span><a href=\"#Тестирование\" data-toc-modified-id=\"Тестирование-4\"><span class=\"toc-item-num\">4&nbsp;&nbsp;</span>Тестирование</a></span></li><li><span><a href=\"#Вывод\" data-toc-modified-id=\"Вывод-5\"><span class=\"toc-item-num\">5&nbsp;&nbsp;</span>Вывод</a></span></li><li><span><a href=\"#Чек-лист-проверки\" data-toc-modified-id=\"Чек-лист-проверки-6\"><span class=\"toc-item-num\">6&nbsp;&nbsp;</span>Чек-лист проверки</a></span></li></ul></div>"
   ]
  },
  {
   "cell_type": "markdown",
   "metadata": {},
   "source": [
    "#  Прогнозирование заказов такси"
   ]
  },
  {
   "cell_type": "markdown",
   "metadata": {},
   "source": [
    "Компания «Чётенькое такси» собрала исторические данные о заказах такси в аэропортах. Чтобы привлекать больше водителей в период пиковой нагрузки, нужно спрогнозировать количество заказов такси на следующий час. Постройте модель для такого предсказания.\n",
    "\n",
    "Значение метрики *RMSE* на тестовой выборке должно быть не больше 48.\n",
    "\n",
    "Вам нужно:\n",
    "\n",
    "1. Загрузить данные и выполнить их ресемплирование по одному часу.\n",
    "2. Проанализировать данные.\n",
    "3. Обучить разные модели с различными гиперпараметрами. Сделать тестовую выборку размером 10% от исходных данных.\n",
    "4. Проверить данные на тестовой выборке и сделать выводы.\n",
    "\n",
    "\n",
    "Данные лежат в файле `taxi.csv`. Количество заказов находится в столбце `num_orders` (от англ. *number of orders*, «число заказов»)."
   ]
  },
  {
   "cell_type": "markdown",
   "metadata": {},
   "source": [
    "## Подготовка"
   ]
  },
  {
   "cell_type": "code",
   "execution_count": 1,
   "metadata": {},
   "outputs": [],
   "source": [
    "!pip install -Uq scikit-learn"
   ]
  },
  {
   "cell_type": "code",
   "execution_count": 2,
   "metadata": {},
   "outputs": [],
   "source": [
    "# импорт необходимых библиотек\n",
    "import pandas as pd\n",
    "import matplotlib.pyplot as plt\n",
    "from statsmodels.tsa.seasonal import seasonal_decompose\n",
    "from sklearn.model_selection import train_test_split, GridSearchCV\n",
    "from sklearn.compose import ColumnTransformer\n",
    "from sklearn.preprocessing import OneHotEncoder, StandardScaler\n",
    "from sklearn.linear_model import LinearRegression\n",
    "from sklearn.impute import SimpleImputer\n",
    "from sklearn.tree import DecisionTreeRegressor\n",
    "from sklearn.metrics import (\n",
    "    make_scorer, \n",
    "    mean_squared_error, \n",
    "    root_mean_squared_error\n",
    ")\n",
    "from sklearn.pipeline import Pipeline\n",
    "\n",
    "\n",
    "RANDOM_STATE = 42"
   ]
  },
  {
   "cell_type": "code",
   "execution_count": 3,
   "metadata": {},
   "outputs": [
    {
     "data": {
      "text/html": [
       "<div>\n",
       "<style scoped>\n",
       "    .dataframe tbody tr th:only-of-type {\n",
       "        vertical-align: middle;\n",
       "    }\n",
       "\n",
       "    .dataframe tbody tr th {\n",
       "        vertical-align: top;\n",
       "    }\n",
       "\n",
       "    .dataframe thead th {\n",
       "        text-align: right;\n",
       "    }\n",
       "</style>\n",
       "<table border=\"1\" class=\"dataframe\">\n",
       "  <thead>\n",
       "    <tr style=\"text-align: right;\">\n",
       "      <th></th>\n",
       "      <th>num_orders</th>\n",
       "    </tr>\n",
       "    <tr>\n",
       "      <th>datetime</th>\n",
       "      <th></th>\n",
       "    </tr>\n",
       "  </thead>\n",
       "  <tbody>\n",
       "    <tr>\n",
       "      <th>2018-03-01 00:00:00</th>\n",
       "      <td>9</td>\n",
       "    </tr>\n",
       "    <tr>\n",
       "      <th>2018-03-01 00:10:00</th>\n",
       "      <td>14</td>\n",
       "    </tr>\n",
       "    <tr>\n",
       "      <th>2018-03-01 00:20:00</th>\n",
       "      <td>28</td>\n",
       "    </tr>\n",
       "    <tr>\n",
       "      <th>2018-03-01 00:30:00</th>\n",
       "      <td>20</td>\n",
       "    </tr>\n",
       "    <tr>\n",
       "      <th>2018-03-01 00:40:00</th>\n",
       "      <td>32</td>\n",
       "    </tr>\n",
       "  </tbody>\n",
       "</table>\n",
       "</div>"
      ],
      "text/plain": [
       "                     num_orders\n",
       "datetime                       \n",
       "2018-03-01 00:00:00           9\n",
       "2018-03-01 00:10:00          14\n",
       "2018-03-01 00:20:00          28\n",
       "2018-03-01 00:30:00          20\n",
       "2018-03-01 00:40:00          32"
      ]
     },
     "execution_count": 3,
     "metadata": {},
     "output_type": "execute_result"
    }
   ],
   "source": [
    "# считываем файл taxi, устанавливаем индекс таблицы и выводим первые пять строк на экран\n",
    "taxi = pd.read_csv('/datasets/taxi.csv', index_col=[0], parse_dates=[0])\n",
    "taxi.head()"
   ]
  },
  {
   "cell_type": "code",
   "execution_count": 4,
   "metadata": {},
   "outputs": [
    {
     "name": "stdout",
     "output_type": "stream",
     "text": [
      "<class 'pandas.core.frame.DataFrame'>\n",
      "DatetimeIndex: 26496 entries, 2018-03-01 00:00:00 to 2018-08-31 23:50:00\n",
      "Data columns (total 1 columns):\n",
      " #   Column      Non-Null Count  Dtype\n",
      "---  ------      --------------  -----\n",
      " 0   num_orders  26496 non-null  int64\n",
      "dtypes: int64(1)\n",
      "memory usage: 414.0 KB\n"
     ]
    }
   ],
   "source": [
    "# выведем информацию о taxi\n",
    "taxi.info()"
   ]
  },
  {
   "cell_type": "code",
   "execution_count": 5,
   "metadata": {},
   "outputs": [
    {
     "data": {
      "text/html": [
       "<div>\n",
       "<style scoped>\n",
       "    .dataframe tbody tr th:only-of-type {\n",
       "        vertical-align: middle;\n",
       "    }\n",
       "\n",
       "    .dataframe tbody tr th {\n",
       "        vertical-align: top;\n",
       "    }\n",
       "\n",
       "    .dataframe thead th {\n",
       "        text-align: right;\n",
       "    }\n",
       "</style>\n",
       "<table border=\"1\" class=\"dataframe\">\n",
       "  <thead>\n",
       "    <tr style=\"text-align: right;\">\n",
       "      <th></th>\n",
       "      <th>num_orders</th>\n",
       "    </tr>\n",
       "    <tr>\n",
       "      <th>datetime</th>\n",
       "      <th></th>\n",
       "    </tr>\n",
       "  </thead>\n",
       "  <tbody>\n",
       "    <tr>\n",
       "      <th>2018-03-01 00:00:00</th>\n",
       "      <td>124</td>\n",
       "    </tr>\n",
       "    <tr>\n",
       "      <th>2018-03-01 01:00:00</th>\n",
       "      <td>85</td>\n",
       "    </tr>\n",
       "    <tr>\n",
       "      <th>2018-03-01 02:00:00</th>\n",
       "      <td>71</td>\n",
       "    </tr>\n",
       "    <tr>\n",
       "      <th>2018-03-01 03:00:00</th>\n",
       "      <td>66</td>\n",
       "    </tr>\n",
       "    <tr>\n",
       "      <th>2018-03-01 04:00:00</th>\n",
       "      <td>43</td>\n",
       "    </tr>\n",
       "    <tr>\n",
       "      <th>...</th>\n",
       "      <td>...</td>\n",
       "    </tr>\n",
       "    <tr>\n",
       "      <th>2018-08-31 19:00:00</th>\n",
       "      <td>136</td>\n",
       "    </tr>\n",
       "    <tr>\n",
       "      <th>2018-08-31 20:00:00</th>\n",
       "      <td>154</td>\n",
       "    </tr>\n",
       "    <tr>\n",
       "      <th>2018-08-31 21:00:00</th>\n",
       "      <td>159</td>\n",
       "    </tr>\n",
       "    <tr>\n",
       "      <th>2018-08-31 22:00:00</th>\n",
       "      <td>223</td>\n",
       "    </tr>\n",
       "    <tr>\n",
       "      <th>2018-08-31 23:00:00</th>\n",
       "      <td>205</td>\n",
       "    </tr>\n",
       "  </tbody>\n",
       "</table>\n",
       "<p>4416 rows × 1 columns</p>\n",
       "</div>"
      ],
      "text/plain": [
       "                     num_orders\n",
       "datetime                       \n",
       "2018-03-01 00:00:00         124\n",
       "2018-03-01 01:00:00          85\n",
       "2018-03-01 02:00:00          71\n",
       "2018-03-01 03:00:00          66\n",
       "2018-03-01 04:00:00          43\n",
       "...                         ...\n",
       "2018-08-31 19:00:00         136\n",
       "2018-08-31 20:00:00         154\n",
       "2018-08-31 21:00:00         159\n",
       "2018-08-31 22:00:00         223\n",
       "2018-08-31 23:00:00         205\n",
       "\n",
       "[4416 rows x 1 columns]"
      ]
     },
     "execution_count": 5,
     "metadata": {},
     "output_type": "execute_result"
    }
   ],
   "source": [
    "# ресемплирование данных по одному часу\n",
    "taxi = taxi.resample('1H').sum()\n",
    "taxi"
   ]
  },
  {
   "cell_type": "markdown",
   "metadata": {},
   "source": [
    "Датасет включает данные с 1 марта 2018 года по 31 августа 2018 года. Мы имеем 4416 строк, в каждой строке указано количество заказов такси за данный час. Всего весной и летом в сумме 92 дня, то есть 4416 часов, значит пропусков в данных нет."
   ]
  },
  {
   "cell_type": "markdown",
   "metadata": {},
   "source": [
    "## Анализ"
   ]
  },
  {
   "cell_type": "code",
   "execution_count": 6,
   "metadata": {
    "scrolled": true
   },
   "outputs": [
    {
     "data": {
      "text/plain": [
       "<Figure size 1080x720 with 0 Axes>"
      ]
     },
     "metadata": {},
     "output_type": "display_data"
    },
    {
     "data": {
      "image/png": "[encoded data removed]",
      "text/plain": [
       "<Figure size 432x288 with 1 Axes>"
      ]
     },
     "metadata": {
      "needs_background": "light"
     },
     "output_type": "display_data"
    }
   ],
   "source": [
    "plt.figure(figsize=(15, 10))\n",
    "taxi.plot()\n",
    "plt.title('Количество заказов такси')\n",
    "plt.xlabel('Дата')\n",
    "plt.ylabel('Количество заказов')\n",
    "plt.grid(True)\n",
    "plt.show()"
   ]
  },
  {
   "cell_type": "markdown",
   "metadata": {},
   "source": [
    "График указывает на увеличение заказов с течением времени. В течение полугода наблюдается постепенный рост числа заказов, с заметными пиками, которые могут быть связаны с конкретными событиями или временными периодами."
   ]
  },
  {
   "cell_type": "code",
   "execution_count": 7,
   "metadata": {},
   "outputs": [
    {
     "data": {
      "image/png": "[encoded data removed]",
      "text/plain": [
       "<Figure size 864x864 with 4 Axes>"
      ]
     },
     "metadata": {
      "needs_background": "light"
     },
     "output_type": "display_data"
    }
   ],
   "source": [
    "# декомпозиция\n",
    "# период 24 часа\n",
    "decomposed = seasonal_decompose(taxi, model='additive', period=24) \n",
    "\n",
    "# графики декомпозиции за последние сутки\n",
    "plt.figure(figsize=(12, 12))\n",
    "\n",
    "plt.subplot(4, 2, 1)\n",
    "decomposed.observed['2018-08-31':'2018-08-31'].plot()\n",
    "plt.title('Исходный временной ряд за последние сутки')\n",
    "\n",
    "plt.subplot(4, 2, 2)\n",
    "decomposed.trend['2018-08-31':'2018-08-31'].plot()\n",
    "plt.title('Тренд за последние сутки')\n",
    "\n",
    "plt.subplot(4, 2, 3)\n",
    "decomposed.seasonal['2018-08-31':'2018-08-31'].plot()\n",
    "plt.title('Сезонная составляющая за последние сутки')\n",
    "\n",
    "plt.subplot(4, 2, 4)\n",
    "decomposed.resid['2018-08-31':'2018-08-31'].plot()\n",
    "plt.title('Остаток декомпозиции за последние сутки')\n",
    "\n",
    "plt.tight_layout()\n",
    "plt.show()"
   ]
  },
  {
   "cell_type": "code",
   "execution_count": 8,
   "metadata": {},
   "outputs": [
    {
     "data": {
      "image/png": "[encoded data removed]",
      "text/plain": [
       "<Figure size 864x864 with 4 Axes>"
      ]
     },
     "metadata": {
      "needs_background": "light"
     },
     "output_type": "display_data"
    }
   ],
   "source": [
    "# графики декомпозиции за последнюю неделю\n",
    "plt.figure(figsize=(12, 12))\n",
    "\n",
    "plt.subplot(4, 2, 1)\n",
    "decomposed.observed['2018-08-25':'2018-08-31'].plot()\n",
    "plt.title('Исходный временной ряд за последнюю неделю')\n",
    "\n",
    "plt.subplot(4, 2, 2)\n",
    "decomposed.trend['2018-08-25':'2018-08-31'].plot()\n",
    "plt.title('Тренд за последнюю неделю')\n",
    "\n",
    "plt.subplot(4, 2, 3)\n",
    "decomposed.seasonal['2018-08-25':'2018-08-31'].plot()\n",
    "plt.title('Сезонная составляющая за последнюю неделю')\n",
    "\n",
    "plt.subplot(4, 2, 4)\n",
    "decomposed.resid['2018-08-25':'2018-08-31'].plot()\n",
    "plt.title('Остаток декомпозиции за последнюю неделю')\n",
    "\n",
    "plt.tight_layout()\n",
    "plt.show()"
   ]
  },
  {
   "cell_type": "code",
   "execution_count": 9,
   "metadata": {},
   "outputs": [
    {
     "data": {
      "image/png": "[encoded data removed]",
      "text/plain": [
       "<Figure size 864x864 with 4 Axes>"
      ]
     },
     "metadata": {
      "needs_background": "light"
     },
     "output_type": "display_data"
    }
   ],
   "source": [
    "# графики декомпозиции за последний месяц\n",
    "plt.figure(figsize=(12, 12))\n",
    "\n",
    "plt.subplot(4, 2, 1)\n",
    "decomposed.observed['2018-08-01':'2018-08-31'].plot()\n",
    "plt.title('Исходный временной ряд за последний месяц')\n",
    "\n",
    "plt.subplot(4, 2, 2)\n",
    "decomposed.trend['2018-08-01':'2018-08-31'].plot()\n",
    "plt.title('Тренд за последний месяц')\n",
    "\n",
    "plt.subplot(4, 2, 3)\n",
    "decomposed.seasonal['2018-08-01':'2018-08-31'].plot()\n",
    "plt.title('Сезонная составляющая за последний месяц')\n",
    "\n",
    "plt.subplot(4, 2, 4)\n",
    "decomposed.resid['2018-08-01':'2018-08-31'].plot()\n",
    "plt.title('Остаток декомпозиции за последний месяц')\n",
    "\n",
    "plt.tight_layout()\n",
    "plt.show()"
   ]
  },
  {
   "cell_type": "markdown",
   "metadata": {},
   "source": [
    "Декомпозиция демонстрирует нам, что тренд стабильно увеличивается, а сезонные колебания остаются постоянными по амплитуде на протяжении всего наблюдаемого периода. Остаток имеет высокую частоту колебаний, но их амплитуда остаётся относительно стабильной. Это говорит нам о наличии сильных сезонных паттернов в данных."
   ]
  },
  {
   "cell_type": "code",
   "execution_count": 10,
   "metadata": {},
   "outputs": [
    {
     "data": {
      "image/png": "[encoded data removed]",
      "text/plain": [
       "<Figure size 720x432 with 1 Axes>"
      ]
     },
     "metadata": {
      "needs_background": "light"
     },
     "output_type": "display_data"
    }
   ],
   "source": [
    "# скользящее среднее и стандартное отклонение\n",
    "window_size = 24 * 7  # неделя\n",
    "\n",
    "taxi['rolling_mean'] = taxi['num_orders'].rolling(window=window_size).mean()\n",
    "taxi['rolling_std'] = taxi['num_orders'].rolling(window=window_size).std()\n",
    "\n",
    "plt.figure(figsize=(10, 6))\n",
    "\n",
    "plt.plot(taxi['num_orders'], label='Исходный ряд')\n",
    "plt.plot(taxi['rolling_mean'], label='Скользящее среднее (тренд)', color='orange')\n",
    "plt.plot(taxi['rolling_std'], label='Скользящее стандартное отклонение (сезонность)', color='red')\n",
    "\n",
    "plt.title('Тренд и сезонность в ряде')\n",
    "plt.legend()\n",
    "plt.show()"
   ]
  },
  {
   "cell_type": "markdown",
   "metadata": {},
   "source": [
    "Как мы указывали выше, исходный ряд имеет выраженную восходящую тенденцию (тренд), что указывает на рост числа заказов со временем. Также заметна сезонность: стандартное отклонение варьируется по циклам, что подтверждает наличие временных паттернов, связанных с различными днями недели, временем суток и, возможно, праздниками."
   ]
  },
  {
   "cell_type": "markdown",
   "metadata": {},
   "source": [
    "## Обучение"
   ]
  },
  {
   "cell_type": "markdown",
   "metadata": {},
   "source": [
    "Создадим признаки для горизонта прогнозирования в один шаг.\n",
    "Напишем функцию для создания признаков. "
   ]
  },
  {
   "cell_type": "code",
   "execution_count": 11,
   "metadata": {},
   "outputs": [],
   "source": [
    "taxi = taxi.drop('rolling_std', axis=1)"
   ]
  },
  {
   "cell_type": "code",
   "execution_count": 12,
   "metadata": {
    "scrolled": false
   },
   "outputs": [
    {
     "name": "stdout",
     "output_type": "stream",
     "text": [
      "                     num_orders  rolling_mean  day  dayofweek  hour  lag_1  \\\n",
      "datetime                                                                     \n",
      "2018-03-02 00:00:00          90     69.333333    2          4     0   58.0   \n",
      "2018-03-02 01:00:00         120     72.166667    2          4     1   90.0   \n",
      "2018-03-02 02:00:00          75     84.666667    2          4     2  120.0   \n",
      "2018-03-02 03:00:00          64     87.000000    2          4     3   75.0   \n",
      "2018-03-02 04:00:00          20     86.666667    2          4     4   64.0   \n",
      "2018-03-02 05:00:00          11     71.166667    2          4     5   20.0   \n",
      "2018-03-02 06:00:00          11     63.333333    2          4     6   11.0   \n",
      "2018-03-02 07:00:00           7     50.166667    2          4     7   11.0   \n",
      "2018-03-02 08:00:00          46     31.333333    2          4     8    7.0   \n",
      "2018-03-02 09:00:00          45     26.500000    2          4     9   46.0   \n",
      "2018-03-02 10:00:00          54     23.333333    2          4    10   45.0   \n",
      "2018-03-02 11:00:00          91     29.000000    2          4    11   54.0   \n",
      "2018-03-02 12:00:00          36     42.333333    2          4    12   91.0   \n",
      "2018-03-02 13:00:00          45     46.500000    2          4    13   36.0   \n",
      "2018-03-02 14:00:00          44     52.833333    2          4    14   45.0   \n",
      "2018-03-02 15:00:00          59     52.500000    2          4    15   44.0   \n",
      "2018-03-02 16:00:00          82     54.833333    2          4    16   59.0   \n",
      "2018-03-02 17:00:00          83     59.500000    2          4    17   82.0   \n",
      "2018-03-02 18:00:00          89     58.166667    2          4    18   83.0   \n",
      "2018-03-02 19:00:00          49     67.000000    2          4    19   89.0   \n",
      "2018-03-02 20:00:00          93     67.666667    2          4    20   49.0   \n",
      "2018-03-02 21:00:00         101     75.833333    2          4    21   93.0   \n",
      "2018-03-02 22:00:00         119     82.833333    2          4    22  101.0   \n",
      "2018-03-02 23:00:00          72     89.000000    2          4    23  119.0   \n",
      "2018-03-03 00:00:00         163     87.166667    3          5     0   72.0   \n",
      "\n",
      "                     lag_2  lag_3  lag_4  lag_5  ...  lag_15  lag_16  lag_17  \\\n",
      "datetime                                         ...                           \n",
      "2018-03-02 00:00:00  113.0   66.0   61.0   45.0  ...    69.0    34.0    15.0   \n",
      "2018-03-02 01:00:00   58.0  113.0   66.0   61.0  ...    64.0    69.0    34.0   \n",
      "2018-03-02 02:00:00   90.0   58.0  113.0   66.0  ...    96.0    64.0    69.0   \n",
      "2018-03-02 03:00:00  120.0   90.0   58.0  113.0  ...    30.0    96.0    64.0   \n",
      "2018-03-02 04:00:00   75.0  120.0   90.0   58.0  ...    32.0    30.0    96.0   \n",
      "2018-03-02 05:00:00   64.0   75.0  120.0   90.0  ...    48.0    32.0    30.0   \n",
      "2018-03-02 06:00:00   20.0   64.0   75.0  120.0  ...    66.0    48.0    32.0   \n",
      "2018-03-02 07:00:00   11.0   20.0   64.0   75.0  ...    43.0    66.0    48.0   \n",
      "2018-03-02 08:00:00   11.0   11.0   20.0   64.0  ...    44.0    43.0    66.0   \n",
      "2018-03-02 09:00:00    7.0   11.0   11.0   20.0  ...    73.0    44.0    43.0   \n",
      "2018-03-02 10:00:00   46.0    7.0   11.0   11.0  ...    45.0    73.0    44.0   \n",
      "2018-03-02 11:00:00   45.0   46.0    7.0   11.0  ...    61.0    45.0    73.0   \n",
      "2018-03-02 12:00:00   54.0   45.0   46.0    7.0  ...    66.0    61.0    45.0   \n",
      "2018-03-02 13:00:00   91.0   54.0   45.0   46.0  ...   113.0    66.0    61.0   \n",
      "2018-03-02 14:00:00   36.0   91.0   54.0   45.0  ...    58.0   113.0    66.0   \n",
      "2018-03-02 15:00:00   45.0   36.0   91.0   54.0  ...    90.0    58.0   113.0   \n",
      "2018-03-02 16:00:00   44.0   45.0   36.0   91.0  ...   120.0    90.0    58.0   \n",
      "2018-03-02 17:00:00   59.0   44.0   45.0   36.0  ...    75.0   120.0    90.0   \n",
      "2018-03-02 18:00:00   82.0   59.0   44.0   45.0  ...    64.0    75.0   120.0   \n",
      "2018-03-02 19:00:00   83.0   82.0   59.0   44.0  ...    20.0    64.0    75.0   \n",
      "2018-03-02 20:00:00   89.0   83.0   82.0   59.0  ...    11.0    20.0    64.0   \n",
      "2018-03-02 21:00:00   49.0   89.0   83.0   82.0  ...    11.0    11.0    20.0   \n",
      "2018-03-02 22:00:00   93.0   49.0   89.0   83.0  ...     7.0    11.0    11.0   \n",
      "2018-03-02 23:00:00  101.0   93.0   49.0   89.0  ...    46.0     7.0    11.0   \n",
      "2018-03-03 00:00:00  119.0  101.0   93.0   49.0  ...    45.0    46.0     7.0   \n",
      "\n",
      "                     lag_18  lag_19  lag_20  lag_21  lag_22  lag_23  lag_24  \n",
      "datetime                                                                     \n",
      "2018-03-02 00:00:00    12.0     6.0    43.0    66.0    71.0    85.0   124.0  \n",
      "2018-03-02 01:00:00    15.0    12.0     6.0    43.0    66.0    71.0    85.0  \n",
      "2018-03-02 02:00:00    34.0    15.0    12.0     6.0    43.0    66.0    71.0  \n",
      "2018-03-02 03:00:00    69.0    34.0    15.0    12.0     6.0    43.0    66.0  \n",
      "2018-03-02 04:00:00    64.0    69.0    34.0    15.0    12.0     6.0    43.0  \n",
      "2018-03-02 05:00:00    96.0    64.0    69.0    34.0    15.0    12.0     6.0  \n",
      "2018-03-02 06:00:00    30.0    96.0    64.0    69.0    34.0    15.0    12.0  \n",
      "2018-03-02 07:00:00    32.0    30.0    96.0    64.0    69.0    34.0    15.0  \n",
      "2018-03-02 08:00:00    48.0    32.0    30.0    96.0    64.0    69.0    34.0  \n",
      "2018-03-02 09:00:00    66.0    48.0    32.0    30.0    96.0    64.0    69.0  \n",
      "2018-03-02 10:00:00    43.0    66.0    48.0    32.0    30.0    96.0    64.0  \n",
      "2018-03-02 11:00:00    44.0    43.0    66.0    48.0    32.0    30.0    96.0  \n",
      "2018-03-02 12:00:00    73.0    44.0    43.0    66.0    48.0    32.0    30.0  \n",
      "2018-03-02 13:00:00    45.0    73.0    44.0    43.0    66.0    48.0    32.0  \n",
      "2018-03-02 14:00:00    61.0    45.0    73.0    44.0    43.0    66.0    48.0  \n",
      "2018-03-02 15:00:00    66.0    61.0    45.0    73.0    44.0    43.0    66.0  \n",
      "2018-03-02 16:00:00   113.0    66.0    61.0    45.0    73.0    44.0    43.0  \n",
      "2018-03-02 17:00:00    58.0   113.0    66.0    61.0    45.0    73.0    44.0  \n",
      "2018-03-02 18:00:00    90.0    58.0   113.0    66.0    61.0    45.0    73.0  \n",
      "2018-03-02 19:00:00   120.0    90.0    58.0   113.0    66.0    61.0    45.0  \n",
      "2018-03-02 20:00:00    75.0   120.0    90.0    58.0   113.0    66.0    61.0  \n",
      "2018-03-02 21:00:00    64.0    75.0   120.0    90.0    58.0   113.0    66.0  \n",
      "2018-03-02 22:00:00    20.0    64.0    75.0   120.0    90.0    58.0   113.0  \n",
      "2018-03-02 23:00:00    11.0    20.0    64.0    75.0   120.0    90.0    58.0  \n",
      "2018-03-03 00:00:00    11.0    11.0    20.0    64.0    75.0   120.0    90.0  \n",
      "\n",
      "[25 rows x 29 columns]\n"
     ]
    }
   ],
   "source": [
    "def make_features(data, max_lag, rolling_mean_size):\n",
    "    # календарные признаки\n",
    "    data['day'] = data.index.day\n",
    "    data['dayofweek'] = data.index.dayofweek\n",
    "    data['hour'] = data.index.hour\n",
    "    \n",
    "    # «Отстающие значения»\n",
    "    for lag in range(1, max_lag + 1):\n",
    "        data['lag_{}'.format(lag)] = data['num_orders'].shift(lag)\n",
    "\n",
    "    # скользящее среднее   \n",
    "    data['rolling_mean'] = data['num_orders'].shift().rolling(rolling_mean_size).mean()\n",
    "    return data\n",
    "\n",
    "make_features(taxi, 24, 6)\n",
    "\n",
    "taxi = taxi.dropna()\n",
    "print(taxi.head(25))"
   ]
  },
  {
   "cell_type": "code",
   "execution_count": 14,
   "metadata": {},
   "outputs": [
    {
     "name": "stdout",
     "output_type": "stream",
     "text": [
      "Размер обучающей выборки: (3952, 28)\n",
      "Размер тестовой выборки: (440, 28)\n"
     ]
    }
   ],
   "source": [
    "# создаем целевую переменную и признаки\n",
    "X = taxi.drop(columns=['num_orders'])\n",
    "y = taxi['num_orders']\n",
    "\n",
    "# делим данные на обучающую и тестовую выборки\n",
    "X_train, X_test, y_train, y_test = train_test_split(X, y, test_size=0.1, shuffle=False)\n",
    "\n",
    "print(f\"Размер обучающей выборки: {X_train.shape}\")\n",
    "print(f\"Размер тестовой выборки: {X_test.shape}\")"
   ]
  },
  {
   "cell_type": "code",
   "execution_count": 15,
   "metadata": {},
   "outputs": [],
   "source": [
    "# определяем метрику RMSE\n",
    "rmse_scorer = make_scorer(root_mean_squared_error, greater_is_better=False)"
   ]
  },
  {
   "cell_type": "code",
   "execution_count": 16,
   "metadata": {},
   "outputs": [],
   "source": [
    "# категориальные и числовые признаки\n",
    "cat_columns = ['day', 'dayofweek', 'hour']\n",
    "num_columns = ['rolling_mean', 'lag_1', 'lag_2', 'lag_3', 'lag_4',\n",
    "                    'lag_5', 'lag_6', 'lag_7', 'lag_8', 'lag_9', 'lag_10',\n",
    "                    'lag_11', 'lag_12', 'lag_13', 'lag_14', 'lag_15', 'lag_16',\n",
    "                    'lag_17', 'lag_18', 'lag_19', 'lag_20', 'lag_21', 'lag_22',\n",
    "                    'lag_23', 'lag_24']\n",
    "taxi[cat_columns] = taxi[cat_columns].astype('category')\n",
    "\n",
    "# трансформер для предобработки данных\n",
    "preprocessor = ColumnTransformer(\n",
    "    transformers=[\n",
    "        ('num', StandardScaler(), num_columns),  \n",
    "        ('cat', OneHotEncoder(drop='first', handle_unknown='error'), cat_columns)],\n",
    "    remainder='passthrough'\n",
    ")\n"
   ]
  },
  {
   "cell_type": "code",
   "execution_count": 17,
   "metadata": {},
   "outputs": [
    {
     "name": "stdout",
     "output_type": "stream",
     "text": [
      "Лучшие параметры для LinearRegression:  {'regressor__fit_intercept': True}\n",
      "Лучшая метрика на кросс-валидации для LinearRegression:  24.165726676857396\n"
     ]
    }
   ],
   "source": [
    "# cоздание пайплайна с препроцессором и моделью LinearRegression\n",
    "model_lr  = Pipeline(steps=[\n",
    "    ('preprocessor', preprocessor),\n",
    "    ('regressor', LinearRegression())\n",
    "])\n",
    "\n",
    "# oпределение параметров для оптимизации LinearRegression\n",
    "param_grid_lr = {\n",
    "    'regressor__fit_intercept': [True, False]\n",
    "}\n",
    "# Создание объекта GridSearchCV для LinearRegression\n",
    "grid_search_lr = GridSearchCV(\n",
    "    model_lr,\n",
    "    param_grid_lr,\n",
    "    scoring=rmse_scorer,\n",
    "    n_jobs=-1,\n",
    "    cv=5\n",
    ")\n",
    "\n",
    "grid_search_lr.fit(X_train, y_train)\n",
    "\n",
    "# вывод лучших параметров для LinearRegression\n",
    "print(\"Лучшие параметры для LinearRegression: \", grid_search_lr.best_params_)\n",
    "\n",
    "# вывод лучшей метрики на кросс-валидации для LinearRegression\n",
    "print(\"Лучшая метрика на кросс-валидации для LinearRegression: \", -grid_search_lr.best_score_)"
   ]
  },
  {
   "cell_type": "code",
   "execution_count": 18,
   "metadata": {},
   "outputs": [
    {
     "name": "stdout",
     "output_type": "stream",
     "text": [
      "Лучшие параметры для DecisionTreeRegressor:  {'model__max_depth': 8, 'model__max_features': 9}\n",
      "Лучшая метрика на кросс-валидации для DecisionTreeRegressor:  30.219530849533527\n"
     ]
    }
   ],
   "source": [
    "# cоздание пайплайна с препроцессором и моделью DecisionTreeRegressor\n",
    "model_tree  = Pipeline(steps=[\n",
    "    ('preprocessor', preprocessor),\n",
    "    ('model', DecisionTreeRegressor(random_state=RANDOM_STATE))\n",
    "])\n",
    "\n",
    "# oпределение параметров для оптимизации DecisionTreeRegressor\n",
    "param_grid_tree = {\n",
    "    'model__max_depth': range(2,10),\n",
    "    'model__max_features': range(2,10)\n",
    "}\n",
    "# Создание объекта GridSearchCV для DecisionTreeRegressor\n",
    "grid_search_tree = GridSearchCV(\n",
    "    model_tree,\n",
    "    param_grid_tree,\n",
    "    scoring=rmse_scorer,\n",
    "    n_jobs=-1,\n",
    "    cv=5\n",
    ")\n",
    "\n",
    "grid_search_tree.fit(X_train, y_train)\n",
    "\n",
    "# вывод лучших параметров для DecisionTreeRegressor\n",
    "print(\"Лучшие параметры для DecisionTreeRegressor: \", grid_search_tree.best_params_)\n",
    "\n",
    "# вывод лучшей метрики на кросс-валидации для DecisionTreeRegressor\n",
    "print(\"Лучшая метрика на кросс-валидации для DecisionTreeRegressor: \", -grid_search_tree.best_score_)"
   ]
  },
  {
   "cell_type": "markdown",
   "metadata": {},
   "source": [
    "Для исследования мы выбрали две модели: линейная регрессия (LinearRegression) и регрессия на деревьях решений (DecisionTreeRegressor). Для каждой модели был настроен поиск оптимальных гиперпараметров с использованием GridSearchCV и кросс-валидации на 5 фолдах. Для оценки качества использовалась метрика RMSE.\n",
    "\n",
    "Лучшие параметры для LinearRegression: {'fit_intercept': True}, RMSE: 24.166.\n",
    "\n",
    "Лучшие параметры для DecisionTreeRegressor: {'model__max_depth': 8, 'model__max_features': 9}, RMSE: 30.212.\n",
    "\n",
    "Так как метрика RMSE у линейной регресии меньше, мы выбираем эту модель лучшей."
   ]
  },
  {
   "cell_type": "markdown",
   "metadata": {},
   "source": [
    "## Тестирование"
   ]
  },
  {
   "cell_type": "code",
   "execution_count": 19,
   "metadata": {},
   "outputs": [
    {
     "name": "stdout",
     "output_type": "stream",
     "text": [
      "RMSE для лучшей модели: 41.8986533591686\n"
     ]
    }
   ],
   "source": [
    "# оценка производительности на тестовой выборке\n",
    "best_model = grid_search_lr.best_estimator_\n",
    "y_pred = best_model.predict(X_test)\n",
    "rmse = root_mean_squared_error(y_test, y_pred)\n",
    "print(f'RMSE для лучшей модели: {rmse}')"
   ]
  },
  {
   "cell_type": "markdown",
   "metadata": {},
   "source": [
    "Линейная регрессия с параметром fit_intercept=True на тестовой выборке показала RMSE: 41.9. Это значение показывает среднюю ошибку модели в предсказании количества заказов такси на один час.\n",
    "\n",
    "Значение RMSE на тестовой выборке в 41.39 указывает на приемлемую точность модели, для дальнейшего улучшения результатов можно попробовать увеличить количество признаков, добавить более сложные модели (например, градиентный бустинг) или увеличить количество данных для обучения."
   ]
  },
  {
   "cell_type": "code",
   "execution_count": 20,
   "metadata": {},
   "outputs": [
    {
     "data": {
      "image/png": "[encoded data removed]",
      "text/plain": [
       "<Figure size 864x432 with 1 Axes>"
      ]
     },
     "metadata": {
      "needs_background": "light"
     },
     "output_type": "display_data"
    }
   ],
   "source": [
    "# отбор данных за последнюю неделю\n",
    "last_week = y_test.index[-1] - pd.Timedelta('7 days')\n",
    "y_test_last_week = y_test[y_test.index >= last_week]\n",
    "y_pred_last_week = y_pred[y_test.index >= last_week]\n",
    "\n",
    "# построение графика фактических и предсказанных значений\n",
    "plt.figure(figsize=(12, 6))\n",
    "plt.plot(y_test_last_week.index, y_test_last_week, label='Фактические значения', color='blue', linewidth=2)\n",
    "plt.plot(y_test_last_week.index, y_pred_last_week, label='Предсказанные значения', color='red', linewidth=2)\n",
    "plt.title('Фактические и предсказанные значения за последнюю неделю')\n",
    "plt.xlabel('Время')\n",
    "plt.ylabel('Количество заказов')\n",
    "plt.legend()\n",
    "plt.grid()\n",
    "plt.xticks(rotation=45)  \n",
    "plt.tight_layout()\n",
    "plt.show()"
   ]
  },
  {
   "cell_type": "markdown",
   "metadata": {},
   "source": [
    "Мы визуализировали реальные и предсказанные данные за последнюю неделю. \n",
    "В целом, можно заметить, что модель достаточно точно улавливает общие тренды, но на некоторых пиках и провалах предсказания могут отличаться от реальных значений."
   ]
  },
  {
   "cell_type": "markdown",
   "metadata": {},
   "source": [
    "## Вывод"
   ]
  },
  {
   "cell_type": "markdown",
   "metadata": {},
   "source": [
    "В рамках данного проекта была решена задача прогнозирования количества заказов такси на следующий час для компании «Чётенькое такси».\n",
    " \n",
    "В работе было выполнено ресемплирование данных по одному часу, так же были созданы новые признаки для улучшения предсказательной способности.\n",
    "\n",
    "Для исследования мы выбрали две модели: линейная регрессия (LinearRegression) и регрессия на деревьях решений (DecisionTreeRegressor). Для каждой модели был настроен поиск оптимальных гиперпараметров с использованием GridSearchCV и кросс-валидации на 5 фолдах. Для оценки качества использовалась метрика RMSE.\n",
    "Лучшей моделью была выбрана линейная регрессия с гиперпараметром {'fit_intercept': True} и метрикой RMSE на кросс-валидации равной 24.17.\n",
    "\n",
    "На тестовой выборке, что составили 10%  всех данных, модель показала значение RMSE 41.9, что свидетельствует о хорошей способности модели прогнозировать количество заказов такси и соответствует поставленной цели проекта (RMSE не больше 48).\n",
    "Визуализация предсказаний за последнюю неделю продемонстрировала, что модель улавливает основные тенденции изменения спроса, хотя на некоторых пиках точность предсказаний может снижаться. Для дальнейшего улучшения результатов можно попробовать увеличить количество признаков, добавить более сложные модели (например, градиентный бустинг) или увеличить количество данных для обучения."
   ]
  }
 ],
 "metadata": {
  "ExecuteTimeLog": [
   {
    "duration": 54,
    "start_time": "2025-05-11T19:38:53.547Z"
   },
   {
    "duration": 403,
    "start_time": "2025-05-11T19:38:57.111Z"
   },
   {
    "duration": 48,
    "start_time": "2025-05-11T19:38:58.580Z"
   },
   {
    "duration": 39,
    "start_time": "2025-05-11T19:42:26.439Z"
   },
   {
    "duration": 9,
    "start_time": "2025-05-11T19:43:11.260Z"
   },
   {
    "duration": 15,
    "start_time": "2025-05-11T19:43:20.045Z"
   },
   {
    "duration": 28,
    "start_time": "2025-05-11T19:46:40.870Z"
   },
   {
    "duration": 47,
    "start_time": "2025-05-11T19:48:14.492Z"
   },
   {
    "duration": 20,
    "start_time": "2025-05-11T19:48:18.275Z"
   },
   {
    "duration": 59,
    "start_time": "2025-05-11T19:50:08.340Z"
   },
   {
    "duration": 498,
    "start_time": "2025-05-11T19:50:27.883Z"
   },
   {
    "duration": 63,
    "start_time": "2025-05-11T19:50:28.384Z"
   },
   {
    "duration": 30,
    "start_time": "2025-05-11T19:50:28.449Z"
   },
   {
    "duration": 29,
    "start_time": "2025-05-11T19:50:28.482Z"
   },
   {
    "duration": 1674,
    "start_time": "2025-05-11T19:53:16.638Z"
   },
   {
    "duration": 86,
    "start_time": "2025-05-11T20:07:03.125Z"
   },
   {
    "duration": 3,
    "start_time": "2025-05-11T20:07:32.612Z"
   },
   {
    "duration": 13,
    "start_time": "2025-05-11T20:07:38.228Z"
   },
   {
    "duration": 731,
    "start_time": "2025-05-11T20:07:52.062Z"
   },
   {
    "duration": 873,
    "start_time": "2025-05-11T20:08:15.346Z"
   },
   {
    "duration": 850,
    "start_time": "2025-05-11T20:08:55.198Z"
   },
   {
    "duration": 781,
    "start_time": "2025-05-11T20:09:46.876Z"
   },
   {
    "duration": 13,
    "start_time": "2025-05-11T20:13:26.742Z"
   },
   {
    "duration": 922,
    "start_time": "2025-05-11T20:13:34.007Z"
   },
   {
    "duration": 66,
    "start_time": "2025-05-12T19:36:35.530Z"
   },
   {
    "duration": 1420,
    "start_time": "2025-05-12T19:36:40.726Z"
   },
   {
    "duration": 60,
    "start_time": "2025-05-12T19:36:42.149Z"
   },
   {
    "duration": 9,
    "start_time": "2025-05-12T19:36:42.211Z"
   },
   {
    "duration": 14,
    "start_time": "2025-05-12T19:36:42.222Z"
   },
   {
    "duration": 752,
    "start_time": "2025-05-12T19:36:42.238Z"
   },
   {
    "duration": 797,
    "start_time": "2025-05-12T19:36:42.992Z"
   },
   {
    "duration": 120,
    "start_time": "2025-05-12T19:36:43.791Z"
   },
   {
    "duration": 818,
    "start_time": "2025-05-12T19:36:54.197Z"
   },
   {
    "duration": 9,
    "start_time": "2025-05-12T19:43:48.081Z"
   },
   {
    "duration": 13,
    "start_time": "2025-05-12T19:43:55.347Z"
   },
   {
    "duration": 13,
    "start_time": "2025-05-12T19:58:00.825Z"
   },
   {
    "duration": 16,
    "start_time": "2025-05-12T19:59:25.976Z"
   },
   {
    "duration": 16,
    "start_time": "2025-05-12T20:01:13.779Z"
   },
   {
    "duration": 11,
    "start_time": "2025-05-12T20:11:03.266Z"
   },
   {
    "duration": 8,
    "start_time": "2025-05-12T20:12:38.335Z"
   },
   {
    "duration": 8,
    "start_time": "2025-05-12T20:12:45.101Z"
   },
   {
    "duration": 19,
    "start_time": "2025-05-12T20:13:01.702Z"
   },
   {
    "duration": 280,
    "start_time": "2025-05-12T20:13:26.601Z"
   },
   {
    "duration": 23,
    "start_time": "2025-05-12T20:13:46.715Z"
   },
   {
    "duration": 1203,
    "start_time": "2025-05-12T20:14:00.549Z"
   },
   {
    "duration": 50,
    "start_time": "2025-05-12T20:14:01.754Z"
   },
   {
    "duration": 31,
    "start_time": "2025-05-12T20:14:01.806Z"
   },
   {
    "duration": 41,
    "start_time": "2025-05-12T20:14:01.839Z"
   },
   {
    "duration": 286,
    "start_time": "2025-05-12T20:14:01.882Z"
   },
   {
    "duration": 840,
    "start_time": "2025-05-12T20:14:02.169Z"
   },
   {
    "duration": 7,
    "start_time": "2025-05-12T20:14:03.010Z"
   },
   {
    "duration": 120,
    "start_time": "2025-05-12T20:14:03.019Z"
   },
   {
    "duration": 125,
    "start_time": "2025-05-12T20:22:17.847Z"
   },
   {
    "duration": 142,
    "start_time": "2025-05-12T20:22:33.028Z"
   },
   {
    "duration": 137,
    "start_time": "2025-05-12T20:23:03.329Z"
   },
   {
    "duration": 132,
    "start_time": "2025-05-12T20:23:21.641Z"
   },
   {
    "duration": 146,
    "start_time": "2025-05-12T20:23:43.062Z"
   },
   {
    "duration": 143,
    "start_time": "2025-05-12T20:24:07.660Z"
   },
   {
    "duration": 1220,
    "start_time": "2025-05-12T20:24:51.709Z"
   },
   {
    "duration": 50,
    "start_time": "2025-05-12T20:24:52.931Z"
   },
   {
    "duration": 10,
    "start_time": "2025-05-12T20:24:52.982Z"
   },
   {
    "duration": 60,
    "start_time": "2025-05-12T20:24:52.994Z"
   },
   {
    "duration": 362,
    "start_time": "2025-05-12T20:24:53.056Z"
   },
   {
    "duration": 148,
    "start_time": "2025-05-12T20:24:53.420Z"
   },
   {
    "duration": 851,
    "start_time": "2025-05-12T20:24:53.570Z"
   },
   {
    "duration": 169,
    "start_time": "2025-05-12T20:26:04.964Z"
   },
   {
    "duration": 190,
    "start_time": "2025-05-12T20:27:35.164Z"
   },
   {
    "duration": 172,
    "start_time": "2025-05-12T20:28:11.663Z"
   },
   {
    "duration": 1241,
    "start_time": "2025-05-12T20:28:45.184Z"
   },
   {
    "duration": 49,
    "start_time": "2025-05-12T20:28:46.427Z"
   },
   {
    "duration": 10,
    "start_time": "2025-05-12T20:28:46.478Z"
   },
   {
    "duration": 23,
    "start_time": "2025-05-12T20:28:46.489Z"
   },
   {
    "duration": 280,
    "start_time": "2025-05-12T20:28:46.514Z"
   },
   {
    "duration": 198,
    "start_time": "2025-05-12T20:28:46.796Z"
   },
   {
    "duration": 183,
    "start_time": "2025-05-12T20:28:46.996Z"
   },
   {
    "duration": 430,
    "start_time": "2025-05-12T20:32:28.078Z"
   },
   {
    "duration": 474,
    "start_time": "2025-05-12T20:32:45.694Z"
   },
   {
    "duration": 373,
    "start_time": "2025-05-12T20:33:00.557Z"
   },
   {
    "duration": 526,
    "start_time": "2025-05-12T20:33:16.761Z"
   },
   {
    "duration": 438,
    "start_time": "2025-05-12T20:33:36.929Z"
   },
   {
    "duration": 592,
    "start_time": "2025-05-12T20:33:47.490Z"
   },
   {
    "duration": 544,
    "start_time": "2025-05-12T20:33:57.043Z"
   },
   {
    "duration": 558,
    "start_time": "2025-05-12T20:34:10.010Z"
   },
   {
    "duration": 345,
    "start_time": "2025-05-12T20:34:30.460Z"
   },
   {
    "duration": 574,
    "start_time": "2025-05-12T20:34:45.141Z"
   },
   {
    "duration": 508,
    "start_time": "2025-05-12T20:34:59.059Z"
   },
   {
    "duration": 558,
    "start_time": "2025-05-12T20:35:14.991Z"
   },
   {
    "duration": 565,
    "start_time": "2025-05-12T20:35:26.490Z"
   },
   {
    "duration": 561,
    "start_time": "2025-05-12T20:35:47.592Z"
   },
   {
    "duration": 714,
    "start_time": "2025-05-12T20:35:55.377Z"
   },
   {
    "duration": 618,
    "start_time": "2025-05-12T20:36:11.741Z"
   },
   {
    "duration": 548,
    "start_time": "2025-05-12T20:36:32.757Z"
   },
   {
    "duration": 502,
    "start_time": "2025-05-12T20:37:03.426Z"
   },
   {
    "duration": 690,
    "start_time": "2025-05-12T20:37:35.042Z"
   },
   {
    "duration": 665,
    "start_time": "2025-05-12T20:37:56.843Z"
   },
   {
    "duration": 1283,
    "start_time": "2025-05-14T10:37:58.568Z"
   },
   {
    "duration": 48,
    "start_time": "2025-05-14T10:37:59.853Z"
   },
   {
    "duration": 11,
    "start_time": "2025-05-14T10:37:59.903Z"
   },
   {
    "duration": 27,
    "start_time": "2025-05-14T10:37:59.916Z"
   },
   {
    "duration": 261,
    "start_time": "2025-05-14T10:37:59.945Z"
   },
   {
    "duration": 714,
    "start_time": "2025-05-14T10:38:00.208Z"
   },
   {
    "duration": 157,
    "start_time": "2025-05-14T10:38:00.924Z"
   },
   {
    "duration": 590,
    "start_time": "2025-05-14T10:41:25.530Z"
   },
   {
    "duration": 977,
    "start_time": "2025-05-14T10:42:36.520Z"
   },
   {
    "duration": 391,
    "start_time": "2025-05-14T10:49:30.445Z"
   },
   {
    "duration": 223,
    "start_time": "2025-05-14T10:51:23.435Z"
   },
   {
    "duration": 235,
    "start_time": "2025-05-14T10:51:53.102Z"
   },
   {
    "duration": 15,
    "start_time": "2025-05-14T11:13:44.757Z"
   },
   {
    "duration": 46,
    "start_time": "2025-05-14T11:23:09.844Z"
   },
   {
    "duration": 35,
    "start_time": "2025-05-14T11:23:18.819Z"
   },
   {
    "duration": 49,
    "start_time": "2025-05-14T11:24:14.292Z"
   },
   {
    "duration": 1152,
    "start_time": "2025-05-14T11:24:57.868Z"
   },
   {
    "duration": 49,
    "start_time": "2025-05-14T11:24:59.022Z"
   },
   {
    "duration": 10,
    "start_time": "2025-05-14T11:24:59.072Z"
   },
   {
    "duration": 35,
    "start_time": "2025-05-14T11:24:59.084Z"
   },
   {
    "duration": 298,
    "start_time": "2025-05-14T11:24:59.121Z"
   },
   {
    "duration": 649,
    "start_time": "2025-05-14T11:24:59.421Z"
   },
   {
    "duration": 650,
    "start_time": "2025-05-14T11:25:00.072Z"
   },
   {
    "duration": 881,
    "start_time": "2025-05-14T11:25:00.724Z"
   },
   {
    "duration": 402,
    "start_time": "2025-05-14T11:25:01.606Z"
   },
   {
    "duration": 50,
    "start_time": "2025-05-14T11:25:02.010Z"
   },
   {
    "duration": 125,
    "start_time": "2025-05-14T11:25:02.061Z"
   },
   {
    "duration": 25,
    "start_time": "2025-05-14T11:28:06.758Z"
   },
   {
    "duration": 119,
    "start_time": "2025-05-14T11:28:21.974Z"
   },
   {
    "duration": 13,
    "start_time": "2025-05-14T11:28:55.686Z"
   },
   {
    "duration": 1176,
    "start_time": "2025-05-14T11:29:01.276Z"
   },
   {
    "duration": 48,
    "start_time": "2025-05-14T11:29:02.454Z"
   },
   {
    "duration": 11,
    "start_time": "2025-05-14T11:29:02.503Z"
   },
   {
    "duration": 53,
    "start_time": "2025-05-14T11:29:02.515Z"
   },
   {
    "duration": 266,
    "start_time": "2025-05-14T11:29:02.571Z"
   },
   {
    "duration": 675,
    "start_time": "2025-05-14T11:29:02.839Z"
   },
   {
    "duration": 616,
    "start_time": "2025-05-14T11:29:03.516Z"
   },
   {
    "duration": 965,
    "start_time": "2025-05-14T11:29:04.137Z"
   },
   {
    "duration": 400,
    "start_time": "2025-05-14T11:29:05.104Z"
   },
   {
    "duration": 4,
    "start_time": "2025-05-14T11:29:05.506Z"
   },
   {
    "duration": 55,
    "start_time": "2025-05-14T11:29:05.512Z"
   },
   {
    "duration": 3,
    "start_time": "2025-05-14T11:29:05.568Z"
   },
   {
    "duration": 36,
    "start_time": "2025-05-14T11:29:40.451Z"
   },
   {
    "duration": 99,
    "start_time": "2025-05-14T11:31:25.794Z"
   },
   {
    "duration": 254,
    "start_time": "2025-05-14T11:31:50.604Z"
   },
   {
    "duration": 11,
    "start_time": "2025-05-14T11:31:59.158Z"
   },
   {
    "duration": 19,
    "start_time": "2025-05-14T11:51:42.581Z"
   },
   {
    "duration": 5,
    "start_time": "2025-05-14T11:52:11.641Z"
   },
   {
    "duration": 13,
    "start_time": "2025-05-14T11:52:20.312Z"
   },
   {
    "duration": 3,
    "start_time": "2025-05-14T11:52:53.877Z"
   },
   {
    "duration": 42,
    "start_time": "2025-05-14T11:53:25.801Z"
   },
   {
    "duration": 29,
    "start_time": "2025-05-14T11:53:33.338Z"
   },
   {
    "duration": 4,
    "start_time": "2025-05-14T12:03:06.696Z"
   },
   {
    "duration": 183,
    "start_time": "2025-05-14T12:07:10.256Z"
   },
   {
    "duration": 170,
    "start_time": "2025-05-14T12:28:45.469Z"
   },
   {
    "duration": 102,
    "start_time": "2025-05-14T12:29:04.938Z"
   },
   {
    "duration": 11,
    "start_time": "2025-05-14T12:43:58.564Z"
   },
   {
    "duration": 4,
    "start_time": "2025-05-14T12:44:22.710Z"
   },
   {
    "duration": 14,
    "start_time": "2025-05-14T12:44:26.324Z"
   },
   {
    "duration": 4,
    "start_time": "2025-05-14T12:45:07.278Z"
   },
   {
    "duration": 17,
    "start_time": "2025-05-14T12:45:13.724Z"
   },
   {
    "duration": 72,
    "start_time": "2025-05-14T13:05:28.765Z"
   },
   {
    "duration": 48,
    "start_time": "2025-05-14T13:12:01.463Z"
   },
   {
    "duration": 46,
    "start_time": "2025-05-14T14:48:50.221Z"
   },
   {
    "duration": 1490,
    "start_time": "2025-05-14T14:49:01.350Z"
   },
   {
    "duration": 52,
    "start_time": "2025-05-14T14:49:02.842Z"
   },
   {
    "duration": 17,
    "start_time": "2025-05-14T14:49:02.895Z"
   },
   {
    "duration": 37,
    "start_time": "2025-05-14T14:49:02.914Z"
   },
   {
    "duration": 269,
    "start_time": "2025-05-14T14:49:02.953Z"
   },
   {
    "duration": 659,
    "start_time": "2025-05-14T14:49:03.224Z"
   },
   {
    "duration": 735,
    "start_time": "2025-05-14T14:49:03.886Z"
   },
   {
    "duration": 949,
    "start_time": "2025-05-14T14:49:04.623Z"
   },
   {
    "duration": 328,
    "start_time": "2025-05-14T14:49:05.574Z"
   },
   {
    "duration": 4,
    "start_time": "2025-05-14T14:49:05.904Z"
   },
   {
    "duration": 83,
    "start_time": "2025-05-14T14:49:05.910Z"
   },
   {
    "duration": 8,
    "start_time": "2025-05-14T14:49:05.995Z"
   },
   {
    "duration": 143,
    "start_time": "2025-05-14T14:49:06.005Z"
   },
   {
    "duration": 0,
    "start_time": "2025-05-14T14:49:06.150Z"
   },
   {
    "duration": 1439,
    "start_time": "2025-05-14T14:50:36.075Z"
   },
   {
    "duration": 50,
    "start_time": "2025-05-14T14:50:37.516Z"
   },
   {
    "duration": 15,
    "start_time": "2025-05-14T14:50:37.567Z"
   },
   {
    "duration": 23,
    "start_time": "2025-05-14T14:50:37.584Z"
   },
   {
    "duration": 264,
    "start_time": "2025-05-14T14:50:37.609Z"
   },
   {
    "duration": 707,
    "start_time": "2025-05-14T14:50:37.875Z"
   },
   {
    "duration": 713,
    "start_time": "2025-05-14T14:50:38.584Z"
   },
   {
    "duration": 884,
    "start_time": "2025-05-14T14:50:39.299Z"
   },
   {
    "duration": 318,
    "start_time": "2025-05-14T14:50:40.185Z"
   },
   {
    "duration": 4,
    "start_time": "2025-05-14T14:50:40.505Z"
   },
   {
    "duration": 61,
    "start_time": "2025-05-14T14:50:40.511Z"
   },
   {
    "duration": 8,
    "start_time": "2025-05-14T14:50:40.574Z"
   },
   {
    "duration": 107,
    "start_time": "2025-05-14T14:50:40.583Z"
   },
   {
    "duration": 156,
    "start_time": "2025-05-14T14:50:40.692Z"
   },
   {
    "duration": 20,
    "start_time": "2025-05-14T14:51:56.956Z"
   },
   {
    "duration": 1472,
    "start_time": "2025-05-14T14:54:08.041Z"
   },
   {
    "duration": 49,
    "start_time": "2025-05-14T14:54:09.515Z"
   },
   {
    "duration": 10,
    "start_time": "2025-05-14T14:54:09.566Z"
   },
   {
    "duration": 24,
    "start_time": "2025-05-14T14:54:09.578Z"
   },
   {
    "duration": 277,
    "start_time": "2025-05-14T14:54:09.605Z"
   },
   {
    "duration": 690,
    "start_time": "2025-05-14T14:54:09.884Z"
   },
   {
    "duration": 700,
    "start_time": "2025-05-14T14:54:10.576Z"
   },
   {
    "duration": 889,
    "start_time": "2025-05-14T14:54:11.278Z"
   },
   {
    "duration": 311,
    "start_time": "2025-05-14T14:54:12.169Z"
   },
   {
    "duration": 4,
    "start_time": "2025-05-14T14:54:12.482Z"
   },
   {
    "duration": 61,
    "start_time": "2025-05-14T14:54:12.488Z"
   },
   {
    "duration": 9,
    "start_time": "2025-05-14T14:54:12.550Z"
   },
   {
    "duration": 71,
    "start_time": "2025-05-14T14:54:12.561Z"
   },
   {
    "duration": 0,
    "start_time": "2025-05-14T14:54:12.634Z"
   },
   {
    "duration": 13,
    "start_time": "2025-05-14T14:54:35.080Z"
   },
   {
    "duration": 3067,
    "start_time": "2025-05-14T14:54:37.272Z"
   },
   {
    "duration": 1420,
    "start_time": "2025-05-14T14:57:52.400Z"
   },
   {
    "duration": 51,
    "start_time": "2025-05-14T14:57:53.822Z"
   },
   {
    "duration": 10,
    "start_time": "2025-05-14T14:57:53.874Z"
   },
   {
    "duration": 15,
    "start_time": "2025-05-14T14:57:53.886Z"
   },
   {
    "duration": 285,
    "start_time": "2025-05-14T14:57:53.903Z"
   },
   {
    "duration": 708,
    "start_time": "2025-05-14T14:57:54.190Z"
   },
   {
    "duration": 730,
    "start_time": "2025-05-14T14:57:54.900Z"
   },
   {
    "duration": 872,
    "start_time": "2025-05-14T14:57:55.632Z"
   },
   {
    "duration": 321,
    "start_time": "2025-05-14T14:57:56.506Z"
   },
   {
    "duration": 11,
    "start_time": "2025-05-14T14:57:56.828Z"
   },
   {
    "duration": 75,
    "start_time": "2025-05-14T14:57:56.840Z"
   },
   {
    "duration": 8,
    "start_time": "2025-05-14T14:57:56.917Z"
   },
   {
    "duration": 10,
    "start_time": "2025-05-14T14:57:56.927Z"
   },
   {
    "duration": 3300,
    "start_time": "2025-05-14T14:57:56.940Z"
   },
   {
    "duration": 1499,
    "start_time": "2025-05-14T15:06:59.532Z"
   },
   {
    "duration": 52,
    "start_time": "2025-05-14T15:07:01.033Z"
   },
   {
    "duration": 10,
    "start_time": "2025-05-14T15:07:01.087Z"
   },
   {
    "duration": 22,
    "start_time": "2025-05-14T15:07:01.098Z"
   },
   {
    "duration": 286,
    "start_time": "2025-05-14T15:07:01.122Z"
   },
   {
    "duration": 716,
    "start_time": "2025-05-14T15:07:01.410Z"
   },
   {
    "duration": 702,
    "start_time": "2025-05-14T15:07:02.128Z"
   },
   {
    "duration": 872,
    "start_time": "2025-05-14T15:07:02.837Z"
   },
   {
    "duration": 315,
    "start_time": "2025-05-14T15:07:03.710Z"
   },
   {
    "duration": 13,
    "start_time": "2025-05-14T15:07:04.026Z"
   },
   {
    "duration": 86,
    "start_time": "2025-05-14T15:07:04.041Z"
   },
   {
    "duration": 11,
    "start_time": "2025-05-14T15:07:04.129Z"
   },
   {
    "duration": 43,
    "start_time": "2025-05-14T15:07:04.143Z"
   },
   {
    "duration": 385,
    "start_time": "2025-05-14T15:07:04.190Z"
   },
   {
    "duration": 1453,
    "start_time": "2025-05-14T15:13:50.368Z"
   },
   {
    "duration": 49,
    "start_time": "2025-05-14T15:13:51.823Z"
   },
   {
    "duration": 40,
    "start_time": "2025-05-14T15:13:51.874Z"
   },
   {
    "duration": 23,
    "start_time": "2025-05-14T15:13:51.916Z"
   },
   {
    "duration": 274,
    "start_time": "2025-05-14T15:13:51.941Z"
   },
   {
    "duration": 658,
    "start_time": "2025-05-14T15:13:52.216Z"
   },
   {
    "duration": 686,
    "start_time": "2025-05-14T15:13:52.876Z"
   },
   {
    "duration": 935,
    "start_time": "2025-05-14T15:13:53.565Z"
   },
   {
    "duration": 357,
    "start_time": "2025-05-14T15:13:54.502Z"
   },
   {
    "duration": 5,
    "start_time": "2025-05-14T15:13:54.861Z"
   },
   {
    "duration": 127,
    "start_time": "2025-05-14T15:13:54.868Z"
   },
   {
    "duration": 9,
    "start_time": "2025-05-14T15:13:54.998Z"
   },
   {
    "duration": 126,
    "start_time": "2025-05-14T15:13:55.009Z"
   },
   {
    "duration": 0,
    "start_time": "2025-05-14T15:13:55.137Z"
   },
   {
    "duration": 6,
    "start_time": "2025-05-14T15:14:41.492Z"
   },
   {
    "duration": 1461,
    "start_time": "2025-05-14T15:14:46.276Z"
   },
   {
    "duration": 49,
    "start_time": "2025-05-14T15:14:47.739Z"
   },
   {
    "duration": 10,
    "start_time": "2025-05-14T15:14:47.790Z"
   },
   {
    "duration": 85,
    "start_time": "2025-05-14T15:14:47.801Z"
   },
   {
    "duration": 261,
    "start_time": "2025-05-14T15:14:47.889Z"
   },
   {
    "duration": 703,
    "start_time": "2025-05-14T15:14:48.151Z"
   },
   {
    "duration": 667,
    "start_time": "2025-05-14T15:14:48.856Z"
   },
   {
    "duration": 853,
    "start_time": "2025-05-14T15:14:49.525Z"
   },
   {
    "duration": 311,
    "start_time": "2025-05-14T15:14:50.380Z"
   },
   {
    "duration": 5,
    "start_time": "2025-05-14T15:14:50.693Z"
   },
   {
    "duration": 64,
    "start_time": "2025-05-14T15:14:50.700Z"
   },
   {
    "duration": 9,
    "start_time": "2025-05-14T15:14:50.766Z"
   },
   {
    "duration": 22,
    "start_time": "2025-05-14T15:14:50.777Z"
   },
   {
    "duration": 170,
    "start_time": "2025-05-14T15:14:50.802Z"
   },
   {
    "duration": 1520,
    "start_time": "2025-05-14T15:15:22.626Z"
   },
   {
    "duration": 62,
    "start_time": "2025-05-14T15:15:24.149Z"
   },
   {
    "duration": 10,
    "start_time": "2025-05-14T15:15:24.213Z"
   },
   {
    "duration": 31,
    "start_time": "2025-05-14T15:15:24.224Z"
   },
   {
    "duration": 270,
    "start_time": "2025-05-14T15:15:24.257Z"
   },
   {
    "duration": 778,
    "start_time": "2025-05-14T15:15:24.528Z"
   },
   {
    "duration": 720,
    "start_time": "2025-05-14T15:15:25.308Z"
   },
   {
    "duration": 856,
    "start_time": "2025-05-14T15:15:26.038Z"
   },
   {
    "duration": 315,
    "start_time": "2025-05-14T15:15:26.896Z"
   },
   {
    "duration": 5,
    "start_time": "2025-05-14T15:15:27.212Z"
   },
   {
    "duration": 64,
    "start_time": "2025-05-14T15:15:27.219Z"
   },
   {
    "duration": 8,
    "start_time": "2025-05-14T15:15:27.285Z"
   },
   {
    "duration": 20,
    "start_time": "2025-05-14T15:15:27.295Z"
   },
   {
    "duration": 370,
    "start_time": "2025-05-14T15:15:27.318Z"
   },
   {
    "duration": 1442,
    "start_time": "2025-05-14T15:18:31.572Z"
   },
   {
    "duration": 50,
    "start_time": "2025-05-14T15:18:33.016Z"
   },
   {
    "duration": 10,
    "start_time": "2025-05-14T15:18:33.067Z"
   },
   {
    "duration": 29,
    "start_time": "2025-05-14T15:18:33.079Z"
   },
   {
    "duration": 278,
    "start_time": "2025-05-14T15:18:33.110Z"
   },
   {
    "duration": 676,
    "start_time": "2025-05-14T15:18:33.390Z"
   },
   {
    "duration": 725,
    "start_time": "2025-05-14T15:18:34.068Z"
   },
   {
    "duration": 898,
    "start_time": "2025-05-14T15:18:34.795Z"
   },
   {
    "duration": 318,
    "start_time": "2025-05-14T15:18:35.695Z"
   },
   {
    "duration": 4,
    "start_time": "2025-05-14T15:18:36.014Z"
   },
   {
    "duration": 72,
    "start_time": "2025-05-14T15:18:36.020Z"
   },
   {
    "duration": 7,
    "start_time": "2025-05-14T15:18:36.094Z"
   },
   {
    "duration": 140,
    "start_time": "2025-05-14T15:18:36.103Z"
   },
   {
    "duration": 0,
    "start_time": "2025-05-14T15:18:36.244Z"
   },
   {
    "duration": 4,
    "start_time": "2025-05-14T15:19:42.102Z"
   },
   {
    "duration": 7520,
    "start_time": "2025-05-14T15:20:14.574Z"
   },
   {
    "duration": 1303,
    "start_time": "2025-05-14T15:20:22.097Z"
   },
   {
    "duration": 48,
    "start_time": "2025-05-14T15:20:23.402Z"
   },
   {
    "duration": 12,
    "start_time": "2025-05-14T15:20:23.452Z"
   },
   {
    "duration": 23,
    "start_time": "2025-05-14T15:20:23.467Z"
   },
   {
    "duration": 282,
    "start_time": "2025-05-14T15:20:23.492Z"
   },
   {
    "duration": 710,
    "start_time": "2025-05-14T15:20:23.776Z"
   },
   {
    "duration": 770,
    "start_time": "2025-05-14T15:20:24.488Z"
   },
   {
    "duration": 923,
    "start_time": "2025-05-14T15:20:25.260Z"
   },
   {
    "duration": 324,
    "start_time": "2025-05-14T15:20:26.184Z"
   },
   {
    "duration": 4,
    "start_time": "2025-05-14T15:20:26.510Z"
   },
   {
    "duration": 61,
    "start_time": "2025-05-14T15:20:26.516Z"
   },
   {
    "duration": 4,
    "start_time": "2025-05-14T15:20:26.579Z"
   },
   {
    "duration": 30,
    "start_time": "2025-05-14T15:20:26.585Z"
   },
   {
    "duration": 27,
    "start_time": "2025-05-14T15:20:26.616Z"
   },
   {
    "duration": 3321,
    "start_time": "2025-05-14T15:20:26.645Z"
   },
   {
    "duration": 3248,
    "start_time": "2025-05-14T15:21:11.301Z"
   },
   {
    "duration": 1346,
    "start_time": "2025-05-14T15:21:14.551Z"
   },
   {
    "duration": 48,
    "start_time": "2025-05-14T15:21:15.899Z"
   },
   {
    "duration": 10,
    "start_time": "2025-05-14T15:21:15.950Z"
   },
   {
    "duration": 15,
    "start_time": "2025-05-14T15:21:15.962Z"
   },
   {
    "duration": 282,
    "start_time": "2025-05-14T15:21:15.979Z"
   },
   {
    "duration": 696,
    "start_time": "2025-05-14T15:21:16.263Z"
   },
   {
    "duration": 685,
    "start_time": "2025-05-14T15:21:16.961Z"
   },
   {
    "duration": 846,
    "start_time": "2025-05-14T15:21:17.648Z"
   },
   {
    "duration": 317,
    "start_time": "2025-05-14T15:21:18.497Z"
   },
   {
    "duration": 6,
    "start_time": "2025-05-14T15:21:18.816Z"
   },
   {
    "duration": 61,
    "start_time": "2025-05-14T15:21:18.823Z"
   },
   {
    "duration": 5,
    "start_time": "2025-05-14T15:21:18.886Z"
   },
   {
    "duration": 14,
    "start_time": "2025-05-14T15:21:18.893Z"
   },
   {
    "duration": 32,
    "start_time": "2025-05-14T15:21:18.909Z"
   },
   {
    "duration": 3303,
    "start_time": "2025-05-14T15:21:18.943Z"
   },
   {
    "duration": 6,
    "start_time": "2025-05-14T15:21:50.959Z"
   },
   {
    "duration": 3128,
    "start_time": "2025-05-14T15:21:54.927Z"
   },
   {
    "duration": 1345,
    "start_time": "2025-05-14T15:21:58.058Z"
   },
   {
    "duration": 48,
    "start_time": "2025-05-14T15:21:59.405Z"
   },
   {
    "duration": 10,
    "start_time": "2025-05-14T15:21:59.455Z"
   },
   {
    "duration": 24,
    "start_time": "2025-05-14T15:21:59.468Z"
   },
   {
    "duration": 277,
    "start_time": "2025-05-14T15:21:59.493Z"
   },
   {
    "duration": 718,
    "start_time": "2025-05-14T15:21:59.772Z"
   },
   {
    "duration": 729,
    "start_time": "2025-05-14T15:22:00.492Z"
   },
   {
    "duration": 889,
    "start_time": "2025-05-14T15:22:01.223Z"
   },
   {
    "duration": 320,
    "start_time": "2025-05-14T15:22:02.114Z"
   },
   {
    "duration": 4,
    "start_time": "2025-05-14T15:22:02.436Z"
   },
   {
    "duration": 147,
    "start_time": "2025-05-14T15:22:02.442Z"
   },
   {
    "duration": 12,
    "start_time": "2025-05-14T15:22:02.591Z"
   },
   {
    "duration": 97,
    "start_time": "2025-05-14T15:22:02.605Z"
   },
   {
    "duration": 10,
    "start_time": "2025-05-14T15:22:02.703Z"
   },
   {
    "duration": 0,
    "start_time": "2025-05-14T15:22:02.715Z"
   },
   {
    "duration": 10,
    "start_time": "2025-05-14T15:22:28.624Z"
   },
   {
    "duration": 3109,
    "start_time": "2025-05-14T15:22:33.839Z"
   },
   {
    "duration": 1349,
    "start_time": "2025-05-14T15:22:36.950Z"
   },
   {
    "duration": 49,
    "start_time": "2025-05-14T15:22:38.300Z"
   },
   {
    "duration": 10,
    "start_time": "2025-05-14T15:22:38.351Z"
   },
   {
    "duration": 15,
    "start_time": "2025-05-14T15:22:38.363Z"
   },
   {
    "duration": 289,
    "start_time": "2025-05-14T15:22:38.379Z"
   },
   {
    "duration": 709,
    "start_time": "2025-05-14T15:22:38.669Z"
   },
   {
    "duration": 717,
    "start_time": "2025-05-14T15:22:39.380Z"
   },
   {
    "duration": 886,
    "start_time": "2025-05-14T15:22:40.099Z"
   },
   {
    "duration": 311,
    "start_time": "2025-05-14T15:22:40.987Z"
   },
   {
    "duration": 4,
    "start_time": "2025-05-14T15:22:41.300Z"
   },
   {
    "duration": 66,
    "start_time": "2025-05-14T15:22:41.306Z"
   },
   {
    "duration": 4,
    "start_time": "2025-05-14T15:22:41.373Z"
   },
   {
    "duration": 8,
    "start_time": "2025-05-14T15:22:41.379Z"
   },
   {
    "duration": 8,
    "start_time": "2025-05-14T15:22:41.389Z"
   },
   {
    "duration": 3538,
    "start_time": "2025-05-14T15:22:41.399Z"
   },
   {
    "duration": 3094,
    "start_time": "2025-05-14T15:30:40.551Z"
   },
   {
    "duration": 1395,
    "start_time": "2025-05-14T15:30:43.648Z"
   },
   {
    "duration": 75,
    "start_time": "2025-05-14T15:30:45.045Z"
   },
   {
    "duration": 12,
    "start_time": "2025-05-14T15:30:45.122Z"
   },
   {
    "duration": 62,
    "start_time": "2025-05-14T15:30:45.136Z"
   },
   {
    "duration": 332,
    "start_time": "2025-05-14T15:30:45.200Z"
   },
   {
    "duration": 692,
    "start_time": "2025-05-14T15:30:45.538Z"
   },
   {
    "duration": 705,
    "start_time": "2025-05-14T15:30:46.232Z"
   },
   {
    "duration": 843,
    "start_time": "2025-05-14T15:30:46.939Z"
   },
   {
    "duration": 317,
    "start_time": "2025-05-14T15:30:47.785Z"
   },
   {
    "duration": 5,
    "start_time": "2025-05-14T15:30:48.103Z"
   },
   {
    "duration": 59,
    "start_time": "2025-05-14T15:30:48.109Z"
   },
   {
    "duration": 4,
    "start_time": "2025-05-14T15:30:48.170Z"
   },
   {
    "duration": 25,
    "start_time": "2025-05-14T15:30:48.175Z"
   },
   {
    "duration": 13,
    "start_time": "2025-05-14T15:30:48.202Z"
   },
   {
    "duration": 122,
    "start_time": "2025-05-14T15:30:48.217Z"
   },
   {
    "duration": 0,
    "start_time": "2025-05-14T15:30:48.341Z"
   },
   {
    "duration": 0,
    "start_time": "2025-05-14T15:30:48.342Z"
   },
   {
    "duration": 3193,
    "start_time": "2025-05-14T15:31:32.264Z"
   },
   {
    "duration": 1340,
    "start_time": "2025-05-14T15:31:35.460Z"
   },
   {
    "duration": 48,
    "start_time": "2025-05-14T15:31:36.801Z"
   },
   {
    "duration": 58,
    "start_time": "2025-05-14T15:31:36.851Z"
   },
   {
    "duration": 37,
    "start_time": "2025-05-14T15:31:36.911Z"
   },
   {
    "duration": 255,
    "start_time": "2025-05-14T15:31:36.949Z"
   },
   {
    "duration": 660,
    "start_time": "2025-05-14T15:31:37.206Z"
   },
   {
    "duration": 680,
    "start_time": "2025-05-14T15:31:37.868Z"
   },
   {
    "duration": 832,
    "start_time": "2025-05-14T15:31:38.550Z"
   },
   {
    "duration": 307,
    "start_time": "2025-05-14T15:31:39.384Z"
   },
   {
    "duration": 5,
    "start_time": "2025-05-14T15:31:39.692Z"
   },
   {
    "duration": 61,
    "start_time": "2025-05-14T15:31:39.698Z"
   },
   {
    "duration": 4,
    "start_time": "2025-05-14T15:31:39.760Z"
   },
   {
    "duration": 8,
    "start_time": "2025-05-14T15:31:39.767Z"
   },
   {
    "duration": 136,
    "start_time": "2025-05-14T15:31:39.776Z"
   },
   {
    "duration": 0,
    "start_time": "2025-05-14T15:31:39.914Z"
   },
   {
    "duration": 0,
    "start_time": "2025-05-14T15:31:39.915Z"
   },
   {
    "duration": 0,
    "start_time": "2025-05-14T15:31:39.917Z"
   },
   {
    "duration": 3159,
    "start_time": "2025-05-14T15:32:09.332Z"
   },
   {
    "duration": 1298,
    "start_time": "2025-05-14T15:32:12.494Z"
   },
   {
    "duration": 50,
    "start_time": "2025-05-14T15:32:13.793Z"
   },
   {
    "duration": 11,
    "start_time": "2025-05-14T15:32:13.844Z"
   },
   {
    "duration": 15,
    "start_time": "2025-05-14T15:32:13.857Z"
   },
   {
    "duration": 348,
    "start_time": "2025-05-14T15:32:13.873Z"
   },
   {
    "duration": 688,
    "start_time": "2025-05-14T15:32:14.222Z"
   },
   {
    "duration": 725,
    "start_time": "2025-05-14T15:32:14.912Z"
   },
   {
    "duration": 860,
    "start_time": "2025-05-14T15:32:15.639Z"
   },
   {
    "duration": 329,
    "start_time": "2025-05-14T15:32:16.501Z"
   },
   {
    "duration": 7,
    "start_time": "2025-05-14T15:32:16.832Z"
   },
   {
    "duration": 50,
    "start_time": "2025-05-14T15:32:16.841Z"
   },
   {
    "duration": 3,
    "start_time": "2025-05-14T15:32:16.893Z"
   },
   {
    "duration": 9,
    "start_time": "2025-05-14T15:32:16.899Z"
   },
   {
    "duration": 97,
    "start_time": "2025-05-14T15:32:16.910Z"
   },
   {
    "duration": 3339,
    "start_time": "2025-05-14T15:32:17.008Z"
   },
   {
    "duration": 12,
    "start_time": "2025-05-14T15:32:20.437Z"
   },
   {
    "duration": 3530,
    "start_time": "2025-05-14T15:32:20.537Z"
   },
   {
    "duration": 3095,
    "start_time": "2025-05-14T15:34:06.073Z"
   },
   {
    "duration": 1330,
    "start_time": "2025-05-14T15:34:09.171Z"
   },
   {
    "duration": 51,
    "start_time": "2025-05-14T15:34:10.503Z"
   },
   {
    "duration": 31,
    "start_time": "2025-05-14T15:34:10.556Z"
   },
   {
    "duration": 16,
    "start_time": "2025-05-14T15:34:10.590Z"
   },
   {
    "duration": 273,
    "start_time": "2025-05-14T15:34:10.609Z"
   },
   {
    "duration": 674,
    "start_time": "2025-05-14T15:34:10.884Z"
   },
   {
    "duration": 691,
    "start_time": "2025-05-14T15:34:11.560Z"
   },
   {
    "duration": 894,
    "start_time": "2025-05-14T15:34:12.253Z"
   },
   {
    "duration": 327,
    "start_time": "2025-05-14T15:34:13.148Z"
   },
   {
    "duration": 4,
    "start_time": "2025-05-14T15:34:13.477Z"
   },
   {
    "duration": 63,
    "start_time": "2025-05-14T15:34:13.483Z"
   },
   {
    "duration": 4,
    "start_time": "2025-05-14T15:34:13.547Z"
   },
   {
    "duration": 26,
    "start_time": "2025-05-14T15:34:13.553Z"
   },
   {
    "duration": 130,
    "start_time": "2025-05-14T15:34:13.580Z"
   },
   {
    "duration": 0,
    "start_time": "2025-05-14T15:34:13.712Z"
   },
   {
    "duration": 0,
    "start_time": "2025-05-14T15:34:13.714Z"
   },
   {
    "duration": 0,
    "start_time": "2025-05-14T15:34:13.715Z"
   },
   {
    "duration": 0,
    "start_time": "2025-05-14T15:34:13.717Z"
   },
   {
    "duration": 3113,
    "start_time": "2025-05-14T15:35:10.671Z"
   },
   {
    "duration": 1340,
    "start_time": "2025-05-14T15:35:13.787Z"
   },
   {
    "duration": 52,
    "start_time": "2025-05-14T15:35:15.128Z"
   },
   {
    "duration": 13,
    "start_time": "2025-05-14T15:35:15.182Z"
   },
   {
    "duration": 17,
    "start_time": "2025-05-14T15:35:15.197Z"
   },
   {
    "duration": 286,
    "start_time": "2025-05-14T15:35:15.216Z"
   },
   {
    "duration": 670,
    "start_time": "2025-05-14T15:35:15.504Z"
   },
   {
    "duration": 720,
    "start_time": "2025-05-14T15:35:16.176Z"
   },
   {
    "duration": 876,
    "start_time": "2025-05-14T15:35:16.897Z"
   },
   {
    "duration": 313,
    "start_time": "2025-05-14T15:35:17.774Z"
   },
   {
    "duration": 5,
    "start_time": "2025-05-14T15:35:18.089Z"
   },
   {
    "duration": 61,
    "start_time": "2025-05-14T15:35:18.095Z"
   },
   {
    "duration": 4,
    "start_time": "2025-05-14T15:35:18.157Z"
   },
   {
    "duration": 22,
    "start_time": "2025-05-14T15:35:18.163Z"
   },
   {
    "duration": 36,
    "start_time": "2025-05-14T15:35:18.187Z"
   },
   {
    "duration": 17,
    "start_time": "2025-05-14T15:35:18.225Z"
   },
   {
    "duration": 2902,
    "start_time": "2025-05-14T15:35:18.244Z"
   },
   {
    "duration": 102,
    "start_time": "2025-05-14T15:35:21.238Z"
   },
   {
    "duration": 3397,
    "start_time": "2025-05-14T15:35:21.341Z"
   },
   {
    "duration": 3080,
    "start_time": "2025-05-14T15:40:11.347Z"
   },
   {
    "duration": 2113,
    "start_time": "2025-05-14T15:40:14.430Z"
   },
   {
    "duration": 51,
    "start_time": "2025-05-14T15:40:16.545Z"
   },
   {
    "duration": 12,
    "start_time": "2025-05-14T15:40:16.597Z"
   },
   {
    "duration": 36,
    "start_time": "2025-05-14T15:40:16.611Z"
   },
   {
    "duration": 277,
    "start_time": "2025-05-14T15:40:16.649Z"
   },
   {
    "duration": 702,
    "start_time": "2025-05-14T15:40:16.928Z"
   },
   {
    "duration": 730,
    "start_time": "2025-05-14T15:40:17.632Z"
   },
   {
    "duration": 924,
    "start_time": "2025-05-14T15:40:18.364Z"
   },
   {
    "duration": 327,
    "start_time": "2025-05-14T15:40:19.289Z"
   },
   {
    "duration": 4,
    "start_time": "2025-05-14T15:40:19.618Z"
   },
   {
    "duration": 59,
    "start_time": "2025-05-14T15:40:19.624Z"
   },
   {
    "duration": 3,
    "start_time": "2025-05-14T15:40:19.685Z"
   },
   {
    "duration": 13,
    "start_time": "2025-05-14T15:40:19.691Z"
   },
   {
    "duration": 27,
    "start_time": "2025-05-14T15:40:19.706Z"
   },
   {
    "duration": 63,
    "start_time": "2025-05-14T15:40:19.735Z"
   },
   {
    "duration": 3139,
    "start_time": "2025-05-14T15:40:19.800Z"
   },
   {
    "duration": 241,
    "start_time": "2025-05-14T15:40:22.942Z"
   },
   {
    "duration": 3142,
    "start_time": "2025-05-14T15:40:37.648Z"
   },
   {
    "duration": 1291,
    "start_time": "2025-05-14T15:40:40.793Z"
   },
   {
    "duration": 49,
    "start_time": "2025-05-14T15:40:42.086Z"
   },
   {
    "duration": 11,
    "start_time": "2025-05-14T15:40:42.137Z"
   },
   {
    "duration": 28,
    "start_time": "2025-05-14T15:40:42.150Z"
   },
   {
    "duration": 260,
    "start_time": "2025-05-14T15:40:42.180Z"
   },
   {
    "duration": 681,
    "start_time": "2025-05-14T15:40:42.441Z"
   },
   {
    "duration": 705,
    "start_time": "2025-05-14T15:40:43.125Z"
   },
   {
    "duration": 907,
    "start_time": "2025-05-14T15:40:43.832Z"
   },
   {
    "duration": 334,
    "start_time": "2025-05-14T15:40:44.743Z"
   },
   {
    "duration": 6,
    "start_time": "2025-05-14T15:40:45.080Z"
   },
   {
    "duration": 67,
    "start_time": "2025-05-14T15:40:45.087Z"
   },
   {
    "duration": 5,
    "start_time": "2025-05-14T15:40:45.156Z"
   },
   {
    "duration": 51,
    "start_time": "2025-05-14T15:40:45.163Z"
   },
   {
    "duration": 29,
    "start_time": "2025-05-14T15:40:45.216Z"
   },
   {
    "duration": 33,
    "start_time": "2025-05-14T15:40:45.247Z"
   },
   {
    "duration": 3072,
    "start_time": "2025-05-14T15:40:45.282Z"
   },
   {
    "duration": 2808,
    "start_time": "2025-05-14T15:40:48.437Z"
   },
   {
    "duration": 3328,
    "start_time": "2025-05-14T15:41:21.582Z"
   },
   {
    "duration": 1394,
    "start_time": "2025-05-14T15:41:24.913Z"
   },
   {
    "duration": 55,
    "start_time": "2025-05-14T15:41:26.309Z"
   },
   {
    "duration": 12,
    "start_time": "2025-05-14T15:41:26.366Z"
   },
   {
    "duration": 14,
    "start_time": "2025-05-14T15:41:26.381Z"
   },
   {
    "duration": 302,
    "start_time": "2025-05-14T15:41:26.397Z"
   },
   {
    "duration": 713,
    "start_time": "2025-05-14T15:41:26.701Z"
   },
   {
    "duration": 761,
    "start_time": "2025-05-14T15:41:27.416Z"
   },
   {
    "duration": 969,
    "start_time": "2025-05-14T15:41:28.179Z"
   },
   {
    "duration": 338,
    "start_time": "2025-05-14T15:41:29.151Z"
   },
   {
    "duration": 4,
    "start_time": "2025-05-14T15:41:29.491Z"
   },
   {
    "duration": 67,
    "start_time": "2025-05-14T15:41:29.497Z"
   },
   {
    "duration": 4,
    "start_time": "2025-05-14T15:41:29.566Z"
   },
   {
    "duration": 8,
    "start_time": "2025-05-14T15:41:29.572Z"
   },
   {
    "duration": 2,
    "start_time": "2025-05-14T15:41:29.582Z"
   },
   {
    "duration": 7,
    "start_time": "2025-05-14T15:41:29.586Z"
   },
   {
    "duration": 2669,
    "start_time": "2025-05-14T15:41:29.595Z"
   },
   {
    "duration": 253,
    "start_time": "2025-05-14T15:41:32.339Z"
   },
   {
    "duration": 3090,
    "start_time": "2025-05-14T15:44:47.299Z"
   },
   {
    "duration": 1315,
    "start_time": "2025-05-14T15:44:50.391Z"
   },
   {
    "duration": 59,
    "start_time": "2025-05-14T15:44:51.708Z"
   },
   {
    "duration": 12,
    "start_time": "2025-05-14T15:44:51.769Z"
   },
   {
    "duration": 29,
    "start_time": "2025-05-14T15:44:51.783Z"
   },
   {
    "duration": 270,
    "start_time": "2025-05-14T15:44:51.814Z"
   },
   {
    "duration": 696,
    "start_time": "2025-05-14T15:44:52.086Z"
   },
   {
    "duration": 739,
    "start_time": "2025-05-14T15:44:52.784Z"
   },
   {
    "duration": 916,
    "start_time": "2025-05-14T15:44:53.524Z"
   },
   {
    "duration": 342,
    "start_time": "2025-05-14T15:44:54.443Z"
   },
   {
    "duration": 4,
    "start_time": "2025-05-14T15:44:54.787Z"
   },
   {
    "duration": 62,
    "start_time": "2025-05-14T15:44:54.793Z"
   },
   {
    "duration": 4,
    "start_time": "2025-05-14T15:44:54.857Z"
   },
   {
    "duration": 23,
    "start_time": "2025-05-14T15:44:54.864Z"
   },
   {
    "duration": 3,
    "start_time": "2025-05-14T15:44:54.889Z"
   },
   {
    "duration": 17,
    "start_time": "2025-05-14T15:44:54.894Z"
   },
   {
    "duration": 3035,
    "start_time": "2025-05-14T15:44:54.913Z"
   },
   {
    "duration": 9398,
    "start_time": "2025-05-14T15:44:58.039Z"
   },
   {
    "duration": 3016,
    "start_time": "2025-05-14T15:46:38.417Z"
   },
   {
    "duration": 1341,
    "start_time": "2025-05-14T15:46:41.436Z"
   },
   {
    "duration": 59,
    "start_time": "2025-05-14T15:46:42.778Z"
   },
   {
    "duration": 10,
    "start_time": "2025-05-14T15:46:42.838Z"
   },
   {
    "duration": 16,
    "start_time": "2025-05-14T15:46:42.851Z"
   },
   {
    "duration": 277,
    "start_time": "2025-05-14T15:46:42.869Z"
   },
   {
    "duration": 714,
    "start_time": "2025-05-14T15:46:43.148Z"
   },
   {
    "duration": 685,
    "start_time": "2025-05-14T15:46:43.864Z"
   },
   {
    "duration": 962,
    "start_time": "2025-05-14T15:46:44.550Z"
   },
   {
    "duration": 311,
    "start_time": "2025-05-14T15:46:45.514Z"
   },
   {
    "duration": 12,
    "start_time": "2025-05-14T15:46:45.826Z"
   },
   {
    "duration": 49,
    "start_time": "2025-05-14T15:46:45.840Z"
   },
   {
    "duration": 3,
    "start_time": "2025-05-14T15:46:45.891Z"
   },
   {
    "duration": 20,
    "start_time": "2025-05-14T15:46:45.897Z"
   },
   {
    "duration": 3,
    "start_time": "2025-05-14T15:46:45.919Z"
   },
   {
    "duration": 9,
    "start_time": "2025-05-14T15:46:45.938Z"
   },
   {
    "duration": 2699,
    "start_time": "2025-05-14T15:46:45.949Z"
   },
   {
    "duration": 7659,
    "start_time": "2025-05-14T15:46:48.651Z"
   },
   {
    "duration": 3469,
    "start_time": "2025-05-14T15:49:32.900Z"
   },
   {
    "duration": 1367,
    "start_time": "2025-05-14T15:49:36.372Z"
   },
   {
    "duration": 49,
    "start_time": "2025-05-14T15:49:37.741Z"
   },
   {
    "duration": 10,
    "start_time": "2025-05-14T15:49:37.792Z"
   },
   {
    "duration": 16,
    "start_time": "2025-05-14T15:49:37.804Z"
   },
   {
    "duration": 292,
    "start_time": "2025-05-14T15:49:37.822Z"
   },
   {
    "duration": 730,
    "start_time": "2025-05-14T15:49:38.115Z"
   },
   {
    "duration": 779,
    "start_time": "2025-05-14T15:49:38.848Z"
   },
   {
    "duration": 934,
    "start_time": "2025-05-14T15:49:39.628Z"
   },
   {
    "duration": 347,
    "start_time": "2025-05-14T15:49:40.563Z"
   },
   {
    "duration": 5,
    "start_time": "2025-05-14T15:49:40.912Z"
   },
   {
    "duration": 73,
    "start_time": "2025-05-14T15:49:40.919Z"
   },
   {
    "duration": 10,
    "start_time": "2025-05-14T15:49:40.994Z"
   },
   {
    "duration": 57,
    "start_time": "2025-05-14T15:49:41.007Z"
   },
   {
    "duration": 9,
    "start_time": "2025-05-14T15:49:41.066Z"
   },
   {
    "duration": 12,
    "start_time": "2025-05-14T15:49:41.077Z"
   },
   {
    "duration": 3552,
    "start_time": "2025-05-14T15:49:41.090Z"
   },
   {
    "duration": 8838,
    "start_time": "2025-05-14T15:49:44.644Z"
   },
   {
    "duration": 9,
    "start_time": "2025-05-14T15:50:07.402Z"
   },
   {
    "duration": 3588,
    "start_time": "2025-05-14T15:50:12.119Z"
   },
   {
    "duration": 1433,
    "start_time": "2025-05-14T15:50:15.710Z"
   },
   {
    "duration": 52,
    "start_time": "2025-05-14T15:50:17.146Z"
   },
   {
    "duration": 11,
    "start_time": "2025-05-14T15:50:17.200Z"
   },
   {
    "duration": 25,
    "start_time": "2025-05-14T15:50:17.214Z"
   },
   {
    "duration": 319,
    "start_time": "2025-05-14T15:50:17.242Z"
   },
   {
    "duration": 748,
    "start_time": "2025-05-14T15:50:17.562Z"
   },
   {
    "duration": 777,
    "start_time": "2025-05-14T15:50:18.313Z"
   },
   {
    "duration": 969,
    "start_time": "2025-05-14T15:50:19.092Z"
   },
   {
    "duration": 350,
    "start_time": "2025-05-14T15:50:20.063Z"
   },
   {
    "duration": 4,
    "start_time": "2025-05-14T15:50:20.415Z"
   },
   {
    "duration": 66,
    "start_time": "2025-05-14T15:50:20.420Z"
   },
   {
    "duration": 4,
    "start_time": "2025-05-14T15:50:20.488Z"
   },
   {
    "duration": 13,
    "start_time": "2025-05-14T15:50:20.494Z"
   },
   {
    "duration": 3,
    "start_time": "2025-05-14T15:50:20.508Z"
   },
   {
    "duration": 34,
    "start_time": "2025-05-14T15:50:20.513Z"
   },
   {
    "duration": 3788,
    "start_time": "2025-05-14T15:50:20.549Z"
   },
   {
    "duration": 8222,
    "start_time": "2025-05-14T15:50:24.340Z"
   },
   {
    "duration": 76,
    "start_time": "2025-05-14T15:54:30.013Z"
   },
   {
    "duration": 71,
    "start_time": "2025-05-14T15:54:42.250Z"
   },
   {
    "duration": 128,
    "start_time": "2025-05-14T15:54:48.454Z"
   },
   {
    "duration": 17,
    "start_time": "2025-05-14T15:56:36.053Z"
   },
   {
    "duration": 422,
    "start_time": "2025-05-14T15:59:57.976Z"
   },
   {
    "duration": 410,
    "start_time": "2025-05-14T16:03:27.477Z"
   },
   {
    "duration": 511,
    "start_time": "2025-05-14T16:03:44.085Z"
   },
   {
    "duration": 194,
    "start_time": "2025-05-14T16:03:56.582Z"
   },
   {
    "duration": 405,
    "start_time": "2025-05-14T16:04:07.558Z"
   },
   {
    "duration": 7229,
    "start_time": "2025-05-14T19:42:59.624Z"
   },
   {
    "duration": 1442,
    "start_time": "2025-05-14T19:43:06.856Z"
   },
   {
    "duration": 47,
    "start_time": "2025-05-14T19:43:08.300Z"
   },
   {
    "duration": 10,
    "start_time": "2025-05-14T19:43:08.349Z"
   },
   {
    "duration": 15,
    "start_time": "2025-05-14T19:43:08.360Z"
   },
   {
    "duration": 269,
    "start_time": "2025-05-14T19:43:08.376Z"
   },
   {
    "duration": 746,
    "start_time": "2025-05-14T19:43:08.647Z"
   },
   {
    "duration": 707,
    "start_time": "2025-05-14T19:43:09.395Z"
   },
   {
    "duration": 887,
    "start_time": "2025-05-14T19:43:10.104Z"
   },
   {
    "duration": 313,
    "start_time": "2025-05-14T19:43:10.993Z"
   },
   {
    "duration": 4,
    "start_time": "2025-05-14T19:43:11.308Z"
   },
   {
    "duration": 62,
    "start_time": "2025-05-14T19:43:11.313Z"
   },
   {
    "duration": 3,
    "start_time": "2025-05-14T19:43:11.377Z"
   },
   {
    "duration": 10,
    "start_time": "2025-05-14T19:43:11.382Z"
   },
   {
    "duration": 4,
    "start_time": "2025-05-14T19:43:11.393Z"
   },
   {
    "duration": 9,
    "start_time": "2025-05-14T19:43:11.398Z"
   },
   {
    "duration": 3329,
    "start_time": "2025-05-14T19:43:11.408Z"
   },
   {
    "duration": 7641,
    "start_time": "2025-05-14T19:43:14.740Z"
   },
   {
    "duration": 12,
    "start_time": "2025-05-14T19:43:22.383Z"
   },
   {
    "duration": 268,
    "start_time": "2025-05-14T19:43:22.397Z"
   },
   {
    "duration": 16,
    "start_time": "2025-05-14T19:45:31.110Z"
   },
   {
    "duration": 394,
    "start_time": "2025-05-14T19:46:48.928Z"
   },
   {
    "duration": 407,
    "start_time": "2025-05-14T19:48:24.756Z"
   },
   {
    "duration": 3031,
    "start_time": "2025-05-14T19:48:38.890Z"
   },
   {
    "duration": 1256,
    "start_time": "2025-05-14T19:48:41.924Z"
   },
   {
    "duration": 48,
    "start_time": "2025-05-14T19:48:43.181Z"
   },
   {
    "duration": 36,
    "start_time": "2025-05-14T19:48:43.230Z"
   },
   {
    "duration": 14,
    "start_time": "2025-05-14T19:48:43.268Z"
   },
   {
    "duration": 246,
    "start_time": "2025-05-14T19:48:43.283Z"
   },
   {
    "duration": 642,
    "start_time": "2025-05-14T19:48:43.531Z"
   },
   {
    "duration": 682,
    "start_time": "2025-05-14T19:48:44.175Z"
   },
   {
    "duration": 865,
    "start_time": "2025-05-14T19:48:44.859Z"
   },
   {
    "duration": 313,
    "start_time": "2025-05-14T19:48:45.726Z"
   },
   {
    "duration": 4,
    "start_time": "2025-05-14T19:48:46.041Z"
   },
   {
    "duration": 52,
    "start_time": "2025-05-14T19:48:46.046Z"
   },
   {
    "duration": 4,
    "start_time": "2025-05-14T19:48:46.099Z"
   },
   {
    "duration": 31,
    "start_time": "2025-05-14T19:48:46.105Z"
   },
   {
    "duration": 4,
    "start_time": "2025-05-14T19:48:46.138Z"
   },
   {
    "duration": 23,
    "start_time": "2025-05-14T19:48:46.143Z"
   },
   {
    "duration": 3173,
    "start_time": "2025-05-14T19:48:46.167Z"
   },
   {
    "duration": 7492,
    "start_time": "2025-05-14T19:48:49.345Z"
   },
   {
    "duration": 14,
    "start_time": "2025-05-14T19:48:56.838Z"
   },
   {
    "duration": 546,
    "start_time": "2025-05-14T19:48:56.855Z"
   },
   {
    "duration": 3226,
    "start_time": "2025-07-14T12:58:02.673Z"
   },
   {
    "duration": 1322,
    "start_time": "2025-07-14T12:58:05.902Z"
   },
   {
    "duration": 46,
    "start_time": "2025-07-14T12:58:07.226Z"
   },
   {
    "duration": 16,
    "start_time": "2025-07-14T12:58:07.274Z"
   },
   {
    "duration": 24,
    "start_time": "2025-07-14T12:58:07.292Z"
   },
   {
    "duration": 261,
    "start_time": "2025-07-14T12:58:07.318Z"
   },
   {
    "duration": 638,
    "start_time": "2025-07-14T12:58:07.581Z"
   },
   {
    "duration": 690,
    "start_time": "2025-07-14T12:58:08.221Z"
   },
   {
    "duration": 916,
    "start_time": "2025-07-14T12:58:08.912Z"
   },
   {
    "duration": 317,
    "start_time": "2025-07-14T12:58:09.830Z"
   },
   {
    "duration": 5,
    "start_time": "2025-07-14T12:58:10.149Z"
   },
   {
    "duration": 62,
    "start_time": "2025-07-14T12:58:10.155Z"
   },
   {
    "duration": 4,
    "start_time": "2025-07-14T12:58:10.219Z"
   },
   {
    "duration": 20,
    "start_time": "2025-07-14T12:58:10.226Z"
   },
   {
    "duration": 4,
    "start_time": "2025-07-14T12:58:10.247Z"
   },
   {
    "duration": 8,
    "start_time": "2025-07-14T12:58:10.252Z"
   },
   {
    "duration": 3430,
    "start_time": "2025-07-14T12:58:10.262Z"
   },
   {
    "duration": 7462,
    "start_time": "2025-07-14T12:58:13.694Z"
   },
   {
    "duration": 38,
    "start_time": "2025-07-14T12:58:21.158Z"
   },
   {
    "duration": 551,
    "start_time": "2025-07-14T12:58:21.198Z"
   }
  ],
  "kernelspec": {
   "display_name": "Python 3 (ipykernel)",
   "language": "python",
   "name": "python3"
  },
  "language_info": {
   "codemirror_mode": {
    "name": "ipython",
    "version": 3
   },
   "file_extension": ".py",
   "mimetype": "text/x-python",
   "name": "python",
   "nbconvert_exporter": "python",
   "pygments_lexer": "ipython3",
   "version": "3.9.5"
  },
  "toc": {
   "base_numbering": 1,
   "nav_menu": {},
   "number_sections": true,
   "sideBar": true,
   "skip_h1_title": true,
   "title_cell": "Содержание",
   "title_sidebar": "Contents",
   "toc_cell": true,
   "toc_position": {
    "height": "calc(100% - 180px)",
    "left": "10px",
    "top": "150px",
    "width": "181.884px"
   },
   "toc_section_display": true,
   "toc_window_display": true
  }
 },
 "nbformat": 4,
 "nbformat_minor": 2
}
