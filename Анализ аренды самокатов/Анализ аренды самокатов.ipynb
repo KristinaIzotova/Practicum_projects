{
 "cells": [
  {
   "cell_type": "markdown",
   "id": "a917b1ef",
   "metadata": {},
   "source": [
    "# Анализ аренды самокатов"
   ]
  },
  {
   "cell_type": "markdown",
   "id": "426103a6",
   "metadata": {},
   "source": [
    "**Описание проекта**\n",
    "\n",
    "Нам были предоставлены данные о некоторых пользователях популярного сервиса аренды самокатов GoFast из нескольких городов, а также об их поездках. Чтобы совершать поездки по городу, пользователи сервиса GoFast пользуются мобильным приложением. Сервисом можно пользоваться:\n",
    "\n",
    "*без подписки* \n",
    "\n",
    "    абонентская плата отсутствует;\n",
    "    стоимость одной минуты поездки — 8 рублей;\n",
    "    стоимость старта (начала поездки) — 50 рублей;\n",
    "    \n",
    "*с подпиской Ultra*\n",
    "\n",
    "    абонентская плата — 199 рублей в месяц;\n",
    "    стоимость одной минуты поездки — 6 рублей;\n",
    "    стоимость старта — бесплатно.\n",
    "    \n",
    "**Цель проекта**\n",
    "\n",
    "Проанализировать данные и проверить некоторые гипотезы, которые могут помочь бизнесу вырасти.\n",
    "\n",
    "**План работы**\n",
    "\n",
    "    - Загрузка данных\n",
    "    - Предобработка данных\n",
    "    - Исследовательский анализ данных\n",
    "    - Объединение данных\n",
    "    - Подсчёт выручки\n",
    "    - Проверка гипотез"
   ]
  },
  {
   "cell_type": "code",
   "execution_count": 1,
   "id": "72576667",
   "metadata": {},
   "outputs": [],
   "source": [
    "import pandas as pd\n",
    "import matplotlib.pyplot as plt \n",
    "import numpy as np\n",
    "from scipy import stats as st"
   ]
  },
  {
   "cell_type": "markdown",
   "id": "c42cbe00",
   "metadata": {},
   "source": [
    "#### Шаг 1. Загрузка данных"
   ]
  },
  {
   "cell_type": "markdown",
   "id": "51149e25",
   "metadata": {},
   "source": [
    "Прочитаем файл *'users_go.csv'* из папки /datasets, сохранив его в датафрейм *users_go*. Выведем на экран первые 5 строк датафрейма и общую информацию о нем."
   ]
  },
  {
   "cell_type": "code",
   "execution_count": 2,
   "id": "170ed7bb",
   "metadata": {},
   "outputs": [
    {
     "data": {
      "text/html": [
       "<div>\n",
       "<style scoped>\n",
       "    .dataframe tbody tr th:only-of-type {\n",
       "        vertical-align: middle;\n",
       "    }\n",
       "\n",
       "    .dataframe tbody tr th {\n",
       "        vertical-align: top;\n",
       "    }\n",
       "\n",
       "    .dataframe thead th {\n",
       "        text-align: right;\n",
       "    }\n",
       "</style>\n",
       "<table border=\"1\" class=\"dataframe\">\n",
       "  <thead>\n",
       "    <tr style=\"text-align: right;\">\n",
       "      <th></th>\n",
       "      <th>user_id</th>\n",
       "      <th>name</th>\n",
       "      <th>age</th>\n",
       "      <th>city</th>\n",
       "      <th>subscription_type</th>\n",
       "    </tr>\n",
       "  </thead>\n",
       "  <tbody>\n",
       "    <tr>\n",
       "      <th>0</th>\n",
       "      <td>1</td>\n",
       "      <td>Кира</td>\n",
       "      <td>22</td>\n",
       "      <td>Тюмень</td>\n",
       "      <td>ultra</td>\n",
       "    </tr>\n",
       "    <tr>\n",
       "      <th>1</th>\n",
       "      <td>2</td>\n",
       "      <td>Станислав</td>\n",
       "      <td>31</td>\n",
       "      <td>Омск</td>\n",
       "      <td>ultra</td>\n",
       "    </tr>\n",
       "    <tr>\n",
       "      <th>2</th>\n",
       "      <td>3</td>\n",
       "      <td>Алексей</td>\n",
       "      <td>20</td>\n",
       "      <td>Москва</td>\n",
       "      <td>ultra</td>\n",
       "    </tr>\n",
       "    <tr>\n",
       "      <th>3</th>\n",
       "      <td>4</td>\n",
       "      <td>Константин</td>\n",
       "      <td>26</td>\n",
       "      <td>Ростов-на-Дону</td>\n",
       "      <td>ultra</td>\n",
       "    </tr>\n",
       "    <tr>\n",
       "      <th>4</th>\n",
       "      <td>5</td>\n",
       "      <td>Адель</td>\n",
       "      <td>28</td>\n",
       "      <td>Омск</td>\n",
       "      <td>ultra</td>\n",
       "    </tr>\n",
       "  </tbody>\n",
       "</table>\n",
       "</div>"
      ],
      "text/plain": [
       "   user_id        name  age            city subscription_type\n",
       "0        1        Кира   22          Тюмень             ultra\n",
       "1        2   Станислав   31            Омск             ultra\n",
       "2        3     Алексей   20          Москва             ultra\n",
       "3        4  Константин   26  Ростов-на-Дону             ultra\n",
       "4        5       Адель   28            Омск             ultra"
      ]
     },
     "execution_count": 2,
     "metadata": {},
     "output_type": "execute_result"
    }
   ],
   "source": [
    "#считываем файл users_go.csv и выводим первые пять строк на экран\n",
    "users_go = pd.read_csv('/datasets/users_go.csv')\n",
    "users_go.head()"
   ]
  },
  {
   "cell_type": "code",
   "execution_count": 3,
   "id": "0bbf31c9",
   "metadata": {},
   "outputs": [
    {
     "name": "stdout",
     "output_type": "stream",
     "text": [
      "<class 'pandas.core.frame.DataFrame'>\n",
      "RangeIndex: 1565 entries, 0 to 1564\n",
      "Data columns (total 5 columns):\n",
      " #   Column             Non-Null Count  Dtype \n",
      "---  ------             --------------  ----- \n",
      " 0   user_id            1565 non-null   int64 \n",
      " 1   name               1565 non-null   object\n",
      " 2   age                1565 non-null   int64 \n",
      " 3   city               1565 non-null   object\n",
      " 4   subscription_type  1565 non-null   object\n",
      "dtypes: int64(2), object(3)\n",
      "memory usage: 61.3+ KB\n"
     ]
    }
   ],
   "source": [
    "#выводим общую информацию о users_go\n",
    "users_go.info()"
   ]
  },
  {
   "cell_type": "markdown",
   "id": "68fe64dd",
   "metadata": {},
   "source": [
    "По общей информации о данном датафрейме можно сказать, что пропусков нет, типы данных соответствуют ожидаемым."
   ]
  },
  {
   "cell_type": "markdown",
   "id": "76657d13",
   "metadata": {},
   "source": [
    "Прочитаем файл *'rides_go.csv'* из папки */datasets*, сохранив его в датафрейм *rides_go*. Выведем на экран первые 5 строк датафрейма и общую информацию о нем."
   ]
  },
  {
   "cell_type": "code",
   "execution_count": 4,
   "id": "fd517395",
   "metadata": {},
   "outputs": [
    {
     "data": {
      "text/html": [
       "<div>\n",
       "<style scoped>\n",
       "    .dataframe tbody tr th:only-of-type {\n",
       "        vertical-align: middle;\n",
       "    }\n",
       "\n",
       "    .dataframe tbody tr th {\n",
       "        vertical-align: top;\n",
       "    }\n",
       "\n",
       "    .dataframe thead th {\n",
       "        text-align: right;\n",
       "    }\n",
       "</style>\n",
       "<table border=\"1\" class=\"dataframe\">\n",
       "  <thead>\n",
       "    <tr style=\"text-align: right;\">\n",
       "      <th></th>\n",
       "      <th>user_id</th>\n",
       "      <th>distance</th>\n",
       "      <th>duration</th>\n",
       "      <th>date</th>\n",
       "    </tr>\n",
       "  </thead>\n",
       "  <tbody>\n",
       "    <tr>\n",
       "      <th>0</th>\n",
       "      <td>1</td>\n",
       "      <td>4409.919140</td>\n",
       "      <td>25.599769</td>\n",
       "      <td>2021-01-01</td>\n",
       "    </tr>\n",
       "    <tr>\n",
       "      <th>1</th>\n",
       "      <td>1</td>\n",
       "      <td>2617.592153</td>\n",
       "      <td>15.816871</td>\n",
       "      <td>2021-01-18</td>\n",
       "    </tr>\n",
       "    <tr>\n",
       "      <th>2</th>\n",
       "      <td>1</td>\n",
       "      <td>754.159807</td>\n",
       "      <td>6.232113</td>\n",
       "      <td>2021-04-20</td>\n",
       "    </tr>\n",
       "    <tr>\n",
       "      <th>3</th>\n",
       "      <td>1</td>\n",
       "      <td>2694.783254</td>\n",
       "      <td>18.511000</td>\n",
       "      <td>2021-08-11</td>\n",
       "    </tr>\n",
       "    <tr>\n",
       "      <th>4</th>\n",
       "      <td>1</td>\n",
       "      <td>4028.687306</td>\n",
       "      <td>26.265803</td>\n",
       "      <td>2021-08-28</td>\n",
       "    </tr>\n",
       "  </tbody>\n",
       "</table>\n",
       "</div>"
      ],
      "text/plain": [
       "   user_id     distance   duration        date\n",
       "0        1  4409.919140  25.599769  2021-01-01\n",
       "1        1  2617.592153  15.816871  2021-01-18\n",
       "2        1   754.159807   6.232113  2021-04-20\n",
       "3        1  2694.783254  18.511000  2021-08-11\n",
       "4        1  4028.687306  26.265803  2021-08-28"
      ]
     },
     "execution_count": 4,
     "metadata": {},
     "output_type": "execute_result"
    }
   ],
   "source": [
    "#считываем файл rides_go.csv и выводим первые пять строк на экран\n",
    "rides_go = pd.read_csv('/datasets/rides_go.csv')\n",
    "rides_go.head()"
   ]
  },
  {
   "cell_type": "code",
   "execution_count": 5,
   "id": "08ef887d",
   "metadata": {},
   "outputs": [
    {
     "name": "stdout",
     "output_type": "stream",
     "text": [
      "<class 'pandas.core.frame.DataFrame'>\n",
      "RangeIndex: 18068 entries, 0 to 18067\n",
      "Data columns (total 4 columns):\n",
      " #   Column    Non-Null Count  Dtype  \n",
      "---  ------    --------------  -----  \n",
      " 0   user_id   18068 non-null  int64  \n",
      " 1   distance  18068 non-null  float64\n",
      " 2   duration  18068 non-null  float64\n",
      " 3   date      18068 non-null  object \n",
      "dtypes: float64(2), int64(1), object(1)\n",
      "memory usage: 564.8+ KB\n"
     ]
    }
   ],
   "source": [
    "#выводим общую информацию о rides_go\n",
    "rides_go.info()"
   ]
  },
  {
   "cell_type": "markdown",
   "id": "21708052",
   "metadata": {},
   "source": [
    "Из общей информации видно, что пропусков в датафрейме нет, но у столбца *date* тип данных *object*, для стобцов с датами тип данных должен быть *datetime64*."
   ]
  },
  {
   "cell_type": "markdown",
   "id": "dddd7595",
   "metadata": {},
   "source": [
    "Прочитаем файл *'subscriptions_go.csv'* из папки */datasets*, сохранив его в датафрейм *subscriptions_go*. Выведем на экран первые 5 строк датафрейма и общую информацию о нем."
   ]
  },
  {
   "cell_type": "code",
   "execution_count": 6,
   "id": "aa2716f2",
   "metadata": {},
   "outputs": [
    {
     "data": {
      "text/html": [
       "<div>\n",
       "<style scoped>\n",
       "    .dataframe tbody tr th:only-of-type {\n",
       "        vertical-align: middle;\n",
       "    }\n",
       "\n",
       "    .dataframe tbody tr th {\n",
       "        vertical-align: top;\n",
       "    }\n",
       "\n",
       "    .dataframe thead th {\n",
       "        text-align: right;\n",
       "    }\n",
       "</style>\n",
       "<table border=\"1\" class=\"dataframe\">\n",
       "  <thead>\n",
       "    <tr style=\"text-align: right;\">\n",
       "      <th></th>\n",
       "      <th>subscription_type</th>\n",
       "      <th>minute_price</th>\n",
       "      <th>start_ride_price</th>\n",
       "      <th>subscription_fee</th>\n",
       "    </tr>\n",
       "  </thead>\n",
       "  <tbody>\n",
       "    <tr>\n",
       "      <th>0</th>\n",
       "      <td>free</td>\n",
       "      <td>8</td>\n",
       "      <td>50</td>\n",
       "      <td>0</td>\n",
       "    </tr>\n",
       "    <tr>\n",
       "      <th>1</th>\n",
       "      <td>ultra</td>\n",
       "      <td>6</td>\n",
       "      <td>0</td>\n",
       "      <td>199</td>\n",
       "    </tr>\n",
       "  </tbody>\n",
       "</table>\n",
       "</div>"
      ],
      "text/plain": [
       "  subscription_type  minute_price  start_ride_price  subscription_fee\n",
       "0              free             8                50                 0\n",
       "1             ultra             6                 0               199"
      ]
     },
     "execution_count": 6,
     "metadata": {},
     "output_type": "execute_result"
    }
   ],
   "source": [
    "#считываем файл subscriptions_go.csv и выводим первые пять строк на экран\n",
    "subscriptions_go = pd.read_csv('/datasets/subscriptions_go.csv')\n",
    "subscriptions_go.head()"
   ]
  },
  {
   "cell_type": "code",
   "execution_count": 7,
   "id": "eba8b237",
   "metadata": {},
   "outputs": [
    {
     "name": "stdout",
     "output_type": "stream",
     "text": [
      "<class 'pandas.core.frame.DataFrame'>\n",
      "RangeIndex: 2 entries, 0 to 1\n",
      "Data columns (total 4 columns):\n",
      " #   Column             Non-Null Count  Dtype \n",
      "---  ------             --------------  ----- \n",
      " 0   subscription_type  2 non-null      object\n",
      " 1   minute_price       2 non-null      int64 \n",
      " 2   start_ride_price   2 non-null      int64 \n",
      " 3   subscription_fee   2 non-null      int64 \n",
      "dtypes: int64(3), object(1)\n",
      "memory usage: 192.0+ bytes\n"
     ]
    }
   ],
   "source": [
    "#выводим общую информацию о subscriptions_go\n",
    "subscriptions_go.info()"
   ]
  },
  {
   "cell_type": "markdown",
   "id": "8434470b",
   "metadata": {},
   "source": [
    "В датафрейме с описанием подписок отсутствуют пропуски и типы данных столбцов корректные."
   ]
  },
  {
   "cell_type": "markdown",
   "id": "e95ebca7",
   "metadata": {},
   "source": [
    "#### Шаг 2. Предобработка данных"
   ]
  },
  {
   "cell_type": "markdown",
   "id": "b4f91a64",
   "metadata": {},
   "source": [
    "В предыдущем пункте мы выяснили, что один столбец имеет некорректный тип данных. Приведем столбец date к типу даты pandas."
   ]
  },
  {
   "cell_type": "code",
   "execution_count": 8,
   "id": "186361df",
   "metadata": {},
   "outputs": [
    {
     "data": {
      "text/html": [
       "<div>\n",
       "<style scoped>\n",
       "    .dataframe tbody tr th:only-of-type {\n",
       "        vertical-align: middle;\n",
       "    }\n",
       "\n",
       "    .dataframe tbody tr th {\n",
       "        vertical-align: top;\n",
       "    }\n",
       "\n",
       "    .dataframe thead th {\n",
       "        text-align: right;\n",
       "    }\n",
       "</style>\n",
       "<table border=\"1\" class=\"dataframe\">\n",
       "  <thead>\n",
       "    <tr style=\"text-align: right;\">\n",
       "      <th></th>\n",
       "      <th>user_id</th>\n",
       "      <th>distance</th>\n",
       "      <th>duration</th>\n",
       "      <th>date</th>\n",
       "    </tr>\n",
       "  </thead>\n",
       "  <tbody>\n",
       "    <tr>\n",
       "      <th>0</th>\n",
       "      <td>1</td>\n",
       "      <td>4409.919140</td>\n",
       "      <td>25.599769</td>\n",
       "      <td>2021-01-01</td>\n",
       "    </tr>\n",
       "    <tr>\n",
       "      <th>1</th>\n",
       "      <td>1</td>\n",
       "      <td>2617.592153</td>\n",
       "      <td>15.816871</td>\n",
       "      <td>2021-01-18</td>\n",
       "    </tr>\n",
       "    <tr>\n",
       "      <th>2</th>\n",
       "      <td>1</td>\n",
       "      <td>754.159807</td>\n",
       "      <td>6.232113</td>\n",
       "      <td>2021-04-20</td>\n",
       "    </tr>\n",
       "    <tr>\n",
       "      <th>3</th>\n",
       "      <td>1</td>\n",
       "      <td>2694.783254</td>\n",
       "      <td>18.511000</td>\n",
       "      <td>2021-08-11</td>\n",
       "    </tr>\n",
       "    <tr>\n",
       "      <th>4</th>\n",
       "      <td>1</td>\n",
       "      <td>4028.687306</td>\n",
       "      <td>26.265803</td>\n",
       "      <td>2021-08-28</td>\n",
       "    </tr>\n",
       "  </tbody>\n",
       "</table>\n",
       "</div>"
      ],
      "text/plain": [
       "   user_id     distance   duration       date\n",
       "0        1  4409.919140  25.599769 2021-01-01\n",
       "1        1  2617.592153  15.816871 2021-01-18\n",
       "2        1   754.159807   6.232113 2021-04-20\n",
       "3        1  2694.783254  18.511000 2021-08-11\n",
       "4        1  4028.687306  26.265803 2021-08-28"
      ]
     },
     "metadata": {},
     "output_type": "display_data"
    },
    {
     "name": "stdout",
     "output_type": "stream",
     "text": [
      "<class 'pandas.core.frame.DataFrame'>\n",
      "RangeIndex: 18068 entries, 0 to 18067\n",
      "Data columns (total 4 columns):\n",
      " #   Column    Non-Null Count  Dtype         \n",
      "---  ------    --------------  -----         \n",
      " 0   user_id   18068 non-null  int64         \n",
      " 1   distance  18068 non-null  float64       \n",
      " 2   duration  18068 non-null  float64       \n",
      " 3   date      18068 non-null  datetime64[ns]\n",
      "dtypes: datetime64[ns](1), float64(2), int64(1)\n",
      "memory usage: 564.8 KB\n"
     ]
    },
    {
     "data": {
      "text/plain": [
       "None"
      ]
     },
     "metadata": {},
     "output_type": "display_data"
    }
   ],
   "source": [
    "#приведем столбец date к типу даты pandas, выведем первые 5 строчек на экран и общую информацию для проверки\n",
    "rides_go['date'] = pd.to_datetime(rides_go['date'], format='%Y-%m-%d')\n",
    "display(rides_go.head())\n",
    "display(rides_go.info())"
   ]
  },
  {
   "cell_type": "markdown",
   "id": "44b96bd6",
   "metadata": {},
   "source": [
    "Тип данных столбца успешно поменяли. создадим новый столбец с номером месяца на основе столбца date. "
   ]
  },
  {
   "cell_type": "markdown",
   "id": "f34851bf",
   "metadata": {},
   "source": [
    "Создадим новый столбец с номером месяца на основе столбца date, но перед этим проверим за какой период данные в датасете, так как если данные за несколько лет, то номера месяцев будут в разных годах одинаковые."
   ]
  },
  {
   "cell_type": "code",
   "execution_count": 9,
   "id": "cdab48ea",
   "metadata": {},
   "outputs": [
    {
     "data": {
      "text/plain": [
       "Timestamp('2021-01-01 00:00:00')"
      ]
     },
     "metadata": {},
     "output_type": "display_data"
    },
    {
     "data": {
      "text/plain": [
       "Timestamp('2021-12-30 00:00:00')"
      ]
     },
     "metadata": {},
     "output_type": "display_data"
    }
   ],
   "source": [
    "display(rides_go['date'].min())\n",
    "display(rides_go['date'].max())"
   ]
  },
  {
   "cell_type": "markdown",
   "id": "6afc5ef3",
   "metadata": {},
   "source": [
    "То есть в работе мы используем данные за 2021 год."
   ]
  },
  {
   "cell_type": "code",
   "execution_count": 10,
   "id": "ac7b726f",
   "metadata": {},
   "outputs": [
    {
     "data": {
      "text/html": [
       "<div>\n",
       "<style scoped>\n",
       "    .dataframe tbody tr th:only-of-type {\n",
       "        vertical-align: middle;\n",
       "    }\n",
       "\n",
       "    .dataframe tbody tr th {\n",
       "        vertical-align: top;\n",
       "    }\n",
       "\n",
       "    .dataframe thead th {\n",
       "        text-align: right;\n",
       "    }\n",
       "</style>\n",
       "<table border=\"1\" class=\"dataframe\">\n",
       "  <thead>\n",
       "    <tr style=\"text-align: right;\">\n",
       "      <th></th>\n",
       "      <th>user_id</th>\n",
       "      <th>distance</th>\n",
       "      <th>duration</th>\n",
       "      <th>date</th>\n",
       "      <th>month</th>\n",
       "    </tr>\n",
       "  </thead>\n",
       "  <tbody>\n",
       "    <tr>\n",
       "      <th>0</th>\n",
       "      <td>1</td>\n",
       "      <td>4409.919140</td>\n",
       "      <td>25.599769</td>\n",
       "      <td>2021-01-01</td>\n",
       "      <td>1</td>\n",
       "    </tr>\n",
       "    <tr>\n",
       "      <th>1</th>\n",
       "      <td>1</td>\n",
       "      <td>2617.592153</td>\n",
       "      <td>15.816871</td>\n",
       "      <td>2021-01-18</td>\n",
       "      <td>1</td>\n",
       "    </tr>\n",
       "    <tr>\n",
       "      <th>2</th>\n",
       "      <td>1</td>\n",
       "      <td>754.159807</td>\n",
       "      <td>6.232113</td>\n",
       "      <td>2021-04-20</td>\n",
       "      <td>4</td>\n",
       "    </tr>\n",
       "    <tr>\n",
       "      <th>3</th>\n",
       "      <td>1</td>\n",
       "      <td>2694.783254</td>\n",
       "      <td>18.511000</td>\n",
       "      <td>2021-08-11</td>\n",
       "      <td>8</td>\n",
       "    </tr>\n",
       "    <tr>\n",
       "      <th>4</th>\n",
       "      <td>1</td>\n",
       "      <td>4028.687306</td>\n",
       "      <td>26.265803</td>\n",
       "      <td>2021-08-28</td>\n",
       "      <td>8</td>\n",
       "    </tr>\n",
       "  </tbody>\n",
       "</table>\n",
       "</div>"
      ],
      "text/plain": [
       "   user_id     distance   duration       date  month\n",
       "0        1  4409.919140  25.599769 2021-01-01      1\n",
       "1        1  2617.592153  15.816871 2021-01-18      1\n",
       "2        1   754.159807   6.232113 2021-04-20      4\n",
       "3        1  2694.783254  18.511000 2021-08-11      8\n",
       "4        1  4028.687306  26.265803 2021-08-28      8"
      ]
     },
     "execution_count": 10,
     "metadata": {},
     "output_type": "execute_result"
    }
   ],
   "source": [
    "#создадим новый столбец month с номером месяца и выведем первые 5 строчек на экран\n",
    "rides_go['month'] = pd.DatetimeIndex(rides_go['date']).month\n",
    "rides_go.head()"
   ]
  },
  {
   "cell_type": "markdown",
   "id": "4bd96de1",
   "metadata": {},
   "source": [
    "Проверим наличие дубликатов в датафреймах. Поcчитаем количество явных дубликатов в таблицах *users_go* и *rides_go*  и удалим, если такие есть."
   ]
  },
  {
   "cell_type": "code",
   "execution_count": 11,
   "id": "5b40a364",
   "metadata": {},
   "outputs": [
    {
     "data": {
      "text/plain": [
       "31"
      ]
     },
     "execution_count": 11,
     "metadata": {},
     "output_type": "execute_result"
    }
   ],
   "source": [
    "#найдем количество явных дубликатов в таблице users_go\n",
    "users_go.duplicated().sum()"
   ]
  },
  {
   "cell_type": "markdown",
   "id": "a143d4ed",
   "metadata": {},
   "source": [
    "В таблице users_go 31 дубликат, удалим их."
   ]
  },
  {
   "cell_type": "code",
   "execution_count": 12,
   "id": "59d2ef70",
   "metadata": {},
   "outputs": [
    {
     "data": {
      "text/plain": [
       "0"
      ]
     },
     "execution_count": 12,
     "metadata": {},
     "output_type": "execute_result"
    }
   ],
   "source": [
    "#удалим явные дубликаты и снова посчитаем их количество\n",
    "users_go = users_go.drop_duplicates()\n",
    "users_go.duplicated().sum()"
   ]
  },
  {
   "cell_type": "code",
   "execution_count": 13,
   "id": "8f7336a6",
   "metadata": {},
   "outputs": [
    {
     "data": {
      "text/plain": [
       "0"
      ]
     },
     "execution_count": 13,
     "metadata": {},
     "output_type": "execute_result"
    }
   ],
   "source": [
    "#найдем количество явных дубликатов в таблице rides_go\n",
    "rides_go.duplicated().sum()"
   ]
  },
  {
   "cell_type": "markdown",
   "id": "c5c849b2",
   "metadata": {},
   "source": [
    "В таблице rides_go дубликатов нет. Из трех таблиц неявные дубликаты могут быть в таблице *users_go* в столбце *city* . Выведем все уникальные значения этого столбца."
   ]
  },
  {
   "cell_type": "code",
   "execution_count": 14,
   "id": "37e98997",
   "metadata": {},
   "outputs": [
    {
     "data": {
      "text/plain": [
       "array(['Тюмень', 'Омск', 'Москва', 'Ростов-на-Дону', 'Краснодар',\n",
       "       'Пятигорск', 'Екатеринбург', 'Сочи'], dtype=object)"
      ]
     },
     "execution_count": 14,
     "metadata": {},
     "output_type": "execute_result"
    }
   ],
   "source": [
    "#выведем уникальные значения столбца city\n",
    "users_go['city'].unique()"
   ]
  },
  {
   "cell_type": "markdown",
   "id": "00fdac51",
   "metadata": {},
   "source": [
    "Неявные дубликаты отсутствуют."
   ]
  },
  {
   "cell_type": "code",
   "execution_count": 15,
   "id": "ee2696c5",
   "metadata": {},
   "outputs": [
    {
     "data": {
      "text/plain": [
       "0    4409.919140\n",
       "1    2617.592153\n",
       "2     754.159807\n",
       "Name: distance, dtype: float64"
      ]
     },
     "metadata": {},
     "output_type": "display_data"
    },
    {
     "data": {
      "text/plain": [
       "0    4409.92\n",
       "1    2617.59\n",
       "2     754.16\n",
       "Name: distance, dtype: float64"
      ]
     },
     "execution_count": 15,
     "metadata": {},
     "output_type": "execute_result"
    }
   ],
   "source": [
    "# Комментарий ревьюера\n",
    "temp = rides_go.copy() # Создаем копию, что бы не изменять текущий датасет\n",
    "display(temp['distance'].head(3))\n",
    "# Округление расстояния\n",
    "temp['distance'] = temp['distance'].round(2)\n",
    "temp['distance'].head(3)"
   ]
  },
  {
   "cell_type": "markdown",
   "id": "72420fba",
   "metadata": {},
   "source": [
    "Видим, что расстояние поездки имеет формат до шести знаков после точки, округлить расстояния до двух знаков после точки."
   ]
  },
  {
   "cell_type": "code",
   "execution_count": 16,
   "id": "edab7858",
   "metadata": {},
   "outputs": [
    {
     "data": {
      "text/plain": [
       "0    4409.92\n",
       "1    2617.59\n",
       "2     754.16\n",
       "3    2694.78\n",
       "4    4028.69\n",
       "Name: distance, dtype: float64"
      ]
     },
     "execution_count": 16,
     "metadata": {},
     "output_type": "execute_result"
    }
   ],
   "source": [
    "#округлим значения расстояния и выведем первые 5 строчек на экран\n",
    "rides_go['distance'] = rides_go['distance'].round(2)\n",
    "rides_go['distance'].head()"
   ]
  },
  {
   "cell_type": "markdown",
   "id": "212593c7",
   "metadata": {},
   "source": [
    "#### Шаг 3. Исследовательский анализ данных"
   ]
  },
  {
   "cell_type": "markdown",
   "id": "55fcc9e0",
   "metadata": {},
   "source": [
    "##### Частота встречаемости городов"
   ]
  },
  {
   "cell_type": "markdown",
   "id": "c51e12e8",
   "metadata": {},
   "source": [
    "Визуализируем частоту встречаемости городов"
   ]
  },
  {
   "cell_type": "code",
   "execution_count": 18,
   "id": "e3a4274c",
   "metadata": {
    "scrolled": true
   },
   "outputs": [
    {
     "data": {
      "text/plain": [
       "Пятигорск         219\n",
       "Екатеринбург      204\n",
       "Ростов-на-Дону    198\n",
       "Краснодар         193\n",
       "Сочи              189\n",
       "Омск              183\n",
       "Тюмень            180\n",
       "Москва            168\n",
       "Name: city, dtype: int64"
      ]
     },
     "execution_count": 18,
     "metadata": {},
     "output_type": "execute_result"
    }
   ],
   "source": [
    "#найдем частотность городов\n",
    "users_go['city'].value_counts()"
   ]
  },
  {
   "cell_type": "markdown",
   "id": "5f11eb9b",
   "metadata": {},
   "source": [
    "По выводу видим, что чаще всего брали самокаты в Пятигорске - этот город в таблице встречается 226 раз, реже всего в Москве - 172 раза. Теперь посчитаем доли встречаемости городов от общего объема и построим столбчатую диаграмму по этому параметру."
   ]
  },
  {
   "cell_type": "code",
   "execution_count": 19,
   "id": "5907e0e6",
   "metadata": {},
   "outputs": [
    {
     "data": {
      "text/plain": [
       "Пятигорск         0.142764\n",
       "Екатеринбург      0.132986\n",
       "Ростов-на-Дону    0.129074\n",
       "Краснодар         0.125815\n",
       "Сочи              0.123207\n",
       "Омск              0.119296\n",
       "Тюмень            0.117340\n",
       "Москва            0.109518\n",
       "Name: city, dtype: float64"
      ]
     },
     "execution_count": 19,
     "metadata": {},
     "output_type": "execute_result"
    }
   ],
   "source": [
    "#найдем доли встречаемости городов от общего объема\n",
    "users_go['city'].value_counts(normalize = True)"
   ]
  },
  {
   "cell_type": "code",
   "execution_count": 20,
   "id": "2e1146d0",
   "metadata": {},
   "outputs": [
    {
     "data": {
      "image/png": "[encoded data removed]",
      "text/plain": [
       "<Figure size 720x504 with 1 Axes>"
      ]
     },
     "metadata": {
      "needs_background": "light"
     },
     "output_type": "display_data"
    }
   ],
   "source": [
    "#построим диаграмму встречаемости городов\n",
    "users_go['city'].value_counts(normalize = True).plot(kind='bar', grid='True', figsize=(10, 7))\n",
    "plt.title('Частота встречаемости городов')\n",
    "plt.xlabel('Города')\n",
    "plt.ylabel('Доля встречаемости городов от общего объема')\n",
    "plt.show()"
   ]
  },
  {
   "cell_type": "markdown",
   "id": "4f568fe1",
   "metadata": {},
   "source": [
    "##### Cоотношение пользователей с подпиской и без подписки"
   ]
  },
  {
   "cell_type": "markdown",
   "id": "98fae28c",
   "metadata": {},
   "source": [
    "Найдем доли количества пользователей с подпиской и без подписки от общего объема и построим диаграмму. "
   ]
  },
  {
   "cell_type": "code",
   "execution_count": 21,
   "id": "84cd049a",
   "metadata": {},
   "outputs": [
    {
     "data": {
      "text/plain": [
       "free     0.544329\n",
       "ultra    0.455671\n",
       "Name: subscription_type, dtype: float64"
      ]
     },
     "execution_count": 21,
     "metadata": {},
     "output_type": "execute_result"
    }
   ],
   "source": [
    "#найдем доли количества пользователей с подпиской и без подписки от общего объема\n",
    "users_go['subscription_type'].value_counts(normalize = True)"
   ]
  },
  {
   "cell_type": "code",
   "execution_count": 24,
   "id": "ed34c95a",
   "metadata": {},
   "outputs": [
    {
     "data": {
      "image/png": "[encoded data removed]",
      "text/plain": [
       "<Figure size 432x288 with 1 Axes>"
      ]
     },
     "metadata": {},
     "output_type": "display_data"
    }
   ],
   "source": [
    "temp = users_go.copy()\n",
    "temp['subscription_type'].value_counts().plot(\n",
    "    kind= 'pie',\n",
    "    title= 'Соотношение пользователей с подпиской и без подписки',\n",
    "    autopct = \"%.0f%%\",\n",
    "    ylabel= \"\"\n",
    ")\n",
    "plt.show()"
   ]
  },
  {
   "cell_type": "markdown",
   "id": "4a05b114",
   "metadata": {},
   "source": [
    "Количество пользователей без подписки немного больше чем с подпиской, пользователи без подписки составляют 54 % от всех пользователей, пользователи с подпиской - 46 %. Найдем отношение количества пользователей с подпиской к пользователям без подписки."
   ]
  },
  {
   "cell_type": "code",
   "execution_count": 23,
   "id": "b857e2c5",
   "metadata": {},
   "outputs": [
    {
     "data": {
      "text/plain": [
       "0.837125748502994"
      ]
     },
     "execution_count": 23,
     "metadata": {},
     "output_type": "execute_result"
    }
   ],
   "source": [
    "# найдем отношение количества пользователей с подпиской к пользователям без подписки\n",
    "users_go[users_go['subscription_type'] == 'ultra']['subscription_type'].count() / users_go[users_go['subscription_type'] == 'free']['subscription_type'].count()"
   ]
  },
  {
   "cell_type": "markdown",
   "id": "b637d514",
   "metadata": {},
   "source": [
    "##### Возраст пользователей"
   ]
  },
  {
   "cell_type": "markdown",
   "id": "c37a7494",
   "metadata": {},
   "source": [
    "Построим гистограмму по возрасту пользователей, а также диаграмму размаха  и описательную статистику по этому параметру."
   ]
  },
  {
   "cell_type": "code",
   "execution_count": 25,
   "id": "340ffbfd",
   "metadata": {},
   "outputs": [
    {
     "data": {
      "image/png": "[encoded data removed]",
      "text/plain": [
       "<Figure size 864x360 with 1 Axes>"
      ]
     },
     "metadata": {
      "needs_background": "light"
     },
     "output_type": "display_data"
    }
   ],
   "source": [
    "#построим гистограмму\n",
    "users_go['age'].hist(bins=30, figsize=(12, 5))\n",
    "plt.title('Возраст пользователей')\n",
    "plt.xlabel('Возраст пользователей')\n",
    "plt.ylabel('Количество пользователей')\n",
    "plt.show()"
   ]
  },
  {
   "cell_type": "code",
   "execution_count": 26,
   "id": "34780056",
   "metadata": {},
   "outputs": [
    {
     "data": {
      "image/png": "[encoded data removed]",
      "text/plain": [
       "<Figure size 432x288 with 1 Axes>"
      ]
     },
     "metadata": {
      "needs_background": "light"
     },
     "output_type": "display_data"
    }
   ],
   "source": [
    "#построим диаграмму размаха \n",
    "users_go.boxplot('age')\n",
    "plt.title('Диаграмма размаха по возрасту пользователей')\n",
    "plt.ylabel('Возраст пользователей')\n",
    "plt.show()"
   ]
  },
  {
   "cell_type": "code",
   "execution_count": 27,
   "id": "b512cfc9",
   "metadata": {},
   "outputs": [
    {
     "data": {
      "text/html": [
       "<div>\n",
       "<style scoped>\n",
       "    .dataframe tbody tr th:only-of-type {\n",
       "        vertical-align: middle;\n",
       "    }\n",
       "\n",
       "    .dataframe tbody tr th {\n",
       "        vertical-align: top;\n",
       "    }\n",
       "\n",
       "    .dataframe thead th {\n",
       "        text-align: right;\n",
       "    }\n",
       "</style>\n",
       "<table border=\"1\" class=\"dataframe\">\n",
       "  <thead>\n",
       "    <tr style=\"text-align: right;\">\n",
       "      <th></th>\n",
       "      <th>user_id</th>\n",
       "      <th>age</th>\n",
       "    </tr>\n",
       "  </thead>\n",
       "  <tbody>\n",
       "    <tr>\n",
       "      <th>count</th>\n",
       "      <td>1534.000000</td>\n",
       "      <td>1534.000000</td>\n",
       "    </tr>\n",
       "    <tr>\n",
       "      <th>mean</th>\n",
       "      <td>767.500000</td>\n",
       "      <td>24.903520</td>\n",
       "    </tr>\n",
       "    <tr>\n",
       "      <th>std</th>\n",
       "      <td>442.971971</td>\n",
       "      <td>4.572367</td>\n",
       "    </tr>\n",
       "    <tr>\n",
       "      <th>min</th>\n",
       "      <td>1.000000</td>\n",
       "      <td>12.000000</td>\n",
       "    </tr>\n",
       "    <tr>\n",
       "      <th>25%</th>\n",
       "      <td>384.250000</td>\n",
       "      <td>22.000000</td>\n",
       "    </tr>\n",
       "    <tr>\n",
       "      <th>50%</th>\n",
       "      <td>767.500000</td>\n",
       "      <td>25.000000</td>\n",
       "    </tr>\n",
       "    <tr>\n",
       "      <th>75%</th>\n",
       "      <td>1150.750000</td>\n",
       "      <td>28.000000</td>\n",
       "    </tr>\n",
       "    <tr>\n",
       "      <th>max</th>\n",
       "      <td>1534.000000</td>\n",
       "      <td>43.000000</td>\n",
       "    </tr>\n",
       "  </tbody>\n",
       "</table>\n",
       "</div>"
      ],
      "text/plain": [
       "           user_id          age\n",
       "count  1534.000000  1534.000000\n",
       "mean    767.500000    24.903520\n",
       "std     442.971971     4.572367\n",
       "min       1.000000    12.000000\n",
       "25%     384.250000    22.000000\n",
       "50%     767.500000    25.000000\n",
       "75%    1150.750000    28.000000\n",
       "max    1534.000000    43.000000"
      ]
     },
     "execution_count": 27,
     "metadata": {},
     "output_type": "execute_result"
    }
   ],
   "source": [
    "#выведеим описательную статистику\n",
    "users_go.describe()"
   ]
  },
  {
   "cell_type": "markdown",
   "id": "07693fbe",
   "metadata": {},
   "source": [
    "По диаграмме размаха видим, что самокаты популярнее всего у пользователей в возрасте от 22 до 28 лет, при этом на гистограмме видно, что медиана - 25-лет, а основную аудиторию сервиса аренды самокатов GoFast составляют пользователи примерно от 12 (это минимум) до 37 лет. Средний возраст и медиана практически совпадают. Среди пользователей некоторым менее 18 лет,  именно с этого возраста разрешен прокат самокатов. В некоторых компаниях и регионах разрешено с 14 лет, но при письменном согласии родителей. В датасете минимальный возраст 12 лет, это явное нарушение существующих норм.Гистограмма возраста пользователей является нормальным распределение."
   ]
  },
  {
   "cell_type": "markdown",
   "id": "81fd96d4",
   "metadata": {},
   "source": [
    "##### Расстояние, которое пользователь преодолел за одну поездку"
   ]
  },
  {
   "cell_type": "markdown",
   "id": "f55aa15f",
   "metadata": {},
   "source": [
    "Построим гистограмму и диаграмму размаха расстояния, которое пользователь преодолел за одну поездку."
   ]
  },
  {
   "cell_type": "code",
   "execution_count": 28,
   "id": "8a19fde6",
   "metadata": {},
   "outputs": [
    {
     "data": {
      "image/png": "[encoded data removed]",
      "text/plain": [
       "<Figure size 864x360 with 1 Axes>"
      ]
     },
     "metadata": {
      "needs_background": "light"
     },
     "output_type": "display_data"
    }
   ],
   "source": [
    "#построим гистограмму по расстоянию, которое пользователь преодолел за одну поездку\n",
    "rides_go['distance'].hist(bins=30, figsize=(12, 5))\n",
    "plt.title('Расстояние, которое пользователь преодолел за одну поездку')\n",
    "plt.xlabel('Расстояние, которое пользователь преодолел за одну поездку')\n",
    "plt.ylabel('Количество пользователей')\n",
    "plt.show()"
   ]
  },
  {
   "cell_type": "code",
   "execution_count": 29,
   "id": "f32bd52a",
   "metadata": {},
   "outputs": [
    {
     "data": {
      "image/png": "[encoded data removed]",
      "text/plain": [
       "<Figure size 360x720 with 1 Axes>"
      ]
     },
     "metadata": {
      "needs_background": "light"
     },
     "output_type": "display_data"
    }
   ],
   "source": [
    "#построим диаграмму размаха \n",
    "rides_go.boxplot('distance', figsize=(5, 10))\n",
    "plt.title('Диаграмма размаха расстояния, которое пользователь преодолел за одну поездку')\n",
    "plt.ylabel('Расстояние, которое пользователь преодолел за одну поездку')\n",
    "plt.show()"
   ]
  },
  {
   "cell_type": "markdown",
   "id": "b0b8381c",
   "metadata": {},
   "source": [
    "Исходя из построенных графиков, можно сделать вывод, что основной диапазон значений расстояния, которое пользователь преодолел за одну поездку, лежит в пределах от примерно 700 метров до 5600 метров, за этими пределами выбросы. Чаще всего длина одной поездки составляет от 2,5 км до 3,8 км. На гистограмме видим два локальных максимума, на короткой дистанции - примерно 700 метров проехали около 400 пользователей, и на длинной - около 3,3 км проехали более 2000 пользователей."
   ]
  },
  {
   "cell_type": "markdown",
   "id": "5d5d5907",
   "metadata": {},
   "source": [
    "##### Продолжительность поездок"
   ]
  },
  {
   "cell_type": "markdown",
   "id": "00bdc232",
   "metadata": {},
   "source": [
    "Построим гистограмму и диаграмму размаха продолжительности поездок."
   ]
  },
  {
   "cell_type": "code",
   "execution_count": 30,
   "id": "b2a9e62e",
   "metadata": {},
   "outputs": [
    {
     "data": {
      "image/png": "[encoded data removed]",
      "text/plain": [
       "<Figure size 864x360 with 1 Axes>"
      ]
     },
     "metadata": {
      "needs_background": "light"
     },
     "output_type": "display_data"
    }
   ],
   "source": [
    "#построим гистограмму продолжительности поездок\n",
    "rides_go['duration'].hist(bins=30, figsize=(12, 5))\n",
    "plt.title('Гистограмма продолжительности поездок')\n",
    "plt.xlabel('Продолжительность одной поездки')\n",
    "plt.ylabel('Количество пользователей')\n",
    "plt.show()"
   ]
  },
  {
   "cell_type": "code",
   "execution_count": 31,
   "id": "7bf1ad39",
   "metadata": {},
   "outputs": [
    {
     "data": {
      "image/png": "[encoded data removed]",
      "text/plain": [
       "<Figure size 360x720 with 1 Axes>"
      ]
     },
     "metadata": {
      "needs_background": "light"
     },
     "output_type": "display_data"
    }
   ],
   "source": [
    "#построим диаграмму размаха \n",
    "rides_go.boxplot('duration', figsize=(5, 10))\n",
    "plt.title('Диаграмма размаха продолжительности поездок')\n",
    "plt.ylabel('Продолжительность одной поездки')\n",
    "plt.show()"
   ]
  },
  {
   "cell_type": "markdown",
   "id": "ca52db15",
   "metadata": {},
   "source": [
    "Распределение продолжительности поездок является нормальным распределением. До диаграмме размаха видно, что основной диапазон значений примерно от 2 до 34 минут. Чаще всего поездки длятся около 14 - 22 минут. На гисторгамме видно аномальное время поездок порядка 100 с временем менее 1 минуты. Построенная гисторгама указывают, что в столбце времени присутствуют аномалии.\n",
    "Не смотря на такую низкую продолжительность поездки, эти данные удалять не рекомендуется, так как в дальнейшем производится расчет выручки, которая определяет финансовый результат Сервиса аранды самокатов. Например, пользователь без подписки оплачивает фиксированную сумму только за старт поездки."
   ]
  },
  {
   "cell_type": "markdown",
   "id": "4ef51331",
   "metadata": {},
   "source": [
    "#### Шаг 4. Объединение данных"
   ]
  },
  {
   "cell_type": "markdown",
   "id": "f938094c",
   "metadata": {},
   "source": [
    "Объединим данные о пользователях, поездках и подписках в один датафрейм. Для этого воспользуемся методом merge()."
   ]
  },
  {
   "cell_type": "code",
   "execution_count": 32,
   "id": "6bf288b5",
   "metadata": {},
   "outputs": [
    {
     "data": {
      "text/html": [
       "<div>\n",
       "<style scoped>\n",
       "    .dataframe tbody tr th:only-of-type {\n",
       "        vertical-align: middle;\n",
       "    }\n",
       "\n",
       "    .dataframe tbody tr th {\n",
       "        vertical-align: top;\n",
       "    }\n",
       "\n",
       "    .dataframe thead th {\n",
       "        text-align: right;\n",
       "    }\n",
       "</style>\n",
       "<table border=\"1\" class=\"dataframe\">\n",
       "  <thead>\n",
       "    <tr style=\"text-align: right;\">\n",
       "      <th></th>\n",
       "      <th>user_id</th>\n",
       "      <th>name</th>\n",
       "      <th>age</th>\n",
       "      <th>city</th>\n",
       "      <th>subscription_type</th>\n",
       "      <th>distance</th>\n",
       "      <th>duration</th>\n",
       "      <th>date</th>\n",
       "      <th>month</th>\n",
       "    </tr>\n",
       "  </thead>\n",
       "  <tbody>\n",
       "    <tr>\n",
       "      <th>0</th>\n",
       "      <td>1</td>\n",
       "      <td>Кира</td>\n",
       "      <td>22</td>\n",
       "      <td>Тюмень</td>\n",
       "      <td>ultra</td>\n",
       "      <td>4409.92</td>\n",
       "      <td>25.599769</td>\n",
       "      <td>2021-01-01</td>\n",
       "      <td>1</td>\n",
       "    </tr>\n",
       "    <tr>\n",
       "      <th>1</th>\n",
       "      <td>1</td>\n",
       "      <td>Кира</td>\n",
       "      <td>22</td>\n",
       "      <td>Тюмень</td>\n",
       "      <td>ultra</td>\n",
       "      <td>2617.59</td>\n",
       "      <td>15.816871</td>\n",
       "      <td>2021-01-18</td>\n",
       "      <td>1</td>\n",
       "    </tr>\n",
       "    <tr>\n",
       "      <th>2</th>\n",
       "      <td>1</td>\n",
       "      <td>Кира</td>\n",
       "      <td>22</td>\n",
       "      <td>Тюмень</td>\n",
       "      <td>ultra</td>\n",
       "      <td>754.16</td>\n",
       "      <td>6.232113</td>\n",
       "      <td>2021-04-20</td>\n",
       "      <td>4</td>\n",
       "    </tr>\n",
       "    <tr>\n",
       "      <th>3</th>\n",
       "      <td>1</td>\n",
       "      <td>Кира</td>\n",
       "      <td>22</td>\n",
       "      <td>Тюмень</td>\n",
       "      <td>ultra</td>\n",
       "      <td>2694.78</td>\n",
       "      <td>18.511000</td>\n",
       "      <td>2021-08-11</td>\n",
       "      <td>8</td>\n",
       "    </tr>\n",
       "    <tr>\n",
       "      <th>4</th>\n",
       "      <td>1</td>\n",
       "      <td>Кира</td>\n",
       "      <td>22</td>\n",
       "      <td>Тюмень</td>\n",
       "      <td>ultra</td>\n",
       "      <td>4028.69</td>\n",
       "      <td>26.265803</td>\n",
       "      <td>2021-08-28</td>\n",
       "      <td>8</td>\n",
       "    </tr>\n",
       "  </tbody>\n",
       "</table>\n",
       "</div>"
      ],
      "text/plain": [
       "   user_id  name  age    city subscription_type  distance   duration  \\\n",
       "0        1  Кира   22  Тюмень             ultra   4409.92  25.599769   \n",
       "1        1  Кира   22  Тюмень             ultra   2617.59  15.816871   \n",
       "2        1  Кира   22  Тюмень             ultra    754.16   6.232113   \n",
       "3        1  Кира   22  Тюмень             ultra   2694.78  18.511000   \n",
       "4        1  Кира   22  Тюмень             ultra   4028.69  26.265803   \n",
       "\n",
       "        date  month  \n",
       "0 2021-01-01      1  \n",
       "1 2021-01-18      1  \n",
       "2 2021-04-20      4  \n",
       "3 2021-08-11      8  \n",
       "4 2021-08-28      8  "
      ]
     },
     "execution_count": 32,
     "metadata": {},
     "output_type": "execute_result"
    }
   ],
   "source": [
    "#объединим данные о пользователях и поездках методом merge() и выведем первые 5 строк объединенного датафрейма\n",
    "general = users_go.merge(rides_go, on='user_id', how='outer')\n",
    "general.head(5)"
   ]
  },
  {
   "cell_type": "code",
   "execution_count": 33,
   "id": "b2fed516",
   "metadata": {},
   "outputs": [
    {
     "data": {
      "text/html": [
       "<div>\n",
       "<style scoped>\n",
       "    .dataframe tbody tr th:only-of-type {\n",
       "        vertical-align: middle;\n",
       "    }\n",
       "\n",
       "    .dataframe tbody tr th {\n",
       "        vertical-align: top;\n",
       "    }\n",
       "\n",
       "    .dataframe thead th {\n",
       "        text-align: right;\n",
       "    }\n",
       "</style>\n",
       "<table border=\"1\" class=\"dataframe\">\n",
       "  <thead>\n",
       "    <tr style=\"text-align: right;\">\n",
       "      <th></th>\n",
       "      <th>user_id</th>\n",
       "      <th>name</th>\n",
       "      <th>age</th>\n",
       "      <th>city</th>\n",
       "      <th>subscription_type</th>\n",
       "      <th>distance</th>\n",
       "      <th>duration</th>\n",
       "      <th>date</th>\n",
       "      <th>month</th>\n",
       "      <th>minute_price</th>\n",
       "      <th>start_ride_price</th>\n",
       "      <th>subscription_fee</th>\n",
       "    </tr>\n",
       "  </thead>\n",
       "  <tbody>\n",
       "    <tr>\n",
       "      <th>0</th>\n",
       "      <td>1</td>\n",
       "      <td>Кира</td>\n",
       "      <td>22</td>\n",
       "      <td>Тюмень</td>\n",
       "      <td>ultra</td>\n",
       "      <td>4409.92</td>\n",
       "      <td>25.599769</td>\n",
       "      <td>2021-01-01</td>\n",
       "      <td>1</td>\n",
       "      <td>6</td>\n",
       "      <td>0</td>\n",
       "      <td>199</td>\n",
       "    </tr>\n",
       "    <tr>\n",
       "      <th>1</th>\n",
       "      <td>1</td>\n",
       "      <td>Кира</td>\n",
       "      <td>22</td>\n",
       "      <td>Тюмень</td>\n",
       "      <td>ultra</td>\n",
       "      <td>2617.59</td>\n",
       "      <td>15.816871</td>\n",
       "      <td>2021-01-18</td>\n",
       "      <td>1</td>\n",
       "      <td>6</td>\n",
       "      <td>0</td>\n",
       "      <td>199</td>\n",
       "    </tr>\n",
       "    <tr>\n",
       "      <th>2</th>\n",
       "      <td>1</td>\n",
       "      <td>Кира</td>\n",
       "      <td>22</td>\n",
       "      <td>Тюмень</td>\n",
       "      <td>ultra</td>\n",
       "      <td>754.16</td>\n",
       "      <td>6.232113</td>\n",
       "      <td>2021-04-20</td>\n",
       "      <td>4</td>\n",
       "      <td>6</td>\n",
       "      <td>0</td>\n",
       "      <td>199</td>\n",
       "    </tr>\n",
       "    <tr>\n",
       "      <th>3</th>\n",
       "      <td>1</td>\n",
       "      <td>Кира</td>\n",
       "      <td>22</td>\n",
       "      <td>Тюмень</td>\n",
       "      <td>ultra</td>\n",
       "      <td>2694.78</td>\n",
       "      <td>18.511000</td>\n",
       "      <td>2021-08-11</td>\n",
       "      <td>8</td>\n",
       "      <td>6</td>\n",
       "      <td>0</td>\n",
       "      <td>199</td>\n",
       "    </tr>\n",
       "    <tr>\n",
       "      <th>4</th>\n",
       "      <td>1</td>\n",
       "      <td>Кира</td>\n",
       "      <td>22</td>\n",
       "      <td>Тюмень</td>\n",
       "      <td>ultra</td>\n",
       "      <td>4028.69</td>\n",
       "      <td>26.265803</td>\n",
       "      <td>2021-08-28</td>\n",
       "      <td>8</td>\n",
       "      <td>6</td>\n",
       "      <td>0</td>\n",
       "      <td>199</td>\n",
       "    </tr>\n",
       "  </tbody>\n",
       "</table>\n",
       "</div>"
      ],
      "text/plain": [
       "   user_id  name  age    city subscription_type  distance   duration  \\\n",
       "0        1  Кира   22  Тюмень             ultra   4409.92  25.599769   \n",
       "1        1  Кира   22  Тюмень             ultra   2617.59  15.816871   \n",
       "2        1  Кира   22  Тюмень             ultra    754.16   6.232113   \n",
       "3        1  Кира   22  Тюмень             ultra   2694.78  18.511000   \n",
       "4        1  Кира   22  Тюмень             ultra   4028.69  26.265803   \n",
       "\n",
       "        date  month  minute_price  start_ride_price  subscription_fee  \n",
       "0 2021-01-01      1             6                 0               199  \n",
       "1 2021-01-18      1             6                 0               199  \n",
       "2 2021-04-20      4             6                 0               199  \n",
       "3 2021-08-11      8             6                 0               199  \n",
       "4 2021-08-28      8             6                 0               199  "
      ]
     },
     "execution_count": 33,
     "metadata": {},
     "output_type": "execute_result"
    }
   ],
   "source": [
    "#объединим данные о пользователях, поездках и подписках и выведем первые 5 строк\n",
    "general = general.merge(subscriptions_go, on='subscription_type', how='outer')\n",
    "general.head()"
   ]
  },
  {
   "cell_type": "code",
   "execution_count": 34,
   "id": "b83d31c5",
   "metadata": {},
   "outputs": [
    {
     "name": "stdout",
     "output_type": "stream",
     "text": [
      "<class 'pandas.core.frame.DataFrame'>\n",
      "Int64Index: 18068 entries, 0 to 18067\n",
      "Data columns (total 12 columns):\n",
      " #   Column             Non-Null Count  Dtype         \n",
      "---  ------             --------------  -----         \n",
      " 0   user_id            18068 non-null  int64         \n",
      " 1   name               18068 non-null  object        \n",
      " 2   age                18068 non-null  int64         \n",
      " 3   city               18068 non-null  object        \n",
      " 4   subscription_type  18068 non-null  object        \n",
      " 5   distance           18068 non-null  float64       \n",
      " 6   duration           18068 non-null  float64       \n",
      " 7   date               18068 non-null  datetime64[ns]\n",
      " 8   month              18068 non-null  int64         \n",
      " 9   minute_price       18068 non-null  int64         \n",
      " 10  start_ride_price   18068 non-null  int64         \n",
      " 11  subscription_fee   18068 non-null  int64         \n",
      "dtypes: datetime64[ns](1), float64(2), int64(6), object(3)\n",
      "memory usage: 1.8+ MB\n"
     ]
    }
   ],
   "source": [
    "#выведем общую информацию о датафрейме\n",
    "general.info()"
   ]
  },
  {
   "cell_type": "markdown",
   "id": "dbc16140",
   "metadata": {},
   "source": [
    "Из общей информации видим, что пропуски в созданном нами датаффрейме отсутствуют."
   ]
  },
  {
   "cell_type": "markdown",
   "id": "7fe308e0",
   "metadata": {},
   "source": [
    "Создадим датафрейм с данными о пользователях без подписки и визуализируем данные о расстоянии и времени поездок для пользователей этой категории."
   ]
  },
  {
   "cell_type": "code",
   "execution_count": 35,
   "id": "11c88ec0",
   "metadata": {},
   "outputs": [
    {
     "data": {
      "text/html": [
       "<div>\n",
       "<style scoped>\n",
       "    .dataframe tbody tr th:only-of-type {\n",
       "        vertical-align: middle;\n",
       "    }\n",
       "\n",
       "    .dataframe tbody tr th {\n",
       "        vertical-align: top;\n",
       "    }\n",
       "\n",
       "    .dataframe thead th {\n",
       "        text-align: right;\n",
       "    }\n",
       "</style>\n",
       "<table border=\"1\" class=\"dataframe\">\n",
       "  <thead>\n",
       "    <tr style=\"text-align: right;\">\n",
       "      <th></th>\n",
       "      <th>user_id</th>\n",
       "      <th>name</th>\n",
       "      <th>age</th>\n",
       "      <th>city</th>\n",
       "      <th>subscription_type</th>\n",
       "      <th>distance</th>\n",
       "      <th>duration</th>\n",
       "      <th>date</th>\n",
       "      <th>month</th>\n",
       "      <th>minute_price</th>\n",
       "      <th>start_ride_price</th>\n",
       "      <th>subscription_fee</th>\n",
       "    </tr>\n",
       "  </thead>\n",
       "  <tbody>\n",
       "    <tr>\n",
       "      <th>6500</th>\n",
       "      <td>700</td>\n",
       "      <td>Айдар</td>\n",
       "      <td>22</td>\n",
       "      <td>Омск</td>\n",
       "      <td>free</td>\n",
       "      <td>2515.69</td>\n",
       "      <td>14.944286</td>\n",
       "      <td>2021-01-02</td>\n",
       "      <td>1</td>\n",
       "      <td>8</td>\n",
       "      <td>50</td>\n",
       "      <td>0</td>\n",
       "    </tr>\n",
       "    <tr>\n",
       "      <th>6501</th>\n",
       "      <td>700</td>\n",
       "      <td>Айдар</td>\n",
       "      <td>22</td>\n",
       "      <td>Омск</td>\n",
       "      <td>free</td>\n",
       "      <td>846.93</td>\n",
       "      <td>16.234663</td>\n",
       "      <td>2021-02-01</td>\n",
       "      <td>2</td>\n",
       "      <td>8</td>\n",
       "      <td>50</td>\n",
       "      <td>0</td>\n",
       "    </tr>\n",
       "    <tr>\n",
       "      <th>6502</th>\n",
       "      <td>700</td>\n",
       "      <td>Айдар</td>\n",
       "      <td>22</td>\n",
       "      <td>Омск</td>\n",
       "      <td>free</td>\n",
       "      <td>4004.43</td>\n",
       "      <td>20.016628</td>\n",
       "      <td>2021-02-04</td>\n",
       "      <td>2</td>\n",
       "      <td>8</td>\n",
       "      <td>50</td>\n",
       "      <td>0</td>\n",
       "    </tr>\n",
       "    <tr>\n",
       "      <th>6503</th>\n",
       "      <td>700</td>\n",
       "      <td>Айдар</td>\n",
       "      <td>22</td>\n",
       "      <td>Омск</td>\n",
       "      <td>free</td>\n",
       "      <td>1205.91</td>\n",
       "      <td>9.782872</td>\n",
       "      <td>2021-02-10</td>\n",
       "      <td>2</td>\n",
       "      <td>8</td>\n",
       "      <td>50</td>\n",
       "      <td>0</td>\n",
       "    </tr>\n",
       "    <tr>\n",
       "      <th>6504</th>\n",
       "      <td>700</td>\n",
       "      <td>Айдар</td>\n",
       "      <td>22</td>\n",
       "      <td>Омск</td>\n",
       "      <td>free</td>\n",
       "      <td>3047.38</td>\n",
       "      <td>17.427673</td>\n",
       "      <td>2021-02-14</td>\n",
       "      <td>2</td>\n",
       "      <td>8</td>\n",
       "      <td>50</td>\n",
       "      <td>0</td>\n",
       "    </tr>\n",
       "  </tbody>\n",
       "</table>\n",
       "</div>"
      ],
      "text/plain": [
       "      user_id   name  age  city subscription_type  distance   duration  \\\n",
       "6500      700  Айдар   22  Омск              free   2515.69  14.944286   \n",
       "6501      700  Айдар   22  Омск              free    846.93  16.234663   \n",
       "6502      700  Айдар   22  Омск              free   4004.43  20.016628   \n",
       "6503      700  Айдар   22  Омск              free   1205.91   9.782872   \n",
       "6504      700  Айдар   22  Омск              free   3047.38  17.427673   \n",
       "\n",
       "           date  month  minute_price  start_ride_price  subscription_fee  \n",
       "6500 2021-01-02      1             8                50                 0  \n",
       "6501 2021-02-01      2             8                50                 0  \n",
       "6502 2021-02-04      2             8                50                 0  \n",
       "6503 2021-02-10      2             8                50                 0  \n",
       "6504 2021-02-14      2             8                50                 0  "
      ]
     },
     "execution_count": 35,
     "metadata": {},
     "output_type": "execute_result"
    }
   ],
   "source": [
    "#создадим датафрейм с данными о пользователях без подписки с помощью метода query()\n",
    "users_free = general.query('subscription_type == \"free\"')\n",
    "users_free.head()"
   ]
  },
  {
   "cell_type": "code",
   "execution_count": 36,
   "id": "6430c3fc",
   "metadata": {},
   "outputs": [
    {
     "data": {
      "image/png": "[encoded data removed]",
      "text/plain": [
       "<Figure size 864x360 with 1 Axes>"
      ]
     },
     "metadata": {
      "needs_background": "light"
     },
     "output_type": "display_data"
    }
   ],
   "source": [
    "#построим гистограмму по расстоянию, которое пользователь без подписки преодолел за одну поездку\n",
    "users_free['distance'].hist(bins=30, figsize=(12, 5))\n",
    "plt.title('Расстояние, которое пользователь без подписки преодолел за одну поездку')\n",
    "plt.xlabel('Расстояние, которое пользователь без подписки преодолел за одну поездку')\n",
    "plt.ylabel('Количество пользователей')\n",
    "plt.show()"
   ]
  },
  {
   "cell_type": "code",
   "execution_count": 37,
   "id": "d682ded0",
   "metadata": {},
   "outputs": [
    {
     "data": {
      "image/png": "[encoded data removed]",
      "text/plain": [
       "<Figure size 360x720 with 1 Axes>"
      ]
     },
     "metadata": {
      "needs_background": "light"
     },
     "output_type": "display_data"
    }
   ],
   "source": [
    "#построим диаграмму размаха расстояний пользователей без подписки\n",
    "users_free.boxplot('distance', figsize=(5, 10))\n",
    "plt.title('Диаграмма размаха расстояния, которое пользователь без подписки преодолел за одну поездку')\n",
    "plt.ylabel('Расстояние, которое пользователь без подписки преодолел за одну поездку')\n",
    "plt.show()"
   ]
  },
  {
   "cell_type": "markdown",
   "id": "d04a57cd",
   "metadata": {},
   "source": [
    "Исходя из построенных графиков, делаем вывод, что основной диапазон значений расстояния, которое пользователь без подписки преодолел за одну поездку, лежит в пределах от примерно 50 метров до 6100 метров, за этими пределами выбросы. Чаще всего длина одной поездки составляет от 2,3 км до 3,9 км. "
   ]
  },
  {
   "cell_type": "code",
   "execution_count": 38,
   "id": "d793ec59",
   "metadata": {},
   "outputs": [
    {
     "data": {
      "image/png": "[encoded data removed]",
      "text/plain": [
       "<Figure size 864x360 with 1 Axes>"
      ]
     },
     "metadata": {
      "needs_background": "light"
     },
     "output_type": "display_data"
    }
   ],
   "source": [
    "#построим гистограмму продолжительности поездок пользователей без подписки\n",
    "users_free['duration'].hist(bins=30, figsize=(12, 5))\n",
    "plt.title('Гистограмма продолжительности поездок пользователей без подписки')\n",
    "plt.xlabel('Продолжительность одной поездки')\n",
    "plt.ylabel('Количество пользователей')\n",
    "plt.show()"
   ]
  },
  {
   "cell_type": "code",
   "execution_count": 39,
   "id": "a29c1321",
   "metadata": {},
   "outputs": [
    {
     "data": {
      "image/png": "[encoded data removed]",
      "text/plain": [
       "<Figure size 360x720 with 1 Axes>"
      ]
     },
     "metadata": {
      "needs_background": "light"
     },
     "output_type": "display_data"
    }
   ],
   "source": [
    "#построим диаграмму размаха времени в пути пользователей без подписки\n",
    "users_free.boxplot('duration', figsize=(5, 10))\n",
    "plt.title('Диаграмма размаха продолжительности поездок пользователей без подписки')\n",
    "plt.ylabel('Продолжительность одной поездки')\n",
    "plt.show()"
   ]
  },
  {
   "cell_type": "markdown",
   "id": "f09b51e6",
   "metadata": {},
   "source": [
    "Распределение продолжительности поездок похоже на нормальное распределение. До диаграмме размаха видно, что основной диапазон значений примерно от минуты до 34 минут. Чаще всего поездки длятся около 13 - 22 минут."
   ]
  },
  {
   "cell_type": "code",
   "execution_count": 40,
   "id": "96736f19",
   "metadata": {},
   "outputs": [
    {
     "data": {
      "text/html": [
       "<div>\n",
       "<style scoped>\n",
       "    .dataframe tbody tr th:only-of-type {\n",
       "        vertical-align: middle;\n",
       "    }\n",
       "\n",
       "    .dataframe tbody tr th {\n",
       "        vertical-align: top;\n",
       "    }\n",
       "\n",
       "    .dataframe thead th {\n",
       "        text-align: right;\n",
       "    }\n",
       "</style>\n",
       "<table border=\"1\" class=\"dataframe\">\n",
       "  <thead>\n",
       "    <tr style=\"text-align: right;\">\n",
       "      <th></th>\n",
       "      <th>user_id</th>\n",
       "      <th>name</th>\n",
       "      <th>age</th>\n",
       "      <th>city</th>\n",
       "      <th>subscription_type</th>\n",
       "      <th>distance</th>\n",
       "      <th>duration</th>\n",
       "      <th>date</th>\n",
       "      <th>month</th>\n",
       "      <th>minute_price</th>\n",
       "      <th>start_ride_price</th>\n",
       "      <th>subscription_fee</th>\n",
       "    </tr>\n",
       "  </thead>\n",
       "  <tbody>\n",
       "    <tr>\n",
       "      <th>0</th>\n",
       "      <td>1</td>\n",
       "      <td>Кира</td>\n",
       "      <td>22</td>\n",
       "      <td>Тюмень</td>\n",
       "      <td>ultra</td>\n",
       "      <td>4409.92</td>\n",
       "      <td>25.599769</td>\n",
       "      <td>2021-01-01</td>\n",
       "      <td>1</td>\n",
       "      <td>6</td>\n",
       "      <td>0</td>\n",
       "      <td>199</td>\n",
       "    </tr>\n",
       "    <tr>\n",
       "      <th>1</th>\n",
       "      <td>1</td>\n",
       "      <td>Кира</td>\n",
       "      <td>22</td>\n",
       "      <td>Тюмень</td>\n",
       "      <td>ultra</td>\n",
       "      <td>2617.59</td>\n",
       "      <td>15.816871</td>\n",
       "      <td>2021-01-18</td>\n",
       "      <td>1</td>\n",
       "      <td>6</td>\n",
       "      <td>0</td>\n",
       "      <td>199</td>\n",
       "    </tr>\n",
       "    <tr>\n",
       "      <th>2</th>\n",
       "      <td>1</td>\n",
       "      <td>Кира</td>\n",
       "      <td>22</td>\n",
       "      <td>Тюмень</td>\n",
       "      <td>ultra</td>\n",
       "      <td>754.16</td>\n",
       "      <td>6.232113</td>\n",
       "      <td>2021-04-20</td>\n",
       "      <td>4</td>\n",
       "      <td>6</td>\n",
       "      <td>0</td>\n",
       "      <td>199</td>\n",
       "    </tr>\n",
       "    <tr>\n",
       "      <th>3</th>\n",
       "      <td>1</td>\n",
       "      <td>Кира</td>\n",
       "      <td>22</td>\n",
       "      <td>Тюмень</td>\n",
       "      <td>ultra</td>\n",
       "      <td>2694.78</td>\n",
       "      <td>18.511000</td>\n",
       "      <td>2021-08-11</td>\n",
       "      <td>8</td>\n",
       "      <td>6</td>\n",
       "      <td>0</td>\n",
       "      <td>199</td>\n",
       "    </tr>\n",
       "    <tr>\n",
       "      <th>4</th>\n",
       "      <td>1</td>\n",
       "      <td>Кира</td>\n",
       "      <td>22</td>\n",
       "      <td>Тюмень</td>\n",
       "      <td>ultra</td>\n",
       "      <td>4028.69</td>\n",
       "      <td>26.265803</td>\n",
       "      <td>2021-08-28</td>\n",
       "      <td>8</td>\n",
       "      <td>6</td>\n",
       "      <td>0</td>\n",
       "      <td>199</td>\n",
       "    </tr>\n",
       "  </tbody>\n",
       "</table>\n",
       "</div>"
      ],
      "text/plain": [
       "   user_id  name  age    city subscription_type  distance   duration  \\\n",
       "0        1  Кира   22  Тюмень             ultra   4409.92  25.599769   \n",
       "1        1  Кира   22  Тюмень             ultra   2617.59  15.816871   \n",
       "2        1  Кира   22  Тюмень             ultra    754.16   6.232113   \n",
       "3        1  Кира   22  Тюмень             ultra   2694.78  18.511000   \n",
       "4        1  Кира   22  Тюмень             ultra   4028.69  26.265803   \n",
       "\n",
       "        date  month  minute_price  start_ride_price  subscription_fee  \n",
       "0 2021-01-01      1             6                 0               199  \n",
       "1 2021-01-18      1             6                 0               199  \n",
       "2 2021-04-20      4             6                 0               199  \n",
       "3 2021-08-11      8             6                 0               199  \n",
       "4 2021-08-28      8             6                 0               199  "
      ]
     },
     "execution_count": 40,
     "metadata": {},
     "output_type": "execute_result"
    }
   ],
   "source": [
    "#создадим датафрейм с данными о пользователях с подпиской с помощью метода query()\n",
    "users_ultra = general.query('subscription_type == \"ultra\"')\n",
    "users_ultra.head()"
   ]
  },
  {
   "cell_type": "code",
   "execution_count": 41,
   "id": "19cd2aad",
   "metadata": {},
   "outputs": [
    {
     "data": {
      "image/png": "[encoded data removed]",
      "text/plain": [
       "<Figure size 864x360 with 1 Axes>"
      ]
     },
     "metadata": {
      "needs_background": "light"
     },
     "output_type": "display_data"
    }
   ],
   "source": [
    "#построим гистограмму по расстоянию, которое пользователь с подпиской преодолел за одну поездку\n",
    "users_ultra['distance'].hist(bins=30, figsize=(12, 5))\n",
    "plt.title('Расстояние, которое пользователь с подпиской преодолел за одну поездку')\n",
    "plt.xlabel('Расстояние, которое пользователь с подпиской преодолел за одну поездку')\n",
    "plt.ylabel('Количество пользователей')\n",
    "plt.show()"
   ]
  },
  {
   "cell_type": "code",
   "execution_count": 42,
   "id": "611f1823",
   "metadata": {},
   "outputs": [
    {
     "data": {
      "image/png": "[encoded data removed]",
      "text/plain": [
       "<Figure size 360x720 with 1 Axes>"
      ]
     },
     "metadata": {
      "needs_background": "light"
     },
     "output_type": "display_data"
    }
   ],
   "source": [
    "#построим диаграмму размаха расстояний пользователей с подпиской\n",
    "users_ultra.boxplot('distance', figsize=(5, 10))\n",
    "plt.title('Диаграмма размаха расстояния, которое пользователь с подпиской преодолел за одну поездку')\n",
    "plt.ylabel('Расстояние, которое пользователь с подпиской преодолел за одну поездку')\n",
    "plt.show()"
   ]
  },
  {
   "cell_type": "markdown",
   "id": "bfe75ede",
   "metadata": {},
   "source": [
    "По построенной гистограмме и диаграмме размаха видим, что основной диапазон значений расстояния, которое пользователь с подпиской преодолел за одну поездку, лежит в пределах от примерно 1,6 км до 4,7 км, за этими пределами выбросы. Чаще всего длина одной поездки составляет от 2,8 км до 3,6 км. \n",
    "Можем сделать вывод, что пользователи с подпиской в основном берут самокат на более длительные расстояния, в то время как пользователи без подписки, у которых расстояния одной поездки начинаются с 50 метров, бывает берут самокат, чтобы попробовать."
   ]
  },
  {
   "cell_type": "code",
   "execution_count": 43,
   "id": "337d8433",
   "metadata": {},
   "outputs": [
    {
     "data": {
      "image/png": "[encoded data removed]",
      "text/plain": [
       "<Figure size 864x360 with 1 Axes>"
      ]
     },
     "metadata": {
      "needs_background": "light"
     },
     "output_type": "display_data"
    }
   ],
   "source": [
    "#построим гистограмму продолжительности поездок пользователей с подпиской\n",
    "users_ultra['duration'].hist(bins=30, figsize=(12, 5))\n",
    "plt.title('Гистограмма продолжительности поездок пользователей с подпиской')\n",
    "plt.xlabel('Продолжительность одной поездки')\n",
    "plt.ylabel('Количество пользователей')\n",
    "plt.show()"
   ]
  },
  {
   "cell_type": "code",
   "execution_count": 44,
   "id": "b76cd29f",
   "metadata": {},
   "outputs": [
    {
     "data": {
      "image/png": "[encoded data removed]",
      "text/plain": [
       "<Figure size 360x720 with 1 Axes>"
      ]
     },
     "metadata": {
      "needs_background": "light"
     },
     "output_type": "display_data"
    }
   ],
   "source": [
    "#построим диаграмму размаха времени в пути пользователей с подпиской\n",
    "users_ultra.boxplot('duration', figsize=(5, 10))\n",
    "plt.title('Диаграмма размаха продолжительности поездок пользователей с подпиской')\n",
    "plt.ylabel('Продолжительность одной поездки')\n",
    "plt.show()"
   ]
  },
  {
   "cell_type": "markdown",
   "id": "4c0f01bd",
   "metadata": {},
   "source": [
    "Распределение продолжительности поездок пользователей с подпиской - нормальное распределение. До диаграмме размаха видим, что основной диапазон значений примерно от 3 минут до 33 минут. Чаще всего поездки длятся около 14 - 22 минут. \n",
    "По продолжительности поездок данные пользователй без подписки и пользователй с подпиской очень близки друг к другу."
   ]
  },
  {
   "cell_type": "markdown",
   "id": "402d620f",
   "metadata": {},
   "source": [
    "#### Шаг 5. Подсчёт выручки"
   ]
  },
  {
   "cell_type": "markdown",
   "id": "7538ec3b",
   "metadata": {},
   "source": [
    "Создадим датафрейм с агрегированными данными о поездках на основе датафрейма с объединёнными данными из шага 4: найдем суммарное расстояние, количество поездок и суммарное время для каждого пользователя за каждый месяц. Продолжительность каждой поездки в каждой строке исходного датафрейма для подсчёта стоимости округлим до следующего целого числа."
   ]
  },
  {
   "cell_type": "code",
   "execution_count": 45,
   "id": "a461a19d",
   "metadata": {},
   "outputs": [
    {
     "data": {
      "text/html": [
       "<div>\n",
       "<style scoped>\n",
       "    .dataframe tbody tr th:only-of-type {\n",
       "        vertical-align: middle;\n",
       "    }\n",
       "\n",
       "    .dataframe tbody tr th {\n",
       "        vertical-align: top;\n",
       "    }\n",
       "\n",
       "    .dataframe thead th {\n",
       "        text-align: right;\n",
       "    }\n",
       "</style>\n",
       "<table border=\"1\" class=\"dataframe\">\n",
       "  <thead>\n",
       "    <tr style=\"text-align: right;\">\n",
       "      <th></th>\n",
       "      <th>user_id</th>\n",
       "      <th>name</th>\n",
       "      <th>age</th>\n",
       "      <th>city</th>\n",
       "      <th>subscription_type</th>\n",
       "      <th>distance</th>\n",
       "      <th>duration</th>\n",
       "      <th>date</th>\n",
       "      <th>month</th>\n",
       "      <th>minute_price</th>\n",
       "      <th>start_ride_price</th>\n",
       "      <th>subscription_fee</th>\n",
       "    </tr>\n",
       "  </thead>\n",
       "  <tbody>\n",
       "    <tr>\n",
       "      <th>0</th>\n",
       "      <td>1</td>\n",
       "      <td>Кира</td>\n",
       "      <td>22</td>\n",
       "      <td>Тюмень</td>\n",
       "      <td>ultra</td>\n",
       "      <td>4409.92</td>\n",
       "      <td>26.0</td>\n",
       "      <td>2021-01-01</td>\n",
       "      <td>1</td>\n",
       "      <td>6</td>\n",
       "      <td>0</td>\n",
       "      <td>199</td>\n",
       "    </tr>\n",
       "    <tr>\n",
       "      <th>1</th>\n",
       "      <td>1</td>\n",
       "      <td>Кира</td>\n",
       "      <td>22</td>\n",
       "      <td>Тюмень</td>\n",
       "      <td>ultra</td>\n",
       "      <td>2617.59</td>\n",
       "      <td>16.0</td>\n",
       "      <td>2021-01-18</td>\n",
       "      <td>1</td>\n",
       "      <td>6</td>\n",
       "      <td>0</td>\n",
       "      <td>199</td>\n",
       "    </tr>\n",
       "    <tr>\n",
       "      <th>2</th>\n",
       "      <td>1</td>\n",
       "      <td>Кира</td>\n",
       "      <td>22</td>\n",
       "      <td>Тюмень</td>\n",
       "      <td>ultra</td>\n",
       "      <td>754.16</td>\n",
       "      <td>7.0</td>\n",
       "      <td>2021-04-20</td>\n",
       "      <td>4</td>\n",
       "      <td>6</td>\n",
       "      <td>0</td>\n",
       "      <td>199</td>\n",
       "    </tr>\n",
       "    <tr>\n",
       "      <th>3</th>\n",
       "      <td>1</td>\n",
       "      <td>Кира</td>\n",
       "      <td>22</td>\n",
       "      <td>Тюмень</td>\n",
       "      <td>ultra</td>\n",
       "      <td>2694.78</td>\n",
       "      <td>19.0</td>\n",
       "      <td>2021-08-11</td>\n",
       "      <td>8</td>\n",
       "      <td>6</td>\n",
       "      <td>0</td>\n",
       "      <td>199</td>\n",
       "    </tr>\n",
       "    <tr>\n",
       "      <th>4</th>\n",
       "      <td>1</td>\n",
       "      <td>Кира</td>\n",
       "      <td>22</td>\n",
       "      <td>Тюмень</td>\n",
       "      <td>ultra</td>\n",
       "      <td>4028.69</td>\n",
       "      <td>27.0</td>\n",
       "      <td>2021-08-28</td>\n",
       "      <td>8</td>\n",
       "      <td>6</td>\n",
       "      <td>0</td>\n",
       "      <td>199</td>\n",
       "    </tr>\n",
       "  </tbody>\n",
       "</table>\n",
       "</div>"
      ],
      "text/plain": [
       "   user_id  name  age    city subscription_type  distance  duration  \\\n",
       "0        1  Кира   22  Тюмень             ultra   4409.92      26.0   \n",
       "1        1  Кира   22  Тюмень             ultra   2617.59      16.0   \n",
       "2        1  Кира   22  Тюмень             ultra    754.16       7.0   \n",
       "3        1  Кира   22  Тюмень             ultra   2694.78      19.0   \n",
       "4        1  Кира   22  Тюмень             ultra   4028.69      27.0   \n",
       "\n",
       "        date  month  minute_price  start_ride_price  subscription_fee  \n",
       "0 2021-01-01      1             6                 0               199  \n",
       "1 2021-01-18      1             6                 0               199  \n",
       "2 2021-04-20      4             6                 0               199  \n",
       "3 2021-08-11      8             6                 0               199  \n",
       "4 2021-08-28      8             6                 0               199  "
      ]
     },
     "execution_count": 45,
     "metadata": {},
     "output_type": "execute_result"
    }
   ],
   "source": [
    "# каждое значение из столбца duration округляется с помощью «потолка»: \n",
    "general['duration'] = np.ceil(general['duration']) \n",
    "general.head()"
   ]
  },
  {
   "cell_type": "code",
   "execution_count": 46,
   "id": "d1f10cb8",
   "metadata": {},
   "outputs": [
    {
     "data": {
      "text/html": [
       "<div>\n",
       "<style scoped>\n",
       "    .dataframe tbody tr th:only-of-type {\n",
       "        vertical-align: middle;\n",
       "    }\n",
       "\n",
       "    .dataframe tbody tr th {\n",
       "        vertical-align: top;\n",
       "    }\n",
       "\n",
       "    .dataframe thead tr th {\n",
       "        text-align: left;\n",
       "    }\n",
       "\n",
       "    .dataframe thead tr:last-of-type th {\n",
       "        text-align: right;\n",
       "    }\n",
       "</style>\n",
       "<table border=\"1\" class=\"dataframe\">\n",
       "  <thead>\n",
       "    <tr>\n",
       "      <th></th>\n",
       "      <th></th>\n",
       "      <th colspan=\"3\" halign=\"left\">distance</th>\n",
       "      <th colspan=\"3\" halign=\"left\">duration</th>\n",
       "      <th colspan=\"3\" halign=\"left\">minute_price</th>\n",
       "      <th colspan=\"3\" halign=\"left\">start_ride_price</th>\n",
       "      <th colspan=\"3\" halign=\"left\">subscription_fee</th>\n",
       "    </tr>\n",
       "    <tr>\n",
       "      <th></th>\n",
       "      <th></th>\n",
       "      <th>count</th>\n",
       "      <th>mean</th>\n",
       "      <th>sum</th>\n",
       "      <th>count</th>\n",
       "      <th>mean</th>\n",
       "      <th>sum</th>\n",
       "      <th>count</th>\n",
       "      <th>mean</th>\n",
       "      <th>sum</th>\n",
       "      <th>count</th>\n",
       "      <th>mean</th>\n",
       "      <th>sum</th>\n",
       "      <th>count</th>\n",
       "      <th>mean</th>\n",
       "      <th>sum</th>\n",
       "    </tr>\n",
       "    <tr>\n",
       "      <th>month</th>\n",
       "      <th>user_id</th>\n",
       "      <th></th>\n",
       "      <th></th>\n",
       "      <th></th>\n",
       "      <th></th>\n",
       "      <th></th>\n",
       "      <th></th>\n",
       "      <th></th>\n",
       "      <th></th>\n",
       "      <th></th>\n",
       "      <th></th>\n",
       "      <th></th>\n",
       "      <th></th>\n",
       "      <th></th>\n",
       "      <th></th>\n",
       "      <th></th>\n",
       "    </tr>\n",
       "  </thead>\n",
       "  <tbody>\n",
       "    <tr>\n",
       "      <th rowspan=\"5\" valign=\"top\">1</th>\n",
       "      <th>1</th>\n",
       "      <td>2</td>\n",
       "      <td>3513.755</td>\n",
       "      <td>7027.51</td>\n",
       "      <td>2</td>\n",
       "      <td>21.0</td>\n",
       "      <td>42.0</td>\n",
       "      <td>2</td>\n",
       "      <td>6</td>\n",
       "      <td>12</td>\n",
       "      <td>2</td>\n",
       "      <td>0</td>\n",
       "      <td>0</td>\n",
       "      <td>2</td>\n",
       "      <td>199</td>\n",
       "      <td>398</td>\n",
       "    </tr>\n",
       "    <tr>\n",
       "      <th>3</th>\n",
       "      <td>1</td>\n",
       "      <td>3061.780</td>\n",
       "      <td>3061.78</td>\n",
       "      <td>1</td>\n",
       "      <td>13.0</td>\n",
       "      <td>13.0</td>\n",
       "      <td>1</td>\n",
       "      <td>6</td>\n",
       "      <td>6</td>\n",
       "      <td>1</td>\n",
       "      <td>0</td>\n",
       "      <td>0</td>\n",
       "      <td>1</td>\n",
       "      <td>199</td>\n",
       "      <td>199</td>\n",
       "    </tr>\n",
       "    <tr>\n",
       "      <th>5</th>\n",
       "      <td>1</td>\n",
       "      <td>3914.650</td>\n",
       "      <td>3914.65</td>\n",
       "      <td>1</td>\n",
       "      <td>13.0</td>\n",
       "      <td>13.0</td>\n",
       "      <td>1</td>\n",
       "      <td>6</td>\n",
       "      <td>6</td>\n",
       "      <td>1</td>\n",
       "      <td>0</td>\n",
       "      <td>0</td>\n",
       "      <td>1</td>\n",
       "      <td>199</td>\n",
       "      <td>199</td>\n",
       "    </tr>\n",
       "    <tr>\n",
       "      <th>7</th>\n",
       "      <td>2</td>\n",
       "      <td>3239.040</td>\n",
       "      <td>6478.08</td>\n",
       "      <td>2</td>\n",
       "      <td>14.0</td>\n",
       "      <td>28.0</td>\n",
       "      <td>2</td>\n",
       "      <td>6</td>\n",
       "      <td>12</td>\n",
       "      <td>2</td>\n",
       "      <td>0</td>\n",
       "      <td>0</td>\n",
       "      <td>2</td>\n",
       "      <td>199</td>\n",
       "      <td>398</td>\n",
       "    </tr>\n",
       "    <tr>\n",
       "      <th>12</th>\n",
       "      <td>1</td>\n",
       "      <td>3577.150</td>\n",
       "      <td>3577.15</td>\n",
       "      <td>1</td>\n",
       "      <td>33.0</td>\n",
       "      <td>33.0</td>\n",
       "      <td>1</td>\n",
       "      <td>6</td>\n",
       "      <td>6</td>\n",
       "      <td>1</td>\n",
       "      <td>0</td>\n",
       "      <td>0</td>\n",
       "      <td>1</td>\n",
       "      <td>199</td>\n",
       "      <td>199</td>\n",
       "    </tr>\n",
       "  </tbody>\n",
       "</table>\n",
       "</div>"
      ],
      "text/plain": [
       "              distance                    duration             minute_price  \\\n",
       "                 count      mean      sum    count  mean   sum        count   \n",
       "month user_id                                                                 \n",
       "1     1              2  3513.755  7027.51        2  21.0  42.0            2   \n",
       "      3              1  3061.780  3061.78        1  13.0  13.0            1   \n",
       "      5              1  3914.650  3914.65        1  13.0  13.0            1   \n",
       "      7              2  3239.040  6478.08        2  14.0  28.0            2   \n",
       "      12             1  3577.150  3577.15        1  33.0  33.0            1   \n",
       "\n",
       "                       start_ride_price          subscription_fee            \n",
       "              mean sum            count mean sum            count mean  sum  \n",
       "month user_id                                                                \n",
       "1     1          6  12                2    0   0                2  199  398  \n",
       "      3          6   6                1    0   0                1  199  199  \n",
       "      5          6   6                1    0   0                1  199  199  \n",
       "      7          6  12                2    0   0                2  199  398  \n",
       "      12         6   6                1    0   0                1  199  199  "
      ]
     },
     "execution_count": 46,
     "metadata": {},
     "output_type": "execute_result"
    }
   ],
   "source": [
    "#создадим сводную таблицу методом pivot_table, где посчитаем количество поездок и сумму расстояний и времени для каждого пользователя\n",
    "#так же в сводную таблицу включим информацию о тарифах\n",
    "#выведем первые пять строчек на экран\n",
    "revenue_users = general.pivot_table(index={'user_id', 'month'}, values={'distance', 'duration', 'minute_price', 'start_ride_price', 'subscription_fee'}, aggfunc={'sum', 'count', 'mean'})\n",
    "revenue_users.head()"
   ]
  },
  {
   "cell_type": "code",
   "execution_count": 47,
   "id": "cdceed03",
   "metadata": {},
   "outputs": [
    {
     "data": {
      "text/html": [
       "<div>\n",
       "<style scoped>\n",
       "    .dataframe tbody tr th:only-of-type {\n",
       "        vertical-align: middle;\n",
       "    }\n",
       "\n",
       "    .dataframe tbody tr th {\n",
       "        vertical-align: top;\n",
       "    }\n",
       "\n",
       "    .dataframe thead th {\n",
       "        text-align: right;\n",
       "    }\n",
       "</style>\n",
       "<table border=\"1\" class=\"dataframe\">\n",
       "  <thead>\n",
       "    <tr style=\"text-align: right;\">\n",
       "      <th></th>\n",
       "      <th></th>\n",
       "      <th>rides_count</th>\n",
       "      <th>sum_distance</th>\n",
       "      <th>sum_duration</th>\n",
       "      <th>minute_price</th>\n",
       "      <th>start_ride_price</th>\n",
       "      <th>subscription_fee</th>\n",
       "    </tr>\n",
       "    <tr>\n",
       "      <th>month</th>\n",
       "      <th>user_id</th>\n",
       "      <th></th>\n",
       "      <th></th>\n",
       "      <th></th>\n",
       "      <th></th>\n",
       "      <th></th>\n",
       "      <th></th>\n",
       "    </tr>\n",
       "  </thead>\n",
       "  <tbody>\n",
       "    <tr>\n",
       "      <th rowspan=\"5\" valign=\"top\">1</th>\n",
       "      <th>1</th>\n",
       "      <td>2</td>\n",
       "      <td>7027.51</td>\n",
       "      <td>42.0</td>\n",
       "      <td>6</td>\n",
       "      <td>0</td>\n",
       "      <td>199</td>\n",
       "    </tr>\n",
       "    <tr>\n",
       "      <th>3</th>\n",
       "      <td>1</td>\n",
       "      <td>3061.78</td>\n",
       "      <td>13.0</td>\n",
       "      <td>6</td>\n",
       "      <td>0</td>\n",
       "      <td>199</td>\n",
       "    </tr>\n",
       "    <tr>\n",
       "      <th>5</th>\n",
       "      <td>1</td>\n",
       "      <td>3914.65</td>\n",
       "      <td>13.0</td>\n",
       "      <td>6</td>\n",
       "      <td>0</td>\n",
       "      <td>199</td>\n",
       "    </tr>\n",
       "    <tr>\n",
       "      <th>7</th>\n",
       "      <td>2</td>\n",
       "      <td>6478.08</td>\n",
       "      <td>28.0</td>\n",
       "      <td>6</td>\n",
       "      <td>0</td>\n",
       "      <td>199</td>\n",
       "    </tr>\n",
       "    <tr>\n",
       "      <th>12</th>\n",
       "      <td>1</td>\n",
       "      <td>3577.15</td>\n",
       "      <td>33.0</td>\n",
       "      <td>6</td>\n",
       "      <td>0</td>\n",
       "      <td>199</td>\n",
       "    </tr>\n",
       "  </tbody>\n",
       "</table>\n",
       "</div>"
      ],
      "text/plain": [
       "               rides_count  sum_distance  sum_duration  minute_price  \\\n",
       "month user_id                                                          \n",
       "1     1                  2       7027.51          42.0             6   \n",
       "      3                  1       3061.78          13.0             6   \n",
       "      5                  1       3914.65          13.0             6   \n",
       "      7                  2       6478.08          28.0             6   \n",
       "      12                 1       3577.15          33.0             6   \n",
       "\n",
       "               start_ride_price  subscription_fee  \n",
       "month user_id                                      \n",
       "1     1                       0               199  \n",
       "      3                       0               199  \n",
       "      5                       0               199  \n",
       "      7                       0               199  \n",
       "      12                      0               199  "
      ]
     },
     "execution_count": 47,
     "metadata": {},
     "output_type": "execute_result"
    }
   ],
   "source": [
    "#переименуем столбцы и удалим лишние столбцы\n",
    "#выведем первые пять строчек на экран\n",
    "revenue_users.columns = ['rides_count', 'drop1', 'sum_distance', 'drop2', 'drop3', 'sum_duration', 'drop4', 'minute_price', 'drop5', 'drop6', 'start_ride_price', 'drop7', 'drop8', 'subscription_fee', 'drop9']\n",
    "revenue_users = revenue_users.drop(['drop1', 'drop2', 'drop3', 'drop4', 'drop5', 'drop6', 'drop7', 'drop8', 'drop9'], axis=1)\n",
    "revenue_users.head()"
   ]
  },
  {
   "cell_type": "code",
   "execution_count": 48,
   "id": "2c73e1a9",
   "metadata": {},
   "outputs": [
    {
     "name": "stdout",
     "output_type": "stream",
     "text": [
      "<class 'pandas.core.frame.DataFrame'>\n",
      "MultiIndex: 11331 entries, (1, 1) to (12, 1534)\n",
      "Data columns (total 6 columns):\n",
      " #   Column            Non-Null Count  Dtype  \n",
      "---  ------            --------------  -----  \n",
      " 0   rides_count       11331 non-null  int64  \n",
      " 1   sum_distance      11331 non-null  float64\n",
      " 2   sum_duration      11331 non-null  float64\n",
      " 3   minute_price      11331 non-null  int64  \n",
      " 4   start_ride_price  11331 non-null  int64  \n",
      " 5   subscription_fee  11331 non-null  int64  \n",
      "dtypes: float64(2), int64(4)\n",
      "memory usage: 576.5 KB\n"
     ]
    }
   ],
   "source": [
    "#выведем общую информацию о датафрейме\n",
    "revenue_users.info()"
   ]
  },
  {
   "cell_type": "markdown",
   "id": "459e7029",
   "metadata": {},
   "source": [
    "Пропуски в данном датафрейме отсутствуют, поэтому можем продолжить работу. В этот же датафрейм добавим столбец с помесячной выручкой, которую принёс каждый пользователь. Для этого обратимся к информации об условиях оплаты для подписчиков и тех, у кого нет подписки.\n",
    "Помесячная выручка считается по формуле: стоимость старта поездки × количество поездок + стоимость одной минуты поездки × общая продолжительность всех поездок в минутах + стоимость подписки."
   ]
  },
  {
   "cell_type": "code",
   "execution_count": 49,
   "id": "416d408c",
   "metadata": {},
   "outputs": [
    {
     "data": {
      "text/html": [
       "<div>\n",
       "<style scoped>\n",
       "    .dataframe tbody tr th:only-of-type {\n",
       "        vertical-align: middle;\n",
       "    }\n",
       "\n",
       "    .dataframe tbody tr th {\n",
       "        vertical-align: top;\n",
       "    }\n",
       "\n",
       "    .dataframe thead th {\n",
       "        text-align: right;\n",
       "    }\n",
       "</style>\n",
       "<table border=\"1\" class=\"dataframe\">\n",
       "  <thead>\n",
       "    <tr style=\"text-align: right;\">\n",
       "      <th></th>\n",
       "      <th></th>\n",
       "      <th>rides_count</th>\n",
       "      <th>sum_distance</th>\n",
       "      <th>sum_duration</th>\n",
       "      <th>minute_price</th>\n",
       "      <th>start_ride_price</th>\n",
       "      <th>subscription_fee</th>\n",
       "      <th>revenue</th>\n",
       "    </tr>\n",
       "    <tr>\n",
       "      <th>month</th>\n",
       "      <th>user_id</th>\n",
       "      <th></th>\n",
       "      <th></th>\n",
       "      <th></th>\n",
       "      <th></th>\n",
       "      <th></th>\n",
       "      <th></th>\n",
       "      <th></th>\n",
       "    </tr>\n",
       "  </thead>\n",
       "  <tbody>\n",
       "    <tr>\n",
       "      <th rowspan=\"5\" valign=\"top\">1</th>\n",
       "      <th>1</th>\n",
       "      <td>2</td>\n",
       "      <td>7027.51</td>\n",
       "      <td>42.0</td>\n",
       "      <td>6</td>\n",
       "      <td>0</td>\n",
       "      <td>199</td>\n",
       "      <td>451.0</td>\n",
       "    </tr>\n",
       "    <tr>\n",
       "      <th>3</th>\n",
       "      <td>1</td>\n",
       "      <td>3061.78</td>\n",
       "      <td>13.0</td>\n",
       "      <td>6</td>\n",
       "      <td>0</td>\n",
       "      <td>199</td>\n",
       "      <td>277.0</td>\n",
       "    </tr>\n",
       "    <tr>\n",
       "      <th>5</th>\n",
       "      <td>1</td>\n",
       "      <td>3914.65</td>\n",
       "      <td>13.0</td>\n",
       "      <td>6</td>\n",
       "      <td>0</td>\n",
       "      <td>199</td>\n",
       "      <td>277.0</td>\n",
       "    </tr>\n",
       "    <tr>\n",
       "      <th>7</th>\n",
       "      <td>2</td>\n",
       "      <td>6478.08</td>\n",
       "      <td>28.0</td>\n",
       "      <td>6</td>\n",
       "      <td>0</td>\n",
       "      <td>199</td>\n",
       "      <td>367.0</td>\n",
       "    </tr>\n",
       "    <tr>\n",
       "      <th>12</th>\n",
       "      <td>1</td>\n",
       "      <td>3577.15</td>\n",
       "      <td>33.0</td>\n",
       "      <td>6</td>\n",
       "      <td>0</td>\n",
       "      <td>199</td>\n",
       "      <td>397.0</td>\n",
       "    </tr>\n",
       "  </tbody>\n",
       "</table>\n",
       "</div>"
      ],
      "text/plain": [
       "               rides_count  sum_distance  sum_duration  minute_price  \\\n",
       "month user_id                                                          \n",
       "1     1                  2       7027.51          42.0             6   \n",
       "      3                  1       3061.78          13.0             6   \n",
       "      5                  1       3914.65          13.0             6   \n",
       "      7                  2       6478.08          28.0             6   \n",
       "      12                 1       3577.15          33.0             6   \n",
       "\n",
       "               start_ride_price  subscription_fee  revenue  \n",
       "month user_id                                               \n",
       "1     1                       0               199    451.0  \n",
       "      3                       0               199    277.0  \n",
       "      5                       0               199    277.0  \n",
       "      7                       0               199    367.0  \n",
       "      12                      0               199    397.0  "
      ]
     },
     "execution_count": 49,
     "metadata": {},
     "output_type": "execute_result"
    }
   ],
   "source": [
    "#добавим новый столбец в датафрейм \n",
    "revenue_users['revenue'] = revenue_users['rides_count'] * revenue_users['start_ride_price'] + revenue_users['minute_price'] * revenue_users['sum_duration'] + revenue_users['subscription_fee']\n",
    "revenue_users.head()"
   ]
  },
  {
   "cell_type": "markdown",
   "id": "d0f1c473",
   "metadata": {},
   "source": [
    "Найдем общую выручку аренды самокатов за выгруженный период."
   ]
  },
  {
   "cell_type": "code",
   "execution_count": 50,
   "id": "6837fe56",
   "metadata": {},
   "outputs": [
    {
     "data": {
      "text/plain": [
       "3878641.0"
      ]
     },
     "execution_count": 50,
     "metadata": {},
     "output_type": "execute_result"
    }
   ],
   "source": [
    "#общая выручка аренды самокатов\n",
    "revenue_users['revenue'].sum()"
   ]
  },
  {
   "cell_type": "code",
   "execution_count": 51,
   "id": "2c21ddce",
   "metadata": {},
   "outputs": [
    {
     "name": "stdout",
     "output_type": "stream",
     "text": [
      "Правильное значение суммы выручки 3878641, сумма выручки расчитанная в таблице: 3878641.0\n"
     ]
    }
   ],
   "source": [
    "# Контроль суммы выручки\n",
    "tmp = revenue_users.copy()\n",
    "print(\"Правильное значение суммы выручки 3878641, сумма выручки расчитанная в таблице:\", tmp.revenue.sum())"
   ]
  },
  {
   "cell_type": "markdown",
   "id": "8c6fd39c",
   "metadata": {},
   "source": [
    "Общая выручка сервиса аренды самокатов за предоставленный нам период составила 3878641 рубль."
   ]
  },
  {
   "cell_type": "markdown",
   "id": "41545ac0",
   "metadata": {},
   "source": [
    "#### Шаг 6. Проверка гипотез"
   ]
  },
  {
   "cell_type": "markdown",
   "id": "bdd019cf",
   "metadata": {},
   "source": [
    "Продакт-менеджеры сервиса хотят увеличить количество пользователей с подпиской. Для этого они будут проводить различные акции, но сначала нужно выяснить несколько важных моментов."
   ]
  },
  {
   "cell_type": "markdown",
   "id": "41db4e74",
   "metadata": {},
   "source": [
    "##### Гипотеза 1"
   ]
  },
  {
   "cell_type": "markdown",
   "id": "4414548a",
   "metadata": {},
   "source": [
    "Важно понять, тратят ли пользователи с подпиской больше времени на поездки? Если да, то пользователи с подпиской могут быть «выгоднее» для компании. \n",
    "Выдвинем гипотезы:\n",
    "\n",
    "Н0: Средняя продолжительность поездок пользователей с подпиской равна средней продолжительности поездок пользователей без подписки\n",
    "\n",
    "Н1: Средняя продолжительность поездок пользователей с подпиской больше среднtй продолжительности поездок пользователей без подписки\n",
    "\n",
    "Используем исходные данные о продолжительности каждой сессии — отдельно для подписчиков и тех, у кого нет подписки.\n",
    "Так как мы имеем дело с односторонней гипотезой используем метод для проверки гипотезы о равенстве среднего двух генеральных совокупностей scipy.stats.ttest_ind(array1, array2, equal_var, alternative)"
   ]
  },
  {
   "cell_type": "code",
   "execution_count": 52,
   "id": "a15d8e23",
   "metadata": {},
   "outputs": [
    {
     "name": "stdout",
     "output_type": "stream",
     "text": [
      "p-значение: 1.2804098316645618e-34\n",
      "Отвергаем нулевую гипотезу\n"
     ]
    }
   ],
   "source": [
    "#проверим гипотезу о равенстве двух средних совокупностей users_ultra и users_free\n",
    "\n",
    "alpha = 0.05 # уровень статистической значимости\n",
    "results = st.ttest_ind(users_ultra['duration'], users_free['duration'], alternative='greater')\n",
    "\n",
    "print('p-значение:', results.pvalue)\n",
    "\n",
    "if results.pvalue < alpha:\n",
    "    print('Отвергаем нулевую гипотезу')\n",
    "else:\n",
    "    print('Не получилось отвергнуть нулевую гипотезу') "
   ]
  },
  {
   "cell_type": "markdown",
   "id": "f369a8f3",
   "metadata": {},
   "source": [
    "Выведем на экран средние значения времени поездок пользователей с подпиской и без."
   ]
  },
  {
   "cell_type": "code",
   "execution_count": 53,
   "id": "bab8f2ce",
   "metadata": {},
   "outputs": [
    {
     "data": {
      "text/plain": [
       "'Среднее время поездок пользователей с подпиской:'"
      ]
     },
     "metadata": {},
     "output_type": "display_data"
    },
    {
     "data": {
      "text/plain": [
       "18.54198516280583"
      ]
     },
     "metadata": {},
     "output_type": "display_data"
    },
    {
     "data": {
      "text/plain": [
       "'Среднее время поездок пользователей без подписки:'"
      ]
     },
     "metadata": {},
     "output_type": "display_data"
    },
    {
     "data": {
      "text/plain": [
       "17.39090929866399"
      ]
     },
     "metadata": {},
     "output_type": "display_data"
    }
   ],
   "source": [
    "display('Среднее время поездок пользователей с подпиской:', users_ultra['duration'].mean())\n",
    "display('Среднее время поездок пользователей без подписки:', users_free['duration'].mean())"
   ]
  },
  {
   "cell_type": "markdown",
   "id": "6c999ef6",
   "metadata": {},
   "source": [
    "Нулевая гипотеза отвергнута, значит можем предполагать, что пользователи с подпиской тратят больше времени на поездки, чем пользователи без подписки. Выведенные средние значения времени поездок пользователей с подпиской и без подстверждают наше предположение."
   ]
  },
  {
   "cell_type": "markdown",
   "id": "582a7fbb",
   "metadata": {},
   "source": [
    "##### Гипотеза 2"
   ]
  },
  {
   "cell_type": "markdown",
   "id": "87e70f69",
   "metadata": {},
   "source": [
    "Расстояние одной поездки в 3130 метров — оптимальное с точки зрения износа самоката. Можно ли сказать, что среднее расстояние, которое проезжают пользователи с подпиской за одну поездку, не превышает 3130 метров? \n",
    "Выдвенем гипотезы:\n",
    "\n",
    "Н0: Среднее расстояние, которое проезжают пользователи с подпиской за одну поездку, равно 3130 метров.\n",
    "\n",
    "Н1: Среднее расстояние, которое проезжают пользователи с подпиской за одну поездку, больше 3130 метров.\n",
    "\n",
    "Проверим данные гипотезы методом st.ttest_1samp()."
   ]
  },
  {
   "cell_type": "code",
   "execution_count": 54,
   "id": "f038e85f",
   "metadata": {},
   "outputs": [
    {
     "name": "stdout",
     "output_type": "stream",
     "text": [
      "p-значение: 0.9195362605842414\n",
      "Не получилось отвергнуть нулевую гипотезу\n"
     ]
    }
   ],
   "source": [
    "#проверим гипотезу о равенстве двух средних совокупностей users_ultra и users_free\n",
    "optimal_distance = 3130\n",
    "alpha = 0.05\n",
    "results = st.ttest_1samp(users_ultra['distance'], optimal_distance, alternative='greater')\n",
    "\n",
    "print('p-значение:', results.pvalue)\n",
    "\n",
    "if results.pvalue < alpha:\n",
    "    print('Отвергаем нулевую гипотезу')\n",
    "else:\n",
    "    print('Не получилось отвергнуть нулевую гипотезу') "
   ]
  },
  {
   "cell_type": "markdown",
   "id": "2b737f9e",
   "metadata": {},
   "source": [
    "Нулевую гипотезу отвергнуть не удалось, значит мы можем предполагать, что среднее расстояние, которое пользователи с подпиской проезжают за одну поездку, при уровне статистической значимости в 5% не превышает оптимального расстояния в 3130 метров с точки зрения износа."
   ]
  },
  {
   "cell_type": "markdown",
   "id": "94d2376a",
   "metadata": {},
   "source": [
    "##### Гипотеза 3"
   ]
  },
  {
   "cell_type": "markdown",
   "id": "f68bcecc",
   "metadata": {},
   "source": [
    "Проверим гипотезу о том, будет ли помесячная выручка от пользователей с подпиской по месяцам выше, чем выручка от пользователей без подписки.\n",
    "Выдвенем гипотезы: \n",
    "\n",
    "H0: Средняя месячная выручка от пользователей с подпиской равна средней месячной выручке от пользователей без подписки\n",
    "\n",
    "H1: Средняя месячная выручка от пользователей с подпиской выше средней месячной выручки от пользователей без подписки\n",
    "\n",
    "Мы снова имеем дело с односторонней гипотезой используем метод для проверки гипотезы scipy.stats.ttest_ind(array1, array2, equal_var, alternative)"
   ]
  },
  {
   "cell_type": "code",
   "execution_count": 55,
   "id": "6b980ddc",
   "metadata": {},
   "outputs": [
    {
     "name": "stdout",
     "output_type": "stream",
     "text": [
      "p-значение: 1.8850394384715216e-31\n",
      "Отвергаем нулевую гипотезу\n"
     ]
    }
   ],
   "source": [
    "alpha = 0.05 # уровень статистической значимости\n",
    "results = st.ttest_ind(\n",
    "    revenue_users.loc[revenue_users['subscription_fee'] == 199, 'revenue'], \n",
    "    revenue_users.loc[revenue_users['subscription_fee'] == 0, 'revenue'], \n",
    "    alternative='greater')\n",
    "\n",
    "print('p-значение:', results.pvalue)\n",
    "\n",
    "if results.pvalue < alpha:\n",
    "    print('Отвергаем нулевую гипотезу')\n",
    "else:\n",
    "    print('Не получилось отвергнуть нулевую гипотезу') "
   ]
  },
  {
   "cell_type": "markdown",
   "id": "95c3f078",
   "metadata": {},
   "source": [
    "Выведем на экран средние значения выручки пользователей с подпиской и без, используя метод *mean()*"
   ]
  },
  {
   "cell_type": "code",
   "execution_count": 56,
   "id": "b06d5783",
   "metadata": {},
   "outputs": [
    {
     "data": {
      "text/plain": [
       "'Среднее время поездок пользователей с подпиской:'"
      ]
     },
     "metadata": {},
     "output_type": "display_data"
    },
    {
     "data": {
      "text/plain": [
       "362.7921906022502"
      ]
     },
     "metadata": {},
     "output_type": "display_data"
    },
    {
     "data": {
      "text/plain": [
       "'Среднее время поездок пользователей без подписки:'"
      ]
     },
     "metadata": {},
     "output_type": "display_data"
    },
    {
     "data": {
      "text/plain": [
       "328.6413651073845"
      ]
     },
     "metadata": {},
     "output_type": "display_data"
    }
   ],
   "source": [
    "display('Среднее время поездок пользователей с подпиской:', revenue_users.loc[revenue_users['subscription_fee'] == 199, 'revenue'].mean())\n",
    "display('Среднее время поездок пользователей без подписки:', revenue_users.loc[revenue_users['subscription_fee'] == 0, 'revenue'].mean())"
   ]
  },
  {
   "cell_type": "markdown",
   "id": "cbf76d3d",
   "metadata": {},
   "source": [
    "Нулевая гипотеза отвергнута, значит у нас есть основание полагать, что при уровне статистической значимости в 5% помесячная выручка от пользователей с подпиской выше помесячной выручки от пользователей без подписки. Наши рассуждения подтверждают выведенные значения средней выручки пользователей с подпиской и без. "
   ]
  },
  {
   "cell_type": "markdown",
   "id": "ad2ae547",
   "metadata": {},
   "source": [
    "#####  Представим ситуацию: техническая команда сервиса обновила сервера, с которыми взаимодействует мобильное приложение. Она надеется, что из-за этого количество обращений в техподдержку значимо снизилось. Некоторый файл содержит для каждого пользователя данные о количестве обращений до обновления и после него. "
   ]
  },
  {
   "cell_type": "markdown",
   "id": "f24f0756",
   "metadata": {},
   "source": [
    "При такой ситуации мы имеем две зависимые (парные) выборки, так как мы проверяем гипотезы о равенстве среднего генеральной совокупности до и после изменения.Следовательно в данном случае стоит применить метод scipy.stats.ttest_rel(), при проверке на то что, истинное среднее значение генеральной выборки до изменения больше, чем истинное среднее значение генеральной совокупности после изменения, это односторонняя гипотеза, следует указать alternative=\"less\"."
   ]
  },
  {
   "cell_type": "markdown",
   "id": "61213c5e",
   "metadata": {},
   "source": [
    "#### Шаг 7. Общий вывод"
   ]
  },
  {
   "cell_type": "markdown",
   "id": "4a910c91",
   "metadata": {},
   "source": [
    "В процессе исследования данных о пользователях популярного сервиса аренды самокатов 'GoFast' были выполнены работы по предобработке данных: столбец *date* приведен к корректному типу данных, удалены дубликаты. \n",
    "Из исследовательского анализа данных мы сделали выводы, что: \n",
    "\n",
    "    - самый полулярный город сервиса - это Пятигорск, самый непопулярный - Москва \n",
    "    - количество пользователей без подписки 54,4% превышает количество пользователей с подпиской ultra 45,6%\n",
    "    - самокаты популярнее всего у пользователей в возрасте от 22 до 28 лет, при этом на гистограмме видно, что медиана - 25-лет, а основную аудиторию сервиса аренды самокатов GoFast составляют пользователи примерно от 12 (это минимум) до 37 лет. Средний возраст и медиана практически совпадают. Среди пользователей некоторым менее 18 лет,  именно с этого возраста разрешен прокат самокатов. В некоторых компаниях и регионах разрешено с 14 лет, но при письменном согласии родителей. В датасете минимальный возраст 12 лет, это явное нарушение существующих норм.Гистограмма возраста пользователей является нормальным распределение.\n",
    "    - основной диапазон значений расстояния, которое пользователь преодолел за одну поездку, лежит в пределах от примерно 700 метров до 5600 метров, за этими пределами выбросы. Чаще всего длина одной поездки составляет от 2,5 км до 3,8 км\n",
    "    - основной диапазон значений продолжительности поездок примерно от 2 до 34 минут. Чаще всего поездки длятся около 14 - 22 минут. На гисторгамме видно аномальное время поездок порядка 100 с временем менее 1 минуты. Построенная гисторгама указывают, что в столбце времени присутствуют аномалии.Не смотря на такую низкую продолжительность поездки, эти данные удалять не рекомендуется, так как в дальнейшем производится расчет выручки, которая определяет финансовый результат Сервиса аранды самокатов. Например, пользователь без подписки оплачивает фиксированную сумму только за старт поездки. Более того, эти аномально низкие поездки имеют достаточное расстояние поездки, которое то же будет анализироваться далее. О данной аномалии необходимо указать владельцам проката для устранения.\n",
    "    \n",
    "В исследовании были созданы датафреймы с данными о пользователях без подписки и с подпиской. по визуализации данных датафреймов мы сделали вывод, что пользователи с подпиской в основном берут самокат на более длительные расстояния, в то время как пользователи без подписки, у которых расстояния одной поездки начинаются с 50 метров, бывает берут самокат, чтобы попробовать. По продолжительности поездок данные пользователй без подписки и пользователй с подпиской очень близки друг к другу."
   ]
  },
  {
   "cell_type": "markdown",
   "id": "dc340671",
   "metadata": {},
   "source": [
    "В работе мы посчитали общую выручку сервиса аренды самокатов за предоставленный нам период, она составила 3878641 рубль.\n",
    "В исследовании мы проверили три гипотезы, кратние выводы такие:\n",
    "\n",
    "    - можем предполагать, что пользователи с подпиской тратят больше времени на поездки, чем пользователи без подпискию Выведенные средние значения времени поездок пользователей с подпиской и без подстверждают наше предположение.\n",
    "    - можем предполагать, что среднее расстояние, которое пользователи с подпиской проезжают за одну поездку, при уровне статистической значимости в 5% не превышает оптимального расстояния в 3130 метров с точки зрения износа\n",
    "    - есть основание полагать, что при уровне статистической значимости в 5% помесячная выручка от пользователей с подпиской выше помесячной выручки от пользователей без подписки. Наши рассуждения подтверждают выведенные значения средней выручки пользователей с подпиской и без.\n",
    "    \n",
    "Общий вывод работы: пользователи с подпиской являются более выгодными клиентами для сервиса аренды самокатов."
   ]
  }
 ],
 "metadata": {
  "ExecuteTimeLog": [
   {
    "duration": 452,
    "start_time": "2024-11-24T11:23:39.734Z"
   },
   {
    "duration": 92,
    "start_time": "2024-11-24T11:25:44.520Z"
   },
   {
    "duration": 33,
    "start_time": "2024-11-24T11:25:58.166Z"
   },
   {
    "duration": 11,
    "start_time": "2024-11-24T11:30:58.076Z"
   },
   {
    "duration": 59,
    "start_time": "2024-11-24T11:33:38.580Z"
   },
   {
    "duration": 175,
    "start_time": "2024-11-24T11:35:44.030Z"
   },
   {
    "duration": 12,
    "start_time": "2024-11-24T11:35:54.036Z"
   },
   {
    "duration": 88,
    "start_time": "2024-11-24T11:43:49.362Z"
   },
   {
    "duration": 15,
    "start_time": "2024-11-24T11:44:24.463Z"
   },
   {
    "duration": 25,
    "start_time": "2024-11-24T11:54:56.888Z"
   },
   {
    "duration": 17,
    "start_time": "2024-11-24T12:02:36.664Z"
   },
   {
    "duration": 1049,
    "start_time": "2024-11-24T12:05:45.716Z"
   },
   {
    "duration": 5,
    "start_time": "2024-11-24T12:06:13.314Z"
   },
   {
    "duration": 6,
    "start_time": "2024-11-24T12:12:45.273Z"
   },
   {
    "duration": 559,
    "start_time": "2024-11-24T12:19:48.715Z"
   },
   {
    "duration": 0,
    "start_time": "2024-11-24T12:22:23.175Z"
   },
   {
    "duration": 0,
    "start_time": "2024-11-24T12:22:23.177Z"
   },
   {
    "duration": 3,
    "start_time": "2024-11-24T12:22:25.246Z"
   },
   {
    "duration": 134,
    "start_time": "2024-11-24T12:22:28.350Z"
   },
   {
    "duration": 21,
    "start_time": "2024-11-24T12:22:54.628Z"
   },
   {
    "duration": 179,
    "start_time": "2024-11-24T12:26:36.762Z"
   },
   {
    "duration": 154,
    "start_time": "2024-11-24T12:26:45.793Z"
   },
   {
    "duration": 157,
    "start_time": "2024-11-24T12:30:19.566Z"
   },
   {
    "duration": 193,
    "start_time": "2024-11-24T12:31:39.825Z"
   },
   {
    "duration": 142,
    "start_time": "2024-11-24T12:31:47.907Z"
   },
   {
    "duration": 161,
    "start_time": "2024-11-24T12:32:22.080Z"
   },
   {
    "duration": 179,
    "start_time": "2024-11-24T12:32:50.865Z"
   },
   {
    "duration": 11,
    "start_time": "2024-11-24T12:42:30.192Z"
   },
   {
    "duration": 407,
    "start_time": "2024-11-24T19:07:37.167Z"
   },
   {
    "duration": 80,
    "start_time": "2024-11-24T19:07:37.575Z"
   },
   {
    "duration": 9,
    "start_time": "2024-11-24T19:07:37.656Z"
   },
   {
    "duration": 165,
    "start_time": "2024-11-24T19:07:37.667Z"
   },
   {
    "duration": 10,
    "start_time": "2024-11-24T19:07:37.833Z"
   },
   {
    "duration": 79,
    "start_time": "2024-11-24T19:07:37.844Z"
   },
   {
    "duration": 8,
    "start_time": "2024-11-24T19:07:37.925Z"
   },
   {
    "duration": 25,
    "start_time": "2024-11-24T19:07:37.935Z"
   },
   {
    "duration": 9,
    "start_time": "2024-11-24T19:07:37.961Z"
   },
   {
    "duration": 10,
    "start_time": "2024-11-24T19:07:37.971Z"
   },
   {
    "duration": 394,
    "start_time": "2024-11-24T19:07:37.983Z"
   },
   {
    "duration": 6,
    "start_time": "2024-11-24T19:07:38.379Z"
   },
   {
    "duration": 131,
    "start_time": "2024-11-24T19:07:38.387Z"
   },
   {
    "duration": 0,
    "start_time": "2024-11-24T19:07:38.520Z"
   },
   {
    "duration": 6,
    "start_time": "2024-11-24T19:09:06.097Z"
   },
   {
    "duration": 185,
    "start_time": "2024-11-24T19:09:15.300Z"
   },
   {
    "duration": 5,
    "start_time": "2024-11-24T19:38:31.181Z"
   },
   {
    "duration": 5,
    "start_time": "2024-11-24T19:38:55.765Z"
   },
   {
    "duration": 7,
    "start_time": "2024-11-24T19:41:11.893Z"
   },
   {
    "duration": 5,
    "start_time": "2024-11-24T19:41:49.950Z"
   },
   {
    "duration": 8,
    "start_time": "2024-11-24T19:42:37.660Z"
   },
   {
    "duration": 63,
    "start_time": "2024-11-24T19:45:49.414Z"
   },
   {
    "duration": 110,
    "start_time": "2024-11-24T19:45:59.714Z"
   },
   {
    "duration": 450,
    "start_time": "2024-11-25T11:05:34.734Z"
   },
   {
    "duration": 94,
    "start_time": "2024-11-25T11:05:35.186Z"
   },
   {
    "duration": 12,
    "start_time": "2024-11-25T11:05:35.283Z"
   },
   {
    "duration": 168,
    "start_time": "2024-11-25T11:05:35.298Z"
   },
   {
    "duration": 13,
    "start_time": "2024-11-25T11:05:35.468Z"
   },
   {
    "duration": 119,
    "start_time": "2024-11-25T11:05:35.483Z"
   },
   {
    "duration": 10,
    "start_time": "2024-11-25T11:05:35.604Z"
   },
   {
    "duration": 53,
    "start_time": "2024-11-25T11:05:35.616Z"
   },
   {
    "duration": 22,
    "start_time": "2024-11-25T11:05:35.671Z"
   },
   {
    "duration": 82,
    "start_time": "2024-11-25T11:05:35.696Z"
   },
   {
    "duration": 477,
    "start_time": "2024-11-25T11:05:35.780Z"
   },
   {
    "duration": 8,
    "start_time": "2024-11-25T11:05:36.259Z"
   },
   {
    "duration": 43,
    "start_time": "2024-11-25T11:05:36.268Z"
   },
   {
    "duration": 236,
    "start_time": "2024-11-25T11:05:36.313Z"
   },
   {
    "duration": 6,
    "start_time": "2024-11-25T11:05:36.551Z"
   },
   {
    "duration": 166,
    "start_time": "2024-11-25T11:05:36.559Z"
   },
   {
    "duration": 8,
    "start_time": "2024-11-25T11:05:36.727Z"
   },
   {
    "duration": 149,
    "start_time": "2024-11-25T11:14:24.547Z"
   },
   {
    "duration": 82,
    "start_time": "2024-11-25T11:16:53.246Z"
   },
   {
    "duration": 172,
    "start_time": "2024-11-25T11:21:47.984Z"
   },
   {
    "duration": 170,
    "start_time": "2024-11-25T11:23:08.444Z"
   },
   {
    "duration": 171,
    "start_time": "2024-11-25T11:23:34.256Z"
   },
   {
    "duration": 197,
    "start_time": "2024-11-25T11:26:07.349Z"
   },
   {
    "duration": 195,
    "start_time": "2024-11-25T11:26:16.387Z"
   },
   {
    "duration": 112,
    "start_time": "2024-11-25T11:28:16.660Z"
   },
   {
    "duration": 9,
    "start_time": "2024-11-25T11:29:43.309Z"
   },
   {
    "duration": 151,
    "start_time": "2024-11-25T11:49:35.934Z"
   },
   {
    "duration": 146,
    "start_time": "2024-11-25T11:49:41.346Z"
   },
   {
    "duration": 414,
    "start_time": "2024-11-25T19:08:37.512Z"
   },
   {
    "duration": 142,
    "start_time": "2024-11-25T19:08:37.928Z"
   },
   {
    "duration": 10,
    "start_time": "2024-11-25T19:08:38.072Z"
   },
   {
    "duration": 232,
    "start_time": "2024-11-25T19:08:38.084Z"
   },
   {
    "duration": 10,
    "start_time": "2024-11-25T19:08:38.317Z"
   },
   {
    "duration": 93,
    "start_time": "2024-11-25T19:08:38.329Z"
   },
   {
    "duration": 9,
    "start_time": "2024-11-25T19:08:38.423Z"
   },
   {
    "duration": 27,
    "start_time": "2024-11-25T19:08:38.434Z"
   },
   {
    "duration": 10,
    "start_time": "2024-11-25T19:08:38.462Z"
   },
   {
    "duration": 3,
    "start_time": "2024-11-25T19:08:38.474Z"
   },
   {
    "duration": 408,
    "start_time": "2024-11-25T19:08:38.478Z"
   },
   {
    "duration": 7,
    "start_time": "2024-11-25T19:08:38.888Z"
   },
   {
    "duration": 7,
    "start_time": "2024-11-25T19:08:38.896Z"
   },
   {
    "duration": 200,
    "start_time": "2024-11-25T19:08:38.905Z"
   },
   {
    "duration": 6,
    "start_time": "2024-11-25T19:08:39.106Z"
   },
   {
    "duration": 126,
    "start_time": "2024-11-25T19:08:39.121Z"
   },
   {
    "duration": 8,
    "start_time": "2024-11-25T19:08:39.249Z"
   },
   {
    "duration": 181,
    "start_time": "2024-11-25T19:08:39.258Z"
   },
   {
    "duration": 147,
    "start_time": "2024-11-25T19:08:39.440Z"
   },
   {
    "duration": 3,
    "start_time": "2024-11-25T19:08:39.588Z"
   },
   {
    "duration": 0,
    "start_time": "2024-11-25T19:08:39.593Z"
   },
   {
    "duration": 181,
    "start_time": "2024-11-25T19:09:36.534Z"
   },
   {
    "duration": 178,
    "start_time": "2024-11-25T19:11:00.850Z"
   },
   {
    "duration": 123,
    "start_time": "2024-11-25T19:11:16.234Z"
   },
   {
    "duration": 188,
    "start_time": "2024-11-25T19:16:13.542Z"
   },
   {
    "duration": 114,
    "start_time": "2024-11-25T19:16:16.574Z"
   },
   {
    "duration": 149,
    "start_time": "2024-11-25T19:21:19.832Z"
   },
   {
    "duration": 143,
    "start_time": "2024-11-25T19:22:54.624Z"
   },
   {
    "duration": 124,
    "start_time": "2024-11-25T19:27:47.726Z"
   },
   {
    "duration": 24,
    "start_time": "2024-11-25T19:39:04.120Z"
   },
   {
    "duration": 21,
    "start_time": "2024-11-25T19:39:26.332Z"
   },
   {
    "duration": 17,
    "start_time": "2024-11-25T19:39:34.660Z"
   },
   {
    "duration": 23,
    "start_time": "2024-11-25T19:44:21.328Z"
   },
   {
    "duration": 19,
    "start_time": "2024-11-25T19:49:42.582Z"
   },
   {
    "duration": 11,
    "start_time": "2024-11-25T19:53:26.322Z"
   },
   {
    "duration": 26,
    "start_time": "2024-11-25T19:53:34.369Z"
   },
   {
    "duration": 22,
    "start_time": "2024-11-25T19:53:43.840Z"
   },
   {
    "duration": 19,
    "start_time": "2024-11-25T19:54:54.606Z"
   },
   {
    "duration": 381,
    "start_time": "2024-11-26T10:50:31.401Z"
   },
   {
    "duration": 130,
    "start_time": "2024-11-26T10:50:31.784Z"
   },
   {
    "duration": 11,
    "start_time": "2024-11-26T10:50:31.916Z"
   },
   {
    "duration": 208,
    "start_time": "2024-11-26T10:50:31.929Z"
   },
   {
    "duration": 14,
    "start_time": "2024-11-26T10:50:32.139Z"
   },
   {
    "duration": 101,
    "start_time": "2024-11-26T10:50:32.155Z"
   },
   {
    "duration": 13,
    "start_time": "2024-11-26T10:50:32.258Z"
   },
   {
    "duration": 93,
    "start_time": "2024-11-26T10:50:32.273Z"
   },
   {
    "duration": 14,
    "start_time": "2024-11-26T10:50:32.369Z"
   },
   {
    "duration": 4,
    "start_time": "2024-11-26T10:50:32.386Z"
   },
   {
    "duration": 448,
    "start_time": "2024-11-26T10:50:32.392Z"
   },
   {
    "duration": 11,
    "start_time": "2024-11-26T10:50:32.842Z"
   },
   {
    "duration": 10,
    "start_time": "2024-11-26T10:50:32.854Z"
   },
   {
    "duration": 222,
    "start_time": "2024-11-26T10:50:32.865Z"
   },
   {
    "duration": 7,
    "start_time": "2024-11-26T10:50:33.088Z"
   },
   {
    "duration": 152,
    "start_time": "2024-11-26T10:50:33.096Z"
   },
   {
    "duration": 8,
    "start_time": "2024-11-26T10:50:33.251Z"
   },
   {
    "duration": 220,
    "start_time": "2024-11-26T10:50:33.261Z"
   },
   {
    "duration": 183,
    "start_time": "2024-11-26T10:50:33.483Z"
   },
   {
    "duration": 238,
    "start_time": "2024-11-26T10:50:33.668Z"
   },
   {
    "duration": 193,
    "start_time": "2024-11-26T10:50:33.908Z"
   },
   {
    "duration": 204,
    "start_time": "2024-11-26T10:50:34.102Z"
   },
   {
    "duration": 164,
    "start_time": "2024-11-26T10:50:34.308Z"
   },
   {
    "duration": 19,
    "start_time": "2024-11-26T10:50:34.474Z"
   },
   {
    "duration": 48,
    "start_time": "2024-11-26T10:50:34.495Z"
   },
   {
    "duration": 20,
    "start_time": "2024-11-26T10:50:34.545Z"
   },
   {
    "duration": 16,
    "start_time": "2024-11-26T10:50:34.568Z"
   },
   {
    "duration": 185,
    "start_time": "2024-11-26T11:17:24.073Z"
   },
   {
    "duration": 189,
    "start_time": "2024-11-26T11:17:27.283Z"
   },
   {
    "duration": 161,
    "start_time": "2024-11-26T11:20:01.979Z"
   },
   {
    "duration": 148,
    "start_time": "2024-11-26T11:20:07.649Z"
   },
   {
    "duration": 166,
    "start_time": "2024-11-26T11:27:59.704Z"
   },
   {
    "duration": 146,
    "start_time": "2024-11-26T11:28:04.932Z"
   },
   {
    "duration": 266,
    "start_time": "2024-11-26T11:32:53.527Z"
   },
   {
    "duration": 143,
    "start_time": "2024-11-26T11:32:57.611Z"
   },
   {
    "duration": 395,
    "start_time": "2024-11-26T18:51:54.091Z"
   },
   {
    "duration": 44,
    "start_time": "2024-11-26T18:51:54.489Z"
   },
   {
    "duration": 12,
    "start_time": "2024-11-26T18:51:54.536Z"
   },
   {
    "duration": 37,
    "start_time": "2024-11-26T18:51:54.550Z"
   },
   {
    "duration": 12,
    "start_time": "2024-11-26T18:51:54.589Z"
   },
   {
    "duration": 21,
    "start_time": "2024-11-26T18:51:54.603Z"
   },
   {
    "duration": 11,
    "start_time": "2024-11-26T18:51:54.626Z"
   },
   {
    "duration": 34,
    "start_time": "2024-11-26T18:51:54.639Z"
   },
   {
    "duration": 15,
    "start_time": "2024-11-26T18:51:54.675Z"
   },
   {
    "duration": 5,
    "start_time": "2024-11-26T18:51:54.692Z"
   },
   {
    "duration": 266,
    "start_time": "2024-11-26T18:51:54.699Z"
   },
   {
    "duration": 6,
    "start_time": "2024-11-26T18:51:54.967Z"
   },
   {
    "duration": 8,
    "start_time": "2024-11-26T18:51:54.976Z"
   },
   {
    "duration": 211,
    "start_time": "2024-11-26T18:51:54.988Z"
   },
   {
    "duration": 6,
    "start_time": "2024-11-26T18:51:55.201Z"
   },
   {
    "duration": 147,
    "start_time": "2024-11-26T18:51:55.209Z"
   },
   {
    "duration": 8,
    "start_time": "2024-11-26T18:51:55.358Z"
   },
   {
    "duration": 192,
    "start_time": "2024-11-26T18:51:55.368Z"
   },
   {
    "duration": 122,
    "start_time": "2024-11-26T18:51:55.562Z"
   },
   {
    "duration": 277,
    "start_time": "2024-11-26T18:51:55.686Z"
   },
   {
    "duration": 174,
    "start_time": "2024-11-26T18:51:55.965Z"
   },
   {
    "duration": 205,
    "start_time": "2024-11-26T18:51:56.141Z"
   },
   {
    "duration": 143,
    "start_time": "2024-11-26T18:51:56.351Z"
   },
   {
    "duration": 19,
    "start_time": "2024-11-26T18:51:56.496Z"
   },
   {
    "duration": 37,
    "start_time": "2024-11-26T18:51:56.516Z"
   },
   {
    "duration": 18,
    "start_time": "2024-11-26T18:51:56.555Z"
   },
   {
    "duration": 204,
    "start_time": "2024-11-26T18:51:56.575Z"
   },
   {
    "duration": 166,
    "start_time": "2024-11-26T18:51:56.781Z"
   },
   {
    "duration": 210,
    "start_time": "2024-11-26T18:51:56.949Z"
   },
   {
    "duration": 162,
    "start_time": "2024-11-26T18:51:57.161Z"
   },
   {
    "duration": 16,
    "start_time": "2024-11-26T18:51:57.324Z"
   },
   {
    "duration": 189,
    "start_time": "2024-11-26T18:51:57.341Z"
   },
   {
    "duration": 151,
    "start_time": "2024-11-26T18:51:57.531Z"
   },
   {
    "duration": 200,
    "start_time": "2024-11-26T18:51:57.684Z"
   },
   {
    "duration": 232,
    "start_time": "2024-11-26T18:51:57.886Z"
   },
   {
    "duration": 18,
    "start_time": "2024-11-26T18:51:58.120Z"
   },
   {
    "duration": 28,
    "start_time": "2024-11-26T18:52:15.189Z"
   },
   {
    "duration": 79,
    "start_time": "2024-11-26T18:53:28.317Z"
   },
   {
    "duration": 32,
    "start_time": "2024-11-26T18:54:16.190Z"
   },
   {
    "duration": 13,
    "start_time": "2024-11-26T19:01:37.809Z"
   },
   {
    "duration": 16,
    "start_time": "2024-11-26T19:02:17.285Z"
   },
   {
    "duration": 13,
    "start_time": "2024-11-26T19:02:39.139Z"
   },
   {
    "duration": 4,
    "start_time": "2024-11-26T19:20:23.683Z"
   },
   {
    "duration": 9,
    "start_time": "2024-11-26T19:20:34.484Z"
   },
   {
    "duration": 72,
    "start_time": "2024-11-26T19:30:13.892Z"
   },
   {
    "duration": 63,
    "start_time": "2024-11-26T19:34:46.016Z"
   },
   {
    "duration": 14,
    "start_time": "2024-11-26T19:34:52.904Z"
   },
   {
    "duration": 13,
    "start_time": "2024-11-26T19:35:00.088Z"
   },
   {
    "duration": 13,
    "start_time": "2024-11-26T19:35:08.895Z"
   },
   {
    "duration": 8,
    "start_time": "2024-11-26T19:36:09.490Z"
   },
   {
    "duration": 14,
    "start_time": "2024-11-26T19:36:20.375Z"
   },
   {
    "duration": 11,
    "start_time": "2024-11-26T19:37:20.304Z"
   },
   {
    "duration": 11,
    "start_time": "2024-11-26T19:39:06.995Z"
   },
   {
    "duration": 9,
    "start_time": "2024-11-26T19:45:57.444Z"
   },
   {
    "duration": 47,
    "start_time": "2024-11-26T19:46:04.940Z"
   },
   {
    "duration": 10,
    "start_time": "2024-11-26T19:46:07.693Z"
   },
   {
    "duration": 10,
    "start_time": "2024-11-26T19:46:12.969Z"
   },
   {
    "duration": 12,
    "start_time": "2024-11-26T19:46:14.881Z"
   },
   {
    "duration": 4,
    "start_time": "2024-11-26T19:47:09.098Z"
   },
   {
    "duration": 461,
    "start_time": "2024-11-26T20:14:42.020Z"
   },
   {
    "duration": 5,
    "start_time": "2024-11-26T20:27:51.814Z"
   },
   {
    "duration": 40,
    "start_time": "2024-11-26T20:28:10.609Z"
   },
   {
    "duration": 5,
    "start_time": "2024-11-26T20:29:08.370Z"
   },
   {
    "duration": 5,
    "start_time": "2024-11-26T20:29:37.322Z"
   },
   {
    "duration": 5,
    "start_time": "2024-11-26T20:29:55.042Z"
   },
   {
    "duration": 5,
    "start_time": "2024-11-26T20:30:43.322Z"
   },
   {
    "duration": 78,
    "start_time": "2024-11-26T20:38:59.520Z"
   },
   {
    "duration": 17,
    "start_time": "2024-11-26T20:39:24.553Z"
   },
   {
    "duration": 13,
    "start_time": "2024-11-26T20:39:31.786Z"
   },
   {
    "duration": 14,
    "start_time": "2024-11-26T20:39:38.206Z"
   },
   {
    "duration": 5,
    "start_time": "2024-11-26T20:39:41.973Z"
   },
   {
    "duration": 16,
    "start_time": "2024-11-26T20:45:36.187Z"
   },
   {
    "duration": 69,
    "start_time": "2024-11-26T20:45:55.950Z"
   },
   {
    "duration": 13,
    "start_time": "2024-11-26T20:46:00.094Z"
   },
   {
    "duration": 21,
    "start_time": "2024-11-26T20:46:06.050Z"
   },
   {
    "duration": 5,
    "start_time": "2024-11-26T20:46:13.010Z"
   },
   {
    "duration": 14,
    "start_time": "2024-11-26T20:56:56.062Z"
   },
   {
    "duration": 8,
    "start_time": "2024-11-26T21:14:14.277Z"
   },
   {
    "duration": 6,
    "start_time": "2024-11-26T21:14:42.337Z"
   },
   {
    "duration": 10,
    "start_time": "2024-11-26T21:14:58.645Z"
   },
   {
    "duration": 6,
    "start_time": "2024-11-26T21:17:12.498Z"
   },
   {
    "duration": 10,
    "start_time": "2024-11-26T21:17:19.961Z"
   },
   {
    "duration": 458,
    "start_time": "2024-11-26T21:20:23.125Z"
   },
   {
    "duration": 42,
    "start_time": "2024-11-26T21:20:23.585Z"
   },
   {
    "duration": 11,
    "start_time": "2024-11-26T21:20:23.629Z"
   },
   {
    "duration": 42,
    "start_time": "2024-11-26T21:20:23.642Z"
   },
   {
    "duration": 13,
    "start_time": "2024-11-26T21:20:23.686Z"
   },
   {
    "duration": 20,
    "start_time": "2024-11-26T21:20:23.701Z"
   },
   {
    "duration": 11,
    "start_time": "2024-11-26T21:20:23.723Z"
   },
   {
    "duration": 36,
    "start_time": "2024-11-26T21:20:23.736Z"
   },
   {
    "duration": 11,
    "start_time": "2024-11-26T21:20:23.774Z"
   },
   {
    "duration": 50,
    "start_time": "2024-11-26T21:20:23.788Z"
   },
   {
    "duration": 19,
    "start_time": "2024-11-26T21:20:23.839Z"
   },
   {
    "duration": 24,
    "start_time": "2024-11-26T21:20:23.860Z"
   },
   {
    "duration": 7,
    "start_time": "2024-11-26T21:20:23.887Z"
   },
   {
    "duration": 317,
    "start_time": "2024-11-26T21:20:23.896Z"
   },
   {
    "duration": 6,
    "start_time": "2024-11-26T21:20:24.215Z"
   },
   {
    "duration": 8,
    "start_time": "2024-11-26T21:20:24.224Z"
   },
   {
    "duration": 220,
    "start_time": "2024-11-26T21:20:24.234Z"
   },
   {
    "duration": 14,
    "start_time": "2024-11-26T21:20:24.456Z"
   },
   {
    "duration": 212,
    "start_time": "2024-11-26T21:20:24.472Z"
   },
   {
    "duration": 8,
    "start_time": "2024-11-26T21:20:24.686Z"
   },
   {
    "duration": 214,
    "start_time": "2024-11-26T21:20:24.696Z"
   },
   {
    "duration": 123,
    "start_time": "2024-11-26T21:20:24.912Z"
   },
   {
    "duration": 276,
    "start_time": "2024-11-26T21:20:25.038Z"
   },
   {
    "duration": 182,
    "start_time": "2024-11-26T21:20:25.315Z"
   },
   {
    "duration": 218,
    "start_time": "2024-11-26T21:20:25.499Z"
   },
   {
    "duration": 166,
    "start_time": "2024-11-26T21:20:25.719Z"
   },
   {
    "duration": 24,
    "start_time": "2024-11-26T21:20:25.886Z"
   },
   {
    "duration": 59,
    "start_time": "2024-11-26T21:20:25.913Z"
   },
   {
    "duration": 20,
    "start_time": "2024-11-26T21:20:25.978Z"
   },
   {
    "duration": 194,
    "start_time": "2024-11-26T21:20:26.000Z"
   },
   {
    "duration": 179,
    "start_time": "2024-11-26T21:20:26.195Z"
   },
   {
    "duration": 228,
    "start_time": "2024-11-26T21:20:26.376Z"
   },
   {
    "duration": 164,
    "start_time": "2024-11-26T21:20:26.606Z"
   },
   {
    "duration": 17,
    "start_time": "2024-11-26T21:20:26.772Z"
   },
   {
    "duration": 191,
    "start_time": "2024-11-26T21:20:26.790Z"
   },
   {
    "duration": 159,
    "start_time": "2024-11-26T21:20:26.983Z"
   },
   {
    "duration": 212,
    "start_time": "2024-11-26T21:20:27.144Z"
   },
   {
    "duration": 240,
    "start_time": "2024-11-26T21:20:27.364Z"
   },
   {
    "duration": 15,
    "start_time": "2024-11-26T21:20:27.606Z"
   },
   {
    "duration": 78,
    "start_time": "2024-11-26T21:20:27.622Z"
   },
   {
    "duration": 13,
    "start_time": "2024-11-26T21:20:27.702Z"
   },
   {
    "duration": 15,
    "start_time": "2024-11-26T21:20:27.717Z"
   },
   {
    "duration": 26,
    "start_time": "2024-11-26T21:20:27.733Z"
   },
   {
    "duration": 418,
    "start_time": "2024-11-26T21:20:27.764Z"
   },
   {
    "duration": 6,
    "start_time": "2024-11-26T21:20:28.184Z"
   },
   {
    "duration": 9,
    "start_time": "2024-11-26T21:20:28.191Z"
   },
   {
    "duration": 434,
    "start_time": "2024-11-26T22:03:26.576Z"
   },
   {
    "duration": 42,
    "start_time": "2024-11-26T22:03:27.012Z"
   },
   {
    "duration": 12,
    "start_time": "2024-11-26T22:03:27.055Z"
   },
   {
    "duration": 41,
    "start_time": "2024-11-26T22:03:27.068Z"
   },
   {
    "duration": 12,
    "start_time": "2024-11-26T22:03:27.111Z"
   },
   {
    "duration": 31,
    "start_time": "2024-11-26T22:03:27.125Z"
   },
   {
    "duration": 10,
    "start_time": "2024-11-26T22:03:27.158Z"
   },
   {
    "duration": 33,
    "start_time": "2024-11-26T22:03:27.170Z"
   },
   {
    "duration": 11,
    "start_time": "2024-11-26T22:03:27.205Z"
   },
   {
    "duration": 7,
    "start_time": "2024-11-26T22:03:27.217Z"
   },
   {
    "duration": 8,
    "start_time": "2024-11-26T22:03:27.225Z"
   },
   {
    "duration": 7,
    "start_time": "2024-11-26T22:03:27.235Z"
   },
   {
    "duration": 9,
    "start_time": "2024-11-26T22:03:27.244Z"
   },
   {
    "duration": 239,
    "start_time": "2024-11-26T22:03:27.297Z"
   },
   {
    "duration": 6,
    "start_time": "2024-11-26T22:03:27.538Z"
   },
   {
    "duration": 8,
    "start_time": "2024-11-26T22:03:27.545Z"
   },
   {
    "duration": 213,
    "start_time": "2024-11-26T22:03:27.554Z"
   },
   {
    "duration": 6,
    "start_time": "2024-11-26T22:03:27.769Z"
   },
   {
    "duration": 148,
    "start_time": "2024-11-26T22:03:27.777Z"
   },
   {
    "duration": 7,
    "start_time": "2024-11-26T22:03:27.927Z"
   },
   {
    "duration": 191,
    "start_time": "2024-11-26T22:03:27.935Z"
   },
   {
    "duration": 113,
    "start_time": "2024-11-26T22:03:28.127Z"
   },
   {
    "duration": 277,
    "start_time": "2024-11-26T22:03:28.242Z"
   },
   {
    "duration": 158,
    "start_time": "2024-11-26T22:03:28.521Z"
   },
   {
    "duration": 200,
    "start_time": "2024-11-26T22:03:28.681Z"
   },
   {
    "duration": 149,
    "start_time": "2024-11-26T22:03:28.883Z"
   },
   {
    "duration": 19,
    "start_time": "2024-11-26T22:03:29.033Z"
   },
   {
    "duration": 19,
    "start_time": "2024-11-26T22:03:29.054Z"
   },
   {
    "duration": 41,
    "start_time": "2024-11-26T22:03:29.075Z"
   },
   {
    "duration": 228,
    "start_time": "2024-11-26T22:03:29.117Z"
   },
   {
    "duration": 170,
    "start_time": "2024-11-26T22:03:29.346Z"
   },
   {
    "duration": 194,
    "start_time": "2024-11-26T22:03:29.518Z"
   },
   {
    "duration": 150,
    "start_time": "2024-11-26T22:03:29.714Z"
   },
   {
    "duration": 16,
    "start_time": "2024-11-26T22:03:29.866Z"
   },
   {
    "duration": 184,
    "start_time": "2024-11-26T22:03:29.883Z"
   },
   {
    "duration": 157,
    "start_time": "2024-11-26T22:03:30.068Z"
   },
   {
    "duration": 197,
    "start_time": "2024-11-26T22:03:30.226Z"
   },
   {
    "duration": 230,
    "start_time": "2024-11-26T22:03:30.425Z"
   },
   {
    "duration": 15,
    "start_time": "2024-11-26T22:03:30.657Z"
   },
   {
    "duration": 80,
    "start_time": "2024-11-26T22:03:30.674Z"
   },
   {
    "duration": 11,
    "start_time": "2024-11-26T22:03:30.759Z"
   },
   {
    "duration": 36,
    "start_time": "2024-11-26T22:03:30.772Z"
   },
   {
    "duration": 20,
    "start_time": "2024-11-26T22:03:30.810Z"
   },
   {
    "duration": 387,
    "start_time": "2024-11-26T22:03:30.832Z"
   },
   {
    "duration": 7,
    "start_time": "2024-11-26T22:03:31.221Z"
   },
   {
    "duration": 14,
    "start_time": "2024-11-26T22:03:31.230Z"
   },
   {
    "duration": 440,
    "start_time": "2024-11-27T11:29:01.622Z"
   },
   {
    "duration": 90,
    "start_time": "2024-11-27T11:29:02.064Z"
   },
   {
    "duration": 16,
    "start_time": "2024-11-27T11:29:02.159Z"
   },
   {
    "duration": 189,
    "start_time": "2024-11-27T11:29:02.178Z"
   },
   {
    "duration": 12,
    "start_time": "2024-11-27T11:29:02.369Z"
   },
   {
    "duration": 99,
    "start_time": "2024-11-27T11:29:02.383Z"
   },
   {
    "duration": 10,
    "start_time": "2024-11-27T11:29:02.484Z"
   },
   {
    "duration": 36,
    "start_time": "2024-11-27T11:29:02.496Z"
   },
   {
    "duration": 11,
    "start_time": "2024-11-27T11:29:02.534Z"
   },
   {
    "duration": 56,
    "start_time": "2024-11-27T11:29:02.547Z"
   },
   {
    "duration": 18,
    "start_time": "2024-11-27T11:29:02.604Z"
   },
   {
    "duration": 21,
    "start_time": "2024-11-27T11:29:02.623Z"
   },
   {
    "duration": 30,
    "start_time": "2024-11-27T11:29:02.648Z"
   },
   {
    "duration": 481,
    "start_time": "2024-11-27T11:29:02.679Z"
   },
   {
    "duration": 8,
    "start_time": "2024-11-27T11:29:03.162Z"
   },
   {
    "duration": 45,
    "start_time": "2024-11-27T11:29:03.172Z"
   },
   {
    "duration": 229,
    "start_time": "2024-11-27T11:29:03.219Z"
   },
   {
    "duration": 7,
    "start_time": "2024-11-27T11:29:03.450Z"
   },
   {
    "duration": 152,
    "start_time": "2024-11-27T11:29:03.459Z"
   },
   {
    "duration": 9,
    "start_time": "2024-11-27T11:29:03.617Z"
   },
   {
    "duration": 249,
    "start_time": "2024-11-27T11:29:03.628Z"
   },
   {
    "duration": 191,
    "start_time": "2024-11-27T11:29:03.879Z"
   },
   {
    "duration": 201,
    "start_time": "2024-11-27T11:29:04.071Z"
   },
   {
    "duration": 163,
    "start_time": "2024-11-27T11:29:04.274Z"
   },
   {
    "duration": 208,
    "start_time": "2024-11-27T11:29:04.438Z"
   },
   {
    "duration": 152,
    "start_time": "2024-11-27T11:29:04.648Z"
   },
   {
    "duration": 28,
    "start_time": "2024-11-27T11:29:04.803Z"
   },
   {
    "duration": 20,
    "start_time": "2024-11-27T11:29:04.833Z"
   },
   {
    "duration": 38,
    "start_time": "2024-11-27T11:29:04.855Z"
   },
   {
    "duration": 207,
    "start_time": "2024-11-27T11:29:04.895Z"
   },
   {
    "duration": 166,
    "start_time": "2024-11-27T11:29:05.103Z"
   },
   {
    "duration": 251,
    "start_time": "2024-11-27T11:29:05.272Z"
   },
   {
    "duration": 182,
    "start_time": "2024-11-27T11:29:05.525Z"
   },
   {
    "duration": 23,
    "start_time": "2024-11-27T11:29:05.710Z"
   },
   {
    "duration": 201,
    "start_time": "2024-11-27T11:29:05.735Z"
   },
   {
    "duration": 161,
    "start_time": "2024-11-27T11:29:05.937Z"
   },
   {
    "duration": 283,
    "start_time": "2024-11-27T11:29:06.100Z"
   },
   {
    "duration": 154,
    "start_time": "2024-11-27T11:29:06.384Z"
   },
   {
    "duration": 14,
    "start_time": "2024-11-27T11:29:06.539Z"
   },
   {
    "duration": 82,
    "start_time": "2024-11-27T11:29:06.557Z"
   },
   {
    "duration": 13,
    "start_time": "2024-11-27T11:29:06.641Z"
   },
   {
    "duration": 48,
    "start_time": "2024-11-27T11:29:06.655Z"
   },
   {
    "duration": 5,
    "start_time": "2024-11-27T11:29:06.705Z"
   },
   {
    "duration": 445,
    "start_time": "2024-11-27T11:29:06.712Z"
   },
   {
    "duration": 6,
    "start_time": "2024-11-27T11:29:07.159Z"
   },
   {
    "duration": 26,
    "start_time": "2024-11-27T11:29:07.166Z"
   },
   {
    "duration": 12,
    "start_time": "2024-11-27T11:56:17.018Z"
   },
   {
    "duration": 104,
    "start_time": "2024-11-27T12:03:27.425Z"
   },
   {
    "duration": 106,
    "start_time": "2024-11-27T12:16:38.679Z"
   },
   {
    "duration": 13,
    "start_time": "2024-11-27T12:16:54.920Z"
   },
   {
    "duration": 6,
    "start_time": "2024-11-27T12:17:13.528Z"
   },
   {
    "duration": 53,
    "start_time": "2024-11-27T19:05:23.995Z"
   },
   {
    "duration": 413,
    "start_time": "2024-11-27T19:05:34.309Z"
   },
   {
    "duration": 120,
    "start_time": "2024-11-27T19:05:34.725Z"
   },
   {
    "duration": 12,
    "start_time": "2024-11-27T19:05:34.847Z"
   },
   {
    "duration": 189,
    "start_time": "2024-11-27T19:05:34.861Z"
   },
   {
    "duration": 12,
    "start_time": "2024-11-27T19:05:35.051Z"
   },
   {
    "duration": 82,
    "start_time": "2024-11-27T19:05:35.065Z"
   },
   {
    "duration": 10,
    "start_time": "2024-11-27T19:05:35.149Z"
   },
   {
    "duration": 35,
    "start_time": "2024-11-27T19:05:35.161Z"
   },
   {
    "duration": 7,
    "start_time": "2024-11-27T19:05:35.198Z"
   },
   {
    "duration": 60,
    "start_time": "2024-11-27T19:05:35.208Z"
   },
   {
    "duration": 21,
    "start_time": "2024-11-27T19:05:35.270Z"
   },
   {
    "duration": 64,
    "start_time": "2024-11-27T19:05:35.293Z"
   },
   {
    "duration": 25,
    "start_time": "2024-11-27T19:05:35.359Z"
   },
   {
    "duration": 31,
    "start_time": "2024-11-27T19:05:35.386Z"
   },
   {
    "duration": 22,
    "start_time": "2024-11-27T19:05:35.418Z"
   },
   {
    "duration": 453,
    "start_time": "2024-11-27T19:05:35.441Z"
   },
   {
    "duration": 9,
    "start_time": "2024-11-27T19:05:35.896Z"
   },
   {
    "duration": 43,
    "start_time": "2024-11-27T19:05:35.907Z"
   },
   {
    "duration": 210,
    "start_time": "2024-11-27T19:05:35.951Z"
   },
   {
    "duration": 6,
    "start_time": "2024-11-27T19:05:36.163Z"
   },
   {
    "duration": 149,
    "start_time": "2024-11-27T19:05:36.171Z"
   },
   {
    "duration": 8,
    "start_time": "2024-11-27T19:05:36.322Z"
   },
   {
    "duration": 120,
    "start_time": "2024-11-27T19:05:36.331Z"
   },
   {
    "duration": 243,
    "start_time": "2024-11-27T19:05:36.453Z"
   },
   {
    "duration": 125,
    "start_time": "2024-11-27T19:05:36.698Z"
   },
   {
    "duration": 211,
    "start_time": "2024-11-27T19:05:36.825Z"
   },
   {
    "duration": 171,
    "start_time": "2024-11-27T19:05:37.038Z"
   },
   {
    "duration": 202,
    "start_time": "2024-11-27T19:05:37.212Z"
   },
   {
    "duration": 161,
    "start_time": "2024-11-27T19:05:37.416Z"
   },
   {
    "duration": 19,
    "start_time": "2024-11-27T19:05:37.579Z"
   },
   {
    "duration": 18,
    "start_time": "2024-11-27T19:05:37.600Z"
   },
   {
    "duration": 40,
    "start_time": "2024-11-27T19:05:37.620Z"
   },
   {
    "duration": 200,
    "start_time": "2024-11-27T19:05:37.661Z"
   },
   {
    "duration": 172,
    "start_time": "2024-11-27T19:05:37.862Z"
   },
   {
    "duration": 211,
    "start_time": "2024-11-27T19:05:38.036Z"
   },
   {
    "duration": 157,
    "start_time": "2024-11-27T19:05:38.249Z"
   },
   {
    "duration": 16,
    "start_time": "2024-11-27T19:05:38.407Z"
   },
   {
    "duration": 186,
    "start_time": "2024-11-27T19:05:38.425Z"
   },
   {
    "duration": 232,
    "start_time": "2024-11-27T19:05:38.612Z"
   },
   {
    "duration": 191,
    "start_time": "2024-11-27T19:05:38.846Z"
   },
   {
    "duration": 161,
    "start_time": "2024-11-27T19:05:39.039Z"
   },
   {
    "duration": 14,
    "start_time": "2024-11-27T19:05:39.202Z"
   },
   {
    "duration": 77,
    "start_time": "2024-11-27T19:05:39.218Z"
   },
   {
    "duration": 12,
    "start_time": "2024-11-27T19:05:39.297Z"
   },
   {
    "duration": 20,
    "start_time": "2024-11-27T19:05:39.311Z"
   },
   {
    "duration": 5,
    "start_time": "2024-11-27T19:05:39.353Z"
   },
   {
    "duration": 5,
    "start_time": "2024-11-27T19:05:39.360Z"
   },
   {
    "duration": 448,
    "start_time": "2024-11-27T19:05:39.367Z"
   },
   {
    "duration": 6,
    "start_time": "2024-11-27T19:05:39.816Z"
   },
   {
    "duration": 66,
    "start_time": "2024-11-27T19:05:39.823Z"
   },
   {
    "duration": 6,
    "start_time": "2024-11-27T19:07:38.680Z"
   },
   {
    "duration": 6,
    "start_time": "2024-11-27T19:11:18.527Z"
   },
   {
    "duration": 75,
    "start_time": "2024-11-27T19:13:09.898Z"
   },
   {
    "duration": 7,
    "start_time": "2024-11-27T19:15:23.733Z"
   },
   {
    "duration": 186,
    "start_time": "2024-11-27T19:17:11.786Z"
   },
   {
    "duration": 178,
    "start_time": "2024-11-27T19:17:40.086Z"
   },
   {
    "duration": 255,
    "start_time": "2024-11-27T19:18:51.417Z"
   },
   {
    "duration": 60,
    "start_time": "2024-11-27T19:19:37.337Z"
   },
   {
    "duration": 148,
    "start_time": "2024-11-27T19:21:38.965Z"
   },
   {
    "duration": 180,
    "start_time": "2024-11-27T19:24:32.577Z"
   },
   {
    "duration": 124,
    "start_time": "2024-11-27T19:26:43.524Z"
   },
   {
    "duration": 115,
    "start_time": "2024-11-27T19:27:08.641Z"
   },
   {
    "duration": 16,
    "start_time": "2024-11-27T19:28:23.594Z"
   },
   {
    "duration": 227,
    "start_time": "2024-11-27T19:34:21.451Z"
   },
   {
    "duration": 169,
    "start_time": "2024-11-27T19:35:14.357Z"
   },
   {
    "duration": 66,
    "start_time": "2024-11-27T19:38:34.467Z"
   },
   {
    "duration": 218,
    "start_time": "2024-11-27T19:40:13.635Z"
   },
   {
    "duration": 151,
    "start_time": "2024-11-27T19:40:36.023Z"
   },
   {
    "duration": 16,
    "start_time": "2024-11-27T19:49:39.067Z"
   },
   {
    "duration": 177,
    "start_time": "2024-11-27T19:55:47.673Z"
   },
   {
    "duration": 155,
    "start_time": "2024-11-27T19:57:02.016Z"
   },
   {
    "duration": 259,
    "start_time": "2024-11-27T20:00:09.530Z"
   },
   {
    "duration": 190,
    "start_time": "2024-11-27T20:00:12.424Z"
   },
   {
    "duration": 162,
    "start_time": "2024-11-27T20:00:20.666Z"
   },
   {
    "duration": 11,
    "start_time": "2024-11-27T20:02:41.142Z"
   },
   {
    "duration": 5,
    "start_time": "2024-11-27T20:06:04.912Z"
   },
   {
    "duration": 10,
    "start_time": "2024-11-27T20:09:09.100Z"
   },
   {
    "duration": 5,
    "start_time": "2024-11-27T20:09:28.829Z"
   },
   {
    "duration": 57,
    "start_time": "2024-11-27T20:09:50.372Z"
   },
   {
    "duration": 72,
    "start_time": "2024-11-27T20:10:08.851Z"
   },
   {
    "duration": 5,
    "start_time": "2024-11-27T20:10:29.828Z"
   },
   {
    "duration": 9,
    "start_time": "2024-11-27T20:11:12.699Z"
   },
   {
    "duration": 11,
    "start_time": "2024-11-27T20:14:22.221Z"
   },
   {
    "duration": 73,
    "start_time": "2024-11-27T20:19:18.416Z"
   },
   {
    "duration": 399,
    "start_time": "2024-11-27T20:21:23.893Z"
   },
   {
    "duration": 47,
    "start_time": "2024-11-27T20:21:24.295Z"
   },
   {
    "duration": 14,
    "start_time": "2024-11-27T20:21:24.344Z"
   },
   {
    "duration": 36,
    "start_time": "2024-11-27T20:21:24.359Z"
   },
   {
    "duration": 12,
    "start_time": "2024-11-27T20:21:24.397Z"
   },
   {
    "duration": 25,
    "start_time": "2024-11-27T20:21:24.411Z"
   },
   {
    "duration": 14,
    "start_time": "2024-11-27T20:21:24.438Z"
   },
   {
    "duration": 22,
    "start_time": "2024-11-27T20:21:24.454Z"
   },
   {
    "duration": 5,
    "start_time": "2024-11-27T20:21:24.477Z"
   },
   {
    "duration": 10,
    "start_time": "2024-11-27T20:21:24.484Z"
   },
   {
    "duration": 5,
    "start_time": "2024-11-27T20:21:24.496Z"
   },
   {
    "duration": 22,
    "start_time": "2024-11-27T20:21:24.503Z"
   },
   {
    "duration": 33,
    "start_time": "2024-11-27T20:21:24.526Z"
   },
   {
    "duration": 4,
    "start_time": "2024-11-27T20:21:24.562Z"
   },
   {
    "duration": 12,
    "start_time": "2024-11-27T20:21:24.568Z"
   },
   {
    "duration": 8,
    "start_time": "2024-11-27T20:21:24.582Z"
   },
   {
    "duration": 269,
    "start_time": "2024-11-27T20:21:24.591Z"
   },
   {
    "duration": 6,
    "start_time": "2024-11-27T20:21:24.862Z"
   },
   {
    "duration": 12,
    "start_time": "2024-11-27T20:21:24.870Z"
   },
   {
    "duration": 234,
    "start_time": "2024-11-27T20:21:24.883Z"
   },
   {
    "duration": 7,
    "start_time": "2024-11-27T20:21:25.119Z"
   },
   {
    "duration": 165,
    "start_time": "2024-11-27T20:21:25.127Z"
   },
   {
    "duration": 7,
    "start_time": "2024-11-27T20:21:25.294Z"
   },
   {
    "duration": 115,
    "start_time": "2024-11-27T20:21:25.302Z"
   },
   {
    "duration": 201,
    "start_time": "2024-11-27T20:21:25.419Z"
   },
   {
    "duration": 178,
    "start_time": "2024-11-27T20:21:25.622Z"
   },
   {
    "duration": 15,
    "start_time": "2024-11-27T20:21:25.802Z"
   },
   {
    "duration": 234,
    "start_time": "2024-11-27T20:21:25.818Z"
   },
   {
    "duration": 179,
    "start_time": "2024-11-27T20:21:26.054Z"
   },
   {
    "duration": 219,
    "start_time": "2024-11-27T20:21:26.235Z"
   },
   {
    "duration": 155,
    "start_time": "2024-11-27T20:21:26.456Z"
   },
   {
    "duration": 19,
    "start_time": "2024-11-27T20:21:26.613Z"
   },
   {
    "duration": 31,
    "start_time": "2024-11-27T20:21:26.633Z"
   },
   {
    "duration": 13,
    "start_time": "2024-11-27T20:21:26.665Z"
   },
   {
    "duration": 18,
    "start_time": "2024-11-27T20:21:26.679Z"
   },
   {
    "duration": 217,
    "start_time": "2024-11-27T20:21:26.698Z"
   },
   {
    "duration": 176,
    "start_time": "2024-11-27T20:21:26.917Z"
   },
   {
    "duration": 218,
    "start_time": "2024-11-27T20:21:27.095Z"
   },
   {
    "duration": 156,
    "start_time": "2024-11-27T20:21:27.314Z"
   },
   {
    "duration": 15,
    "start_time": "2024-11-27T20:21:27.472Z"
   },
   {
    "duration": 204,
    "start_time": "2024-11-27T20:21:27.491Z"
   },
   {
    "duration": 163,
    "start_time": "2024-11-27T20:21:27.697Z"
   },
   {
    "duration": 284,
    "start_time": "2024-11-27T20:21:27.861Z"
   },
   {
    "duration": 104,
    "start_time": "2024-11-27T20:21:28.146Z"
   },
   {
    "duration": 0,
    "start_time": "2024-11-27T20:21:28.251Z"
   },
   {
    "duration": 0,
    "start_time": "2024-11-27T20:21:28.253Z"
   },
   {
    "duration": 0,
    "start_time": "2024-11-27T20:21:28.253Z"
   },
   {
    "duration": 0,
    "start_time": "2024-11-27T20:21:28.255Z"
   },
   {
    "duration": 0,
    "start_time": "2024-11-27T20:21:28.256Z"
   },
   {
    "duration": 0,
    "start_time": "2024-11-27T20:21:28.257Z"
   },
   {
    "duration": 0,
    "start_time": "2024-11-27T20:21:28.258Z"
   },
   {
    "duration": 0,
    "start_time": "2024-11-27T20:21:28.259Z"
   },
   {
    "duration": 0,
    "start_time": "2024-11-27T20:21:28.260Z"
   },
   {
    "duration": 0,
    "start_time": "2024-11-27T20:21:28.261Z"
   },
   {
    "duration": 0,
    "start_time": "2024-11-27T20:21:28.262Z"
   },
   {
    "duration": 0,
    "start_time": "2024-11-27T20:21:28.263Z"
   },
   {
    "duration": 0,
    "start_time": "2024-11-27T20:21:28.264Z"
   },
   {
    "duration": 410,
    "start_time": "2024-11-28T00:19:24.538Z"
   },
   {
    "duration": 53,
    "start_time": "2024-11-28T00:19:24.950Z"
   },
   {
    "duration": 13,
    "start_time": "2024-11-28T00:19:25.005Z"
   },
   {
    "duration": 45,
    "start_time": "2024-11-28T00:19:25.019Z"
   },
   {
    "duration": 11,
    "start_time": "2024-11-28T00:19:25.066Z"
   },
   {
    "duration": 28,
    "start_time": "2024-11-28T00:19:25.079Z"
   },
   {
    "duration": 10,
    "start_time": "2024-11-28T00:19:25.108Z"
   },
   {
    "duration": 24,
    "start_time": "2024-11-28T00:19:25.119Z"
   },
   {
    "duration": 6,
    "start_time": "2024-11-28T00:19:25.144Z"
   },
   {
    "duration": 11,
    "start_time": "2024-11-28T00:19:25.151Z"
   },
   {
    "duration": 6,
    "start_time": "2024-11-28T00:19:25.163Z"
   },
   {
    "duration": 23,
    "start_time": "2024-11-28T00:19:25.171Z"
   },
   {
    "duration": 8,
    "start_time": "2024-11-28T00:19:25.218Z"
   },
   {
    "duration": 4,
    "start_time": "2024-11-28T00:19:25.229Z"
   },
   {
    "duration": 8,
    "start_time": "2024-11-28T00:19:25.235Z"
   },
   {
    "duration": 6,
    "start_time": "2024-11-28T00:19:25.244Z"
   },
   {
    "duration": 265,
    "start_time": "2024-11-28T00:19:25.252Z"
   },
   {
    "duration": 5,
    "start_time": "2024-11-28T00:19:25.519Z"
   },
   {
    "duration": 14,
    "start_time": "2024-11-28T00:19:25.526Z"
   },
   {
    "duration": 207,
    "start_time": "2024-11-28T00:19:25.541Z"
   },
   {
    "duration": 7,
    "start_time": "2024-11-28T00:19:25.749Z"
   },
   {
    "duration": 159,
    "start_time": "2024-11-28T00:19:25.757Z"
   },
   {
    "duration": 7,
    "start_time": "2024-11-28T00:19:25.917Z"
   },
   {
    "duration": 76,
    "start_time": "2024-11-28T00:19:25.925Z"
   },
   {
    "duration": 199,
    "start_time": "2024-11-28T00:19:26.002Z"
   },
   {
    "duration": 184,
    "start_time": "2024-11-28T00:19:26.203Z"
   },
   {
    "duration": 14,
    "start_time": "2024-11-28T00:19:26.388Z"
   },
   {
    "duration": 221,
    "start_time": "2024-11-28T00:19:26.404Z"
   },
   {
    "duration": 180,
    "start_time": "2024-11-28T00:19:26.627Z"
   },
   {
    "duration": 211,
    "start_time": "2024-11-28T00:19:26.809Z"
   },
   {
    "duration": 145,
    "start_time": "2024-11-28T00:19:27.022Z"
   },
   {
    "duration": 17,
    "start_time": "2024-11-28T00:19:27.168Z"
   },
   {
    "duration": 32,
    "start_time": "2024-11-28T00:19:27.187Z"
   },
   {
    "duration": 14,
    "start_time": "2024-11-28T00:19:27.220Z"
   },
   {
    "duration": 30,
    "start_time": "2024-11-28T00:19:27.235Z"
   },
   {
    "duration": 196,
    "start_time": "2024-11-28T00:19:27.266Z"
   },
   {
    "duration": 171,
    "start_time": "2024-11-28T00:19:27.464Z"
   },
   {
    "duration": 208,
    "start_time": "2024-11-28T00:19:27.637Z"
   },
   {
    "duration": 149,
    "start_time": "2024-11-28T00:19:27.847Z"
   },
   {
    "duration": 25,
    "start_time": "2024-11-28T00:19:28.006Z"
   },
   {
    "duration": 192,
    "start_time": "2024-11-28T00:19:28.035Z"
   },
   {
    "duration": 172,
    "start_time": "2024-11-28T00:19:28.229Z"
   },
   {
    "duration": 280,
    "start_time": "2024-11-28T00:19:28.403Z"
   },
   {
    "duration": 154,
    "start_time": "2024-11-28T00:19:28.685Z"
   },
   {
    "duration": 13,
    "start_time": "2024-11-28T00:19:28.841Z"
   },
   {
    "duration": 77,
    "start_time": "2024-11-28T00:19:28.856Z"
   },
   {
    "duration": 12,
    "start_time": "2024-11-28T00:19:28.934Z"
   },
   {
    "duration": 22,
    "start_time": "2024-11-28T00:19:28.947Z"
   },
   {
    "duration": 12,
    "start_time": "2024-11-28T00:19:28.971Z"
   },
   {
    "duration": 4,
    "start_time": "2024-11-28T00:19:28.984Z"
   },
   {
    "duration": 4,
    "start_time": "2024-11-28T00:19:28.990Z"
   },
   {
    "duration": 412,
    "start_time": "2024-11-28T00:19:29.017Z"
   },
   {
    "duration": 7,
    "start_time": "2024-11-28T00:19:29.431Z"
   },
   {
    "duration": 6,
    "start_time": "2024-11-28T00:19:29.439Z"
   },
   {
    "duration": 10,
    "start_time": "2024-11-28T00:19:29.446Z"
   },
   {
    "duration": 9,
    "start_time": "2024-11-28T00:19:29.458Z"
   }
  ],
  "kernelspec": {
   "display_name": "Python 3 (ipykernel)",
   "language": "python",
   "name": "python3"
  },
  "language_info": {
   "codemirror_mode": {
    "name": "ipython",
    "version": 3
   },
   "file_extension": ".py",
   "mimetype": "text/x-python",
   "name": "python",
   "nbconvert_exporter": "python",
   "pygments_lexer": "ipython3",
   "version": "3.9.5"
  },
  "toc": {
   "base_numbering": 1,
   "nav_menu": {},
   "number_sections": true,
   "sideBar": true,
   "skip_h1_title": true,
   "title_cell": "Table of Contents",
   "title_sidebar": "Contents",
   "toc_cell": false,
   "toc_position": {
    "height": "calc(100% - 180px)",
    "left": "10px",
    "top": "150px",
    "width": "232.938px"
   },
   "toc_section_display": true,
   "toc_window_display": true
  }
 },
 "nbformat": 4,
 "nbformat_minor": 5
}
