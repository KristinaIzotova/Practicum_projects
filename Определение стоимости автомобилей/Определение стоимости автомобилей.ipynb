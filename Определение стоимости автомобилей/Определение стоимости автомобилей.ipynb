{
 "cells": [
  {
   "cell_type": "markdown",
   "metadata": {},
   "source": [
    "# Определение стоимости автомобилей"
   ]
  },
  {
   "cell_type": "markdown",
   "metadata": {},
   "source": [
    "Сервис по продаже автомобилей с пробегом «Не бит, не крашен» разрабатывает приложение для привлечения новых клиентов. В нём можно быстро узнать рыночную стоимость своего автомобиля. В вашем распоряжении исторические данные: технические характеристики, комплектации и цены автомобилей. Вам нужно построить модель для определения стоимости. \n",
    "\n",
    "Заказчику важны:\n",
    "\n",
    "- качество предсказания;\n",
    "- скорость предсказания;\n",
    "- время обучения."
   ]
  },
  {
   "cell_type": "markdown",
   "metadata": {},
   "source": [
    "# Подготовка данных"
   ]
  },
  {
   "cell_type": "code",
   "execution_count": 1,
   "metadata": {},
   "outputs": [],
   "source": [
    "!pip install phik -q\n",
    "!pip install -Uq scikit-learn"
   ]
  },
  {
   "cell_type": "code",
   "execution_count": 2,
   "metadata": {},
   "outputs": [
    {
     "name": "stdout",
     "output_type": "stream",
     "text": [
      "Requirement already satisfied: scikit-learn in /opt/conda/lib/python3.9/site-packages (1.6.1)\n",
      "Requirement already satisfied: imbalanced-learn in /opt/conda/lib/python3.9/site-packages (0.12.4)\n",
      "Requirement already satisfied: category-encoders in /opt/conda/lib/python3.9/site-packages (2.6.4)\n",
      "Requirement already satisfied: lightgbm in /opt/conda/lib/python3.9/site-packages (4.6.0)\n",
      "Requirement already satisfied: joblib>=1.2.0 in /opt/conda/lib/python3.9/site-packages (from scikit-learn) (1.5.0)\n",
      "Requirement already satisfied: scipy>=1.6.0 in /opt/conda/lib/python3.9/site-packages (from scikit-learn) (1.9.1)\n",
      "Requirement already satisfied: numpy>=1.19.5 in /opt/conda/lib/python3.9/site-packages (from scikit-learn) (1.21.1)\n",
      "Requirement already satisfied: threadpoolctl>=3.1.0 in /opt/conda/lib/python3.9/site-packages (from scikit-learn) (3.1.0)\n",
      "Requirement already satisfied: statsmodels>=0.9.0 in /opt/conda/lib/python3.9/site-packages (from category-encoders) (0.13.2)\n",
      "Requirement already satisfied: patsy>=0.5.1 in /opt/conda/lib/python3.9/site-packages (from category-encoders) (0.5.2)\n",
      "Requirement already satisfied: pandas>=1.0.5 in /opt/conda/lib/python3.9/site-packages (from category-encoders) (1.2.4)\n",
      "Requirement already satisfied: python-dateutil>=2.7.3 in /opt/conda/lib/python3.9/site-packages (from pandas>=1.0.5->category-encoders) (2.8.1)\n",
      "Requirement already satisfied: pytz>=2017.3 in /opt/conda/lib/python3.9/site-packages (from pandas>=1.0.5->category-encoders) (2021.1)\n",
      "Requirement already satisfied: six in /opt/conda/lib/python3.9/site-packages (from patsy>=0.5.1->category-encoders) (1.16.0)\n",
      "Requirement already satisfied: packaging>=21.3 in /opt/conda/lib/python3.9/site-packages (from statsmodels>=0.9.0->category-encoders) (21.3)\n",
      "Requirement already satisfied: pyparsing!=3.0.5,>=2.0.2 in /opt/conda/lib/python3.9/site-packages (from packaging>=21.3->statsmodels>=0.9.0->category-encoders) (2.4.7)\n"
     ]
    }
   ],
   "source": [
    "!pip install --upgrade scikit-learn imbalanced-learn category-encoders lightgbm"
   ]
  },
  {
   "cell_type": "code",
   "execution_count": 3,
   "metadata": {},
   "outputs": [
    {
     "name": "stderr",
     "output_type": "stream",
     "text": [
      "/opt/conda/lib/python3.9/site-packages/fuzzywuzzy/fuzz.py:11: UserWarning: Using slow pure-python SequenceMatcher. Install python-Levenshtein to remove this warning\n",
      "  warnings.warn('Using slow pure-python SequenceMatcher. Install python-Levenshtein to remove this warning')\n"
     ]
    }
   ],
   "source": [
    "# импорт необходимых библиотек\n",
    "import pandas as pd\n",
    "import phik\n",
    "import matplotlib.pyplot as plt\n",
    "import seaborn as sns\n",
    "import numpy as np\n",
    "import time\n",
    "from fuzzywuzzy import fuzz\n",
    "from sklearn.model_selection import train_test_split\n",
    "from sklearn.pipeline import Pipeline\n",
    "from sklearn.impute import SimpleImputer\n",
    "from sklearn.compose import ColumnTransformer\n",
    "from sklearn.preprocessing import (OneHotEncoder, PolynomialFeatures, \n",
    "                                   StandardScaler, RobustScaler, MinMaxScaler, \n",
    "                                   Normalizer, MaxAbsScaler)\n",
    "from sklearn.linear_model import LinearRegression\n",
    "from sklearn.model_selection import GridSearchCV\n",
    "from lightgbm import LGBMRegressor\n",
    "from sklearn.metrics import mean_squared_error, mean_absolute_error\n",
    "from numpy.random import RandomState\n",
    "\n",
    "\n",
    "RANDOM_STATE = 42"
   ]
  },
  {
   "cell_type": "markdown",
   "metadata": {},
   "source": [
    "### Загрузка данных"
   ]
  },
  {
   "cell_type": "code",
   "execution_count": 4,
   "metadata": {},
   "outputs": [
    {
     "data": {
      "text/html": [
       "<div>\n",
       "<style scoped>\n",
       "    .dataframe tbody tr th:only-of-type {\n",
       "        vertical-align: middle;\n",
       "    }\n",
       "\n",
       "    .dataframe tbody tr th {\n",
       "        vertical-align: top;\n",
       "    }\n",
       "\n",
       "    .dataframe thead th {\n",
       "        text-align: right;\n",
       "    }\n",
       "</style>\n",
       "<table border=\"1\" class=\"dataframe\">\n",
       "  <thead>\n",
       "    <tr style=\"text-align: right;\">\n",
       "      <th></th>\n",
       "      <th>DateCrawled</th>\n",
       "      <th>Price</th>\n",
       "      <th>VehicleType</th>\n",
       "      <th>RegistrationYear</th>\n",
       "      <th>Gearbox</th>\n",
       "      <th>Power</th>\n",
       "      <th>Model</th>\n",
       "      <th>Kilometer</th>\n",
       "      <th>RegistrationMonth</th>\n",
       "      <th>FuelType</th>\n",
       "      <th>Brand</th>\n",
       "      <th>Repaired</th>\n",
       "      <th>DateCreated</th>\n",
       "      <th>NumberOfPictures</th>\n",
       "      <th>PostalCode</th>\n",
       "      <th>LastSeen</th>\n",
       "    </tr>\n",
       "  </thead>\n",
       "  <tbody>\n",
       "    <tr>\n",
       "      <th>0</th>\n",
       "      <td>2016-03-24 11:52:17</td>\n",
       "      <td>480</td>\n",
       "      <td>NaN</td>\n",
       "      <td>1993</td>\n",
       "      <td>manual</td>\n",
       "      <td>0</td>\n",
       "      <td>golf</td>\n",
       "      <td>150000</td>\n",
       "      <td>0</td>\n",
       "      <td>petrol</td>\n",
       "      <td>volkswagen</td>\n",
       "      <td>NaN</td>\n",
       "      <td>2016-03-24 00:00:00</td>\n",
       "      <td>0</td>\n",
       "      <td>70435</td>\n",
       "      <td>2016-04-07 03:16:57</td>\n",
       "    </tr>\n",
       "    <tr>\n",
       "      <th>1</th>\n",
       "      <td>2016-03-24 10:58:45</td>\n",
       "      <td>18300</td>\n",
       "      <td>coupe</td>\n",
       "      <td>2011</td>\n",
       "      <td>manual</td>\n",
       "      <td>190</td>\n",
       "      <td>NaN</td>\n",
       "      <td>125000</td>\n",
       "      <td>5</td>\n",
       "      <td>gasoline</td>\n",
       "      <td>audi</td>\n",
       "      <td>yes</td>\n",
       "      <td>2016-03-24 00:00:00</td>\n",
       "      <td>0</td>\n",
       "      <td>66954</td>\n",
       "      <td>2016-04-07 01:46:50</td>\n",
       "    </tr>\n",
       "    <tr>\n",
       "      <th>2</th>\n",
       "      <td>2016-03-14 12:52:21</td>\n",
       "      <td>9800</td>\n",
       "      <td>suv</td>\n",
       "      <td>2004</td>\n",
       "      <td>auto</td>\n",
       "      <td>163</td>\n",
       "      <td>grand</td>\n",
       "      <td>125000</td>\n",
       "      <td>8</td>\n",
       "      <td>gasoline</td>\n",
       "      <td>jeep</td>\n",
       "      <td>NaN</td>\n",
       "      <td>2016-03-14 00:00:00</td>\n",
       "      <td>0</td>\n",
       "      <td>90480</td>\n",
       "      <td>2016-04-05 12:47:46</td>\n",
       "    </tr>\n",
       "    <tr>\n",
       "      <th>3</th>\n",
       "      <td>2016-03-17 16:54:04</td>\n",
       "      <td>1500</td>\n",
       "      <td>small</td>\n",
       "      <td>2001</td>\n",
       "      <td>manual</td>\n",
       "      <td>75</td>\n",
       "      <td>golf</td>\n",
       "      <td>150000</td>\n",
       "      <td>6</td>\n",
       "      <td>petrol</td>\n",
       "      <td>volkswagen</td>\n",
       "      <td>no</td>\n",
       "      <td>2016-03-17 00:00:00</td>\n",
       "      <td>0</td>\n",
       "      <td>91074</td>\n",
       "      <td>2016-03-17 17:40:17</td>\n",
       "    </tr>\n",
       "    <tr>\n",
       "      <th>4</th>\n",
       "      <td>2016-03-31 17:25:20</td>\n",
       "      <td>3600</td>\n",
       "      <td>small</td>\n",
       "      <td>2008</td>\n",
       "      <td>manual</td>\n",
       "      <td>69</td>\n",
       "      <td>fabia</td>\n",
       "      <td>90000</td>\n",
       "      <td>7</td>\n",
       "      <td>gasoline</td>\n",
       "      <td>skoda</td>\n",
       "      <td>no</td>\n",
       "      <td>2016-03-31 00:00:00</td>\n",
       "      <td>0</td>\n",
       "      <td>60437</td>\n",
       "      <td>2016-04-06 10:17:21</td>\n",
       "    </tr>\n",
       "  </tbody>\n",
       "</table>\n",
       "</div>"
      ],
      "text/plain": [
       "           DateCrawled  Price VehicleType  RegistrationYear Gearbox  Power  \\\n",
       "0  2016-03-24 11:52:17    480         NaN              1993  manual      0   \n",
       "1  2016-03-24 10:58:45  18300       coupe              2011  manual    190   \n",
       "2  2016-03-14 12:52:21   9800         suv              2004    auto    163   \n",
       "3  2016-03-17 16:54:04   1500       small              2001  manual     75   \n",
       "4  2016-03-31 17:25:20   3600       small              2008  manual     69   \n",
       "\n",
       "   Model  Kilometer  RegistrationMonth  FuelType       Brand Repaired  \\\n",
       "0   golf     150000                  0    petrol  volkswagen      NaN   \n",
       "1    NaN     125000                  5  gasoline        audi      yes   \n",
       "2  grand     125000                  8  gasoline        jeep      NaN   \n",
       "3   golf     150000                  6    petrol  volkswagen       no   \n",
       "4  fabia      90000                  7  gasoline       skoda       no   \n",
       "\n",
       "           DateCreated  NumberOfPictures  PostalCode             LastSeen  \n",
       "0  2016-03-24 00:00:00                 0       70435  2016-04-07 03:16:57  \n",
       "1  2016-03-24 00:00:00                 0       66954  2016-04-07 01:46:50  \n",
       "2  2016-03-14 00:00:00                 0       90480  2016-04-05 12:47:46  \n",
       "3  2016-03-17 00:00:00                 0       91074  2016-03-17 17:40:17  \n",
       "4  2016-03-31 00:00:00                 0       60437  2016-04-06 10:17:21  "
      ]
     },
     "execution_count": 4,
     "metadata": {},
     "output_type": "execute_result"
    }
   ],
   "source": [
    "# считываем файл autos.csv и выводим первые пять строк на экран\n",
    "autos = pd.read_csv('/datasets/autos.csv')\n",
    "autos.head()"
   ]
  },
  {
   "cell_type": "code",
   "execution_count": 5,
   "metadata": {},
   "outputs": [
    {
     "name": "stdout",
     "output_type": "stream",
     "text": [
      "<class 'pandas.core.frame.DataFrame'>\n",
      "RangeIndex: 354369 entries, 0 to 354368\n",
      "Data columns (total 16 columns):\n",
      " #   Column             Non-Null Count   Dtype \n",
      "---  ------             --------------   ----- \n",
      " 0   DateCrawled        354369 non-null  object\n",
      " 1   Price              354369 non-null  int64 \n",
      " 2   VehicleType        316879 non-null  object\n",
      " 3   RegistrationYear   354369 non-null  int64 \n",
      " 4   Gearbox            334536 non-null  object\n",
      " 5   Power              354369 non-null  int64 \n",
      " 6   Model              334664 non-null  object\n",
      " 7   Kilometer          354369 non-null  int64 \n",
      " 8   RegistrationMonth  354369 non-null  int64 \n",
      " 9   FuelType           321474 non-null  object\n",
      " 10  Brand              354369 non-null  object\n",
      " 11  Repaired           283215 non-null  object\n",
      " 12  DateCreated        354369 non-null  object\n",
      " 13  NumberOfPictures   354369 non-null  int64 \n",
      " 14  PostalCode         354369 non-null  int64 \n",
      " 15  LastSeen           354369 non-null  object\n",
      "dtypes: int64(7), object(9)\n",
      "memory usage: 43.3+ MB\n"
     ]
    }
   ],
   "source": [
    "# выводим общую информацию об autos\n",
    "autos.info()"
   ]
  },
  {
   "cell_type": "markdown",
   "metadata": {},
   "source": [
    "Изучив общую информацию о файле, можем сказать, что всего в таблице 354369 строк и 16 столбцов. \n",
    "\n",
    "В столбцах *VehicleType*, *Gearbox*, *Model*, *FuelType*, *Repaired* есть пропуски.\n",
    "\n",
    "Столбы *DateCrawled*, *DateCreated* и *LastSeen* имеют неверный тип данных *object*, так как это даты необходимо изменить тип данных на *timestamp*. \n",
    "\n",
    "Названия столбцов не соответствуют \"хорошему\" стилю."
   ]
  },
  {
   "cell_type": "markdown",
   "metadata": {},
   "source": [
    "### Предобработка данных"
   ]
  },
  {
   "cell_type": "markdown",
   "metadata": {},
   "source": [
    "#### Переименование столбцов"
   ]
  },
  {
   "cell_type": "code",
   "execution_count": 6,
   "metadata": {},
   "outputs": [
    {
     "data": {
      "text/plain": [
       "Index(['date_crawled', 'price', 'vehicle_type', 'registration_year', 'gearbox',\n",
       "       'power', 'model', 'kilometer', 'registration_month', 'fuel_type',\n",
       "       'brand', 'repaired', 'date_created', 'number_of_pictures',\n",
       "       'postal_code', 'last_seen'],\n",
       "      dtype='object')"
      ]
     },
     "execution_count": 6,
     "metadata": {},
     "output_type": "execute_result"
    }
   ],
   "source": [
    "# приведем названия столбцов к \"хорошему\" стилю\n",
    "autos.columns = autos.columns.str.lower()\n",
    "autos.rename(columns={'datecrawled': 'date_crawled', \n",
    "                      'vehicletype': 'vehicle_type',\n",
    "                      'registrationyear': 'registration_year', \n",
    "                      'registrationmonth': 'registration_month',\n",
    "                      'fueltype': 'fuel_type', \n",
    "                      'datecreated': 'date_created',\n",
    "                      'numberofpictures': 'number_of_pictures', \n",
    "                      'postalcode': 'postal_code',\n",
    "                      'lastseen': 'last_seen'}, inplace=True)\n",
    "autos.columns"
   ]
  },
  {
   "cell_type": "markdown",
   "metadata": {},
   "source": [
    "#### Измениение типа данных"
   ]
  },
  {
   "cell_type": "code",
   "execution_count": 7,
   "metadata": {},
   "outputs": [
    {
     "name": "stdout",
     "output_type": "stream",
     "text": [
      "<class 'pandas.core.frame.DataFrame'>\n",
      "RangeIndex: 354369 entries, 0 to 354368\n",
      "Data columns (total 16 columns):\n",
      " #   Column              Non-Null Count   Dtype         \n",
      "---  ------              --------------   -----         \n",
      " 0   date_crawled        354369 non-null  datetime64[ns]\n",
      " 1   price               354369 non-null  int64         \n",
      " 2   vehicle_type        316879 non-null  object        \n",
      " 3   registration_year   354369 non-null  int64         \n",
      " 4   gearbox             334536 non-null  object        \n",
      " 5   power               354369 non-null  int64         \n",
      " 6   model               334664 non-null  object        \n",
      " 7   kilometer           354369 non-null  int64         \n",
      " 8   registration_month  354369 non-null  int64         \n",
      " 9   fuel_type           321474 non-null  object        \n",
      " 10  brand               354369 non-null  object        \n",
      " 11  repaired            283215 non-null  object        \n",
      " 12  date_created        354369 non-null  datetime64[ns]\n",
      " 13  number_of_pictures  354369 non-null  int64         \n",
      " 14  postal_code         354369 non-null  int64         \n",
      " 15  last_seen           354369 non-null  datetime64[ns]\n",
      "dtypes: datetime64[ns](3), int64(7), object(6)\n",
      "memory usage: 43.3+ MB\n"
     ]
    }
   ],
   "source": [
    "# изменим тип данных у стобцов с временем\n",
    "autos['date_crawled'] = pd.to_datetime(autos['date_crawled'])\n",
    "autos['date_created'] = pd.to_datetime(autos['date_created'])\n",
    "autos['last_seen'] = pd.to_datetime(autos['last_seen'])\n",
    "autos.info()"
   ]
  },
  {
   "cell_type": "markdown",
   "metadata": {},
   "source": [
    "#### Работа с пропусками"
   ]
  },
  {
   "cell_type": "code",
   "execution_count": 8,
   "metadata": {},
   "outputs": [
    {
     "data": {
      "text/plain": [
       "date_crawled          0\n",
       "price                 0\n",
       "vehicle_type          0\n",
       "registration_year     0\n",
       "gearbox               0\n",
       "power                 0\n",
       "model                 0\n",
       "kilometer             0\n",
       "registration_month    0\n",
       "fuel_type             0\n",
       "brand                 0\n",
       "repaired              0\n",
       "date_created          0\n",
       "number_of_pictures    0\n",
       "postal_code           0\n",
       "last_seen             0\n",
       "dtype: int64"
      ]
     },
     "execution_count": 8,
     "metadata": {},
     "output_type": "execute_result"
    }
   ],
   "source": [
    "# заполняем пропуски значением 'unknown'\n",
    "# Заполняем пропуски значением 'unknown' только для столбцов типа 'object'\n",
    "for col in autos.select_dtypes(include=['object']).columns:\n",
    "    autos[col].fillna('unknown', inplace=True)\n",
    "autos.isnull().sum()"
   ]
  },
  {
   "cell_type": "markdown",
   "metadata": {},
   "source": [
    "Учитывая, что пропуски присутствовали только в категориальных данных, было принято решение заполнить их значением 'unknown'. Замена пропусков на 'unknown' позволяет сохранить записи в датасете, которые могли бы быть потеряны при удалении строк с пропущенными значениями."
   ]
  },
  {
   "cell_type": "markdown",
   "metadata": {},
   "source": [
    "#### Поиск дубликатов"
   ]
  },
  {
   "cell_type": "code",
   "execution_count": 9,
   "metadata": {},
   "outputs": [
    {
     "data": {
      "text/plain": [
       "4"
      ]
     },
     "execution_count": 9,
     "metadata": {},
     "output_type": "execute_result"
    }
   ],
   "source": [
    "# проверяем датасет на дубликаты\n",
    "autos.duplicated().sum()"
   ]
  },
  {
   "cell_type": "code",
   "execution_count": 10,
   "metadata": {},
   "outputs": [
    {
     "data": {
      "text/plain": [
       "0"
      ]
     },
     "execution_count": 10,
     "metadata": {},
     "output_type": "execute_result"
    }
   ],
   "source": [
    "# удаляем дубликаты\n",
    "autos.drop_duplicates(inplace=True)\n",
    "autos.duplicated().sum()"
   ]
  },
  {
   "cell_type": "code",
   "execution_count": 11,
   "metadata": {},
   "outputs": [
    {
     "name": "stdout",
     "output_type": "stream",
     "text": [
      "Уникальные значения в столбце 'vehicle_type': ['unknown' 'coupe' 'suv' 'small' 'sedan' 'convertible' 'bus' 'wagon'\n",
      " 'other']\n",
      "Уникальные значения в столбце 'gearbox': ['manual' 'auto' 'unknown']\n",
      "Уникальные значения в столбце 'model': ['golf' 'unknown' 'grand' 'fabia' '3er' '2_reihe' 'other' 'c_max'\n",
      " '3_reihe' 'passat' 'navara' 'ka' 'polo' 'twingo' 'a_klasse' 'scirocco'\n",
      " '5er' 'meriva' 'arosa' 'c4' 'civic' 'transporter' 'punto' 'e_klasse'\n",
      " 'clio' 'kadett' 'kangoo' 'corsa' 'one' 'fortwo' '1er' 'b_klasse' 'signum'\n",
      " 'astra' 'a8' 'jetta' 'fiesta' 'c_klasse' 'micra' 'vito' 'sprinter' '156'\n",
      " 'escort' 'forester' 'xc_reihe' 'scenic' 'a4' 'a1' 'insignia' 'combo'\n",
      " 'focus' 'tt' 'a6' 'jazz' 'omega' 'slk' '7er' '80' '147' '100' 'z_reihe'\n",
      " 'sportage' 'sorento' 'v40' 'ibiza' 'mustang' 'eos' 'touran' 'getz' 'a3'\n",
      " 'almera' 'megane' 'lupo' 'r19' 'zafira' 'caddy' 'mondeo' 'cordoba' 'colt'\n",
      " 'impreza' 'vectra' 'berlingo' 'tiguan' 'i_reihe' 'espace' 'sharan'\n",
      " '6_reihe' 'panda' 'up' 'seicento' 'ceed' '5_reihe' 'yeti' 'octavia' 'mii'\n",
      " 'rx_reihe' '6er' 'modus' 'fox' 'matiz' 'beetle' 'c1' 'rio' 'touareg'\n",
      " 'logan' 'spider' 'cuore' 's_max' 'a2' 'galaxy' 'c3' 'viano' 's_klasse'\n",
      " '1_reihe' 'avensis' 'roomster' 'sl' 'kaefer' 'santa' 'cooper' 'leon'\n",
      " '4_reihe' 'a5' '500' 'laguna' 'ptcruiser' 'clk' 'primera' 'x_reihe'\n",
      " 'exeo' '159' 'transit' 'juke' 'qashqai' 'carisma' 'accord' 'corolla'\n",
      " 'lanos' 'phaeton' 'verso' 'swift' 'rav' 'picanto' 'boxster' 'kalos'\n",
      " 'superb' 'stilo' 'alhambra' 'mx_reihe' 'roadster' 'ypsilon' 'cayenne'\n",
      " 'galant' 'justy' '90' 'sirion' 'crossfire' 'agila' 'duster' 'cr_reihe'\n",
      " 'v50' 'c_reihe' 'v_klasse' 'm_klasse' 'yaris' 'c5' 'aygo' 'cc' 'carnival'\n",
      " 'fusion' '911' 'bora' 'forfour' 'm_reihe' 'cl' 'tigra' '300c' 'spark'\n",
      " 'v70' 'kuga' 'x_type' 'ducato' 's_type' 'x_trail' 'toledo' 'altea'\n",
      " 'voyager' 'calibra' 'bravo' 'antara' 'tucson' 'citigo' 'jimny' 'wrangler'\n",
      " 'lybra' 'q7' 'lancer' 'captiva' 'c2' 'discovery' 'freelander' 'sandero'\n",
      " 'note' '900' 'cherokee' 'clubman' 'samara' 'defender' '601' 'cx_reihe'\n",
      " 'legacy' 'pajero' 'auris' 'niva' 's60' 'nubira' 'vivaro' 'g_klasse'\n",
      " 'lodgy' '850' 'range_rover' 'q3' 'serie_2' 'glk' 'charade' 'croma'\n",
      " 'outlander' 'doblo' 'musa' 'move' '9000' 'v60' '145' 'aveo' '200' 'b_max'\n",
      " 'range_rover_sport' 'terios' 'rangerover' 'q5' 'range_rover_evoque'\n",
      " 'materia' 'delta' 'gl' 'kalina' 'amarok' 'elefantino' 'i3' 'kappa'\n",
      " 'serie_3' 'serie_1']\n",
      "Уникальные значения в столбце 'fuel_type': ['petrol' 'gasoline' 'unknown' 'lpg' 'other' 'hybrid' 'cng' 'electric']\n",
      "Уникальные значения в столбце 'brand': ['volkswagen' 'audi' 'jeep' 'skoda' 'bmw' 'peugeot' 'ford' 'mazda'\n",
      " 'nissan' 'renault' 'mercedes_benz' 'opel' 'seat' 'citroen' 'honda' 'fiat'\n",
      " 'mini' 'smart' 'hyundai' 'sonstige_autos' 'alfa_romeo' 'subaru' 'volvo'\n",
      " 'mitsubishi' 'kia' 'suzuki' 'lancia' 'toyota' 'chevrolet' 'dacia'\n",
      " 'daihatsu' 'trabant' 'saab' 'chrysler' 'jaguar' 'daewoo' 'porsche'\n",
      " 'rover' 'land_rover' 'lada']\n",
      "Уникальные значения в столбце 'repaired': ['unknown' 'yes' 'no']\n"
     ]
    }
   ],
   "source": [
    "# выведем уникальные значения категориальных признаков\n",
    "for col in autos.select_dtypes(include=['object']).columns:\n",
    "    unique_values = autos[col].unique()\n",
    "    print(f\"Уникальные значения в столбце '{col}': {unique_values}\")"
   ]
  },
  {
   "cell_type": "markdown",
   "metadata": {},
   "source": [
    "Изучив уникальные названия категориальных признаков, можем сказать, что в столбце 'fuel_type' названия 'petrol' и 'gasoline' обозначают одно и тоже, необходимо их объединить. Так же в столбце 'model' очень много уникальных названий, необходимо проверить их на неполные дубликаты."
   ]
  },
  {
   "cell_type": "code",
   "execution_count": 12,
   "metadata": {},
   "outputs": [
    {
     "data": {
      "text/plain": [
       "Index(['golf', 'other', '3er', 'unknown', 'polo', 'corsa', 'astra', 'passat',\n",
       "       'a4', 'c_klasse',\n",
       "       ...\n",
       "       'gl', 'samara', 'elefantino', 'kalina', 'i3', 'serie_2', 'rangerover',\n",
       "       'serie_3', 'range_rover_evoque', 'serie_1'],\n",
       "      dtype='object', length=251)"
      ]
     },
     "execution_count": 12,
     "metadata": {},
     "output_type": "execute_result"
    }
   ],
   "source": [
    "model_count = autos['model'].value_counts().index\n",
    "model_count"
   ]
  },
  {
   "cell_type": "code",
   "execution_count": 13,
   "metadata": {},
   "outputs": [
    {
     "name": "stdout",
     "output_type": "stream",
     "text": [
      "Найденные дубликаты:\n",
      "\n",
      "Строка 40: 'x_reihe'\n",
      "Строка 56: 'mx_reihe'\n",
      "Схожесть: 93%\n",
      "\n",
      "Строка 40: 'x_reihe'\n",
      "Строка 151: 'xc_reihe'\n",
      "Схожесть: 93%\n",
      "\n",
      "Строка 40: 'x_reihe'\n",
      "Строка 189: 'rx_reihe'\n",
      "Схожесть: 93%\n",
      "\n",
      "Строка 40: 'x_reihe'\n",
      "Строка 219: 'cx_reihe'\n",
      "Схожесть: 93%\n",
      "\n",
      "Строка 133: 'cr_reihe'\n",
      "Строка 177: 'c_reihe'\n",
      "Схожесть: 93%\n",
      "\n",
      "Строка 217: 'range_rover'\n",
      "Строка 247: 'rangerover'\n",
      "Схожесть: 95%\n"
     ]
    }
   ],
   "source": [
    "# создадим функцию для поиска опечатов в стобце моделей\n",
    "def find_duplicates(data, threshold=85):\n",
    "    # Преобразуем входные данные в Series\n",
    "    if isinstance(data, pd.Index):\n",
    "        series = data.to_series()\n",
    "    elif not isinstance(data, pd.Series):\n",
    "        series = pd.Series(data)\n",
    "    else:\n",
    "        series = data.copy()\n",
    "    \n",
    "    # Подготовка данных\n",
    "    values = series.astype(str)\n",
    "    n = len(values)\n",
    "    duplicates = []\n",
    "    \n",
    "    # Поиск дубликатов с прогресс-баром для больших наборов данных\n",
    "    for i in range(n):\n",
    "        if any(i in (dup['index1'], dup['index2']) for dup in duplicates):\n",
    "            continue\n",
    "            \n",
    "        for j in range(i+1, min(i+1000, n)):  # Ограничиваем окно сравнения\n",
    "            similarity = fuzz.ratio(values[i], values[j])\n",
    "            if similarity > threshold:\n",
    "                duplicates.append({\n",
    "                    'index1': i,\n",
    "                    'index2': j,\n",
    "                    'string1': values[i],\n",
    "                    'string2': values[j],\n",
    "                    'similarity': similarity\n",
    "                })\n",
    "    return duplicates\n",
    "duplicates = find_duplicates(model_count, 90)\n",
    "# Вывод результатов\n",
    "print(\"Найденные дубликаты:\")\n",
    "for dup in duplicates:\n",
    "    print(f\"\\nСтрока {dup['index1']}: '{dup['string1']}'\")\n",
    "    print(f\"Строка {dup['index2']}: '{dup['string2']}'\")\n",
    "    print(f\"Схожесть: {dup['similarity']}%\")"
   ]
  },
  {
   "cell_type": "markdown",
   "metadata": {},
   "source": [
    "Изучив все найденные дубликаты, можем сказать, что только 'range_rover' и 'rangerover' являются дубликатами, остальные модели - существующие модели разных брендов."
   ]
  },
  {
   "cell_type": "code",
   "execution_count": 14,
   "metadata": {},
   "outputs": [],
   "source": [
    "# замена значений в столбцах 'model' и 'fuel_type'\n",
    "autos['model'] = autos['model'].replace('rangerover', 'range_rover')\n",
    "autos['fuel_type'] = autos['fuel_type'].replace('gasoline', 'petrol')"
   ]
  },
  {
   "cell_type": "markdown",
   "metadata": {},
   "source": [
    "#### Поиск аномалий"
   ]
  },
  {
   "cell_type": "code",
   "execution_count": 15,
   "metadata": {},
   "outputs": [
    {
     "data": {
      "text/plain": [
       "66198     1000\n",
       "183779    1000\n",
       "323443    1000\n",
       "174893    1000\n",
       "97736     1000\n",
       "          ... \n",
       "128677    9999\n",
       "301279    9999\n",
       "326725    9999\n",
       "60079     9999\n",
       "306578    9999\n",
       "Name: registration_year, Length: 354365, dtype: int64"
      ]
     },
     "execution_count": 15,
     "metadata": {},
     "output_type": "execute_result"
    }
   ],
   "source": [
    "# сортировка столбца с годом регистрации\n",
    "autos['registration_year'].sort_values()"
   ]
  },
  {
   "cell_type": "markdown",
   "metadata": {},
   "source": [
    "Так как 29 января 1886 года первый автомобиль в мире получил Германский Императорский патент, раньше этой даты быть зарегистрированным автомобиль не может и позже сегодняшнего дня тоже."
   ]
  },
  {
   "cell_type": "code",
   "execution_count": 16,
   "metadata": {},
   "outputs": [
    {
     "data": {
      "text/plain": [
       "77987     1910\n",
       "78374     1910\n",
       "29383     1910\n",
       "218273    1910\n",
       "223761    1910\n",
       "          ... \n",
       "62809     2019\n",
       "74469     2019\n",
       "264473    2019\n",
       "332451    2019\n",
       "209501    2019\n",
       "Name: registration_year, Length: 354194, dtype: int64"
      ]
     },
     "execution_count": 16,
     "metadata": {},
     "output_type": "execute_result"
    }
   ],
   "source": [
    "# удаление строк и годом регистрации раньше 1886 и позже 2025\n",
    "autos = autos[(autos['registration_year'] >= 1886) & (autos['registration_year'] <= 2025)]\n",
    "autos['registration_year'].sort_values()"
   ]
  },
  {
   "cell_type": "code",
   "execution_count": 17,
   "metadata": {},
   "outputs": [
    {
     "data": {
      "text/plain": [
       "0        1993-01-01\n",
       "1        2011-05-01\n",
       "2        2004-08-01\n",
       "3        2001-06-01\n",
       "4        2008-07-01\n",
       "            ...    \n",
       "354364   2005-07-01\n",
       "354365   2005-01-01\n",
       "354366   2000-03-01\n",
       "354367   1996-03-01\n",
       "354368   2002-06-01\n",
       "Name: date_registration, Length: 354194, dtype: datetime64[ns]"
      ]
     },
     "execution_count": 17,
     "metadata": {},
     "output_type": "execute_result"
    }
   ],
   "source": [
    "# преобразование столбцов 'registration_year' и 'registration_month' в строки\n",
    "autos['registration_year'] = autos['registration_year'].astype(str)\n",
    "autos['registration_month'] = autos['registration_month'].astype(str)\n",
    "\n",
    "# замена '0' на '1' в registration_month\n",
    "autos['registration_month'] = autos['registration_month'].replace('0', '1')\n",
    "\n",
    "# добавление нуля в начале однозначных чисел в 'registration_monthregistration_month'\n",
    "autos['registration_month'] = autos['registration_month'].apply(lambda x: x.zfill(2))\n",
    "\n",
    "# преобразование 'registration_year' в datetime\n",
    "autos = autos[(autos['registration_year'].astype(int) >= 1910) & (autos['registration_year'].astype(int) <= 2019)]\n",
    "\n",
    "# создание нового столбца 'date_registration' путем объединения 'registration_year' и 'registration_month'\n",
    "autos['date_registration'] = pd.to_datetime(autos['registration_year'] + '-' + autos['registration_month'] + '-01')\n",
    "autos['date_registration']"
   ]
  },
  {
   "cell_type": "markdown",
   "metadata": {},
   "source": [
    "Сравним дату регистрации автомобиля и дату скачивания анкеты на автомобиль из базы, аномалией будет, если дата регистрации автомобиля будет больше, чем дата скачивания анкеты из базы. Если такие аномалии есть, удалим их."
   ]
  },
  {
   "cell_type": "code",
   "execution_count": 18,
   "metadata": {},
   "outputs": [
    {
     "data": {
      "text/html": [
       "<div>\n",
       "<style scoped>\n",
       "    .dataframe tbody tr th:only-of-type {\n",
       "        vertical-align: middle;\n",
       "    }\n",
       "\n",
       "    .dataframe tbody tr th {\n",
       "        vertical-align: top;\n",
       "    }\n",
       "\n",
       "    .dataframe thead th {\n",
       "        text-align: right;\n",
       "    }\n",
       "</style>\n",
       "<table border=\"1\" class=\"dataframe\">\n",
       "  <thead>\n",
       "    <tr style=\"text-align: right;\">\n",
       "      <th></th>\n",
       "      <th>date_crawled</th>\n",
       "      <th>price</th>\n",
       "      <th>vehicle_type</th>\n",
       "      <th>registration_year</th>\n",
       "      <th>gearbox</th>\n",
       "      <th>power</th>\n",
       "      <th>model</th>\n",
       "      <th>kilometer</th>\n",
       "      <th>registration_month</th>\n",
       "      <th>fuel_type</th>\n",
       "      <th>brand</th>\n",
       "      <th>repaired</th>\n",
       "      <th>date_created</th>\n",
       "      <th>number_of_pictures</th>\n",
       "      <th>postal_code</th>\n",
       "      <th>last_seen</th>\n",
       "      <th>date_registration</th>\n",
       "    </tr>\n",
       "  </thead>\n",
       "  <tbody>\n",
       "    <tr>\n",
       "      <th>22</th>\n",
       "      <td>2016-03-23 14:52:51</td>\n",
       "      <td>2900</td>\n",
       "      <td>unknown</td>\n",
       "      <td>2018</td>\n",
       "      <td>manual</td>\n",
       "      <td>90</td>\n",
       "      <td>meriva</td>\n",
       "      <td>150000</td>\n",
       "      <td>05</td>\n",
       "      <td>petrol</td>\n",
       "      <td>opel</td>\n",
       "      <td>no</td>\n",
       "      <td>2016-03-23</td>\n",
       "      <td>0</td>\n",
       "      <td>49716</td>\n",
       "      <td>2016-03-31 01:16:33</td>\n",
       "      <td>2018-05-01</td>\n",
       "    </tr>\n",
       "    <tr>\n",
       "      <th>26</th>\n",
       "      <td>2016-03-10 19:38:18</td>\n",
       "      <td>5555</td>\n",
       "      <td>unknown</td>\n",
       "      <td>2017</td>\n",
       "      <td>manual</td>\n",
       "      <td>125</td>\n",
       "      <td>c4</td>\n",
       "      <td>125000</td>\n",
       "      <td>04</td>\n",
       "      <td>unknown</td>\n",
       "      <td>citroen</td>\n",
       "      <td>no</td>\n",
       "      <td>2016-03-10</td>\n",
       "      <td>0</td>\n",
       "      <td>31139</td>\n",
       "      <td>2016-03-16 09:16:46</td>\n",
       "      <td>2017-04-01</td>\n",
       "    </tr>\n",
       "    <tr>\n",
       "      <th>31</th>\n",
       "      <td>2016-03-29 16:57:02</td>\n",
       "      <td>899</td>\n",
       "      <td>unknown</td>\n",
       "      <td>2016</td>\n",
       "      <td>manual</td>\n",
       "      <td>60</td>\n",
       "      <td>clio</td>\n",
       "      <td>150000</td>\n",
       "      <td>06</td>\n",
       "      <td>petrol</td>\n",
       "      <td>renault</td>\n",
       "      <td>unknown</td>\n",
       "      <td>2016-03-29</td>\n",
       "      <td>0</td>\n",
       "      <td>37075</td>\n",
       "      <td>2016-03-29 17:43:07</td>\n",
       "      <td>2016-06-01</td>\n",
       "    </tr>\n",
       "    <tr>\n",
       "      <th>35</th>\n",
       "      <td>2016-03-08 07:54:46</td>\n",
       "      <td>350</td>\n",
       "      <td>unknown</td>\n",
       "      <td>2016</td>\n",
       "      <td>manual</td>\n",
       "      <td>75</td>\n",
       "      <td>golf</td>\n",
       "      <td>150000</td>\n",
       "      <td>04</td>\n",
       "      <td>petrol</td>\n",
       "      <td>volkswagen</td>\n",
       "      <td>no</td>\n",
       "      <td>2016-03-08</td>\n",
       "      <td>0</td>\n",
       "      <td>19386</td>\n",
       "      <td>2016-03-08 09:44:50</td>\n",
       "      <td>2016-04-01</td>\n",
       "    </tr>\n",
       "    <tr>\n",
       "      <th>48</th>\n",
       "      <td>2016-03-25 14:40:12</td>\n",
       "      <td>7750</td>\n",
       "      <td>unknown</td>\n",
       "      <td>2017</td>\n",
       "      <td>manual</td>\n",
       "      <td>80</td>\n",
       "      <td>golf</td>\n",
       "      <td>100000</td>\n",
       "      <td>01</td>\n",
       "      <td>petrol</td>\n",
       "      <td>volkswagen</td>\n",
       "      <td>unknown</td>\n",
       "      <td>2016-03-25</td>\n",
       "      <td>0</td>\n",
       "      <td>48499</td>\n",
       "      <td>2016-03-31 21:47:44</td>\n",
       "      <td>2017-01-01</td>\n",
       "    </tr>\n",
       "    <tr>\n",
       "      <th>...</th>\n",
       "      <td>...</td>\n",
       "      <td>...</td>\n",
       "      <td>...</td>\n",
       "      <td>...</td>\n",
       "      <td>...</td>\n",
       "      <td>...</td>\n",
       "      <td>...</td>\n",
       "      <td>...</td>\n",
       "      <td>...</td>\n",
       "      <td>...</td>\n",
       "      <td>...</td>\n",
       "      <td>...</td>\n",
       "      <td>...</td>\n",
       "      <td>...</td>\n",
       "      <td>...</td>\n",
       "      <td>...</td>\n",
       "      <td>...</td>\n",
       "    </tr>\n",
       "    <tr>\n",
       "      <th>354198</th>\n",
       "      <td>2016-03-10 23:36:19</td>\n",
       "      <td>1350</td>\n",
       "      <td>unknown</td>\n",
       "      <td>2016</td>\n",
       "      <td>manual</td>\n",
       "      <td>0</td>\n",
       "      <td>clk</td>\n",
       "      <td>150000</td>\n",
       "      <td>08</td>\n",
       "      <td>unknown</td>\n",
       "      <td>mercedes_benz</td>\n",
       "      <td>yes</td>\n",
       "      <td>2016-03-10</td>\n",
       "      <td>0</td>\n",
       "      <td>26427</td>\n",
       "      <td>2016-03-13 02:45:51</td>\n",
       "      <td>2016-08-01</td>\n",
       "    </tr>\n",
       "    <tr>\n",
       "      <th>354203</th>\n",
       "      <td>2016-03-17 00:56:26</td>\n",
       "      <td>2140</td>\n",
       "      <td>unknown</td>\n",
       "      <td>2018</td>\n",
       "      <td>manual</td>\n",
       "      <td>80</td>\n",
       "      <td>fiesta</td>\n",
       "      <td>150000</td>\n",
       "      <td>06</td>\n",
       "      <td>unknown</td>\n",
       "      <td>ford</td>\n",
       "      <td>no</td>\n",
       "      <td>2016-03-17</td>\n",
       "      <td>0</td>\n",
       "      <td>44866</td>\n",
       "      <td>2016-03-29 15:45:04</td>\n",
       "      <td>2018-06-01</td>\n",
       "    </tr>\n",
       "    <tr>\n",
       "      <th>354253</th>\n",
       "      <td>2016-03-25 09:37:59</td>\n",
       "      <td>1250</td>\n",
       "      <td>unknown</td>\n",
       "      <td>2018</td>\n",
       "      <td>unknown</td>\n",
       "      <td>0</td>\n",
       "      <td>corsa</td>\n",
       "      <td>150000</td>\n",
       "      <td>01</td>\n",
       "      <td>petrol</td>\n",
       "      <td>opel</td>\n",
       "      <td>unknown</td>\n",
       "      <td>2016-03-25</td>\n",
       "      <td>0</td>\n",
       "      <td>45527</td>\n",
       "      <td>2016-04-06 07:46:13</td>\n",
       "      <td>2018-01-01</td>\n",
       "    </tr>\n",
       "    <tr>\n",
       "      <th>354289</th>\n",
       "      <td>2016-03-05 14:55:29</td>\n",
       "      <td>5000</td>\n",
       "      <td>unknown</td>\n",
       "      <td>2017</td>\n",
       "      <td>manual</td>\n",
       "      <td>120</td>\n",
       "      <td>other</td>\n",
       "      <td>150000</td>\n",
       "      <td>07</td>\n",
       "      <td>unknown</td>\n",
       "      <td>citroen</td>\n",
       "      <td>yes</td>\n",
       "      <td>2016-03-05</td>\n",
       "      <td>0</td>\n",
       "      <td>15518</td>\n",
       "      <td>2016-04-05 11:48:09</td>\n",
       "      <td>2017-07-01</td>\n",
       "    </tr>\n",
       "    <tr>\n",
       "      <th>354361</th>\n",
       "      <td>2016-03-09 13:37:43</td>\n",
       "      <td>5250</td>\n",
       "      <td>unknown</td>\n",
       "      <td>2016</td>\n",
       "      <td>auto</td>\n",
       "      <td>150</td>\n",
       "      <td>159</td>\n",
       "      <td>150000</td>\n",
       "      <td>12</td>\n",
       "      <td>unknown</td>\n",
       "      <td>alfa_romeo</td>\n",
       "      <td>no</td>\n",
       "      <td>2016-03-09</td>\n",
       "      <td>0</td>\n",
       "      <td>51371</td>\n",
       "      <td>2016-03-13 01:44:13</td>\n",
       "      <td>2016-12-01</td>\n",
       "    </tr>\n",
       "  </tbody>\n",
       "</table>\n",
       "<p>19654 rows × 17 columns</p>\n",
       "</div>"
      ],
      "text/plain": [
       "              date_crawled  price vehicle_type registration_year  gearbox  \\\n",
       "22     2016-03-23 14:52:51   2900      unknown              2018   manual   \n",
       "26     2016-03-10 19:38:18   5555      unknown              2017   manual   \n",
       "31     2016-03-29 16:57:02    899      unknown              2016   manual   \n",
       "35     2016-03-08 07:54:46    350      unknown              2016   manual   \n",
       "48     2016-03-25 14:40:12   7750      unknown              2017   manual   \n",
       "...                    ...    ...          ...               ...      ...   \n",
       "354198 2016-03-10 23:36:19   1350      unknown              2016   manual   \n",
       "354203 2016-03-17 00:56:26   2140      unknown              2018   manual   \n",
       "354253 2016-03-25 09:37:59   1250      unknown              2018  unknown   \n",
       "354289 2016-03-05 14:55:29   5000      unknown              2017   manual   \n",
       "354361 2016-03-09 13:37:43   5250      unknown              2016     auto   \n",
       "\n",
       "        power   model  kilometer registration_month fuel_type          brand  \\\n",
       "22         90  meriva     150000                 05    petrol           opel   \n",
       "26        125      c4     125000                 04   unknown        citroen   \n",
       "31         60    clio     150000                 06    petrol        renault   \n",
       "35         75    golf     150000                 04    petrol     volkswagen   \n",
       "48         80    golf     100000                 01    petrol     volkswagen   \n",
       "...       ...     ...        ...                ...       ...            ...   \n",
       "354198      0     clk     150000                 08   unknown  mercedes_benz   \n",
       "354203     80  fiesta     150000                 06   unknown           ford   \n",
       "354253      0   corsa     150000                 01    petrol           opel   \n",
       "354289    120   other     150000                 07   unknown        citroen   \n",
       "354361    150     159     150000                 12   unknown     alfa_romeo   \n",
       "\n",
       "       repaired date_created  number_of_pictures  postal_code  \\\n",
       "22           no   2016-03-23                   0        49716   \n",
       "26           no   2016-03-10                   0        31139   \n",
       "31      unknown   2016-03-29                   0        37075   \n",
       "35           no   2016-03-08                   0        19386   \n",
       "48      unknown   2016-03-25                   0        48499   \n",
       "...         ...          ...                 ...          ...   \n",
       "354198      yes   2016-03-10                   0        26427   \n",
       "354203       no   2016-03-17                   0        44866   \n",
       "354253  unknown   2016-03-25                   0        45527   \n",
       "354289      yes   2016-03-05                   0        15518   \n",
       "354361       no   2016-03-09                   0        51371   \n",
       "\n",
       "                 last_seen date_registration  \n",
       "22     2016-03-31 01:16:33        2018-05-01  \n",
       "26     2016-03-16 09:16:46        2017-04-01  \n",
       "31     2016-03-29 17:43:07        2016-06-01  \n",
       "35     2016-03-08 09:44:50        2016-04-01  \n",
       "48     2016-03-31 21:47:44        2017-01-01  \n",
       "...                    ...               ...  \n",
       "354198 2016-03-13 02:45:51        2016-08-01  \n",
       "354203 2016-03-29 15:45:04        2018-06-01  \n",
       "354253 2016-04-06 07:46:13        2018-01-01  \n",
       "354289 2016-04-05 11:48:09        2017-07-01  \n",
       "354361 2016-03-13 01:44:13        2016-12-01  \n",
       "\n",
       "[19654 rows x 17 columns]"
      ]
     },
     "execution_count": 18,
     "metadata": {},
     "output_type": "execute_result"
    }
   ],
   "source": [
    "# вывод аномалии: дата регистрации автомобиля позже даты скачивания анкеты из базы\n",
    "anom_crawled = autos[autos['date_registration'] >= autos['date_crawled']]\n",
    "anom_crawled"
   ]
  },
  {
   "cell_type": "code",
   "execution_count": 19,
   "metadata": {},
   "outputs": [
    {
     "data": {
      "text/html": [
       "<div>\n",
       "<style scoped>\n",
       "    .dataframe tbody tr th:only-of-type {\n",
       "        vertical-align: middle;\n",
       "    }\n",
       "\n",
       "    .dataframe tbody tr th {\n",
       "        vertical-align: top;\n",
       "    }\n",
       "\n",
       "    .dataframe thead th {\n",
       "        text-align: right;\n",
       "    }\n",
       "</style>\n",
       "<table border=\"1\" class=\"dataframe\">\n",
       "  <thead>\n",
       "    <tr style=\"text-align: right;\">\n",
       "      <th></th>\n",
       "      <th>date_crawled</th>\n",
       "      <th>price</th>\n",
       "      <th>vehicle_type</th>\n",
       "      <th>registration_year</th>\n",
       "      <th>gearbox</th>\n",
       "      <th>power</th>\n",
       "      <th>model</th>\n",
       "      <th>kilometer</th>\n",
       "      <th>registration_month</th>\n",
       "      <th>fuel_type</th>\n",
       "      <th>brand</th>\n",
       "      <th>repaired</th>\n",
       "      <th>date_created</th>\n",
       "      <th>number_of_pictures</th>\n",
       "      <th>postal_code</th>\n",
       "      <th>last_seen</th>\n",
       "      <th>date_registration</th>\n",
       "    </tr>\n",
       "  </thead>\n",
       "  <tbody>\n",
       "    <tr>\n",
       "      <th>0</th>\n",
       "      <td>2016-03-24 11:52:17</td>\n",
       "      <td>480</td>\n",
       "      <td>unknown</td>\n",
       "      <td>1993</td>\n",
       "      <td>manual</td>\n",
       "      <td>0</td>\n",
       "      <td>golf</td>\n",
       "      <td>150000</td>\n",
       "      <td>01</td>\n",
       "      <td>petrol</td>\n",
       "      <td>volkswagen</td>\n",
       "      <td>unknown</td>\n",
       "      <td>2016-03-24</td>\n",
       "      <td>0</td>\n",
       "      <td>70435</td>\n",
       "      <td>2016-04-07 03:16:57</td>\n",
       "      <td>1993-01-01</td>\n",
       "    </tr>\n",
       "    <tr>\n",
       "      <th>1</th>\n",
       "      <td>2016-03-24 10:58:45</td>\n",
       "      <td>18300</td>\n",
       "      <td>coupe</td>\n",
       "      <td>2011</td>\n",
       "      <td>manual</td>\n",
       "      <td>190</td>\n",
       "      <td>unknown</td>\n",
       "      <td>125000</td>\n",
       "      <td>05</td>\n",
       "      <td>petrol</td>\n",
       "      <td>audi</td>\n",
       "      <td>yes</td>\n",
       "      <td>2016-03-24</td>\n",
       "      <td>0</td>\n",
       "      <td>66954</td>\n",
       "      <td>2016-04-07 01:46:50</td>\n",
       "      <td>2011-05-01</td>\n",
       "    </tr>\n",
       "    <tr>\n",
       "      <th>2</th>\n",
       "      <td>2016-03-14 12:52:21</td>\n",
       "      <td>9800</td>\n",
       "      <td>suv</td>\n",
       "      <td>2004</td>\n",
       "      <td>auto</td>\n",
       "      <td>163</td>\n",
       "      <td>grand</td>\n",
       "      <td>125000</td>\n",
       "      <td>08</td>\n",
       "      <td>petrol</td>\n",
       "      <td>jeep</td>\n",
       "      <td>unknown</td>\n",
       "      <td>2016-03-14</td>\n",
       "      <td>0</td>\n",
       "      <td>90480</td>\n",
       "      <td>2016-04-05 12:47:46</td>\n",
       "      <td>2004-08-01</td>\n",
       "    </tr>\n",
       "    <tr>\n",
       "      <th>3</th>\n",
       "      <td>2016-03-17 16:54:04</td>\n",
       "      <td>1500</td>\n",
       "      <td>small</td>\n",
       "      <td>2001</td>\n",
       "      <td>manual</td>\n",
       "      <td>75</td>\n",
       "      <td>golf</td>\n",
       "      <td>150000</td>\n",
       "      <td>06</td>\n",
       "      <td>petrol</td>\n",
       "      <td>volkswagen</td>\n",
       "      <td>no</td>\n",
       "      <td>2016-03-17</td>\n",
       "      <td>0</td>\n",
       "      <td>91074</td>\n",
       "      <td>2016-03-17 17:40:17</td>\n",
       "      <td>2001-06-01</td>\n",
       "    </tr>\n",
       "    <tr>\n",
       "      <th>4</th>\n",
       "      <td>2016-03-31 17:25:20</td>\n",
       "      <td>3600</td>\n",
       "      <td>small</td>\n",
       "      <td>2008</td>\n",
       "      <td>manual</td>\n",
       "      <td>69</td>\n",
       "      <td>fabia</td>\n",
       "      <td>90000</td>\n",
       "      <td>07</td>\n",
       "      <td>petrol</td>\n",
       "      <td>skoda</td>\n",
       "      <td>no</td>\n",
       "      <td>2016-03-31</td>\n",
       "      <td>0</td>\n",
       "      <td>60437</td>\n",
       "      <td>2016-04-06 10:17:21</td>\n",
       "      <td>2008-07-01</td>\n",
       "    </tr>\n",
       "    <tr>\n",
       "      <th>...</th>\n",
       "      <td>...</td>\n",
       "      <td>...</td>\n",
       "      <td>...</td>\n",
       "      <td>...</td>\n",
       "      <td>...</td>\n",
       "      <td>...</td>\n",
       "      <td>...</td>\n",
       "      <td>...</td>\n",
       "      <td>...</td>\n",
       "      <td>...</td>\n",
       "      <td>...</td>\n",
       "      <td>...</td>\n",
       "      <td>...</td>\n",
       "      <td>...</td>\n",
       "      <td>...</td>\n",
       "      <td>...</td>\n",
       "      <td>...</td>\n",
       "    </tr>\n",
       "    <tr>\n",
       "      <th>354364</th>\n",
       "      <td>2016-03-21 09:50:58</td>\n",
       "      <td>0</td>\n",
       "      <td>unknown</td>\n",
       "      <td>2005</td>\n",
       "      <td>manual</td>\n",
       "      <td>0</td>\n",
       "      <td>colt</td>\n",
       "      <td>150000</td>\n",
       "      <td>07</td>\n",
       "      <td>petrol</td>\n",
       "      <td>mitsubishi</td>\n",
       "      <td>yes</td>\n",
       "      <td>2016-03-21</td>\n",
       "      <td>0</td>\n",
       "      <td>2694</td>\n",
       "      <td>2016-03-21 10:42:49</td>\n",
       "      <td>2005-07-01</td>\n",
       "    </tr>\n",
       "    <tr>\n",
       "      <th>354365</th>\n",
       "      <td>2016-03-14 17:48:27</td>\n",
       "      <td>2200</td>\n",
       "      <td>unknown</td>\n",
       "      <td>2005</td>\n",
       "      <td>unknown</td>\n",
       "      <td>0</td>\n",
       "      <td>unknown</td>\n",
       "      <td>20000</td>\n",
       "      <td>01</td>\n",
       "      <td>unknown</td>\n",
       "      <td>sonstige_autos</td>\n",
       "      <td>unknown</td>\n",
       "      <td>2016-03-14</td>\n",
       "      <td>0</td>\n",
       "      <td>39576</td>\n",
       "      <td>2016-04-06 00:46:52</td>\n",
       "      <td>2005-01-01</td>\n",
       "    </tr>\n",
       "    <tr>\n",
       "      <th>354366</th>\n",
       "      <td>2016-03-05 19:56:21</td>\n",
       "      <td>1199</td>\n",
       "      <td>convertible</td>\n",
       "      <td>2000</td>\n",
       "      <td>auto</td>\n",
       "      <td>101</td>\n",
       "      <td>fortwo</td>\n",
       "      <td>125000</td>\n",
       "      <td>03</td>\n",
       "      <td>petrol</td>\n",
       "      <td>smart</td>\n",
       "      <td>no</td>\n",
       "      <td>2016-03-05</td>\n",
       "      <td>0</td>\n",
       "      <td>26135</td>\n",
       "      <td>2016-03-11 18:17:12</td>\n",
       "      <td>2000-03-01</td>\n",
       "    </tr>\n",
       "    <tr>\n",
       "      <th>354367</th>\n",
       "      <td>2016-03-19 18:57:12</td>\n",
       "      <td>9200</td>\n",
       "      <td>bus</td>\n",
       "      <td>1996</td>\n",
       "      <td>manual</td>\n",
       "      <td>102</td>\n",
       "      <td>transporter</td>\n",
       "      <td>150000</td>\n",
       "      <td>03</td>\n",
       "      <td>petrol</td>\n",
       "      <td>volkswagen</td>\n",
       "      <td>no</td>\n",
       "      <td>2016-03-19</td>\n",
       "      <td>0</td>\n",
       "      <td>87439</td>\n",
       "      <td>2016-04-07 07:15:26</td>\n",
       "      <td>1996-03-01</td>\n",
       "    </tr>\n",
       "    <tr>\n",
       "      <th>354368</th>\n",
       "      <td>2016-03-20 19:41:08</td>\n",
       "      <td>3400</td>\n",
       "      <td>wagon</td>\n",
       "      <td>2002</td>\n",
       "      <td>manual</td>\n",
       "      <td>100</td>\n",
       "      <td>golf</td>\n",
       "      <td>150000</td>\n",
       "      <td>06</td>\n",
       "      <td>petrol</td>\n",
       "      <td>volkswagen</td>\n",
       "      <td>unknown</td>\n",
       "      <td>2016-03-20</td>\n",
       "      <td>0</td>\n",
       "      <td>40764</td>\n",
       "      <td>2016-03-24 12:45:21</td>\n",
       "      <td>2002-06-01</td>\n",
       "    </tr>\n",
       "  </tbody>\n",
       "</table>\n",
       "<p>334540 rows × 17 columns</p>\n",
       "</div>"
      ],
      "text/plain": [
       "              date_crawled  price vehicle_type registration_year  gearbox  \\\n",
       "0      2016-03-24 11:52:17    480      unknown              1993   manual   \n",
       "1      2016-03-24 10:58:45  18300        coupe              2011   manual   \n",
       "2      2016-03-14 12:52:21   9800          suv              2004     auto   \n",
       "3      2016-03-17 16:54:04   1500        small              2001   manual   \n",
       "4      2016-03-31 17:25:20   3600        small              2008   manual   \n",
       "...                    ...    ...          ...               ...      ...   \n",
       "354364 2016-03-21 09:50:58      0      unknown              2005   manual   \n",
       "354365 2016-03-14 17:48:27   2200      unknown              2005  unknown   \n",
       "354366 2016-03-05 19:56:21   1199  convertible              2000     auto   \n",
       "354367 2016-03-19 18:57:12   9200          bus              1996   manual   \n",
       "354368 2016-03-20 19:41:08   3400        wagon              2002   manual   \n",
       "\n",
       "        power        model  kilometer registration_month fuel_type  \\\n",
       "0           0         golf     150000                 01    petrol   \n",
       "1         190      unknown     125000                 05    petrol   \n",
       "2         163        grand     125000                 08    petrol   \n",
       "3          75         golf     150000                 06    petrol   \n",
       "4          69        fabia      90000                 07    petrol   \n",
       "...       ...          ...        ...                ...       ...   \n",
       "354364      0         colt     150000                 07    petrol   \n",
       "354365      0      unknown      20000                 01   unknown   \n",
       "354366    101       fortwo     125000                 03    petrol   \n",
       "354367    102  transporter     150000                 03    petrol   \n",
       "354368    100         golf     150000                 06    petrol   \n",
       "\n",
       "                 brand repaired date_created  number_of_pictures  postal_code  \\\n",
       "0           volkswagen  unknown   2016-03-24                   0        70435   \n",
       "1                 audi      yes   2016-03-24                   0        66954   \n",
       "2                 jeep  unknown   2016-03-14                   0        90480   \n",
       "3           volkswagen       no   2016-03-17                   0        91074   \n",
       "4                skoda       no   2016-03-31                   0        60437   \n",
       "...                ...      ...          ...                 ...          ...   \n",
       "354364      mitsubishi      yes   2016-03-21                   0         2694   \n",
       "354365  sonstige_autos  unknown   2016-03-14                   0        39576   \n",
       "354366           smart       no   2016-03-05                   0        26135   \n",
       "354367      volkswagen       no   2016-03-19                   0        87439   \n",
       "354368      volkswagen  unknown   2016-03-20                   0        40764   \n",
       "\n",
       "                 last_seen date_registration  \n",
       "0      2016-04-07 03:16:57        1993-01-01  \n",
       "1      2016-04-07 01:46:50        2011-05-01  \n",
       "2      2016-04-05 12:47:46        2004-08-01  \n",
       "3      2016-03-17 17:40:17        2001-06-01  \n",
       "4      2016-04-06 10:17:21        2008-07-01  \n",
       "...                    ...               ...  \n",
       "354364 2016-03-21 10:42:49        2005-07-01  \n",
       "354365 2016-04-06 00:46:52        2005-01-01  \n",
       "354366 2016-03-11 18:17:12        2000-03-01  \n",
       "354367 2016-04-07 07:15:26        1996-03-01  \n",
       "354368 2016-03-24 12:45:21        2002-06-01  \n",
       "\n",
       "[334540 rows x 17 columns]"
      ]
     },
     "execution_count": 19,
     "metadata": {},
     "output_type": "execute_result"
    }
   ],
   "source": [
    "# удаление аномалий \n",
    "autos = autos[autos['date_registration'] <= autos['date_crawled']]\n",
    "autos"
   ]
  },
  {
   "cell_type": "markdown",
   "metadata": {},
   "source": [
    "Так же сравним дату регистрации автомобиля и дату создания анкеты об автомобиле из базы, аномалией будет, если дата регистрации автомобиля будет больше, чем дата создания анкеты. Если такие аномалии есть, удалим их."
   ]
  },
  {
   "cell_type": "code",
   "execution_count": 20,
   "metadata": {},
   "outputs": [
    {
     "data": {
      "text/html": [
       "<div>\n",
       "<style scoped>\n",
       "    .dataframe tbody tr th:only-of-type {\n",
       "        vertical-align: middle;\n",
       "    }\n",
       "\n",
       "    .dataframe tbody tr th {\n",
       "        vertical-align: top;\n",
       "    }\n",
       "\n",
       "    .dataframe thead th {\n",
       "        text-align: right;\n",
       "    }\n",
       "</style>\n",
       "<table border=\"1\" class=\"dataframe\">\n",
       "  <thead>\n",
       "    <tr style=\"text-align: right;\">\n",
       "      <th></th>\n",
       "      <th>date_crawled</th>\n",
       "      <th>price</th>\n",
       "      <th>vehicle_type</th>\n",
       "      <th>registration_year</th>\n",
       "      <th>gearbox</th>\n",
       "      <th>power</th>\n",
       "      <th>model</th>\n",
       "      <th>kilometer</th>\n",
       "      <th>registration_month</th>\n",
       "      <th>fuel_type</th>\n",
       "      <th>brand</th>\n",
       "      <th>repaired</th>\n",
       "      <th>date_created</th>\n",
       "      <th>number_of_pictures</th>\n",
       "      <th>postal_code</th>\n",
       "      <th>last_seen</th>\n",
       "      <th>date_registration</th>\n",
       "    </tr>\n",
       "  </thead>\n",
       "  <tbody>\n",
       "    <tr>\n",
       "      <th>207119</th>\n",
       "      <td>2016-04-01 01:55:08</td>\n",
       "      <td>1100</td>\n",
       "      <td>unknown</td>\n",
       "      <td>2016</td>\n",
       "      <td>manual</td>\n",
       "      <td>105</td>\n",
       "      <td>golf</td>\n",
       "      <td>150000</td>\n",
       "      <td>04</td>\n",
       "      <td>unknown</td>\n",
       "      <td>volkswagen</td>\n",
       "      <td>yes</td>\n",
       "      <td>2016-03-31</td>\n",
       "      <td>0</td>\n",
       "      <td>76857</td>\n",
       "      <td>2016-04-05 01:18:13</td>\n",
       "      <td>2016-04-01</td>\n",
       "    </tr>\n",
       "  </tbody>\n",
       "</table>\n",
       "</div>"
      ],
      "text/plain": [
       "              date_crawled  price vehicle_type registration_year gearbox  \\\n",
       "207119 2016-04-01 01:55:08   1100      unknown              2016  manual   \n",
       "\n",
       "        power model  kilometer registration_month fuel_type       brand  \\\n",
       "207119    105  golf     150000                 04   unknown  volkswagen   \n",
       "\n",
       "       repaired date_created  number_of_pictures  postal_code  \\\n",
       "207119      yes   2016-03-31                   0        76857   \n",
       "\n",
       "                 last_seen date_registration  \n",
       "207119 2016-04-05 01:18:13        2016-04-01  "
      ]
     },
     "execution_count": 20,
     "metadata": {},
     "output_type": "execute_result"
    }
   ],
   "source": [
    "# вывод аномалии: дата регистрации автомобиля позже даты создания анкеты\n",
    "anom_created = autos[(autos['date_registration'] > autos['date_created'])]\n",
    "anom_created"
   ]
  },
  {
   "cell_type": "code",
   "execution_count": 21,
   "metadata": {
    "scrolled": false
   },
   "outputs": [
    {
     "data": {
      "text/html": [
       "<div>\n",
       "<style scoped>\n",
       "    .dataframe tbody tr th:only-of-type {\n",
       "        vertical-align: middle;\n",
       "    }\n",
       "\n",
       "    .dataframe tbody tr th {\n",
       "        vertical-align: top;\n",
       "    }\n",
       "\n",
       "    .dataframe thead th {\n",
       "        text-align: right;\n",
       "    }\n",
       "</style>\n",
       "<table border=\"1\" class=\"dataframe\">\n",
       "  <thead>\n",
       "    <tr style=\"text-align: right;\">\n",
       "      <th></th>\n",
       "      <th>date_crawled</th>\n",
       "      <th>price</th>\n",
       "      <th>vehicle_type</th>\n",
       "      <th>registration_year</th>\n",
       "      <th>gearbox</th>\n",
       "      <th>power</th>\n",
       "      <th>model</th>\n",
       "      <th>kilometer</th>\n",
       "      <th>registration_month</th>\n",
       "      <th>fuel_type</th>\n",
       "      <th>brand</th>\n",
       "      <th>repaired</th>\n",
       "      <th>date_created</th>\n",
       "      <th>number_of_pictures</th>\n",
       "      <th>postal_code</th>\n",
       "      <th>last_seen</th>\n",
       "      <th>date_registration</th>\n",
       "    </tr>\n",
       "  </thead>\n",
       "  <tbody>\n",
       "    <tr>\n",
       "      <th>0</th>\n",
       "      <td>2016-03-24 11:52:17</td>\n",
       "      <td>480</td>\n",
       "      <td>unknown</td>\n",
       "      <td>1993</td>\n",
       "      <td>manual</td>\n",
       "      <td>0</td>\n",
       "      <td>golf</td>\n",
       "      <td>150000</td>\n",
       "      <td>01</td>\n",
       "      <td>petrol</td>\n",
       "      <td>volkswagen</td>\n",
       "      <td>unknown</td>\n",
       "      <td>2016-03-24</td>\n",
       "      <td>0</td>\n",
       "      <td>70435</td>\n",
       "      <td>2016-04-07 03:16:57</td>\n",
       "      <td>1993-01-01</td>\n",
       "    </tr>\n",
       "    <tr>\n",
       "      <th>1</th>\n",
       "      <td>2016-03-24 10:58:45</td>\n",
       "      <td>18300</td>\n",
       "      <td>coupe</td>\n",
       "      <td>2011</td>\n",
       "      <td>manual</td>\n",
       "      <td>190</td>\n",
       "      <td>unknown</td>\n",
       "      <td>125000</td>\n",
       "      <td>05</td>\n",
       "      <td>petrol</td>\n",
       "      <td>audi</td>\n",
       "      <td>yes</td>\n",
       "      <td>2016-03-24</td>\n",
       "      <td>0</td>\n",
       "      <td>66954</td>\n",
       "      <td>2016-04-07 01:46:50</td>\n",
       "      <td>2011-05-01</td>\n",
       "    </tr>\n",
       "    <tr>\n",
       "      <th>2</th>\n",
       "      <td>2016-03-14 12:52:21</td>\n",
       "      <td>9800</td>\n",
       "      <td>suv</td>\n",
       "      <td>2004</td>\n",
       "      <td>auto</td>\n",
       "      <td>163</td>\n",
       "      <td>grand</td>\n",
       "      <td>125000</td>\n",
       "      <td>08</td>\n",
       "      <td>petrol</td>\n",
       "      <td>jeep</td>\n",
       "      <td>unknown</td>\n",
       "      <td>2016-03-14</td>\n",
       "      <td>0</td>\n",
       "      <td>90480</td>\n",
       "      <td>2016-04-05 12:47:46</td>\n",
       "      <td>2004-08-01</td>\n",
       "    </tr>\n",
       "    <tr>\n",
       "      <th>3</th>\n",
       "      <td>2016-03-17 16:54:04</td>\n",
       "      <td>1500</td>\n",
       "      <td>small</td>\n",
       "      <td>2001</td>\n",
       "      <td>manual</td>\n",
       "      <td>75</td>\n",
       "      <td>golf</td>\n",
       "      <td>150000</td>\n",
       "      <td>06</td>\n",
       "      <td>petrol</td>\n",
       "      <td>volkswagen</td>\n",
       "      <td>no</td>\n",
       "      <td>2016-03-17</td>\n",
       "      <td>0</td>\n",
       "      <td>91074</td>\n",
       "      <td>2016-03-17 17:40:17</td>\n",
       "      <td>2001-06-01</td>\n",
       "    </tr>\n",
       "    <tr>\n",
       "      <th>4</th>\n",
       "      <td>2016-03-31 17:25:20</td>\n",
       "      <td>3600</td>\n",
       "      <td>small</td>\n",
       "      <td>2008</td>\n",
       "      <td>manual</td>\n",
       "      <td>69</td>\n",
       "      <td>fabia</td>\n",
       "      <td>90000</td>\n",
       "      <td>07</td>\n",
       "      <td>petrol</td>\n",
       "      <td>skoda</td>\n",
       "      <td>no</td>\n",
       "      <td>2016-03-31</td>\n",
       "      <td>0</td>\n",
       "      <td>60437</td>\n",
       "      <td>2016-04-06 10:17:21</td>\n",
       "      <td>2008-07-01</td>\n",
       "    </tr>\n",
       "    <tr>\n",
       "      <th>...</th>\n",
       "      <td>...</td>\n",
       "      <td>...</td>\n",
       "      <td>...</td>\n",
       "      <td>...</td>\n",
       "      <td>...</td>\n",
       "      <td>...</td>\n",
       "      <td>...</td>\n",
       "      <td>...</td>\n",
       "      <td>...</td>\n",
       "      <td>...</td>\n",
       "      <td>...</td>\n",
       "      <td>...</td>\n",
       "      <td>...</td>\n",
       "      <td>...</td>\n",
       "      <td>...</td>\n",
       "      <td>...</td>\n",
       "      <td>...</td>\n",
       "    </tr>\n",
       "    <tr>\n",
       "      <th>354364</th>\n",
       "      <td>2016-03-21 09:50:58</td>\n",
       "      <td>0</td>\n",
       "      <td>unknown</td>\n",
       "      <td>2005</td>\n",
       "      <td>manual</td>\n",
       "      <td>0</td>\n",
       "      <td>colt</td>\n",
       "      <td>150000</td>\n",
       "      <td>07</td>\n",
       "      <td>petrol</td>\n",
       "      <td>mitsubishi</td>\n",
       "      <td>yes</td>\n",
       "      <td>2016-03-21</td>\n",
       "      <td>0</td>\n",
       "      <td>2694</td>\n",
       "      <td>2016-03-21 10:42:49</td>\n",
       "      <td>2005-07-01</td>\n",
       "    </tr>\n",
       "    <tr>\n",
       "      <th>354365</th>\n",
       "      <td>2016-03-14 17:48:27</td>\n",
       "      <td>2200</td>\n",
       "      <td>unknown</td>\n",
       "      <td>2005</td>\n",
       "      <td>unknown</td>\n",
       "      <td>0</td>\n",
       "      <td>unknown</td>\n",
       "      <td>20000</td>\n",
       "      <td>01</td>\n",
       "      <td>unknown</td>\n",
       "      <td>sonstige_autos</td>\n",
       "      <td>unknown</td>\n",
       "      <td>2016-03-14</td>\n",
       "      <td>0</td>\n",
       "      <td>39576</td>\n",
       "      <td>2016-04-06 00:46:52</td>\n",
       "      <td>2005-01-01</td>\n",
       "    </tr>\n",
       "    <tr>\n",
       "      <th>354366</th>\n",
       "      <td>2016-03-05 19:56:21</td>\n",
       "      <td>1199</td>\n",
       "      <td>convertible</td>\n",
       "      <td>2000</td>\n",
       "      <td>auto</td>\n",
       "      <td>101</td>\n",
       "      <td>fortwo</td>\n",
       "      <td>125000</td>\n",
       "      <td>03</td>\n",
       "      <td>petrol</td>\n",
       "      <td>smart</td>\n",
       "      <td>no</td>\n",
       "      <td>2016-03-05</td>\n",
       "      <td>0</td>\n",
       "      <td>26135</td>\n",
       "      <td>2016-03-11 18:17:12</td>\n",
       "      <td>2000-03-01</td>\n",
       "    </tr>\n",
       "    <tr>\n",
       "      <th>354367</th>\n",
       "      <td>2016-03-19 18:57:12</td>\n",
       "      <td>9200</td>\n",
       "      <td>bus</td>\n",
       "      <td>1996</td>\n",
       "      <td>manual</td>\n",
       "      <td>102</td>\n",
       "      <td>transporter</td>\n",
       "      <td>150000</td>\n",
       "      <td>03</td>\n",
       "      <td>petrol</td>\n",
       "      <td>volkswagen</td>\n",
       "      <td>no</td>\n",
       "      <td>2016-03-19</td>\n",
       "      <td>0</td>\n",
       "      <td>87439</td>\n",
       "      <td>2016-04-07 07:15:26</td>\n",
       "      <td>1996-03-01</td>\n",
       "    </tr>\n",
       "    <tr>\n",
       "      <th>354368</th>\n",
       "      <td>2016-03-20 19:41:08</td>\n",
       "      <td>3400</td>\n",
       "      <td>wagon</td>\n",
       "      <td>2002</td>\n",
       "      <td>manual</td>\n",
       "      <td>100</td>\n",
       "      <td>golf</td>\n",
       "      <td>150000</td>\n",
       "      <td>06</td>\n",
       "      <td>petrol</td>\n",
       "      <td>volkswagen</td>\n",
       "      <td>unknown</td>\n",
       "      <td>2016-03-20</td>\n",
       "      <td>0</td>\n",
       "      <td>40764</td>\n",
       "      <td>2016-03-24 12:45:21</td>\n",
       "      <td>2002-06-01</td>\n",
       "    </tr>\n",
       "  </tbody>\n",
       "</table>\n",
       "<p>334539 rows × 17 columns</p>\n",
       "</div>"
      ],
      "text/plain": [
       "              date_crawled  price vehicle_type registration_year  gearbox  \\\n",
       "0      2016-03-24 11:52:17    480      unknown              1993   manual   \n",
       "1      2016-03-24 10:58:45  18300        coupe              2011   manual   \n",
       "2      2016-03-14 12:52:21   9800          suv              2004     auto   \n",
       "3      2016-03-17 16:54:04   1500        small              2001   manual   \n",
       "4      2016-03-31 17:25:20   3600        small              2008   manual   \n",
       "...                    ...    ...          ...               ...      ...   \n",
       "354364 2016-03-21 09:50:58      0      unknown              2005   manual   \n",
       "354365 2016-03-14 17:48:27   2200      unknown              2005  unknown   \n",
       "354366 2016-03-05 19:56:21   1199  convertible              2000     auto   \n",
       "354367 2016-03-19 18:57:12   9200          bus              1996   manual   \n",
       "354368 2016-03-20 19:41:08   3400        wagon              2002   manual   \n",
       "\n",
       "        power        model  kilometer registration_month fuel_type  \\\n",
       "0           0         golf     150000                 01    petrol   \n",
       "1         190      unknown     125000                 05    petrol   \n",
       "2         163        grand     125000                 08    petrol   \n",
       "3          75         golf     150000                 06    petrol   \n",
       "4          69        fabia      90000                 07    petrol   \n",
       "...       ...          ...        ...                ...       ...   \n",
       "354364      0         colt     150000                 07    petrol   \n",
       "354365      0      unknown      20000                 01   unknown   \n",
       "354366    101       fortwo     125000                 03    petrol   \n",
       "354367    102  transporter     150000                 03    petrol   \n",
       "354368    100         golf     150000                 06    petrol   \n",
       "\n",
       "                 brand repaired date_created  number_of_pictures  postal_code  \\\n",
       "0           volkswagen  unknown   2016-03-24                   0        70435   \n",
       "1                 audi      yes   2016-03-24                   0        66954   \n",
       "2                 jeep  unknown   2016-03-14                   0        90480   \n",
       "3           volkswagen       no   2016-03-17                   0        91074   \n",
       "4                skoda       no   2016-03-31                   0        60437   \n",
       "...                ...      ...          ...                 ...          ...   \n",
       "354364      mitsubishi      yes   2016-03-21                   0         2694   \n",
       "354365  sonstige_autos  unknown   2016-03-14                   0        39576   \n",
       "354366           smart       no   2016-03-05                   0        26135   \n",
       "354367      volkswagen       no   2016-03-19                   0        87439   \n",
       "354368      volkswagen  unknown   2016-03-20                   0        40764   \n",
       "\n",
       "                 last_seen date_registration  \n",
       "0      2016-04-07 03:16:57        1993-01-01  \n",
       "1      2016-04-07 01:46:50        2011-05-01  \n",
       "2      2016-04-05 12:47:46        2004-08-01  \n",
       "3      2016-03-17 17:40:17        2001-06-01  \n",
       "4      2016-04-06 10:17:21        2008-07-01  \n",
       "...                    ...               ...  \n",
       "354364 2016-03-21 10:42:49        2005-07-01  \n",
       "354365 2016-04-06 00:46:52        2005-01-01  \n",
       "354366 2016-03-11 18:17:12        2000-03-01  \n",
       "354367 2016-04-07 07:15:26        1996-03-01  \n",
       "354368 2016-03-24 12:45:21        2002-06-01  \n",
       "\n",
       "[334539 rows x 17 columns]"
      ]
     },
     "execution_count": 21,
     "metadata": {},
     "output_type": "execute_result"
    }
   ],
   "source": [
    "# удаление аномалий \n",
    "autos = autos[autos['date_registration'] <= autos['date_created']]\n",
    "autos"
   ]
  },
  {
   "cell_type": "code",
   "execution_count": 22,
   "metadata": {},
   "outputs": [
    {
     "data": {
      "image/png": "[encoded data removed]",
      "text/plain": [
       "<Figure size 1008x432 with 2 Axes>"
      ]
     },
     "metadata": {
      "needs_background": "light"
     },
     "output_type": "display_data"
    },
    {
     "data": {
      "image/png": "[encoded data removed]",
      "text/plain": [
       "<Figure size 1008x432 with 2 Axes>"
      ]
     },
     "metadata": {
      "needs_background": "light"
     },
     "output_type": "display_data"
    },
    {
     "data": {
      "image/png": "[encoded data removed]",
      "text/plain": [
       "<Figure size 1008x432 with 2 Axes>"
      ]
     },
     "metadata": {
      "needs_background": "light"
     },
     "output_type": "display_data"
    },
    {
     "name": "stderr",
     "output_type": "stream",
     "text": [
      "/opt/conda/lib/python3.9/site-packages/seaborn/distributions.py:306: UserWarning: Dataset has 0 variance; skipping density estimate.\n",
      "  warnings.warn(msg, UserWarning)\n"
     ]
    },
    {
     "data": {
      "image/png": "[encoded data removed]",
      "text/plain": [
       "<Figure size 1008x432 with 2 Axes>"
      ]
     },
     "metadata": {
      "needs_background": "light"
     },
     "output_type": "display_data"
    },
    {
     "data": {
      "image/png": "[encoded data removed]",
      "text/plain": [
       "<Figure size 1008x432 with 2 Axes>"
      ]
     },
     "metadata": {
      "needs_background": "light"
     },
     "output_type": "display_data"
    }
   ],
   "source": [
    "# создаем список с количественными непрерывными признаками\n",
    "num_cols = ['price', 'power', 'kilometer', 'number_of_pictures', 'postal_code']\n",
    "\n",
    "# для каждого признака строим гистограмму и ящик с усами\n",
    "for col in num_cols:\n",
    "    plt.figure(figsize=(14,6))\n",
    "\n",
    "    plt.subplot(1, 2, 1)\n",
    "    sns.histplot(autos[col], kde=True)\n",
    "    plt.title(f'Гистограмма для {col}')\n",
    "    plt.xlabel(col)  \n",
    "    plt.ylabel('Частота')  \n",
    "\n",
    "    plt.subplot(1, 2, 2)\n",
    "    sns.boxplot(x=autos[col])\n",
    "    plt.title(f'Ящик с усами для {col}')\n",
    "    plt.xlabel(col)  \n",
    "\n",
    "\n",
    "    plt.show()\n",
    "    "
   ]
  },
  {
   "cell_type": "markdown",
   "metadata": {},
   "source": [
    "По графикам видим, что цены автомобилей находятся в диапазоне от 0 до 20000, цены более 15000 являются выбросом. Есть автомобили, цена у которых 0, удалим их.\n",
    "\n",
    "Графики по мощности автомобилей неинформативны, так как есть аномальные значения удалим значения, где можность больше 250.\n",
    "\n",
    "Пробег меньше 90000 является выбросом.\n",
    "\n",
    "В столбце number_of_pictures только нулевые значения, он не несет полезную информацию, удалим его.\n",
    "\n",
    "В столбце с почтовым индексом владельца анкеты (пользователя) выбросов и аномалий нет, но в информации из этого столбца нет полезной информации, удалим его."
   ]
  },
  {
   "cell_type": "code",
   "execution_count": 23,
   "metadata": {},
   "outputs": [
    {
     "data": {
      "text/html": [
       "<div>\n",
       "<style scoped>\n",
       "    .dataframe tbody tr th:only-of-type {\n",
       "        vertical-align: middle;\n",
       "    }\n",
       "\n",
       "    .dataframe tbody tr th {\n",
       "        vertical-align: top;\n",
       "    }\n",
       "\n",
       "    .dataframe thead th {\n",
       "        text-align: right;\n",
       "    }\n",
       "</style>\n",
       "<table border=\"1\" class=\"dataframe\">\n",
       "  <thead>\n",
       "    <tr style=\"text-align: right;\">\n",
       "      <th></th>\n",
       "      <th>date_crawled</th>\n",
       "      <th>price</th>\n",
       "      <th>vehicle_type</th>\n",
       "      <th>registration_year</th>\n",
       "      <th>gearbox</th>\n",
       "      <th>power</th>\n",
       "      <th>model</th>\n",
       "      <th>kilometer</th>\n",
       "      <th>registration_month</th>\n",
       "      <th>fuel_type</th>\n",
       "      <th>brand</th>\n",
       "      <th>repaired</th>\n",
       "      <th>date_created</th>\n",
       "      <th>number_of_pictures</th>\n",
       "      <th>postal_code</th>\n",
       "      <th>last_seen</th>\n",
       "      <th>date_registration</th>\n",
       "    </tr>\n",
       "  </thead>\n",
       "  <tbody>\n",
       "    <tr>\n",
       "      <th>1</th>\n",
       "      <td>2016-03-24 10:58:45</td>\n",
       "      <td>18300</td>\n",
       "      <td>coupe</td>\n",
       "      <td>2011</td>\n",
       "      <td>manual</td>\n",
       "      <td>190</td>\n",
       "      <td>unknown</td>\n",
       "      <td>125000</td>\n",
       "      <td>05</td>\n",
       "      <td>petrol</td>\n",
       "      <td>audi</td>\n",
       "      <td>yes</td>\n",
       "      <td>2016-03-24</td>\n",
       "      <td>0</td>\n",
       "      <td>66954</td>\n",
       "      <td>2016-04-07 01:46:50</td>\n",
       "      <td>2011-05-01</td>\n",
       "    </tr>\n",
       "    <tr>\n",
       "      <th>2</th>\n",
       "      <td>2016-03-14 12:52:21</td>\n",
       "      <td>9800</td>\n",
       "      <td>suv</td>\n",
       "      <td>2004</td>\n",
       "      <td>auto</td>\n",
       "      <td>163</td>\n",
       "      <td>grand</td>\n",
       "      <td>125000</td>\n",
       "      <td>08</td>\n",
       "      <td>petrol</td>\n",
       "      <td>jeep</td>\n",
       "      <td>unknown</td>\n",
       "      <td>2016-03-14</td>\n",
       "      <td>0</td>\n",
       "      <td>90480</td>\n",
       "      <td>2016-04-05 12:47:46</td>\n",
       "      <td>2004-08-01</td>\n",
       "    </tr>\n",
       "    <tr>\n",
       "      <th>3</th>\n",
       "      <td>2016-03-17 16:54:04</td>\n",
       "      <td>1500</td>\n",
       "      <td>small</td>\n",
       "      <td>2001</td>\n",
       "      <td>manual</td>\n",
       "      <td>75</td>\n",
       "      <td>golf</td>\n",
       "      <td>150000</td>\n",
       "      <td>06</td>\n",
       "      <td>petrol</td>\n",
       "      <td>volkswagen</td>\n",
       "      <td>no</td>\n",
       "      <td>2016-03-17</td>\n",
       "      <td>0</td>\n",
       "      <td>91074</td>\n",
       "      <td>2016-03-17 17:40:17</td>\n",
       "      <td>2001-06-01</td>\n",
       "    </tr>\n",
       "    <tr>\n",
       "      <th>4</th>\n",
       "      <td>2016-03-31 17:25:20</td>\n",
       "      <td>3600</td>\n",
       "      <td>small</td>\n",
       "      <td>2008</td>\n",
       "      <td>manual</td>\n",
       "      <td>69</td>\n",
       "      <td>fabia</td>\n",
       "      <td>90000</td>\n",
       "      <td>07</td>\n",
       "      <td>petrol</td>\n",
       "      <td>skoda</td>\n",
       "      <td>no</td>\n",
       "      <td>2016-03-31</td>\n",
       "      <td>0</td>\n",
       "      <td>60437</td>\n",
       "      <td>2016-04-06 10:17:21</td>\n",
       "      <td>2008-07-01</td>\n",
       "    </tr>\n",
       "    <tr>\n",
       "      <th>5</th>\n",
       "      <td>2016-04-04 17:36:23</td>\n",
       "      <td>650</td>\n",
       "      <td>sedan</td>\n",
       "      <td>1995</td>\n",
       "      <td>manual</td>\n",
       "      <td>102</td>\n",
       "      <td>3er</td>\n",
       "      <td>150000</td>\n",
       "      <td>10</td>\n",
       "      <td>petrol</td>\n",
       "      <td>bmw</td>\n",
       "      <td>yes</td>\n",
       "      <td>2016-04-04</td>\n",
       "      <td>0</td>\n",
       "      <td>33775</td>\n",
       "      <td>2016-04-06 19:17:07</td>\n",
       "      <td>1995-10-01</td>\n",
       "    </tr>\n",
       "    <tr>\n",
       "      <th>...</th>\n",
       "      <td>...</td>\n",
       "      <td>...</td>\n",
       "      <td>...</td>\n",
       "      <td>...</td>\n",
       "      <td>...</td>\n",
       "      <td>...</td>\n",
       "      <td>...</td>\n",
       "      <td>...</td>\n",
       "      <td>...</td>\n",
       "      <td>...</td>\n",
       "      <td>...</td>\n",
       "      <td>...</td>\n",
       "      <td>...</td>\n",
       "      <td>...</td>\n",
       "      <td>...</td>\n",
       "      <td>...</td>\n",
       "      <td>...</td>\n",
       "    </tr>\n",
       "    <tr>\n",
       "      <th>354359</th>\n",
       "      <td>2016-03-28 13:48:07</td>\n",
       "      <td>7900</td>\n",
       "      <td>sedan</td>\n",
       "      <td>2010</td>\n",
       "      <td>manual</td>\n",
       "      <td>140</td>\n",
       "      <td>golf</td>\n",
       "      <td>150000</td>\n",
       "      <td>07</td>\n",
       "      <td>petrol</td>\n",
       "      <td>volkswagen</td>\n",
       "      <td>no</td>\n",
       "      <td>2016-03-28</td>\n",
       "      <td>0</td>\n",
       "      <td>75223</td>\n",
       "      <td>2016-04-02 18:16:20</td>\n",
       "      <td>2010-07-01</td>\n",
       "    </tr>\n",
       "    <tr>\n",
       "      <th>354362</th>\n",
       "      <td>2016-03-19 19:53:49</td>\n",
       "      <td>3200</td>\n",
       "      <td>sedan</td>\n",
       "      <td>2004</td>\n",
       "      <td>manual</td>\n",
       "      <td>225</td>\n",
       "      <td>leon</td>\n",
       "      <td>150000</td>\n",
       "      <td>05</td>\n",
       "      <td>petrol</td>\n",
       "      <td>seat</td>\n",
       "      <td>yes</td>\n",
       "      <td>2016-03-19</td>\n",
       "      <td>0</td>\n",
       "      <td>96465</td>\n",
       "      <td>2016-03-19 20:44:43</td>\n",
       "      <td>2004-05-01</td>\n",
       "    </tr>\n",
       "    <tr>\n",
       "      <th>354366</th>\n",
       "      <td>2016-03-05 19:56:21</td>\n",
       "      <td>1199</td>\n",
       "      <td>convertible</td>\n",
       "      <td>2000</td>\n",
       "      <td>auto</td>\n",
       "      <td>101</td>\n",
       "      <td>fortwo</td>\n",
       "      <td>125000</td>\n",
       "      <td>03</td>\n",
       "      <td>petrol</td>\n",
       "      <td>smart</td>\n",
       "      <td>no</td>\n",
       "      <td>2016-03-05</td>\n",
       "      <td>0</td>\n",
       "      <td>26135</td>\n",
       "      <td>2016-03-11 18:17:12</td>\n",
       "      <td>2000-03-01</td>\n",
       "    </tr>\n",
       "    <tr>\n",
       "      <th>354367</th>\n",
       "      <td>2016-03-19 18:57:12</td>\n",
       "      <td>9200</td>\n",
       "      <td>bus</td>\n",
       "      <td>1996</td>\n",
       "      <td>manual</td>\n",
       "      <td>102</td>\n",
       "      <td>transporter</td>\n",
       "      <td>150000</td>\n",
       "      <td>03</td>\n",
       "      <td>petrol</td>\n",
       "      <td>volkswagen</td>\n",
       "      <td>no</td>\n",
       "      <td>2016-03-19</td>\n",
       "      <td>0</td>\n",
       "      <td>87439</td>\n",
       "      <td>2016-04-07 07:15:26</td>\n",
       "      <td>1996-03-01</td>\n",
       "    </tr>\n",
       "    <tr>\n",
       "      <th>354368</th>\n",
       "      <td>2016-03-20 19:41:08</td>\n",
       "      <td>3400</td>\n",
       "      <td>wagon</td>\n",
       "      <td>2002</td>\n",
       "      <td>manual</td>\n",
       "      <td>100</td>\n",
       "      <td>golf</td>\n",
       "      <td>150000</td>\n",
       "      <td>06</td>\n",
       "      <td>petrol</td>\n",
       "      <td>volkswagen</td>\n",
       "      <td>unknown</td>\n",
       "      <td>2016-03-20</td>\n",
       "      <td>0</td>\n",
       "      <td>40764</td>\n",
       "      <td>2016-03-24 12:45:21</td>\n",
       "      <td>2002-06-01</td>\n",
       "    </tr>\n",
       "  </tbody>\n",
       "</table>\n",
       "<p>292183 rows × 17 columns</p>\n",
       "</div>"
      ],
      "text/plain": [
       "              date_crawled  price vehicle_type registration_year gearbox  \\\n",
       "1      2016-03-24 10:58:45  18300        coupe              2011  manual   \n",
       "2      2016-03-14 12:52:21   9800          suv              2004    auto   \n",
       "3      2016-03-17 16:54:04   1500        small              2001  manual   \n",
       "4      2016-03-31 17:25:20   3600        small              2008  manual   \n",
       "5      2016-04-04 17:36:23    650        sedan              1995  manual   \n",
       "...                    ...    ...          ...               ...     ...   \n",
       "354359 2016-03-28 13:48:07   7900        sedan              2010  manual   \n",
       "354362 2016-03-19 19:53:49   3200        sedan              2004  manual   \n",
       "354366 2016-03-05 19:56:21   1199  convertible              2000    auto   \n",
       "354367 2016-03-19 18:57:12   9200          bus              1996  manual   \n",
       "354368 2016-03-20 19:41:08   3400        wagon              2002  manual   \n",
       "\n",
       "        power        model  kilometer registration_month fuel_type  \\\n",
       "1         190      unknown     125000                 05    petrol   \n",
       "2         163        grand     125000                 08    petrol   \n",
       "3          75         golf     150000                 06    petrol   \n",
       "4          69        fabia      90000                 07    petrol   \n",
       "5         102          3er     150000                 10    petrol   \n",
       "...       ...          ...        ...                ...       ...   \n",
       "354359    140         golf     150000                 07    petrol   \n",
       "354362    225         leon     150000                 05    petrol   \n",
       "354366    101       fortwo     125000                 03    petrol   \n",
       "354367    102  transporter     150000                 03    petrol   \n",
       "354368    100         golf     150000                 06    petrol   \n",
       "\n",
       "             brand repaired date_created  number_of_pictures  postal_code  \\\n",
       "1             audi      yes   2016-03-24                   0        66954   \n",
       "2             jeep  unknown   2016-03-14                   0        90480   \n",
       "3       volkswagen       no   2016-03-17                   0        91074   \n",
       "4            skoda       no   2016-03-31                   0        60437   \n",
       "5              bmw      yes   2016-04-04                   0        33775   \n",
       "...            ...      ...          ...                 ...          ...   \n",
       "354359  volkswagen       no   2016-03-28                   0        75223   \n",
       "354362        seat      yes   2016-03-19                   0        96465   \n",
       "354366       smart       no   2016-03-05                   0        26135   \n",
       "354367  volkswagen       no   2016-03-19                   0        87439   \n",
       "354368  volkswagen  unknown   2016-03-20                   0        40764   \n",
       "\n",
       "                 last_seen date_registration  \n",
       "1      2016-04-07 01:46:50        2011-05-01  \n",
       "2      2016-04-05 12:47:46        2004-08-01  \n",
       "3      2016-03-17 17:40:17        2001-06-01  \n",
       "4      2016-04-06 10:17:21        2008-07-01  \n",
       "5      2016-04-06 19:17:07        1995-10-01  \n",
       "...                    ...               ...  \n",
       "354359 2016-04-02 18:16:20        2010-07-01  \n",
       "354362 2016-03-19 20:44:43        2004-05-01  \n",
       "354366 2016-03-11 18:17:12        2000-03-01  \n",
       "354367 2016-04-07 07:15:26        1996-03-01  \n",
       "354368 2016-03-24 12:45:21        2002-06-01  \n",
       "\n",
       "[292183 rows x 17 columns]"
      ]
     },
     "execution_count": 23,
     "metadata": {},
     "output_type": "execute_result"
    }
   ],
   "source": [
    "# удаление выбросов для значений столбца power и нулевой цены \n",
    "autos = autos[(autos['power'] < 2000) & (autos['power'] > 5)]\n",
    "autos = autos[autos['price'] > 10]\n",
    "autos"
   ]
  },
  {
   "cell_type": "markdown",
   "metadata": {},
   "source": [
    "#### Создание и удаление признаков"
   ]
  },
  {
   "cell_type": "code",
   "execution_count": 24,
   "metadata": {},
   "outputs": [
    {
     "data": {
      "text/plain": [
       "Index(['volkswagen_golf', 'bmw_3er', 'volkswagen_polo', 'opel_corsa',\n",
       "       'opel_astra', 'audi_a4', 'volkswagen_passat', 'mercedes_benz_c_klasse',\n",
       "       'bmw_5er', 'mercedes_benz_e_klasse',\n",
       "       ...\n",
       "       'bmw_i3', 'lada_samara', 'lada_kalina', 'land_rover_serie_2',\n",
       "       'land_rover_serie_3', 'rover_discovery',\n",
       "       'land_rover_range_rover_evoque', 'rover_range_rover',\n",
       "       'rover_freelander', 'rover_defender'],\n",
       "      dtype='object', length=336)"
      ]
     },
     "execution_count": 24,
     "metadata": {},
     "output_type": "execute_result"
    }
   ],
   "source": [
    "# объеденим признаки brand и model\n",
    "autos['brand_model'] = autos['brand'] + '_' + autos['model']\n",
    "autos['brand_model'].value_counts().index"
   ]
  },
  {
   "cell_type": "code",
   "execution_count": 25,
   "metadata": {},
   "outputs": [
    {
     "data": {
      "text/plain": [
       "1          58.771353\n",
       "2         139.388962\n",
       "3         177.496715\n",
       "4          92.969777\n",
       "5         246.090670\n",
       "             ...    \n",
       "354359     68.889619\n",
       "354362    142.575558\n",
       "354366    192.115637\n",
       "354367    240.571616\n",
       "354368    165.604468\n",
       "Name: age_month, Length: 292183, dtype: float64"
      ]
     },
     "execution_count": 25,
     "metadata": {},
     "output_type": "execute_result"
    }
   ],
   "source": [
    "# создадим новый признак возраст машины в месяцах на момент выгрузки анкеты из базы\n",
    "autos['age_month'] = (autos['date_crawled'] - autos['date_registration']).dt.days / 30.44\n",
    "autos['age_month']"
   ]
  },
  {
   "cell_type": "code",
   "execution_count": 26,
   "metadata": {},
   "outputs": [
    {
     "data": {
      "text/html": [
       "<div>\n",
       "<style scoped>\n",
       "    .dataframe tbody tr th:only-of-type {\n",
       "        vertical-align: middle;\n",
       "    }\n",
       "\n",
       "    .dataframe tbody tr th {\n",
       "        vertical-align: top;\n",
       "    }\n",
       "\n",
       "    .dataframe thead th {\n",
       "        text-align: right;\n",
       "    }\n",
       "</style>\n",
       "<table border=\"1\" class=\"dataframe\">\n",
       "  <thead>\n",
       "    <tr style=\"text-align: right;\">\n",
       "      <th></th>\n",
       "      <th>price</th>\n",
       "      <th>vehicle_type</th>\n",
       "      <th>gearbox</th>\n",
       "      <th>power</th>\n",
       "      <th>kilometer</th>\n",
       "      <th>fuel_type</th>\n",
       "      <th>repaired</th>\n",
       "      <th>brand_model</th>\n",
       "      <th>age_month</th>\n",
       "    </tr>\n",
       "  </thead>\n",
       "  <tbody>\n",
       "    <tr>\n",
       "      <th>1</th>\n",
       "      <td>18300</td>\n",
       "      <td>coupe</td>\n",
       "      <td>manual</td>\n",
       "      <td>190</td>\n",
       "      <td>125000</td>\n",
       "      <td>petrol</td>\n",
       "      <td>yes</td>\n",
       "      <td>audi_unknown</td>\n",
       "      <td>58.771353</td>\n",
       "    </tr>\n",
       "    <tr>\n",
       "      <th>2</th>\n",
       "      <td>9800</td>\n",
       "      <td>suv</td>\n",
       "      <td>auto</td>\n",
       "      <td>163</td>\n",
       "      <td>125000</td>\n",
       "      <td>petrol</td>\n",
       "      <td>unknown</td>\n",
       "      <td>jeep_grand</td>\n",
       "      <td>139.388962</td>\n",
       "    </tr>\n",
       "    <tr>\n",
       "      <th>3</th>\n",
       "      <td>1500</td>\n",
       "      <td>small</td>\n",
       "      <td>manual</td>\n",
       "      <td>75</td>\n",
       "      <td>150000</td>\n",
       "      <td>petrol</td>\n",
       "      <td>no</td>\n",
       "      <td>volkswagen_golf</td>\n",
       "      <td>177.496715</td>\n",
       "    </tr>\n",
       "    <tr>\n",
       "      <th>4</th>\n",
       "      <td>3600</td>\n",
       "      <td>small</td>\n",
       "      <td>manual</td>\n",
       "      <td>69</td>\n",
       "      <td>90000</td>\n",
       "      <td>petrol</td>\n",
       "      <td>no</td>\n",
       "      <td>skoda_fabia</td>\n",
       "      <td>92.969777</td>\n",
       "    </tr>\n",
       "    <tr>\n",
       "      <th>5</th>\n",
       "      <td>650</td>\n",
       "      <td>sedan</td>\n",
       "      <td>manual</td>\n",
       "      <td>102</td>\n",
       "      <td>150000</td>\n",
       "      <td>petrol</td>\n",
       "      <td>yes</td>\n",
       "      <td>bmw_3er</td>\n",
       "      <td>246.090670</td>\n",
       "    </tr>\n",
       "    <tr>\n",
       "      <th>...</th>\n",
       "      <td>...</td>\n",
       "      <td>...</td>\n",
       "      <td>...</td>\n",
       "      <td>...</td>\n",
       "      <td>...</td>\n",
       "      <td>...</td>\n",
       "      <td>...</td>\n",
       "      <td>...</td>\n",
       "      <td>...</td>\n",
       "    </tr>\n",
       "    <tr>\n",
       "      <th>354359</th>\n",
       "      <td>7900</td>\n",
       "      <td>sedan</td>\n",
       "      <td>manual</td>\n",
       "      <td>140</td>\n",
       "      <td>150000</td>\n",
       "      <td>petrol</td>\n",
       "      <td>no</td>\n",
       "      <td>volkswagen_golf</td>\n",
       "      <td>68.889619</td>\n",
       "    </tr>\n",
       "    <tr>\n",
       "      <th>354362</th>\n",
       "      <td>3200</td>\n",
       "      <td>sedan</td>\n",
       "      <td>manual</td>\n",
       "      <td>225</td>\n",
       "      <td>150000</td>\n",
       "      <td>petrol</td>\n",
       "      <td>yes</td>\n",
       "      <td>seat_leon</td>\n",
       "      <td>142.575558</td>\n",
       "    </tr>\n",
       "    <tr>\n",
       "      <th>354366</th>\n",
       "      <td>1199</td>\n",
       "      <td>convertible</td>\n",
       "      <td>auto</td>\n",
       "      <td>101</td>\n",
       "      <td>125000</td>\n",
       "      <td>petrol</td>\n",
       "      <td>no</td>\n",
       "      <td>smart_fortwo</td>\n",
       "      <td>192.115637</td>\n",
       "    </tr>\n",
       "    <tr>\n",
       "      <th>354367</th>\n",
       "      <td>9200</td>\n",
       "      <td>bus</td>\n",
       "      <td>manual</td>\n",
       "      <td>102</td>\n",
       "      <td>150000</td>\n",
       "      <td>petrol</td>\n",
       "      <td>no</td>\n",
       "      <td>volkswagen_transporter</td>\n",
       "      <td>240.571616</td>\n",
       "    </tr>\n",
       "    <tr>\n",
       "      <th>354368</th>\n",
       "      <td>3400</td>\n",
       "      <td>wagon</td>\n",
       "      <td>manual</td>\n",
       "      <td>100</td>\n",
       "      <td>150000</td>\n",
       "      <td>petrol</td>\n",
       "      <td>unknown</td>\n",
       "      <td>volkswagen_golf</td>\n",
       "      <td>165.604468</td>\n",
       "    </tr>\n",
       "  </tbody>\n",
       "</table>\n",
       "<p>292183 rows × 9 columns</p>\n",
       "</div>"
      ],
      "text/plain": [
       "        price vehicle_type gearbox  power  kilometer fuel_type repaired  \\\n",
       "1       18300        coupe  manual    190     125000    petrol      yes   \n",
       "2        9800          suv    auto    163     125000    petrol  unknown   \n",
       "3        1500        small  manual     75     150000    petrol       no   \n",
       "4        3600        small  manual     69      90000    petrol       no   \n",
       "5         650        sedan  manual    102     150000    petrol      yes   \n",
       "...       ...          ...     ...    ...        ...       ...      ...   \n",
       "354359   7900        sedan  manual    140     150000    petrol       no   \n",
       "354362   3200        sedan  manual    225     150000    petrol      yes   \n",
       "354366   1199  convertible    auto    101     125000    petrol       no   \n",
       "354367   9200          bus  manual    102     150000    petrol       no   \n",
       "354368   3400        wagon  manual    100     150000    petrol  unknown   \n",
       "\n",
       "                   brand_model   age_month  \n",
       "1                 audi_unknown   58.771353  \n",
       "2                   jeep_grand  139.388962  \n",
       "3              volkswagen_golf  177.496715  \n",
       "4                  skoda_fabia   92.969777  \n",
       "5                      bmw_3er  246.090670  \n",
       "...                        ...         ...  \n",
       "354359         volkswagen_golf   68.889619  \n",
       "354362               seat_leon  142.575558  \n",
       "354366            smart_fortwo  192.115637  \n",
       "354367  volkswagen_transporter  240.571616  \n",
       "354368         volkswagen_golf  165.604468  \n",
       "\n",
       "[292183 rows x 9 columns]"
      ]
     },
     "execution_count": 26,
     "metadata": {},
     "output_type": "execute_result"
    }
   ],
   "source": [
    "\n",
    "# удаление не нужных признаков\n",
    "autos = autos.drop(columns=['date_crawled', 'registration_year', 'model', 'registration_month', 'brand', 'date_created', 'number_of_pictures', 'postal_code', 'last_seen', 'date_registration'])\n",
    "autos"
   ]
  },
  {
   "cell_type": "markdown",
   "metadata": {},
   "source": [
    " "
   ]
  },
  {
   "cell_type": "markdown",
   "metadata": {},
   "source": [
    "### Корреляционный анализ"
   ]
  },
  {
   "cell_type": "markdown",
   "metadata": {},
   "source": [
    "Выполним корреляционный анализ данных. Изучим взаимосвязь между всеми признаками, вычислим коэффициенты корреляции Phik между всеми признаками, так как не все признаки распределены нормально, и построим тепловую карту по полученной таблице для наглядности."
   ]
  },
  {
   "cell_type": "code",
   "execution_count": 27,
   "metadata": {},
   "outputs": [
    {
     "data": {
      "text/html": [
       "<div>\n",
       "<style scoped>\n",
       "    .dataframe tbody tr th:only-of-type {\n",
       "        vertical-align: middle;\n",
       "    }\n",
       "\n",
       "    .dataframe tbody tr th {\n",
       "        vertical-align: top;\n",
       "    }\n",
       "\n",
       "    .dataframe thead th {\n",
       "        text-align: right;\n",
       "    }\n",
       "</style>\n",
       "<table border=\"1\" class=\"dataframe\">\n",
       "  <thead>\n",
       "    <tr style=\"text-align: right;\">\n",
       "      <th></th>\n",
       "      <th>price</th>\n",
       "      <th>vehicle_type</th>\n",
       "      <th>gearbox</th>\n",
       "      <th>power</th>\n",
       "      <th>kilometer</th>\n",
       "      <th>fuel_type</th>\n",
       "      <th>repaired</th>\n",
       "      <th>brand_model</th>\n",
       "      <th>age_month</th>\n",
       "    </tr>\n",
       "  </thead>\n",
       "  <tbody>\n",
       "    <tr>\n",
       "      <th>price</th>\n",
       "      <td>1.000000</td>\n",
       "      <td>0.272555</td>\n",
       "      <td>0.292661</td>\n",
       "      <td>0.337438</td>\n",
       "      <td>0.314034</td>\n",
       "      <td>0.103093</td>\n",
       "      <td>0.335634</td>\n",
       "      <td>0.586118</td>\n",
       "      <td>0.607579</td>\n",
       "    </tr>\n",
       "    <tr>\n",
       "      <th>vehicle_type</th>\n",
       "      <td>0.272555</td>\n",
       "      <td>1.000000</td>\n",
       "      <td>0.392393</td>\n",
       "      <td>0.177204</td>\n",
       "      <td>0.250607</td>\n",
       "      <td>0.222731</td>\n",
       "      <td>0.316476</td>\n",
       "      <td>0.909809</td>\n",
       "      <td>0.163106</td>\n",
       "    </tr>\n",
       "    <tr>\n",
       "      <th>gearbox</th>\n",
       "      <td>0.292661</td>\n",
       "      <td>0.392393</td>\n",
       "      <td>1.000000</td>\n",
       "      <td>0.373249</td>\n",
       "      <td>0.057549</td>\n",
       "      <td>0.144253</td>\n",
       "      <td>0.265327</td>\n",
       "      <td>0.650469</td>\n",
       "      <td>0.087801</td>\n",
       "    </tr>\n",
       "    <tr>\n",
       "      <th>power</th>\n",
       "      <td>0.337438</td>\n",
       "      <td>0.177204</td>\n",
       "      <td>0.373249</td>\n",
       "      <td>1.000000</td>\n",
       "      <td>0.041348</td>\n",
       "      <td>0.063388</td>\n",
       "      <td>0.056874</td>\n",
       "      <td>0.517854</td>\n",
       "      <td>0.112419</td>\n",
       "    </tr>\n",
       "    <tr>\n",
       "      <th>kilometer</th>\n",
       "      <td>0.314034</td>\n",
       "      <td>0.250607</td>\n",
       "      <td>0.057549</td>\n",
       "      <td>0.041348</td>\n",
       "      <td>1.000000</td>\n",
       "      <td>0.076648</td>\n",
       "      <td>0.225922</td>\n",
       "      <td>0.459254</td>\n",
       "      <td>0.323529</td>\n",
       "    </tr>\n",
       "    <tr>\n",
       "      <th>fuel_type</th>\n",
       "      <td>0.103093</td>\n",
       "      <td>0.222731</td>\n",
       "      <td>0.144253</td>\n",
       "      <td>0.063388</td>\n",
       "      <td>0.076648</td>\n",
       "      <td>1.000000</td>\n",
       "      <td>0.178863</td>\n",
       "      <td>0.437260</td>\n",
       "      <td>0.076237</td>\n",
       "    </tr>\n",
       "    <tr>\n",
       "      <th>repaired</th>\n",
       "      <td>0.335634</td>\n",
       "      <td>0.316476</td>\n",
       "      <td>0.265327</td>\n",
       "      <td>0.056874</td>\n",
       "      <td>0.225922</td>\n",
       "      <td>0.178863</td>\n",
       "      <td>1.000000</td>\n",
       "      <td>0.287487</td>\n",
       "      <td>0.204049</td>\n",
       "    </tr>\n",
       "    <tr>\n",
       "      <th>brand_model</th>\n",
       "      <td>0.586118</td>\n",
       "      <td>0.909809</td>\n",
       "      <td>0.650469</td>\n",
       "      <td>0.517854</td>\n",
       "      <td>0.459254</td>\n",
       "      <td>0.437260</td>\n",
       "      <td>0.287487</td>\n",
       "      <td>1.000000</td>\n",
       "      <td>0.633812</td>\n",
       "    </tr>\n",
       "    <tr>\n",
       "      <th>age_month</th>\n",
       "      <td>0.607579</td>\n",
       "      <td>0.163106</td>\n",
       "      <td>0.087801</td>\n",
       "      <td>0.112419</td>\n",
       "      <td>0.323529</td>\n",
       "      <td>0.076237</td>\n",
       "      <td>0.204049</td>\n",
       "      <td>0.633812</td>\n",
       "      <td>1.000000</td>\n",
       "    </tr>\n",
       "  </tbody>\n",
       "</table>\n",
       "</div>"
      ],
      "text/plain": [
       "                 price  vehicle_type   gearbox     power  kilometer  \\\n",
       "price         1.000000      0.272555  0.292661  0.337438   0.314034   \n",
       "vehicle_type  0.272555      1.000000  0.392393  0.177204   0.250607   \n",
       "gearbox       0.292661      0.392393  1.000000  0.373249   0.057549   \n",
       "power         0.337438      0.177204  0.373249  1.000000   0.041348   \n",
       "kilometer     0.314034      0.250607  0.057549  0.041348   1.000000   \n",
       "fuel_type     0.103093      0.222731  0.144253  0.063388   0.076648   \n",
       "repaired      0.335634      0.316476  0.265327  0.056874   0.225922   \n",
       "brand_model   0.586118      0.909809  0.650469  0.517854   0.459254   \n",
       "age_month     0.607579      0.163106  0.087801  0.112419   0.323529   \n",
       "\n",
       "              fuel_type  repaired  brand_model  age_month  \n",
       "price          0.103093  0.335634     0.586118   0.607579  \n",
       "vehicle_type   0.222731  0.316476     0.909809   0.163106  \n",
       "gearbox        0.144253  0.265327     0.650469   0.087801  \n",
       "power          0.063388  0.056874     0.517854   0.112419  \n",
       "kilometer      0.076648  0.225922     0.459254   0.323529  \n",
       "fuel_type      1.000000  0.178863     0.437260   0.076237  \n",
       "repaired       0.178863  1.000000     0.287487   0.204049  \n",
       "brand_model    0.437260  0.287487     1.000000   0.633812  \n",
       "age_month      0.076237  0.204049     0.633812   1.000000  "
      ]
     },
     "execution_count": 27,
     "metadata": {},
     "output_type": "execute_result"
    }
   ],
   "source": [
    "corr = autos.phik_matrix(interval_cols=['price','power','kilometer', 'age_month'])\n",
    "corr"
   ]
  },
  {
   "cell_type": "code",
   "execution_count": 28,
   "metadata": {},
   "outputs": [
    {
     "data": {
      "image/png": "[encoded data removed]",
      "text/plain": [
       "<Figure size 720x504 with 2 Axes>"
      ]
     },
     "metadata": {},
     "output_type": "display_data"
    }
   ],
   "source": [
    "# построим тепловую карту коэффициентов phik\n",
    "sns.set(font_scale=1.1)\n",
    "plt.figure(figsize=(10,7))\n",
    "sns.heatmap(corr, annot=True, fmt='.2f') \n",
    "plt.show()"
   ]
  },
  {
   "cell_type": "markdown",
   "metadata": {},
   "source": [
    "Анализируя тепловую карту, можем сказать:\n",
    "\n",
    "**Сильная связь**:\n",
    "\n",
    "    - между мощностью и маркой автомобиля - 0,8\n",
    "    \n",
    "**Заметная связь**:\n",
    "\n",
    "    - между ценой и возрастом автомобиля - 0,61\n",
    "    - между ценой и маркой автомобиля - 0,58\n",
    "    - между типом автомобильного кузова и типом коробки передач - 0,55\n",
    "    - между типом автомобильного кузова и мощностью автомобиля - 0,52\n",
    "    - между типом коробки передач и мощностью автомобиля - 0,57\n",
    "    - между типом коробки передач и маркой автомобиля - 0,63\n",
    "    - между маркой и возрастом машины - 0,64\n",
    "    \n",
    "**Умеренная связь**:\n",
    "\n",
    "    - между ценой и мощностью - 0,49\n",
    "    - между типом автомобильного кузова и была ли машина в ремонте - 0,43\n",
    "    - между типом коробки передач и была ли машина в ремонте - 0,46\n",
    "    - между пробегом и маркой автомобиля - 0,46\n",
    "    - между типом топлива и маркой автомобиля - 0,44\n",
    "    - между была ли машина в ремонте и датой регистрации  - 0,47\n",
    "\n",
    "Так же мы можем сказать о **мультиколлинеарности** между типом автомобильного кузова и маркой машины, коэффициент phik равен 0,9.\n",
    "\n",
    "\n",
    "Между остальными признаками связь либо слабая либо отсутствует вовсе.\n",
    "\n",
    "Т.е. цена в основном зависит от возраста, марки и мощности автомобиля."
   ]
  },
  {
   "cell_type": "markdown",
   "metadata": {},
   "source": [
    "### Подготовка данных"
   ]
  },
  {
   "cell_type": "code",
   "execution_count": 29,
   "metadata": {},
   "outputs": [],
   "source": [
    "# создание входных и целевого признаков\n",
    "X = autos.drop('price', axis=1)\n",
    "y = autos['price']\n",
    "\n",
    "# разделение на обучающую и тестовую выборки\n",
    "X_train, X_test, y_train, y_test = train_test_split(\n",
    "    X, \n",
    "    y,\n",
    "    test_size=0.25,\n",
    "    random_state=RANDOM_STATE)"
   ]
  },
  {
   "cell_type": "code",
   "execution_count": 30,
   "metadata": {},
   "outputs": [
    {
     "data": {
      "text/html": [
       "<style>#sk-container-id-1 {\n",
       "  /* Definition of color scheme common for light and dark mode */\n",
       "  --sklearn-color-text: #000;\n",
       "  --sklearn-color-text-muted: #666;\n",
       "  --sklearn-color-line: gray;\n",
       "  /* Definition of color scheme for unfitted estimators */\n",
       "  --sklearn-color-unfitted-level-0: #fff5e6;\n",
       "  --sklearn-color-unfitted-level-1: #f6e4d2;\n",
       "  --sklearn-color-unfitted-level-2: #ffe0b3;\n",
       "  --sklearn-color-unfitted-level-3: chocolate;\n",
       "  /* Definition of color scheme for fitted estimators */\n",
       "  --sklearn-color-fitted-level-0: #f0f8ff;\n",
       "  --sklearn-color-fitted-level-1: #d4ebff;\n",
       "  --sklearn-color-fitted-level-2: #b3dbfd;\n",
       "  --sklearn-color-fitted-level-3: cornflowerblue;\n",
       "\n",
       "  /* Specific color for light theme */\n",
       "  --sklearn-color-text-on-default-background: var(--sg-text-color, var(--theme-code-foreground, var(--jp-content-font-color1, black)));\n",
       "  --sklearn-color-background: var(--sg-background-color, var(--theme-background, var(--jp-layout-color0, white)));\n",
       "  --sklearn-color-border-box: var(--sg-text-color, var(--theme-code-foreground, var(--jp-content-font-color1, black)));\n",
       "  --sklearn-color-icon: #696969;\n",
       "\n",
       "  @media (prefers-color-scheme: dark) {\n",
       "    /* Redefinition of color scheme for dark theme */\n",
       "    --sklearn-color-text-on-default-background: var(--sg-text-color, var(--theme-code-foreground, var(--jp-content-font-color1, white)));\n",
       "    --sklearn-color-background: var(--sg-background-color, var(--theme-background, var(--jp-layout-color0, #111)));\n",
       "    --sklearn-color-border-box: var(--sg-text-color, var(--theme-code-foreground, var(--jp-content-font-color1, white)));\n",
       "    --sklearn-color-icon: #878787;\n",
       "  }\n",
       "}\n",
       "\n",
       "#sk-container-id-1 {\n",
       "  color: var(--sklearn-color-text);\n",
       "}\n",
       "\n",
       "#sk-container-id-1 pre {\n",
       "  padding: 0;\n",
       "}\n",
       "\n",
       "#sk-container-id-1 input.sk-hidden--visually {\n",
       "  border: 0;\n",
       "  clip: rect(1px 1px 1px 1px);\n",
       "  clip: rect(1px, 1px, 1px, 1px);\n",
       "  height: 1px;\n",
       "  margin: -1px;\n",
       "  overflow: hidden;\n",
       "  padding: 0;\n",
       "  position: absolute;\n",
       "  width: 1px;\n",
       "}\n",
       "\n",
       "#sk-container-id-1 div.sk-dashed-wrapped {\n",
       "  border: 1px dashed var(--sklearn-color-line);\n",
       "  margin: 0 0.4em 0.5em 0.4em;\n",
       "  box-sizing: border-box;\n",
       "  padding-bottom: 0.4em;\n",
       "  background-color: var(--sklearn-color-background);\n",
       "}\n",
       "\n",
       "#sk-container-id-1 div.sk-container {\n",
       "  /* jupyter's `normalize.less` sets `[hidden] { display: none; }`\n",
       "     but bootstrap.min.css set `[hidden] { display: none !important; }`\n",
       "     so we also need the `!important` here to be able to override the\n",
       "     default hidden behavior on the sphinx rendered scikit-learn.org.\n",
       "     See: https://github.com/scikit-learn/scikit-learn/issues/21755 */\n",
       "  display: inline-block !important;\n",
       "  position: relative;\n",
       "}\n",
       "\n",
       "#sk-container-id-1 div.sk-text-repr-fallback {\n",
       "  display: none;\n",
       "}\n",
       "\n",
       "div.sk-parallel-item,\n",
       "div.sk-serial,\n",
       "div.sk-item {\n",
       "  /* draw centered vertical line to link estimators */\n",
       "  background-image: linear-gradient(var(--sklearn-color-text-on-default-background), var(--sklearn-color-text-on-default-background));\n",
       "  background-size: 2px 100%;\n",
       "  background-repeat: no-repeat;\n",
       "  background-position: center center;\n",
       "}\n",
       "\n",
       "/* Parallel-specific style estimator block */\n",
       "\n",
       "#sk-container-id-1 div.sk-parallel-item::after {\n",
       "  content: \"\";\n",
       "  width: 100%;\n",
       "  border-bottom: 2px solid var(--sklearn-color-text-on-default-background);\n",
       "  flex-grow: 1;\n",
       "}\n",
       "\n",
       "#sk-container-id-1 div.sk-parallel {\n",
       "  display: flex;\n",
       "  align-items: stretch;\n",
       "  justify-content: center;\n",
       "  background-color: var(--sklearn-color-background);\n",
       "  position: relative;\n",
       "}\n",
       "\n",
       "#sk-container-id-1 div.sk-parallel-item {\n",
       "  display: flex;\n",
       "  flex-direction: column;\n",
       "}\n",
       "\n",
       "#sk-container-id-1 div.sk-parallel-item:first-child::after {\n",
       "  align-self: flex-end;\n",
       "  width: 50%;\n",
       "}\n",
       "\n",
       "#sk-container-id-1 div.sk-parallel-item:last-child::after {\n",
       "  align-self: flex-start;\n",
       "  width: 50%;\n",
       "}\n",
       "\n",
       "#sk-container-id-1 div.sk-parallel-item:only-child::after {\n",
       "  width: 0;\n",
       "}\n",
       "\n",
       "/* Serial-specific style estimator block */\n",
       "\n",
       "#sk-container-id-1 div.sk-serial {\n",
       "  display: flex;\n",
       "  flex-direction: column;\n",
       "  align-items: center;\n",
       "  background-color: var(--sklearn-color-background);\n",
       "  padding-right: 1em;\n",
       "  padding-left: 1em;\n",
       "}\n",
       "\n",
       "\n",
       "/* Toggleable style: style used for estimator/Pipeline/ColumnTransformer box that is\n",
       "clickable and can be expanded/collapsed.\n",
       "- Pipeline and ColumnTransformer use this feature and define the default style\n",
       "- Estimators will overwrite some part of the style using the `sk-estimator` class\n",
       "*/\n",
       "\n",
       "/* Pipeline and ColumnTransformer style (default) */\n",
       "\n",
       "#sk-container-id-1 div.sk-toggleable {\n",
       "  /* Default theme specific background. It is overwritten whether we have a\n",
       "  specific estimator or a Pipeline/ColumnTransformer */\n",
       "  background-color: var(--sklearn-color-background);\n",
       "}\n",
       "\n",
       "/* Toggleable label */\n",
       "#sk-container-id-1 label.sk-toggleable__label {\n",
       "  cursor: pointer;\n",
       "  display: flex;\n",
       "  width: 100%;\n",
       "  margin-bottom: 0;\n",
       "  padding: 0.5em;\n",
       "  box-sizing: border-box;\n",
       "  text-align: center;\n",
       "  align-items: start;\n",
       "  justify-content: space-between;\n",
       "  gap: 0.5em;\n",
       "}\n",
       "\n",
       "#sk-container-id-1 label.sk-toggleable__label .caption {\n",
       "  font-size: 0.6rem;\n",
       "  font-weight: lighter;\n",
       "  color: var(--sklearn-color-text-muted);\n",
       "}\n",
       "\n",
       "#sk-container-id-1 label.sk-toggleable__label-arrow:before {\n",
       "  /* Arrow on the left of the label */\n",
       "  content: \"▸\";\n",
       "  float: left;\n",
       "  margin-right: 0.25em;\n",
       "  color: var(--sklearn-color-icon);\n",
       "}\n",
       "\n",
       "#sk-container-id-1 label.sk-toggleable__label-arrow:hover:before {\n",
       "  color: var(--sklearn-color-text);\n",
       "}\n",
       "\n",
       "/* Toggleable content - dropdown */\n",
       "\n",
       "#sk-container-id-1 div.sk-toggleable__content {\n",
       "  max-height: 0;\n",
       "  max-width: 0;\n",
       "  overflow: hidden;\n",
       "  text-align: left;\n",
       "  /* unfitted */\n",
       "  background-color: var(--sklearn-color-unfitted-level-0);\n",
       "}\n",
       "\n",
       "#sk-container-id-1 div.sk-toggleable__content.fitted {\n",
       "  /* fitted */\n",
       "  background-color: var(--sklearn-color-fitted-level-0);\n",
       "}\n",
       "\n",
       "#sk-container-id-1 div.sk-toggleable__content pre {\n",
       "  margin: 0.2em;\n",
       "  border-radius: 0.25em;\n",
       "  color: var(--sklearn-color-text);\n",
       "  /* unfitted */\n",
       "  background-color: var(--sklearn-color-unfitted-level-0);\n",
       "}\n",
       "\n",
       "#sk-container-id-1 div.sk-toggleable__content.fitted pre {\n",
       "  /* unfitted */\n",
       "  background-color: var(--sklearn-color-fitted-level-0);\n",
       "}\n",
       "\n",
       "#sk-container-id-1 input.sk-toggleable__control:checked~div.sk-toggleable__content {\n",
       "  /* Expand drop-down */\n",
       "  max-height: 200px;\n",
       "  max-width: 100%;\n",
       "  overflow: auto;\n",
       "}\n",
       "\n",
       "#sk-container-id-1 input.sk-toggleable__control:checked~label.sk-toggleable__label-arrow:before {\n",
       "  content: \"▾\";\n",
       "}\n",
       "\n",
       "/* Pipeline/ColumnTransformer-specific style */\n",
       "\n",
       "#sk-container-id-1 div.sk-label input.sk-toggleable__control:checked~label.sk-toggleable__label {\n",
       "  color: var(--sklearn-color-text);\n",
       "  background-color: var(--sklearn-color-unfitted-level-2);\n",
       "}\n",
       "\n",
       "#sk-container-id-1 div.sk-label.fitted input.sk-toggleable__control:checked~label.sk-toggleable__label {\n",
       "  background-color: var(--sklearn-color-fitted-level-2);\n",
       "}\n",
       "\n",
       "/* Estimator-specific style */\n",
       "\n",
       "/* Colorize estimator box */\n",
       "#sk-container-id-1 div.sk-estimator input.sk-toggleable__control:checked~label.sk-toggleable__label {\n",
       "  /* unfitted */\n",
       "  background-color: var(--sklearn-color-unfitted-level-2);\n",
       "}\n",
       "\n",
       "#sk-container-id-1 div.sk-estimator.fitted input.sk-toggleable__control:checked~label.sk-toggleable__label {\n",
       "  /* fitted */\n",
       "  background-color: var(--sklearn-color-fitted-level-2);\n",
       "}\n",
       "\n",
       "#sk-container-id-1 div.sk-label label.sk-toggleable__label,\n",
       "#sk-container-id-1 div.sk-label label {\n",
       "  /* The background is the default theme color */\n",
       "  color: var(--sklearn-color-text-on-default-background);\n",
       "}\n",
       "\n",
       "/* On hover, darken the color of the background */\n",
       "#sk-container-id-1 div.sk-label:hover label.sk-toggleable__label {\n",
       "  color: var(--sklearn-color-text);\n",
       "  background-color: var(--sklearn-color-unfitted-level-2);\n",
       "}\n",
       "\n",
       "/* Label box, darken color on hover, fitted */\n",
       "#sk-container-id-1 div.sk-label.fitted:hover label.sk-toggleable__label.fitted {\n",
       "  color: var(--sklearn-color-text);\n",
       "  background-color: var(--sklearn-color-fitted-level-2);\n",
       "}\n",
       "\n",
       "/* Estimator label */\n",
       "\n",
       "#sk-container-id-1 div.sk-label label {\n",
       "  font-family: monospace;\n",
       "  font-weight: bold;\n",
       "  display: inline-block;\n",
       "  line-height: 1.2em;\n",
       "}\n",
       "\n",
       "#sk-container-id-1 div.sk-label-container {\n",
       "  text-align: center;\n",
       "}\n",
       "\n",
       "/* Estimator-specific */\n",
       "#sk-container-id-1 div.sk-estimator {\n",
       "  font-family: monospace;\n",
       "  border: 1px dotted var(--sklearn-color-border-box);\n",
       "  border-radius: 0.25em;\n",
       "  box-sizing: border-box;\n",
       "  margin-bottom: 0.5em;\n",
       "  /* unfitted */\n",
       "  background-color: var(--sklearn-color-unfitted-level-0);\n",
       "}\n",
       "\n",
       "#sk-container-id-1 div.sk-estimator.fitted {\n",
       "  /* fitted */\n",
       "  background-color: var(--sklearn-color-fitted-level-0);\n",
       "}\n",
       "\n",
       "/* on hover */\n",
       "#sk-container-id-1 div.sk-estimator:hover {\n",
       "  /* unfitted */\n",
       "  background-color: var(--sklearn-color-unfitted-level-2);\n",
       "}\n",
       "\n",
       "#sk-container-id-1 div.sk-estimator.fitted:hover {\n",
       "  /* fitted */\n",
       "  background-color: var(--sklearn-color-fitted-level-2);\n",
       "}\n",
       "\n",
       "/* Specification for estimator info (e.g. \"i\" and \"?\") */\n",
       "\n",
       "/* Common style for \"i\" and \"?\" */\n",
       "\n",
       ".sk-estimator-doc-link,\n",
       "a:link.sk-estimator-doc-link,\n",
       "a:visited.sk-estimator-doc-link {\n",
       "  float: right;\n",
       "  font-size: smaller;\n",
       "  line-height: 1em;\n",
       "  font-family: monospace;\n",
       "  background-color: var(--sklearn-color-background);\n",
       "  border-radius: 1em;\n",
       "  height: 1em;\n",
       "  width: 1em;\n",
       "  text-decoration: none !important;\n",
       "  margin-left: 0.5em;\n",
       "  text-align: center;\n",
       "  /* unfitted */\n",
       "  border: var(--sklearn-color-unfitted-level-1) 1pt solid;\n",
       "  color: var(--sklearn-color-unfitted-level-1);\n",
       "}\n",
       "\n",
       ".sk-estimator-doc-link.fitted,\n",
       "a:link.sk-estimator-doc-link.fitted,\n",
       "a:visited.sk-estimator-doc-link.fitted {\n",
       "  /* fitted */\n",
       "  border: var(--sklearn-color-fitted-level-1) 1pt solid;\n",
       "  color: var(--sklearn-color-fitted-level-1);\n",
       "}\n",
       "\n",
       "/* On hover */\n",
       "div.sk-estimator:hover .sk-estimator-doc-link:hover,\n",
       ".sk-estimator-doc-link:hover,\n",
       "div.sk-label-container:hover .sk-estimator-doc-link:hover,\n",
       ".sk-estimator-doc-link:hover {\n",
       "  /* unfitted */\n",
       "  background-color: var(--sklearn-color-unfitted-level-3);\n",
       "  color: var(--sklearn-color-background);\n",
       "  text-decoration: none;\n",
       "}\n",
       "\n",
       "div.sk-estimator.fitted:hover .sk-estimator-doc-link.fitted:hover,\n",
       ".sk-estimator-doc-link.fitted:hover,\n",
       "div.sk-label-container:hover .sk-estimator-doc-link.fitted:hover,\n",
       ".sk-estimator-doc-link.fitted:hover {\n",
       "  /* fitted */\n",
       "  background-color: var(--sklearn-color-fitted-level-3);\n",
       "  color: var(--sklearn-color-background);\n",
       "  text-decoration: none;\n",
       "}\n",
       "\n",
       "/* Span, style for the box shown on hovering the info icon */\n",
       ".sk-estimator-doc-link span {\n",
       "  display: none;\n",
       "  z-index: 9999;\n",
       "  position: relative;\n",
       "  font-weight: normal;\n",
       "  right: .2ex;\n",
       "  padding: .5ex;\n",
       "  margin: .5ex;\n",
       "  width: min-content;\n",
       "  min-width: 20ex;\n",
       "  max-width: 50ex;\n",
       "  color: var(--sklearn-color-text);\n",
       "  box-shadow: 2pt 2pt 4pt #999;\n",
       "  /* unfitted */\n",
       "  background: var(--sklearn-color-unfitted-level-0);\n",
       "  border: .5pt solid var(--sklearn-color-unfitted-level-3);\n",
       "}\n",
       "\n",
       ".sk-estimator-doc-link.fitted span {\n",
       "  /* fitted */\n",
       "  background: var(--sklearn-color-fitted-level-0);\n",
       "  border: var(--sklearn-color-fitted-level-3);\n",
       "}\n",
       "\n",
       ".sk-estimator-doc-link:hover span {\n",
       "  display: block;\n",
       "}\n",
       "\n",
       "/* \"?\"-specific style due to the `<a>` HTML tag */\n",
       "\n",
       "#sk-container-id-1 a.estimator_doc_link {\n",
       "  float: right;\n",
       "  font-size: 1rem;\n",
       "  line-height: 1em;\n",
       "  font-family: monospace;\n",
       "  background-color: var(--sklearn-color-background);\n",
       "  border-radius: 1rem;\n",
       "  height: 1rem;\n",
       "  width: 1rem;\n",
       "  text-decoration: none;\n",
       "  /* unfitted */\n",
       "  color: var(--sklearn-color-unfitted-level-1);\n",
       "  border: var(--sklearn-color-unfitted-level-1) 1pt solid;\n",
       "}\n",
       "\n",
       "#sk-container-id-1 a.estimator_doc_link.fitted {\n",
       "  /* fitted */\n",
       "  border: var(--sklearn-color-fitted-level-1) 1pt solid;\n",
       "  color: var(--sklearn-color-fitted-level-1);\n",
       "}\n",
       "\n",
       "/* On hover */\n",
       "#sk-container-id-1 a.estimator_doc_link:hover {\n",
       "  /* unfitted */\n",
       "  background-color: var(--sklearn-color-unfitted-level-3);\n",
       "  color: var(--sklearn-color-background);\n",
       "  text-decoration: none;\n",
       "}\n",
       "\n",
       "#sk-container-id-1 a.estimator_doc_link.fitted:hover {\n",
       "  /* fitted */\n",
       "  background-color: var(--sklearn-color-fitted-level-3);\n",
       "}\n",
       "</style><div id=\"sk-container-id-1\" class=\"sk-top-container\"><div class=\"sk-text-repr-fallback\"><pre>ColumnTransformer(remainder=&#x27;passthrough&#x27;,\n",
       "                  transformers=[(&#x27;cat&#x27;,\n",
       "                                 Pipeline(steps=[(&#x27;imputer&#x27;,\n",
       "                                                  SimpleImputer(strategy=&#x27;most_frequent&#x27;)),\n",
       "                                                 (&#x27;onehot&#x27;,\n",
       "                                                  OneHotEncoder(drop=&#x27;first&#x27;,\n",
       "                                                                handle_unknown=&#x27;infrequent_if_exist&#x27;,\n",
       "                                                                min_frequency=0.05,\n",
       "                                                                sparse_output=False))]),\n",
       "                                 [&#x27;vehicle_type&#x27;, &#x27;gearbox&#x27;, &#x27;fuel_type&#x27;,\n",
       "                                  &#x27;repaired&#x27;, &#x27;brand_model&#x27;]),\n",
       "                                (&#x27;num&#x27;,\n",
       "                                 Pipeline(steps=[(&#x27;imputer&#x27;,\n",
       "                                                  SimpleImputer(strategy=&#x27;median&#x27;)),\n",
       "                                                 (&#x27;poly&#x27;,\n",
       "                                                  PolynomialFeatures(include_bias=False)),\n",
       "                                                 (&#x27;scaler&#x27;, StandardScaler())]),\n",
       "                                 [&#x27;power&#x27;, &#x27;kilometer&#x27;, &#x27;age_month&#x27;])])</pre><b>In a Jupyter environment, please rerun this cell to show the HTML representation or trust the notebook. <br />On GitHub, the HTML representation is unable to render, please try loading this page with nbviewer.org.</b></div><div class=\"sk-container\" hidden><div class=\"sk-item sk-dashed-wrapped\"><div class=\"sk-label-container\"><div class=\"sk-label  sk-toggleable\"><input class=\"sk-toggleable__control sk-hidden--visually\" id=\"sk-estimator-id-1\" type=\"checkbox\" ><label for=\"sk-estimator-id-1\" class=\"sk-toggleable__label  sk-toggleable__label-arrow\"><div><div>ColumnTransformer</div></div><div><a class=\"sk-estimator-doc-link \" rel=\"noreferrer\" target=\"_blank\" href=\"https://scikit-learn.org/1.6/modules/generated/sklearn.compose.ColumnTransformer.html\">?<span>Documentation for ColumnTransformer</span></a><span class=\"sk-estimator-doc-link \">i<span>Not fitted</span></span></div></label><div class=\"sk-toggleable__content \"><pre>ColumnTransformer(remainder=&#x27;passthrough&#x27;,\n",
       "                  transformers=[(&#x27;cat&#x27;,\n",
       "                                 Pipeline(steps=[(&#x27;imputer&#x27;,\n",
       "                                                  SimpleImputer(strategy=&#x27;most_frequent&#x27;)),\n",
       "                                                 (&#x27;onehot&#x27;,\n",
       "                                                  OneHotEncoder(drop=&#x27;first&#x27;,\n",
       "                                                                handle_unknown=&#x27;infrequent_if_exist&#x27;,\n",
       "                                                                min_frequency=0.05,\n",
       "                                                                sparse_output=False))]),\n",
       "                                 [&#x27;vehicle_type&#x27;, &#x27;gearbox&#x27;, &#x27;fuel_type&#x27;,\n",
       "                                  &#x27;repaired&#x27;, &#x27;brand_model&#x27;]),\n",
       "                                (&#x27;num&#x27;,\n",
       "                                 Pipeline(steps=[(&#x27;imputer&#x27;,\n",
       "                                                  SimpleImputer(strategy=&#x27;median&#x27;)),\n",
       "                                                 (&#x27;poly&#x27;,\n",
       "                                                  PolynomialFeatures(include_bias=False)),\n",
       "                                                 (&#x27;scaler&#x27;, StandardScaler())]),\n",
       "                                 [&#x27;power&#x27;, &#x27;kilometer&#x27;, &#x27;age_month&#x27;])])</pre></div> </div></div><div class=\"sk-parallel\"><div class=\"sk-parallel-item\"><div class=\"sk-item\"><div class=\"sk-label-container\"><div class=\"sk-label  sk-toggleable\"><input class=\"sk-toggleable__control sk-hidden--visually\" id=\"sk-estimator-id-2\" type=\"checkbox\" ><label for=\"sk-estimator-id-2\" class=\"sk-toggleable__label  sk-toggleable__label-arrow\"><div><div>cat</div></div></label><div class=\"sk-toggleable__content \"><pre>[&#x27;vehicle_type&#x27;, &#x27;gearbox&#x27;, &#x27;fuel_type&#x27;, &#x27;repaired&#x27;, &#x27;brand_model&#x27;]</pre></div> </div></div><div class=\"sk-serial\"><div class=\"sk-item\"><div class=\"sk-serial\"><div class=\"sk-item\"><div class=\"sk-estimator  sk-toggleable\"><input class=\"sk-toggleable__control sk-hidden--visually\" id=\"sk-estimator-id-3\" type=\"checkbox\" ><label for=\"sk-estimator-id-3\" class=\"sk-toggleable__label  sk-toggleable__label-arrow\"><div><div>SimpleImputer</div></div><div><a class=\"sk-estimator-doc-link \" rel=\"noreferrer\" target=\"_blank\" href=\"https://scikit-learn.org/1.6/modules/generated/sklearn.impute.SimpleImputer.html\">?<span>Documentation for SimpleImputer</span></a></div></label><div class=\"sk-toggleable__content \"><pre>SimpleImputer(strategy=&#x27;most_frequent&#x27;)</pre></div> </div></div><div class=\"sk-item\"><div class=\"sk-estimator  sk-toggleable\"><input class=\"sk-toggleable__control sk-hidden--visually\" id=\"sk-estimator-id-4\" type=\"checkbox\" ><label for=\"sk-estimator-id-4\" class=\"sk-toggleable__label  sk-toggleable__label-arrow\"><div><div>OneHotEncoder</div></div><div><a class=\"sk-estimator-doc-link \" rel=\"noreferrer\" target=\"_blank\" href=\"https://scikit-learn.org/1.6/modules/generated/sklearn.preprocessing.OneHotEncoder.html\">?<span>Documentation for OneHotEncoder</span></a></div></label><div class=\"sk-toggleable__content \"><pre>OneHotEncoder(drop=&#x27;first&#x27;, handle_unknown=&#x27;infrequent_if_exist&#x27;,\n",
       "              min_frequency=0.05, sparse_output=False)</pre></div> </div></div></div></div></div></div></div><div class=\"sk-parallel-item\"><div class=\"sk-item\"><div class=\"sk-label-container\"><div class=\"sk-label  sk-toggleable\"><input class=\"sk-toggleable__control sk-hidden--visually\" id=\"sk-estimator-id-5\" type=\"checkbox\" ><label for=\"sk-estimator-id-5\" class=\"sk-toggleable__label  sk-toggleable__label-arrow\"><div><div>num</div></div></label><div class=\"sk-toggleable__content \"><pre>[&#x27;power&#x27;, &#x27;kilometer&#x27;, &#x27;age_month&#x27;]</pre></div> </div></div><div class=\"sk-serial\"><div class=\"sk-item\"><div class=\"sk-serial\"><div class=\"sk-item\"><div class=\"sk-estimator  sk-toggleable\"><input class=\"sk-toggleable__control sk-hidden--visually\" id=\"sk-estimator-id-6\" type=\"checkbox\" ><label for=\"sk-estimator-id-6\" class=\"sk-toggleable__label  sk-toggleable__label-arrow\"><div><div>SimpleImputer</div></div><div><a class=\"sk-estimator-doc-link \" rel=\"noreferrer\" target=\"_blank\" href=\"https://scikit-learn.org/1.6/modules/generated/sklearn.impute.SimpleImputer.html\">?<span>Documentation for SimpleImputer</span></a></div></label><div class=\"sk-toggleable__content \"><pre>SimpleImputer(strategy=&#x27;median&#x27;)</pre></div> </div></div><div class=\"sk-item\"><div class=\"sk-estimator  sk-toggleable\"><input class=\"sk-toggleable__control sk-hidden--visually\" id=\"sk-estimator-id-7\" type=\"checkbox\" ><label for=\"sk-estimator-id-7\" class=\"sk-toggleable__label  sk-toggleable__label-arrow\"><div><div>PolynomialFeatures</div></div><div><a class=\"sk-estimator-doc-link \" rel=\"noreferrer\" target=\"_blank\" href=\"https://scikit-learn.org/1.6/modules/generated/sklearn.preprocessing.PolynomialFeatures.html\">?<span>Documentation for PolynomialFeatures</span></a></div></label><div class=\"sk-toggleable__content \"><pre>PolynomialFeatures(include_bias=False)</pre></div> </div></div><div class=\"sk-item\"><div class=\"sk-estimator  sk-toggleable\"><input class=\"sk-toggleable__control sk-hidden--visually\" id=\"sk-estimator-id-8\" type=\"checkbox\" ><label for=\"sk-estimator-id-8\" class=\"sk-toggleable__label  sk-toggleable__label-arrow\"><div><div>StandardScaler</div></div><div><a class=\"sk-estimator-doc-link \" rel=\"noreferrer\" target=\"_blank\" href=\"https://scikit-learn.org/1.6/modules/generated/sklearn.preprocessing.StandardScaler.html\">?<span>Documentation for StandardScaler</span></a></div></label><div class=\"sk-toggleable__content \"><pre>StandardScaler()</pre></div> </div></div></div></div></div></div></div><div class=\"sk-parallel-item\"><div class=\"sk-item\"><div class=\"sk-label-container\"><div class=\"sk-label  sk-toggleable\"><input class=\"sk-toggleable__control sk-hidden--visually\" id=\"sk-estimator-id-9\" type=\"checkbox\" ><label for=\"sk-estimator-id-9\" class=\"sk-toggleable__label  sk-toggleable__label-arrow\"><div><div>remainder</div></div></label><div class=\"sk-toggleable__content \"><pre></pre></div> </div></div><div class=\"sk-serial\"><div class=\"sk-item\"><div class=\"sk-estimator  sk-toggleable\"><input class=\"sk-toggleable__control sk-hidden--visually\" id=\"sk-estimator-id-10\" type=\"checkbox\" ><label for=\"sk-estimator-id-10\" class=\"sk-toggleable__label  sk-toggleable__label-arrow\"><div><div>passthrough</div></div></label><div class=\"sk-toggleable__content \"><pre>passthrough</pre></div> </div></div></div></div></div></div></div></div></div>"
      ],
      "text/plain": [
       "ColumnTransformer(remainder='passthrough',\n",
       "                  transformers=[('cat',\n",
       "                                 Pipeline(steps=[('imputer',\n",
       "                                                  SimpleImputer(strategy='most_frequent')),\n",
       "                                                 ('onehot',\n",
       "                                                  OneHotEncoder(drop='first',\n",
       "                                                                handle_unknown='infrequent_if_exist',\n",
       "                                                                min_frequency=0.05,\n",
       "                                                                sparse_output=False))]),\n",
       "                                 ['vehicle_type', 'gearbox', 'fuel_type',\n",
       "                                  'repaired', 'brand_model']),\n",
       "                                ('num',\n",
       "                                 Pipeline(steps=[('imputer',\n",
       "                                                  SimpleImputer(strategy='median')),\n",
       "                                                 ('poly',\n",
       "                                                  PolynomialFeatures(include_bias=False)),\n",
       "                                                 ('scaler', StandardScaler())]),\n",
       "                                 ['power', 'kilometer', 'age_month'])])"
      ]
     },
     "execution_count": 30,
     "metadata": {},
     "output_type": "execute_result"
    }
   ],
   "source": [
    "# создаём списки с названиями признаков\n",
    "num_columns = ['power','kilometer', 'age_month'] \n",
    "cat_columns = ['vehicle_type', 'gearbox', 'fuel_type', 'repaired', 'brand_model']\n",
    "# преобразуем категориальные столбцы в тип 'category'\n",
    "autos[cat_columns] = autos[cat_columns].astype('category')\n",
    "\n",
    "# пайплайн для категориальных признаков\n",
    "cat_pipe = Pipeline(steps=[\n",
    "    ('imputer', SimpleImputer(strategy='most_frequent')),\n",
    "    ('onehot', OneHotEncoder(drop='first', handle_unknown='infrequent_if_exist',\n",
    "        min_frequency=0.05,\n",
    "        sparse_output=False))\n",
    "])\n",
    "\n",
    "# пайплайн для количественных признаков \n",
    "num_pipe = Pipeline(steps=[\n",
    "    ('imputer', SimpleImputer(strategy='median')),\n",
    "    ('poly', PolynomialFeatures(degree=2, include_bias=False)),\n",
    "    ('scaler', StandardScaler()) \n",
    "])\n",
    "\n",
    "# создаём общий пайплайн для подготовки данных\n",
    "data_preprocessor = ColumnTransformer(\n",
    "   transformers=[\n",
    "       ('cat', cat_pipe, cat_columns),\n",
    "       ('num', num_pipe, num_columns) ],\n",
    "    remainder='passthrough'\n",
    ")\n",
    "\n",
    "data_preprocessor_lbg = ColumnTransformer(\n",
    "    transformers=[\n",
    "        ('num', num_pipe, num_columns),\n",
    "        ('cat', cat_pipe, cat_columns)\n",
    "    ],\n",
    "    remainder='passthrough')\n",
    "\n",
    "data_preprocessor"
   ]
  },
  {
   "cell_type": "markdown",
   "metadata": {},
   "source": [
    "## Обучение моделей"
   ]
  },
  {
   "cell_type": "markdown",
   "metadata": {},
   "source": [
    "### Модель линейная регрессия"
   ]
  },
  {
   "cell_type": "code",
   "execution_count": 32,
   "metadata": {
    "scrolled": false
   },
   "outputs": [
    {
     "name": "stderr",
     "output_type": "stream",
     "text": [
      "/opt/conda/lib/python3.9/site-packages/sklearn/preprocessing/_encoders.py:246: UserWarning: Found unknown categories in columns [4] during transform. These unknown categories will be encoded as all zeros\n",
      "  warnings.warn(\n",
      "/opt/conda/lib/python3.9/site-packages/sklearn/preprocessing/_encoders.py:246: UserWarning: Found unknown categories in columns [4] during transform. These unknown categories will be encoded as all zeros\n",
      "  warnings.warn(\n",
      "/opt/conda/lib/python3.9/site-packages/sklearn/preprocessing/_encoders.py:246: UserWarning: Found unknown categories in columns [4] during transform. These unknown categories will be encoded as all zeros\n",
      "  warnings.warn(\n",
      "/opt/conda/lib/python3.9/site-packages/sklearn/preprocessing/_encoders.py:246: UserWarning: Found unknown categories in columns [4] during transform. These unknown categories will be encoded as all zeros\n",
      "  warnings.warn(\n",
      "/opt/conda/lib/python3.9/site-packages/sklearn/preprocessing/_encoders.py:246: UserWarning: Found unknown categories in columns [4] during transform. These unknown categories will be encoded as all zeros\n",
      "  warnings.warn(\n",
      "/opt/conda/lib/python3.9/site-packages/sklearn/preprocessing/_encoders.py:246: UserWarning: Found unknown categories in columns [4] during transform. These unknown categories will be encoded as all zeros\n",
      "  warnings.warn(\n",
      "/opt/conda/lib/python3.9/site-packages/sklearn/preprocessing/_encoders.py:246: UserWarning: Found unknown categories in columns [4] during transform. These unknown categories will be encoded as all zeros\n",
      "  warnings.warn(\n",
      "/opt/conda/lib/python3.9/site-packages/sklearn/preprocessing/_encoders.py:246: UserWarning: Found unknown categories in columns [4] during transform. These unknown categories will be encoded as all zeros\n",
      "  warnings.warn(\n",
      "/opt/conda/lib/python3.9/site-packages/sklearn/preprocessing/_encoders.py:246: UserWarning: Found unknown categories in columns [4] during transform. These unknown categories will be encoded as all zeros\n",
      "  warnings.warn(\n",
      "/opt/conda/lib/python3.9/site-packages/sklearn/preprocessing/_encoders.py:246: UserWarning: Found unknown categories in columns [4] during transform. These unknown categories will be encoded as all zeros\n",
      "  warnings.warn(\n",
      "/opt/conda/lib/python3.9/site-packages/sklearn/preprocessing/_encoders.py:246: UserWarning: Found unknown categories in columns [4] during transform. These unknown categories will be encoded as all zeros\n",
      "  warnings.warn(\n",
      "/opt/conda/lib/python3.9/site-packages/sklearn/preprocessing/_encoders.py:246: UserWarning: Found unknown categories in columns [4] during transform. These unknown categories will be encoded as all zeros\n",
      "  warnings.warn(\n",
      "/opt/conda/lib/python3.9/site-packages/sklearn/preprocessing/_encoders.py:246: UserWarning: Found unknown categories in columns [4] during transform. These unknown categories will be encoded as all zeros\n",
      "  warnings.warn(\n",
      "/opt/conda/lib/python3.9/site-packages/sklearn/preprocessing/_encoders.py:246: UserWarning: Found unknown categories in columns [4] during transform. These unknown categories will be encoded as all zeros\n",
      "  warnings.warn(\n",
      "/opt/conda/lib/python3.9/site-packages/sklearn/preprocessing/_encoders.py:246: UserWarning: Found unknown categories in columns [4] during transform. These unknown categories will be encoded as all zeros\n",
      "  warnings.warn(\n",
      "/opt/conda/lib/python3.9/site-packages/sklearn/preprocessing/_encoders.py:246: UserWarning: Found unknown categories in columns [4] during transform. These unknown categories will be encoded as all zeros\n",
      "  warnings.warn(\n",
      "/opt/conda/lib/python3.9/site-packages/sklearn/preprocessing/_encoders.py:246: UserWarning: Found unknown categories in columns [4] during transform. These unknown categories will be encoded as all zeros\n",
      "  warnings.warn(\n",
      "/opt/conda/lib/python3.9/site-packages/sklearn/preprocessing/_encoders.py:246: UserWarning: Found unknown categories in columns [4] during transform. These unknown categories will be encoded as all zeros\n",
      "  warnings.warn(\n",
      "/opt/conda/lib/python3.9/site-packages/sklearn/preprocessing/_encoders.py:246: UserWarning: Found unknown categories in columns [4] during transform. These unknown categories will be encoded as all zeros\n",
      "  warnings.warn(\n",
      "/opt/conda/lib/python3.9/site-packages/sklearn/preprocessing/_encoders.py:246: UserWarning: Found unknown categories in columns [4] during transform. These unknown categories will be encoded as all zeros\n",
      "  warnings.warn(\n",
      "/opt/conda/lib/python3.9/site-packages/sklearn/preprocessing/_encoders.py:246: UserWarning: Found unknown categories in columns [4] during transform. These unknown categories will be encoded as all zeros\n",
      "  warnings.warn(\n",
      "/opt/conda/lib/python3.9/site-packages/sklearn/preprocessing/_encoders.py:246: UserWarning: Found unknown categories in columns [4] during transform. These unknown categories will be encoded as all zeros\n",
      "  warnings.warn(\n",
      "/opt/conda/lib/python3.9/site-packages/sklearn/preprocessing/_encoders.py:246: UserWarning: Found unknown categories in columns [4] during transform. These unknown categories will be encoded as all zeros\n",
      "  warnings.warn(\n",
      "/opt/conda/lib/python3.9/site-packages/sklearn/preprocessing/_encoders.py:246: UserWarning: Found unknown categories in columns [4] during transform. These unknown categories will be encoded as all zeros\n",
      "  warnings.warn(\n",
      "/opt/conda/lib/python3.9/site-packages/sklearn/preprocessing/_encoders.py:246: UserWarning: Found unknown categories in columns [4] during transform. These unknown categories will be encoded as all zeros\n",
      "  warnings.warn(\n",
      "/opt/conda/lib/python3.9/site-packages/sklearn/preprocessing/_encoders.py:246: UserWarning: Found unknown categories in columns [4] during transform. These unknown categories will be encoded as all zeros\n",
      "  warnings.warn(\n",
      "/opt/conda/lib/python3.9/site-packages/sklearn/preprocessing/_encoders.py:246: UserWarning: Found unknown categories in columns [4] during transform. These unknown categories will be encoded as all zeros\n",
      "  warnings.warn(\n",
      "/opt/conda/lib/python3.9/site-packages/sklearn/preprocessing/_encoders.py:246: UserWarning: Found unknown categories in columns [4] during transform. These unknown categories will be encoded as all zeros\n",
      "  warnings.warn(\n",
      "/opt/conda/lib/python3.9/site-packages/sklearn/preprocessing/_encoders.py:246: UserWarning: Found unknown categories in columns [4] during transform. These unknown categories will be encoded as all zeros\n",
      "  warnings.warn(\n",
      "/opt/conda/lib/python3.9/site-packages/sklearn/preprocessing/_encoders.py:246: UserWarning: Found unknown categories in columns [4] during transform. These unknown categories will be encoded as all zeros\n",
      "  warnings.warn(\n",
      "/opt/conda/lib/python3.9/site-packages/sklearn/preprocessing/_encoders.py:246: UserWarning: Found unknown categories in columns [4] during transform. These unknown categories will be encoded as all zeros\n",
      "  warnings.warn(\n",
      "/opt/conda/lib/python3.9/site-packages/sklearn/preprocessing/_encoders.py:246: UserWarning: Found unknown categories in columns [4] during transform. These unknown categories will be encoded as all zeros\n",
      "  warnings.warn(\n",
      "/opt/conda/lib/python3.9/site-packages/sklearn/preprocessing/_encoders.py:246: UserWarning: Found unknown categories in columns [4] during transform. These unknown categories will be encoded as all zeros\n",
      "  warnings.warn(\n",
      "/opt/conda/lib/python3.9/site-packages/sklearn/preprocessing/_encoders.py:246: UserWarning: Found unknown categories in columns [4] during transform. These unknown categories will be encoded as all zeros\n",
      "  warnings.warn(\n",
      "/opt/conda/lib/python3.9/site-packages/sklearn/preprocessing/_encoders.py:246: UserWarning: Found unknown categories in columns [4] during transform. These unknown categories will be encoded as all zeros\n",
      "  warnings.warn(\n",
      "/opt/conda/lib/python3.9/site-packages/sklearn/preprocessing/_encoders.py:246: UserWarning: Found unknown categories in columns [4] during transform. These unknown categories will be encoded as all zeros\n",
      "  warnings.warn(\n",
      "/opt/conda/lib/python3.9/site-packages/sklearn/preprocessing/_encoders.py:246: UserWarning: Found unknown categories in columns [4] during transform. These unknown categories will be encoded as all zeros\n",
      "  warnings.warn(\n",
      "/opt/conda/lib/python3.9/site-packages/sklearn/preprocessing/_encoders.py:246: UserWarning: Found unknown categories in columns [4] during transform. These unknown categories will be encoded as all zeros\n",
      "  warnings.warn(\n",
      "/opt/conda/lib/python3.9/site-packages/sklearn/preprocessing/_encoders.py:246: UserWarning: Found unknown categories in columns [4] during transform. These unknown categories will be encoded as all zeros\n",
      "  warnings.warn(\n",
      "/opt/conda/lib/python3.9/site-packages/sklearn/preprocessing/_encoders.py:246: UserWarning: Found unknown categories in columns [4] during transform. These unknown categories will be encoded as all zeros\n",
      "  warnings.warn(\n",
      "/opt/conda/lib/python3.9/site-packages/sklearn/preprocessing/_encoders.py:246: UserWarning: Found unknown categories in columns [4] during transform. These unknown categories will be encoded as all zeros\n",
      "  warnings.warn(\n",
      "/opt/conda/lib/python3.9/site-packages/sklearn/preprocessing/_encoders.py:246: UserWarning: Found unknown categories in columns [4] during transform. These unknown categories will be encoded as all zeros\n",
      "  warnings.warn(\n",
      "/opt/conda/lib/python3.9/site-packages/sklearn/preprocessing/_encoders.py:246: UserWarning: Found unknown categories in columns [4] during transform. These unknown categories will be encoded as all zeros\n",
      "  warnings.warn(\n",
      "/opt/conda/lib/python3.9/site-packages/sklearn/preprocessing/_encoders.py:246: UserWarning: Found unknown categories in columns [4] during transform. These unknown categories will be encoded as all zeros\n",
      "  warnings.warn(\n",
      "/opt/conda/lib/python3.9/site-packages/sklearn/preprocessing/_encoders.py:246: UserWarning: Found unknown categories in columns [4] during transform. These unknown categories will be encoded as all zeros\n",
      "  warnings.warn(\n",
      "/opt/conda/lib/python3.9/site-packages/sklearn/preprocessing/_encoders.py:246: UserWarning: Found unknown categories in columns [4] during transform. These unknown categories will be encoded as all zeros\n",
      "  warnings.warn(\n",
      "/opt/conda/lib/python3.9/site-packages/sklearn/preprocessing/_encoders.py:246: UserWarning: Found unknown categories in columns [4] during transform. These unknown categories will be encoded as all zeros\n",
      "  warnings.warn(\n",
      "/opt/conda/lib/python3.9/site-packages/sklearn/preprocessing/_encoders.py:246: UserWarning: Found unknown categories in columns [4] during transform. These unknown categories will be encoded as all zeros\n",
      "  warnings.warn(\n",
      "/opt/conda/lib/python3.9/site-packages/sklearn/preprocessing/_encoders.py:246: UserWarning: Found unknown categories in columns [4] during transform. These unknown categories will be encoded as all zeros\n",
      "  warnings.warn(\n",
      "/opt/conda/lib/python3.9/site-packages/sklearn/preprocessing/_encoders.py:246: UserWarning: Found unknown categories in columns [4] during transform. These unknown categories will be encoded as all zeros\n",
      "  warnings.warn(\n",
      "/opt/conda/lib/python3.9/site-packages/sklearn/preprocessing/_encoders.py:246: UserWarning: Found unknown categories in columns [4] during transform. These unknown categories will be encoded as all zeros\n",
      "  warnings.warn(\n",
      "/opt/conda/lib/python3.9/site-packages/sklearn/preprocessing/_encoders.py:246: UserWarning: Found unknown categories in columns [4] during transform. These unknown categories will be encoded as all zeros\n",
      "  warnings.warn(\n",
      "/opt/conda/lib/python3.9/site-packages/sklearn/preprocessing/_encoders.py:246: UserWarning: Found unknown categories in columns [4] during transform. These unknown categories will be encoded as all zeros\n",
      "  warnings.warn(\n",
      "/opt/conda/lib/python3.9/site-packages/sklearn/preprocessing/_encoders.py:246: UserWarning: Found unknown categories in columns [4] during transform. These unknown categories will be encoded as all zeros\n",
      "  warnings.warn(\n",
      "/opt/conda/lib/python3.9/site-packages/sklearn/preprocessing/_encoders.py:246: UserWarning: Found unknown categories in columns [4] during transform. These unknown categories will be encoded as all zeros\n",
      "  warnings.warn(\n",
      "/opt/conda/lib/python3.9/site-packages/sklearn/preprocessing/_encoders.py:246: UserWarning: Found unknown categories in columns [4] during transform. These unknown categories will be encoded as all zeros\n",
      "  warnings.warn(\n",
      "/opt/conda/lib/python3.9/site-packages/sklearn/preprocessing/_encoders.py:246: UserWarning: Found unknown categories in columns [4] during transform. These unknown categories will be encoded as all zeros\n",
      "  warnings.warn(\n",
      "/opt/conda/lib/python3.9/site-packages/sklearn/preprocessing/_encoders.py:246: UserWarning: Found unknown categories in columns [4] during transform. These unknown categories will be encoded as all zeros\n",
      "  warnings.warn(\n",
      "/opt/conda/lib/python3.9/site-packages/sklearn/preprocessing/_encoders.py:246: UserWarning: Found unknown categories in columns [4] during transform. These unknown categories will be encoded as all zeros\n",
      "  warnings.warn(\n",
      "/opt/conda/lib/python3.9/site-packages/sklearn/preprocessing/_encoders.py:246: UserWarning: Found unknown categories in columns [4] during transform. These unknown categories will be encoded as all zeros\n",
      "  warnings.warn(\n"
     ]
    },
    {
     "name": "stdout",
     "output_type": "stream",
     "text": [
      "Лучшие параметры для LinearRegression:  {'regressor__fit_intercept': True, 'regressor__n_jobs': -1, 'scaler': Normalizer()}\n",
      "Лучшая метрика на кросс-валидации для LinearRegression:  -2409.5366591212796\n"
     ]
    }
   ],
   "source": [
    "# cоздание пайплайна с препроцессором и моделью LinearRegression\n",
    "model_lr  = Pipeline(steps=[\n",
    "    ('data_preprocessor', data_preprocessor),\n",
    "    ('scaler', 'passthrough'),\n",
    "    ('regressor', LinearRegression())\n",
    "])\n",
    "\n",
    "# oпределение параметров для оптимизации LinearRegression\n",
    "param_grid_lr = {\n",
    "    'scaler': [StandardScaler(with_mean=False), RobustScaler(with_centering=False), MaxAbsScaler(), Normalizer(), 'passthrough'],\n",
    "    'regressor__fit_intercept': [True, False],\n",
    "    'regressor__n_jobs': [-1, 1]\n",
    "}\n",
    "# Создание объекта GridSearchCV для LinearRegression\n",
    "grid_search_lr = GridSearchCV(\n",
    "    model_lr,\n",
    "    param_grid_lr,\n",
    "    scoring='neg_root_mean_squared_error',\n",
    "    n_jobs=-1,\n",
    "    cv=5,\n",
    "    error_score='raise'\n",
    ")\n",
    "\n",
    "grid_search_lr.fit(X_train, y_train)\n",
    "\n",
    "# вывод лучших параметров для LinearRegression\n",
    "print(\"Лучшие параметры для LinearRegression: \", grid_search_lr.best_params_)\n",
    "\n",
    "# вывод лучшей метрики на кросс-валидации для LinearRegression\n",
    "print(\"Лучшая метрика на кросс-валидации для LinearRegression: \", grid_search_lr.best_score_)"
   ]
  },
  {
   "cell_type": "code",
   "execution_count": 33,
   "metadata": {},
   "outputs": [
    {
     "data": {
      "text/html": [
       "<style>#sk-container-id-2 {\n",
       "  /* Definition of color scheme common for light and dark mode */\n",
       "  --sklearn-color-text: #000;\n",
       "  --sklearn-color-text-muted: #666;\n",
       "  --sklearn-color-line: gray;\n",
       "  /* Definition of color scheme for unfitted estimators */\n",
       "  --sklearn-color-unfitted-level-0: #fff5e6;\n",
       "  --sklearn-color-unfitted-level-1: #f6e4d2;\n",
       "  --sklearn-color-unfitted-level-2: #ffe0b3;\n",
       "  --sklearn-color-unfitted-level-3: chocolate;\n",
       "  /* Definition of color scheme for fitted estimators */\n",
       "  --sklearn-color-fitted-level-0: #f0f8ff;\n",
       "  --sklearn-color-fitted-level-1: #d4ebff;\n",
       "  --sklearn-color-fitted-level-2: #b3dbfd;\n",
       "  --sklearn-color-fitted-level-3: cornflowerblue;\n",
       "\n",
       "  /* Specific color for light theme */\n",
       "  --sklearn-color-text-on-default-background: var(--sg-text-color, var(--theme-code-foreground, var(--jp-content-font-color1, black)));\n",
       "  --sklearn-color-background: var(--sg-background-color, var(--theme-background, var(--jp-layout-color0, white)));\n",
       "  --sklearn-color-border-box: var(--sg-text-color, var(--theme-code-foreground, var(--jp-content-font-color1, black)));\n",
       "  --sklearn-color-icon: #696969;\n",
       "\n",
       "  @media (prefers-color-scheme: dark) {\n",
       "    /* Redefinition of color scheme for dark theme */\n",
       "    --sklearn-color-text-on-default-background: var(--sg-text-color, var(--theme-code-foreground, var(--jp-content-font-color1, white)));\n",
       "    --sklearn-color-background: var(--sg-background-color, var(--theme-background, var(--jp-layout-color0, #111)));\n",
       "    --sklearn-color-border-box: var(--sg-text-color, var(--theme-code-foreground, var(--jp-content-font-color1, white)));\n",
       "    --sklearn-color-icon: #878787;\n",
       "  }\n",
       "}\n",
       "\n",
       "#sk-container-id-2 {\n",
       "  color: var(--sklearn-color-text);\n",
       "}\n",
       "\n",
       "#sk-container-id-2 pre {\n",
       "  padding: 0;\n",
       "}\n",
       "\n",
       "#sk-container-id-2 input.sk-hidden--visually {\n",
       "  border: 0;\n",
       "  clip: rect(1px 1px 1px 1px);\n",
       "  clip: rect(1px, 1px, 1px, 1px);\n",
       "  height: 1px;\n",
       "  margin: -1px;\n",
       "  overflow: hidden;\n",
       "  padding: 0;\n",
       "  position: absolute;\n",
       "  width: 1px;\n",
       "}\n",
       "\n",
       "#sk-container-id-2 div.sk-dashed-wrapped {\n",
       "  border: 1px dashed var(--sklearn-color-line);\n",
       "  margin: 0 0.4em 0.5em 0.4em;\n",
       "  box-sizing: border-box;\n",
       "  padding-bottom: 0.4em;\n",
       "  background-color: var(--sklearn-color-background);\n",
       "}\n",
       "\n",
       "#sk-container-id-2 div.sk-container {\n",
       "  /* jupyter's `normalize.less` sets `[hidden] { display: none; }`\n",
       "     but bootstrap.min.css set `[hidden] { display: none !important; }`\n",
       "     so we also need the `!important` here to be able to override the\n",
       "     default hidden behavior on the sphinx rendered scikit-learn.org.\n",
       "     See: https://github.com/scikit-learn/scikit-learn/issues/21755 */\n",
       "  display: inline-block !important;\n",
       "  position: relative;\n",
       "}\n",
       "\n",
       "#sk-container-id-2 div.sk-text-repr-fallback {\n",
       "  display: none;\n",
       "}\n",
       "\n",
       "div.sk-parallel-item,\n",
       "div.sk-serial,\n",
       "div.sk-item {\n",
       "  /* draw centered vertical line to link estimators */\n",
       "  background-image: linear-gradient(var(--sklearn-color-text-on-default-background), var(--sklearn-color-text-on-default-background));\n",
       "  background-size: 2px 100%;\n",
       "  background-repeat: no-repeat;\n",
       "  background-position: center center;\n",
       "}\n",
       "\n",
       "/* Parallel-specific style estimator block */\n",
       "\n",
       "#sk-container-id-2 div.sk-parallel-item::after {\n",
       "  content: \"\";\n",
       "  width: 100%;\n",
       "  border-bottom: 2px solid var(--sklearn-color-text-on-default-background);\n",
       "  flex-grow: 1;\n",
       "}\n",
       "\n",
       "#sk-container-id-2 div.sk-parallel {\n",
       "  display: flex;\n",
       "  align-items: stretch;\n",
       "  justify-content: center;\n",
       "  background-color: var(--sklearn-color-background);\n",
       "  position: relative;\n",
       "}\n",
       "\n",
       "#sk-container-id-2 div.sk-parallel-item {\n",
       "  display: flex;\n",
       "  flex-direction: column;\n",
       "}\n",
       "\n",
       "#sk-container-id-2 div.sk-parallel-item:first-child::after {\n",
       "  align-self: flex-end;\n",
       "  width: 50%;\n",
       "}\n",
       "\n",
       "#sk-container-id-2 div.sk-parallel-item:last-child::after {\n",
       "  align-self: flex-start;\n",
       "  width: 50%;\n",
       "}\n",
       "\n",
       "#sk-container-id-2 div.sk-parallel-item:only-child::after {\n",
       "  width: 0;\n",
       "}\n",
       "\n",
       "/* Serial-specific style estimator block */\n",
       "\n",
       "#sk-container-id-2 div.sk-serial {\n",
       "  display: flex;\n",
       "  flex-direction: column;\n",
       "  align-items: center;\n",
       "  background-color: var(--sklearn-color-background);\n",
       "  padding-right: 1em;\n",
       "  padding-left: 1em;\n",
       "}\n",
       "\n",
       "\n",
       "/* Toggleable style: style used for estimator/Pipeline/ColumnTransformer box that is\n",
       "clickable and can be expanded/collapsed.\n",
       "- Pipeline and ColumnTransformer use this feature and define the default style\n",
       "- Estimators will overwrite some part of the style using the `sk-estimator` class\n",
       "*/\n",
       "\n",
       "/* Pipeline and ColumnTransformer style (default) */\n",
       "\n",
       "#sk-container-id-2 div.sk-toggleable {\n",
       "  /* Default theme specific background. It is overwritten whether we have a\n",
       "  specific estimator or a Pipeline/ColumnTransformer */\n",
       "  background-color: var(--sklearn-color-background);\n",
       "}\n",
       "\n",
       "/* Toggleable label */\n",
       "#sk-container-id-2 label.sk-toggleable__label {\n",
       "  cursor: pointer;\n",
       "  display: flex;\n",
       "  width: 100%;\n",
       "  margin-bottom: 0;\n",
       "  padding: 0.5em;\n",
       "  box-sizing: border-box;\n",
       "  text-align: center;\n",
       "  align-items: start;\n",
       "  justify-content: space-between;\n",
       "  gap: 0.5em;\n",
       "}\n",
       "\n",
       "#sk-container-id-2 label.sk-toggleable__label .caption {\n",
       "  font-size: 0.6rem;\n",
       "  font-weight: lighter;\n",
       "  color: var(--sklearn-color-text-muted);\n",
       "}\n",
       "\n",
       "#sk-container-id-2 label.sk-toggleable__label-arrow:before {\n",
       "  /* Arrow on the left of the label */\n",
       "  content: \"▸\";\n",
       "  float: left;\n",
       "  margin-right: 0.25em;\n",
       "  color: var(--sklearn-color-icon);\n",
       "}\n",
       "\n",
       "#sk-container-id-2 label.sk-toggleable__label-arrow:hover:before {\n",
       "  color: var(--sklearn-color-text);\n",
       "}\n",
       "\n",
       "/* Toggleable content - dropdown */\n",
       "\n",
       "#sk-container-id-2 div.sk-toggleable__content {\n",
       "  max-height: 0;\n",
       "  max-width: 0;\n",
       "  overflow: hidden;\n",
       "  text-align: left;\n",
       "  /* unfitted */\n",
       "  background-color: var(--sklearn-color-unfitted-level-0);\n",
       "}\n",
       "\n",
       "#sk-container-id-2 div.sk-toggleable__content.fitted {\n",
       "  /* fitted */\n",
       "  background-color: var(--sklearn-color-fitted-level-0);\n",
       "}\n",
       "\n",
       "#sk-container-id-2 div.sk-toggleable__content pre {\n",
       "  margin: 0.2em;\n",
       "  border-radius: 0.25em;\n",
       "  color: var(--sklearn-color-text);\n",
       "  /* unfitted */\n",
       "  background-color: var(--sklearn-color-unfitted-level-0);\n",
       "}\n",
       "\n",
       "#sk-container-id-2 div.sk-toggleable__content.fitted pre {\n",
       "  /* unfitted */\n",
       "  background-color: var(--sklearn-color-fitted-level-0);\n",
       "}\n",
       "\n",
       "#sk-container-id-2 input.sk-toggleable__control:checked~div.sk-toggleable__content {\n",
       "  /* Expand drop-down */\n",
       "  max-height: 200px;\n",
       "  max-width: 100%;\n",
       "  overflow: auto;\n",
       "}\n",
       "\n",
       "#sk-container-id-2 input.sk-toggleable__control:checked~label.sk-toggleable__label-arrow:before {\n",
       "  content: \"▾\";\n",
       "}\n",
       "\n",
       "/* Pipeline/ColumnTransformer-specific style */\n",
       "\n",
       "#sk-container-id-2 div.sk-label input.sk-toggleable__control:checked~label.sk-toggleable__label {\n",
       "  color: var(--sklearn-color-text);\n",
       "  background-color: var(--sklearn-color-unfitted-level-2);\n",
       "}\n",
       "\n",
       "#sk-container-id-2 div.sk-label.fitted input.sk-toggleable__control:checked~label.sk-toggleable__label {\n",
       "  background-color: var(--sklearn-color-fitted-level-2);\n",
       "}\n",
       "\n",
       "/* Estimator-specific style */\n",
       "\n",
       "/* Colorize estimator box */\n",
       "#sk-container-id-2 div.sk-estimator input.sk-toggleable__control:checked~label.sk-toggleable__label {\n",
       "  /* unfitted */\n",
       "  background-color: var(--sklearn-color-unfitted-level-2);\n",
       "}\n",
       "\n",
       "#sk-container-id-2 div.sk-estimator.fitted input.sk-toggleable__control:checked~label.sk-toggleable__label {\n",
       "  /* fitted */\n",
       "  background-color: var(--sklearn-color-fitted-level-2);\n",
       "}\n",
       "\n",
       "#sk-container-id-2 div.sk-label label.sk-toggleable__label,\n",
       "#sk-container-id-2 div.sk-label label {\n",
       "  /* The background is the default theme color */\n",
       "  color: var(--sklearn-color-text-on-default-background);\n",
       "}\n",
       "\n",
       "/* On hover, darken the color of the background */\n",
       "#sk-container-id-2 div.sk-label:hover label.sk-toggleable__label {\n",
       "  color: var(--sklearn-color-text);\n",
       "  background-color: var(--sklearn-color-unfitted-level-2);\n",
       "}\n",
       "\n",
       "/* Label box, darken color on hover, fitted */\n",
       "#sk-container-id-2 div.sk-label.fitted:hover label.sk-toggleable__label.fitted {\n",
       "  color: var(--sklearn-color-text);\n",
       "  background-color: var(--sklearn-color-fitted-level-2);\n",
       "}\n",
       "\n",
       "/* Estimator label */\n",
       "\n",
       "#sk-container-id-2 div.sk-label label {\n",
       "  font-family: monospace;\n",
       "  font-weight: bold;\n",
       "  display: inline-block;\n",
       "  line-height: 1.2em;\n",
       "}\n",
       "\n",
       "#sk-container-id-2 div.sk-label-container {\n",
       "  text-align: center;\n",
       "}\n",
       "\n",
       "/* Estimator-specific */\n",
       "#sk-container-id-2 div.sk-estimator {\n",
       "  font-family: monospace;\n",
       "  border: 1px dotted var(--sklearn-color-border-box);\n",
       "  border-radius: 0.25em;\n",
       "  box-sizing: border-box;\n",
       "  margin-bottom: 0.5em;\n",
       "  /* unfitted */\n",
       "  background-color: var(--sklearn-color-unfitted-level-0);\n",
       "}\n",
       "\n",
       "#sk-container-id-2 div.sk-estimator.fitted {\n",
       "  /* fitted */\n",
       "  background-color: var(--sklearn-color-fitted-level-0);\n",
       "}\n",
       "\n",
       "/* on hover */\n",
       "#sk-container-id-2 div.sk-estimator:hover {\n",
       "  /* unfitted */\n",
       "  background-color: var(--sklearn-color-unfitted-level-2);\n",
       "}\n",
       "\n",
       "#sk-container-id-2 div.sk-estimator.fitted:hover {\n",
       "  /* fitted */\n",
       "  background-color: var(--sklearn-color-fitted-level-2);\n",
       "}\n",
       "\n",
       "/* Specification for estimator info (e.g. \"i\" and \"?\") */\n",
       "\n",
       "/* Common style for \"i\" and \"?\" */\n",
       "\n",
       ".sk-estimator-doc-link,\n",
       "a:link.sk-estimator-doc-link,\n",
       "a:visited.sk-estimator-doc-link {\n",
       "  float: right;\n",
       "  font-size: smaller;\n",
       "  line-height: 1em;\n",
       "  font-family: monospace;\n",
       "  background-color: var(--sklearn-color-background);\n",
       "  border-radius: 1em;\n",
       "  height: 1em;\n",
       "  width: 1em;\n",
       "  text-decoration: none !important;\n",
       "  margin-left: 0.5em;\n",
       "  text-align: center;\n",
       "  /* unfitted */\n",
       "  border: var(--sklearn-color-unfitted-level-1) 1pt solid;\n",
       "  color: var(--sklearn-color-unfitted-level-1);\n",
       "}\n",
       "\n",
       ".sk-estimator-doc-link.fitted,\n",
       "a:link.sk-estimator-doc-link.fitted,\n",
       "a:visited.sk-estimator-doc-link.fitted {\n",
       "  /* fitted */\n",
       "  border: var(--sklearn-color-fitted-level-1) 1pt solid;\n",
       "  color: var(--sklearn-color-fitted-level-1);\n",
       "}\n",
       "\n",
       "/* On hover */\n",
       "div.sk-estimator:hover .sk-estimator-doc-link:hover,\n",
       ".sk-estimator-doc-link:hover,\n",
       "div.sk-label-container:hover .sk-estimator-doc-link:hover,\n",
       ".sk-estimator-doc-link:hover {\n",
       "  /* unfitted */\n",
       "  background-color: var(--sklearn-color-unfitted-level-3);\n",
       "  color: var(--sklearn-color-background);\n",
       "  text-decoration: none;\n",
       "}\n",
       "\n",
       "div.sk-estimator.fitted:hover .sk-estimator-doc-link.fitted:hover,\n",
       ".sk-estimator-doc-link.fitted:hover,\n",
       "div.sk-label-container:hover .sk-estimator-doc-link.fitted:hover,\n",
       ".sk-estimator-doc-link.fitted:hover {\n",
       "  /* fitted */\n",
       "  background-color: var(--sklearn-color-fitted-level-3);\n",
       "  color: var(--sklearn-color-background);\n",
       "  text-decoration: none;\n",
       "}\n",
       "\n",
       "/* Span, style for the box shown on hovering the info icon */\n",
       ".sk-estimator-doc-link span {\n",
       "  display: none;\n",
       "  z-index: 9999;\n",
       "  position: relative;\n",
       "  font-weight: normal;\n",
       "  right: .2ex;\n",
       "  padding: .5ex;\n",
       "  margin: .5ex;\n",
       "  width: min-content;\n",
       "  min-width: 20ex;\n",
       "  max-width: 50ex;\n",
       "  color: var(--sklearn-color-text);\n",
       "  box-shadow: 2pt 2pt 4pt #999;\n",
       "  /* unfitted */\n",
       "  background: var(--sklearn-color-unfitted-level-0);\n",
       "  border: .5pt solid var(--sklearn-color-unfitted-level-3);\n",
       "}\n",
       "\n",
       ".sk-estimator-doc-link.fitted span {\n",
       "  /* fitted */\n",
       "  background: var(--sklearn-color-fitted-level-0);\n",
       "  border: var(--sklearn-color-fitted-level-3);\n",
       "}\n",
       "\n",
       ".sk-estimator-doc-link:hover span {\n",
       "  display: block;\n",
       "}\n",
       "\n",
       "/* \"?\"-specific style due to the `<a>` HTML tag */\n",
       "\n",
       "#sk-container-id-2 a.estimator_doc_link {\n",
       "  float: right;\n",
       "  font-size: 1rem;\n",
       "  line-height: 1em;\n",
       "  font-family: monospace;\n",
       "  background-color: var(--sklearn-color-background);\n",
       "  border-radius: 1rem;\n",
       "  height: 1rem;\n",
       "  width: 1rem;\n",
       "  text-decoration: none;\n",
       "  /* unfitted */\n",
       "  color: var(--sklearn-color-unfitted-level-1);\n",
       "  border: var(--sklearn-color-unfitted-level-1) 1pt solid;\n",
       "}\n",
       "\n",
       "#sk-container-id-2 a.estimator_doc_link.fitted {\n",
       "  /* fitted */\n",
       "  border: var(--sklearn-color-fitted-level-1) 1pt solid;\n",
       "  color: var(--sklearn-color-fitted-level-1);\n",
       "}\n",
       "\n",
       "/* On hover */\n",
       "#sk-container-id-2 a.estimator_doc_link:hover {\n",
       "  /* unfitted */\n",
       "  background-color: var(--sklearn-color-unfitted-level-3);\n",
       "  color: var(--sklearn-color-background);\n",
       "  text-decoration: none;\n",
       "}\n",
       "\n",
       "#sk-container-id-2 a.estimator_doc_link.fitted:hover {\n",
       "  /* fitted */\n",
       "  background-color: var(--sklearn-color-fitted-level-3);\n",
       "}\n",
       "</style><div id=\"sk-container-id-2\" class=\"sk-top-container\"><div class=\"sk-text-repr-fallback\"><pre>Pipeline(steps=[(&#x27;data_preprocessor&#x27;,\n",
       "                 ColumnTransformer(remainder=&#x27;passthrough&#x27;,\n",
       "                                   transformers=[(&#x27;cat&#x27;,\n",
       "                                                  Pipeline(steps=[(&#x27;imputer&#x27;,\n",
       "                                                                   SimpleImputer(strategy=&#x27;most_frequent&#x27;)),\n",
       "                                                                  (&#x27;onehot&#x27;,\n",
       "                                                                   OneHotEncoder(drop=&#x27;first&#x27;,\n",
       "                                                                                 handle_unknown=&#x27;infrequent_if_exist&#x27;,\n",
       "                                                                                 min_frequency=0.05,\n",
       "                                                                                 sparse_output=False))]),\n",
       "                                                  [&#x27;vehicle_type&#x27;, &#x27;gearbox&#x27;,\n",
       "                                                   &#x27;fuel_type&#x27;, &#x27;repaired&#x27;,\n",
       "                                                   &#x27;brand_model&#x27;]),\n",
       "                                                 (&#x27;num&#x27;,\n",
       "                                                  Pipeline(steps=[(&#x27;imputer&#x27;,\n",
       "                                                                   SimpleImputer(strategy=&#x27;median&#x27;)),\n",
       "                                                                  (&#x27;poly&#x27;,\n",
       "                                                                   PolynomialFeatures(include_bias=False)),\n",
       "                                                                  (&#x27;scaler&#x27;,\n",
       "                                                                   StandardScaler())]),\n",
       "                                                  [&#x27;power&#x27;, &#x27;kilometer&#x27;,\n",
       "                                                   &#x27;age_month&#x27;])])),\n",
       "                (&#x27;scaler&#x27;, Normalizer()),\n",
       "                (&#x27;regressor&#x27;, LinearRegression(n_jobs=-1))])</pre><b>In a Jupyter environment, please rerun this cell to show the HTML representation or trust the notebook. <br />On GitHub, the HTML representation is unable to render, please try loading this page with nbviewer.org.</b></div><div class=\"sk-container\" hidden><div class=\"sk-item sk-dashed-wrapped\"><div class=\"sk-label-container\"><div class=\"sk-label fitted sk-toggleable\"><input class=\"sk-toggleable__control sk-hidden--visually\" id=\"sk-estimator-id-11\" type=\"checkbox\" ><label for=\"sk-estimator-id-11\" class=\"sk-toggleable__label fitted sk-toggleable__label-arrow\"><div><div>Pipeline</div></div><div><a class=\"sk-estimator-doc-link fitted\" rel=\"noreferrer\" target=\"_blank\" href=\"https://scikit-learn.org/1.6/modules/generated/sklearn.pipeline.Pipeline.html\">?<span>Documentation for Pipeline</span></a><span class=\"sk-estimator-doc-link fitted\">i<span>Fitted</span></span></div></label><div class=\"sk-toggleable__content fitted\"><pre>Pipeline(steps=[(&#x27;data_preprocessor&#x27;,\n",
       "                 ColumnTransformer(remainder=&#x27;passthrough&#x27;,\n",
       "                                   transformers=[(&#x27;cat&#x27;,\n",
       "                                                  Pipeline(steps=[(&#x27;imputer&#x27;,\n",
       "                                                                   SimpleImputer(strategy=&#x27;most_frequent&#x27;)),\n",
       "                                                                  (&#x27;onehot&#x27;,\n",
       "                                                                   OneHotEncoder(drop=&#x27;first&#x27;,\n",
       "                                                                                 handle_unknown=&#x27;infrequent_if_exist&#x27;,\n",
       "                                                                                 min_frequency=0.05,\n",
       "                                                                                 sparse_output=False))]),\n",
       "                                                  [&#x27;vehicle_type&#x27;, &#x27;gearbox&#x27;,\n",
       "                                                   &#x27;fuel_type&#x27;, &#x27;repaired&#x27;,\n",
       "                                                   &#x27;brand_model&#x27;]),\n",
       "                                                 (&#x27;num&#x27;,\n",
       "                                                  Pipeline(steps=[(&#x27;imputer&#x27;,\n",
       "                                                                   SimpleImputer(strategy=&#x27;median&#x27;)),\n",
       "                                                                  (&#x27;poly&#x27;,\n",
       "                                                                   PolynomialFeatures(include_bias=False)),\n",
       "                                                                  (&#x27;scaler&#x27;,\n",
       "                                                                   StandardScaler())]),\n",
       "                                                  [&#x27;power&#x27;, &#x27;kilometer&#x27;,\n",
       "                                                   &#x27;age_month&#x27;])])),\n",
       "                (&#x27;scaler&#x27;, Normalizer()),\n",
       "                (&#x27;regressor&#x27;, LinearRegression(n_jobs=-1))])</pre></div> </div></div><div class=\"sk-serial\"><div class=\"sk-item sk-dashed-wrapped\"><div class=\"sk-label-container\"><div class=\"sk-label fitted sk-toggleable\"><input class=\"sk-toggleable__control sk-hidden--visually\" id=\"sk-estimator-id-12\" type=\"checkbox\" ><label for=\"sk-estimator-id-12\" class=\"sk-toggleable__label fitted sk-toggleable__label-arrow\"><div><div>data_preprocessor: ColumnTransformer</div></div><div><a class=\"sk-estimator-doc-link fitted\" rel=\"noreferrer\" target=\"_blank\" href=\"https://scikit-learn.org/1.6/modules/generated/sklearn.compose.ColumnTransformer.html\">?<span>Documentation for data_preprocessor: ColumnTransformer</span></a></div></label><div class=\"sk-toggleable__content fitted\"><pre>ColumnTransformer(remainder=&#x27;passthrough&#x27;,\n",
       "                  transformers=[(&#x27;cat&#x27;,\n",
       "                                 Pipeline(steps=[(&#x27;imputer&#x27;,\n",
       "                                                  SimpleImputer(strategy=&#x27;most_frequent&#x27;)),\n",
       "                                                 (&#x27;onehot&#x27;,\n",
       "                                                  OneHotEncoder(drop=&#x27;first&#x27;,\n",
       "                                                                handle_unknown=&#x27;infrequent_if_exist&#x27;,\n",
       "                                                                min_frequency=0.05,\n",
       "                                                                sparse_output=False))]),\n",
       "                                 [&#x27;vehicle_type&#x27;, &#x27;gearbox&#x27;, &#x27;fuel_type&#x27;,\n",
       "                                  &#x27;repaired&#x27;, &#x27;brand_model&#x27;]),\n",
       "                                (&#x27;num&#x27;,\n",
       "                                 Pipeline(steps=[(&#x27;imputer&#x27;,\n",
       "                                                  SimpleImputer(strategy=&#x27;median&#x27;)),\n",
       "                                                 (&#x27;poly&#x27;,\n",
       "                                                  PolynomialFeatures(include_bias=False)),\n",
       "                                                 (&#x27;scaler&#x27;, StandardScaler())]),\n",
       "                                 [&#x27;power&#x27;, &#x27;kilometer&#x27;, &#x27;age_month&#x27;])])</pre></div> </div></div><div class=\"sk-parallel\"><div class=\"sk-parallel-item\"><div class=\"sk-item\"><div class=\"sk-label-container\"><div class=\"sk-label fitted sk-toggleable\"><input class=\"sk-toggleable__control sk-hidden--visually\" id=\"sk-estimator-id-13\" type=\"checkbox\" ><label for=\"sk-estimator-id-13\" class=\"sk-toggleable__label fitted sk-toggleable__label-arrow\"><div><div>cat</div></div></label><div class=\"sk-toggleable__content fitted\"><pre>[&#x27;vehicle_type&#x27;, &#x27;gearbox&#x27;, &#x27;fuel_type&#x27;, &#x27;repaired&#x27;, &#x27;brand_model&#x27;]</pre></div> </div></div><div class=\"sk-serial\"><div class=\"sk-item\"><div class=\"sk-serial\"><div class=\"sk-item\"><div class=\"sk-estimator fitted sk-toggleable\"><input class=\"sk-toggleable__control sk-hidden--visually\" id=\"sk-estimator-id-14\" type=\"checkbox\" ><label for=\"sk-estimator-id-14\" class=\"sk-toggleable__label fitted sk-toggleable__label-arrow\"><div><div>SimpleImputer</div></div><div><a class=\"sk-estimator-doc-link fitted\" rel=\"noreferrer\" target=\"_blank\" href=\"https://scikit-learn.org/1.6/modules/generated/sklearn.impute.SimpleImputer.html\">?<span>Documentation for SimpleImputer</span></a></div></label><div class=\"sk-toggleable__content fitted\"><pre>SimpleImputer(strategy=&#x27;most_frequent&#x27;)</pre></div> </div></div><div class=\"sk-item\"><div class=\"sk-estimator fitted sk-toggleable\"><input class=\"sk-toggleable__control sk-hidden--visually\" id=\"sk-estimator-id-15\" type=\"checkbox\" ><label for=\"sk-estimator-id-15\" class=\"sk-toggleable__label fitted sk-toggleable__label-arrow\"><div><div>OneHotEncoder</div></div><div><a class=\"sk-estimator-doc-link fitted\" rel=\"noreferrer\" target=\"_blank\" href=\"https://scikit-learn.org/1.6/modules/generated/sklearn.preprocessing.OneHotEncoder.html\">?<span>Documentation for OneHotEncoder</span></a></div></label><div class=\"sk-toggleable__content fitted\"><pre>OneHotEncoder(drop=&#x27;first&#x27;, handle_unknown=&#x27;infrequent_if_exist&#x27;,\n",
       "              min_frequency=0.05, sparse_output=False)</pre></div> </div></div></div></div></div></div></div><div class=\"sk-parallel-item\"><div class=\"sk-item\"><div class=\"sk-label-container\"><div class=\"sk-label fitted sk-toggleable\"><input class=\"sk-toggleable__control sk-hidden--visually\" id=\"sk-estimator-id-16\" type=\"checkbox\" ><label for=\"sk-estimator-id-16\" class=\"sk-toggleable__label fitted sk-toggleable__label-arrow\"><div><div>num</div></div></label><div class=\"sk-toggleable__content fitted\"><pre>[&#x27;power&#x27;, &#x27;kilometer&#x27;, &#x27;age_month&#x27;]</pre></div> </div></div><div class=\"sk-serial\"><div class=\"sk-item\"><div class=\"sk-serial\"><div class=\"sk-item\"><div class=\"sk-estimator fitted sk-toggleable\"><input class=\"sk-toggleable__control sk-hidden--visually\" id=\"sk-estimator-id-17\" type=\"checkbox\" ><label for=\"sk-estimator-id-17\" class=\"sk-toggleable__label fitted sk-toggleable__label-arrow\"><div><div>SimpleImputer</div></div><div><a class=\"sk-estimator-doc-link fitted\" rel=\"noreferrer\" target=\"_blank\" href=\"https://scikit-learn.org/1.6/modules/generated/sklearn.impute.SimpleImputer.html\">?<span>Documentation for SimpleImputer</span></a></div></label><div class=\"sk-toggleable__content fitted\"><pre>SimpleImputer(strategy=&#x27;median&#x27;)</pre></div> </div></div><div class=\"sk-item\"><div class=\"sk-estimator fitted sk-toggleable\"><input class=\"sk-toggleable__control sk-hidden--visually\" id=\"sk-estimator-id-18\" type=\"checkbox\" ><label for=\"sk-estimator-id-18\" class=\"sk-toggleable__label fitted sk-toggleable__label-arrow\"><div><div>PolynomialFeatures</div></div><div><a class=\"sk-estimator-doc-link fitted\" rel=\"noreferrer\" target=\"_blank\" href=\"https://scikit-learn.org/1.6/modules/generated/sklearn.preprocessing.PolynomialFeatures.html\">?<span>Documentation for PolynomialFeatures</span></a></div></label><div class=\"sk-toggleable__content fitted\"><pre>PolynomialFeatures(include_bias=False)</pre></div> </div></div><div class=\"sk-item\"><div class=\"sk-estimator fitted sk-toggleable\"><input class=\"sk-toggleable__control sk-hidden--visually\" id=\"sk-estimator-id-19\" type=\"checkbox\" ><label for=\"sk-estimator-id-19\" class=\"sk-toggleable__label fitted sk-toggleable__label-arrow\"><div><div>StandardScaler</div></div><div><a class=\"sk-estimator-doc-link fitted\" rel=\"noreferrer\" target=\"_blank\" href=\"https://scikit-learn.org/1.6/modules/generated/sklearn.preprocessing.StandardScaler.html\">?<span>Documentation for StandardScaler</span></a></div></label><div class=\"sk-toggleable__content fitted\"><pre>StandardScaler()</pre></div> </div></div></div></div></div></div></div><div class=\"sk-parallel-item\"><div class=\"sk-item\"><div class=\"sk-label-container\"><div class=\"sk-label fitted sk-toggleable\"><input class=\"sk-toggleable__control sk-hidden--visually\" id=\"sk-estimator-id-20\" type=\"checkbox\" ><label for=\"sk-estimator-id-20\" class=\"sk-toggleable__label fitted sk-toggleable__label-arrow\"><div><div>remainder</div></div></label><div class=\"sk-toggleable__content fitted\"><pre>[]</pre></div> </div></div><div class=\"sk-serial\"><div class=\"sk-item\"><div class=\"sk-estimator fitted sk-toggleable\"><input class=\"sk-toggleable__control sk-hidden--visually\" id=\"sk-estimator-id-21\" type=\"checkbox\" ><label for=\"sk-estimator-id-21\" class=\"sk-toggleable__label fitted sk-toggleable__label-arrow\"><div><div>passthrough</div></div></label><div class=\"sk-toggleable__content fitted\"><pre>passthrough</pre></div> </div></div></div></div></div></div></div><div class=\"sk-item\"><div class=\"sk-estimator fitted sk-toggleable\"><input class=\"sk-toggleable__control sk-hidden--visually\" id=\"sk-estimator-id-22\" type=\"checkbox\" ><label for=\"sk-estimator-id-22\" class=\"sk-toggleable__label fitted sk-toggleable__label-arrow\"><div><div>Normalizer</div></div><div><a class=\"sk-estimator-doc-link fitted\" rel=\"noreferrer\" target=\"_blank\" href=\"https://scikit-learn.org/1.6/modules/generated/sklearn.preprocessing.Normalizer.html\">?<span>Documentation for Normalizer</span></a></div></label><div class=\"sk-toggleable__content fitted\"><pre>Normalizer()</pre></div> </div></div><div class=\"sk-item\"><div class=\"sk-estimator fitted sk-toggleable\"><input class=\"sk-toggleable__control sk-hidden--visually\" id=\"sk-estimator-id-23\" type=\"checkbox\" ><label for=\"sk-estimator-id-23\" class=\"sk-toggleable__label fitted sk-toggleable__label-arrow\"><div><div>LinearRegression</div></div><div><a class=\"sk-estimator-doc-link fitted\" rel=\"noreferrer\" target=\"_blank\" href=\"https://scikit-learn.org/1.6/modules/generated/sklearn.linear_model.LinearRegression.html\">?<span>Documentation for LinearRegression</span></a></div></label><div class=\"sk-toggleable__content fitted\"><pre>LinearRegression(n_jobs=-1)</pre></div> </div></div></div></div></div></div>"
      ],
      "text/plain": [
       "Pipeline(steps=[('data_preprocessor',\n",
       "                 ColumnTransformer(remainder='passthrough',\n",
       "                                   transformers=[('cat',\n",
       "                                                  Pipeline(steps=[('imputer',\n",
       "                                                                   SimpleImputer(strategy='most_frequent')),\n",
       "                                                                  ('onehot',\n",
       "                                                                   OneHotEncoder(drop='first',\n",
       "                                                                                 handle_unknown='infrequent_if_exist',\n",
       "                                                                                 min_frequency=0.05,\n",
       "                                                                                 sparse_output=False))]),\n",
       "                                                  ['vehicle_type', 'gearbox',\n",
       "                                                   'fuel_type', 'repaired',\n",
       "                                                   'brand_model']),\n",
       "                                                 ('num',\n",
       "                                                  Pipeline(steps=[('imputer',\n",
       "                                                                   SimpleImputer(strategy='median')),\n",
       "                                                                  ('poly',\n",
       "                                                                   PolynomialFeatures(include_bias=False)),\n",
       "                                                                  ('scaler',\n",
       "                                                                   StandardScaler())]),\n",
       "                                                  ['power', 'kilometer',\n",
       "                                                   'age_month'])])),\n",
       "                ('scaler', Normalizer()),\n",
       "                ('regressor', LinearRegression(n_jobs=-1))])"
      ]
     },
     "execution_count": 33,
     "metadata": {},
     "output_type": "execute_result"
    }
   ],
   "source": [
    "best_model_lr = grid_search_lr.best_estimator_\n",
    "best_model_lr"
   ]
  },
  {
   "cell_type": "markdown",
   "metadata": {},
   "source": [
    "### Модель градиентного бустинга с использованием LightGBM"
   ]
  },
  {
   "cell_type": "code",
   "execution_count": 38,
   "metadata": {
    "scrolled": true
   },
   "outputs": [
    {
     "name": "stderr",
     "output_type": "stream",
     "text": [
      "/opt/conda/lib/python3.9/site-packages/sklearn/preprocessing/_encoders.py:246: UserWarning: Found unknown categories in columns [4] during transform. These unknown categories will be encoded as all zeros\n",
      "  warnings.warn(\n",
      "/opt/conda/lib/python3.9/site-packages/sklearn/utils/validation.py:2739: UserWarning: X does not have valid feature names, but LGBMRegressor was fitted with feature names\n",
      "  warnings.warn(\n",
      "/opt/conda/lib/python3.9/site-packages/sklearn/preprocessing/_encoders.py:246: UserWarning: Found unknown categories in columns [4] during transform. These unknown categories will be encoded as all zeros\n",
      "  warnings.warn(\n",
      "/opt/conda/lib/python3.9/site-packages/sklearn/utils/validation.py:2739: UserWarning: X does not have valid feature names, but LGBMRegressor was fitted with feature names\n",
      "  warnings.warn(\n",
      "/opt/conda/lib/python3.9/site-packages/sklearn/preprocessing/_encoders.py:246: UserWarning: Found unknown categories in columns [4] during transform. These unknown categories will be encoded as all zeros\n",
      "  warnings.warn(\n",
      "/opt/conda/lib/python3.9/site-packages/sklearn/utils/validation.py:2739: UserWarning: X does not have valid feature names, but LGBMRegressor was fitted with feature names\n",
      "  warnings.warn(\n",
      "/opt/conda/lib/python3.9/site-packages/sklearn/utils/validation.py:2739: UserWarning: X does not have valid feature names, but LGBMRegressor was fitted with feature names\n",
      "  warnings.warn(\n",
      "/opt/conda/lib/python3.9/site-packages/sklearn/utils/validation.py:2739: UserWarning: X does not have valid feature names, but LGBMRegressor was fitted with feature names\n",
      "  warnings.warn(\n",
      "/opt/conda/lib/python3.9/site-packages/sklearn/preprocessing/_encoders.py:246: UserWarning: Found unknown categories in columns [4] during transform. These unknown categories will be encoded as all zeros\n",
      "  warnings.warn(\n",
      "/opt/conda/lib/python3.9/site-packages/sklearn/utils/validation.py:2739: UserWarning: X does not have valid feature names, but LGBMRegressor was fitted with feature names\n",
      "  warnings.warn(\n",
      "/opt/conda/lib/python3.9/site-packages/sklearn/preprocessing/_encoders.py:246: UserWarning: Found unknown categories in columns [4] during transform. These unknown categories will be encoded as all zeros\n",
      "  warnings.warn(\n",
      "/opt/conda/lib/python3.9/site-packages/sklearn/utils/validation.py:2739: UserWarning: X does not have valid feature names, but LGBMRegressor was fitted with feature names\n",
      "  warnings.warn(\n",
      "/opt/conda/lib/python3.9/site-packages/sklearn/preprocessing/_encoders.py:246: UserWarning: Found unknown categories in columns [4] during transform. These unknown categories will be encoded as all zeros\n",
      "  warnings.warn(\n",
      "/opt/conda/lib/python3.9/site-packages/sklearn/utils/validation.py:2739: UserWarning: X does not have valid feature names, but LGBMRegressor was fitted with feature names\n",
      "  warnings.warn(\n",
      "/opt/conda/lib/python3.9/site-packages/sklearn/utils/validation.py:2739: UserWarning: X does not have valid feature names, but LGBMRegressor was fitted with feature names\n",
      "  warnings.warn(\n",
      "/opt/conda/lib/python3.9/site-packages/sklearn/utils/validation.py:2739: UserWarning: X does not have valid feature names, but LGBMRegressor was fitted with feature names\n",
      "  warnings.warn(\n",
      "/opt/conda/lib/python3.9/site-packages/sklearn/preprocessing/_encoders.py:246: UserWarning: Found unknown categories in columns [4] during transform. These unknown categories will be encoded as all zeros\n",
      "  warnings.warn(\n",
      "/opt/conda/lib/python3.9/site-packages/sklearn/utils/validation.py:2739: UserWarning: X does not have valid feature names, but LGBMRegressor was fitted with feature names\n",
      "  warnings.warn(\n",
      "/opt/conda/lib/python3.9/site-packages/sklearn/preprocessing/_encoders.py:246: UserWarning: Found unknown categories in columns [4] during transform. These unknown categories will be encoded as all zeros\n",
      "  warnings.warn(\n",
      "/opt/conda/lib/python3.9/site-packages/sklearn/utils/validation.py:2739: UserWarning: X does not have valid feature names, but LGBMRegressor was fitted with feature names\n",
      "  warnings.warn(\n",
      "/opt/conda/lib/python3.9/site-packages/sklearn/preprocessing/_encoders.py:246: UserWarning: Found unknown categories in columns [4] during transform. These unknown categories will be encoded as all zeros\n",
      "  warnings.warn(\n",
      "/opt/conda/lib/python3.9/site-packages/sklearn/utils/validation.py:2739: UserWarning: X does not have valid feature names, but LGBMRegressor was fitted with feature names\n",
      "  warnings.warn(\n",
      "/opt/conda/lib/python3.9/site-packages/sklearn/utils/validation.py:2739: UserWarning: X does not have valid feature names, but LGBMRegressor was fitted with feature names\n",
      "  warnings.warn(\n",
      "/opt/conda/lib/python3.9/site-packages/sklearn/utils/validation.py:2739: UserWarning: X does not have valid feature names, but LGBMRegressor was fitted with feature names\n",
      "  warnings.warn(\n",
      "/opt/conda/lib/python3.9/site-packages/sklearn/preprocessing/_encoders.py:246: UserWarning: Found unknown categories in columns [4] during transform. These unknown categories will be encoded as all zeros\n",
      "  warnings.warn(\n",
      "/opt/conda/lib/python3.9/site-packages/sklearn/utils/validation.py:2739: UserWarning: X does not have valid feature names, but LGBMRegressor was fitted with feature names\n",
      "  warnings.warn(\n",
      "/opt/conda/lib/python3.9/site-packages/sklearn/preprocessing/_encoders.py:246: UserWarning: Found unknown categories in columns [4] during transform. These unknown categories will be encoded as all zeros\n",
      "  warnings.warn(\n",
      "/opt/conda/lib/python3.9/site-packages/sklearn/utils/validation.py:2739: UserWarning: X does not have valid feature names, but LGBMRegressor was fitted with feature names\n",
      "  warnings.warn(\n",
      "/opt/conda/lib/python3.9/site-packages/sklearn/preprocessing/_encoders.py:246: UserWarning: Found unknown categories in columns [4] during transform. These unknown categories will be encoded as all zeros\n",
      "  warnings.warn(\n",
      "/opt/conda/lib/python3.9/site-packages/sklearn/utils/validation.py:2739: UserWarning: X does not have valid feature names, but LGBMRegressor was fitted with feature names\n",
      "  warnings.warn(\n",
      "/opt/conda/lib/python3.9/site-packages/sklearn/utils/validation.py:2739: UserWarning: X does not have valid feature names, but LGBMRegressor was fitted with feature names\n",
      "  warnings.warn(\n",
      "/opt/conda/lib/python3.9/site-packages/sklearn/utils/validation.py:2739: UserWarning: X does not have valid feature names, but LGBMRegressor was fitted with feature names\n",
      "  warnings.warn(\n",
      "/opt/conda/lib/python3.9/site-packages/sklearn/preprocessing/_encoders.py:246: UserWarning: Found unknown categories in columns [4] during transform. These unknown categories will be encoded as all zeros\n",
      "  warnings.warn(\n",
      "/opt/conda/lib/python3.9/site-packages/sklearn/utils/validation.py:2739: UserWarning: X does not have valid feature names, but LGBMRegressor was fitted with feature names\n",
      "  warnings.warn(\n",
      "/opt/conda/lib/python3.9/site-packages/sklearn/preprocessing/_encoders.py:246: UserWarning: Found unknown categories in columns [4] during transform. These unknown categories will be encoded as all zeros\n",
      "  warnings.warn(\n",
      "/opt/conda/lib/python3.9/site-packages/sklearn/utils/validation.py:2739: UserWarning: X does not have valid feature names, but LGBMRegressor was fitted with feature names\n",
      "  warnings.warn(\n",
      "/opt/conda/lib/python3.9/site-packages/sklearn/preprocessing/_encoders.py:246: UserWarning: Found unknown categories in columns [4] during transform. These unknown categories will be encoded as all zeros\n",
      "  warnings.warn(\n",
      "/opt/conda/lib/python3.9/site-packages/sklearn/utils/validation.py:2739: UserWarning: X does not have valid feature names, but LGBMRegressor was fitted with feature names\n",
      "  warnings.warn(\n",
      "/opt/conda/lib/python3.9/site-packages/sklearn/utils/validation.py:2739: UserWarning: X does not have valid feature names, but LGBMRegressor was fitted with feature names\n",
      "  warnings.warn(\n",
      "/opt/conda/lib/python3.9/site-packages/sklearn/utils/validation.py:2739: UserWarning: X does not have valid feature names, but LGBMRegressor was fitted with feature names\n",
      "  warnings.warn(\n",
      "/opt/conda/lib/python3.9/site-packages/sklearn/preprocessing/_encoders.py:246: UserWarning: Found unknown categories in columns [4] during transform. These unknown categories will be encoded as all zeros\n",
      "  warnings.warn(\n",
      "/opt/conda/lib/python3.9/site-packages/sklearn/utils/validation.py:2739: UserWarning: X does not have valid feature names, but LGBMRegressor was fitted with feature names\n",
      "  warnings.warn(\n",
      "/opt/conda/lib/python3.9/site-packages/sklearn/preprocessing/_encoders.py:246: UserWarning: Found unknown categories in columns [4] during transform. These unknown categories will be encoded as all zeros\n",
      "  warnings.warn(\n",
      "/opt/conda/lib/python3.9/site-packages/sklearn/utils/validation.py:2739: UserWarning: X does not have valid feature names, but LGBMRegressor was fitted with feature names\n",
      "  warnings.warn(\n",
      "/opt/conda/lib/python3.9/site-packages/sklearn/preprocessing/_encoders.py:246: UserWarning: Found unknown categories in columns [4] during transform. These unknown categories will be encoded as all zeros\n",
      "  warnings.warn(\n",
      "/opt/conda/lib/python3.9/site-packages/sklearn/utils/validation.py:2739: UserWarning: X does not have valid feature names, but LGBMRegressor was fitted with feature names\n",
      "  warnings.warn(\n",
      "/opt/conda/lib/python3.9/site-packages/sklearn/utils/validation.py:2739: UserWarning: X does not have valid feature names, but LGBMRegressor was fitted with feature names\n",
      "  warnings.warn(\n",
      "/opt/conda/lib/python3.9/site-packages/sklearn/utils/validation.py:2739: UserWarning: X does not have valid feature names, but LGBMRegressor was fitted with feature names\n",
      "  warnings.warn(\n",
      "/opt/conda/lib/python3.9/site-packages/sklearn/preprocessing/_encoders.py:246: UserWarning: Found unknown categories in columns [4] during transform. These unknown categories will be encoded as all zeros\n",
      "  warnings.warn(\n",
      "/opt/conda/lib/python3.9/site-packages/sklearn/utils/validation.py:2739: UserWarning: X does not have valid feature names, but LGBMRegressor was fitted with feature names\n",
      "  warnings.warn(\n",
      "/opt/conda/lib/python3.9/site-packages/sklearn/preprocessing/_encoders.py:246: UserWarning: Found unknown categories in columns [4] during transform. These unknown categories will be encoded as all zeros\n",
      "  warnings.warn(\n",
      "/opt/conda/lib/python3.9/site-packages/sklearn/utils/validation.py:2739: UserWarning: X does not have valid feature names, but LGBMRegressor was fitted with feature names\n",
      "  warnings.warn(\n",
      "/opt/conda/lib/python3.9/site-packages/sklearn/preprocessing/_encoders.py:246: UserWarning: Found unknown categories in columns [4] during transform. These unknown categories will be encoded as all zeros\n",
      "  warnings.warn(\n",
      "/opt/conda/lib/python3.9/site-packages/sklearn/utils/validation.py:2739: UserWarning: X does not have valid feature names, but LGBMRegressor was fitted with feature names\n",
      "  warnings.warn(\n",
      "/opt/conda/lib/python3.9/site-packages/sklearn/utils/validation.py:2739: UserWarning: X does not have valid feature names, but LGBMRegressor was fitted with feature names\n",
      "  warnings.warn(\n",
      "/opt/conda/lib/python3.9/site-packages/sklearn/utils/validation.py:2739: UserWarning: X does not have valid feature names, but LGBMRegressor was fitted with feature names\n",
      "  warnings.warn(\n",
      "/opt/conda/lib/python3.9/site-packages/sklearn/preprocessing/_encoders.py:246: UserWarning: Found unknown categories in columns [4] during transform. These unknown categories will be encoded as all zeros\n",
      "  warnings.warn(\n",
      "/opt/conda/lib/python3.9/site-packages/sklearn/utils/validation.py:2739: UserWarning: X does not have valid feature names, but LGBMRegressor was fitted with feature names\n",
      "  warnings.warn(\n",
      "/opt/conda/lib/python3.9/site-packages/sklearn/preprocessing/_encoders.py:246: UserWarning: Found unknown categories in columns [4] during transform. These unknown categories will be encoded as all zeros\n",
      "  warnings.warn(\n",
      "/opt/conda/lib/python3.9/site-packages/sklearn/utils/validation.py:2739: UserWarning: X does not have valid feature names, but LGBMRegressor was fitted with feature names\n",
      "  warnings.warn(\n",
      "/opt/conda/lib/python3.9/site-packages/sklearn/preprocessing/_encoders.py:246: UserWarning: Found unknown categories in columns [4] during transform. These unknown categories will be encoded as all zeros\n",
      "  warnings.warn(\n",
      "/opt/conda/lib/python3.9/site-packages/sklearn/utils/validation.py:2739: UserWarning: X does not have valid feature names, but LGBMRegressor was fitted with feature names\n",
      "  warnings.warn(\n",
      "/opt/conda/lib/python3.9/site-packages/sklearn/utils/validation.py:2739: UserWarning: X does not have valid feature names, but LGBMRegressor was fitted with feature names\n",
      "  warnings.warn(\n",
      "/opt/conda/lib/python3.9/site-packages/sklearn/utils/validation.py:2739: UserWarning: X does not have valid feature names, but LGBMRegressor was fitted with feature names\n",
      "  warnings.warn(\n",
      "/opt/conda/lib/python3.9/site-packages/sklearn/preprocessing/_encoders.py:246: UserWarning: Found unknown categories in columns [4] during transform. These unknown categories will be encoded as all zeros\n",
      "  warnings.warn(\n",
      "/opt/conda/lib/python3.9/site-packages/sklearn/utils/validation.py:2739: UserWarning: X does not have valid feature names, but LGBMRegressor was fitted with feature names\n",
      "  warnings.warn(\n",
      "/opt/conda/lib/python3.9/site-packages/sklearn/preprocessing/_encoders.py:246: UserWarning: Found unknown categories in columns [4] during transform. These unknown categories will be encoded as all zeros\n",
      "  warnings.warn(\n",
      "/opt/conda/lib/python3.9/site-packages/sklearn/utils/validation.py:2739: UserWarning: X does not have valid feature names, but LGBMRegressor was fitted with feature names\n",
      "  warnings.warn(\n",
      "/opt/conda/lib/python3.9/site-packages/sklearn/preprocessing/_encoders.py:246: UserWarning: Found unknown categories in columns [4] during transform. These unknown categories will be encoded as all zeros\n",
      "  warnings.warn(\n",
      "/opt/conda/lib/python3.9/site-packages/sklearn/utils/validation.py:2739: UserWarning: X does not have valid feature names, but LGBMRegressor was fitted with feature names\n",
      "  warnings.warn(\n",
      "/opt/conda/lib/python3.9/site-packages/sklearn/utils/validation.py:2739: UserWarning: X does not have valid feature names, but LGBMRegressor was fitted with feature names\n",
      "  warnings.warn(\n",
      "/opt/conda/lib/python3.9/site-packages/sklearn/utils/validation.py:2739: UserWarning: X does not have valid feature names, but LGBMRegressor was fitted with feature names\n",
      "  warnings.warn(\n",
      "/opt/conda/lib/python3.9/site-packages/sklearn/preprocessing/_encoders.py:246: UserWarning: Found unknown categories in columns [4] during transform. These unknown categories will be encoded as all zeros\n",
      "  warnings.warn(\n",
      "/opt/conda/lib/python3.9/site-packages/sklearn/utils/validation.py:2739: UserWarning: X does not have valid feature names, but LGBMRegressor was fitted with feature names\n",
      "  warnings.warn(\n",
      "/opt/conda/lib/python3.9/site-packages/sklearn/preprocessing/_encoders.py:246: UserWarning: Found unknown categories in columns [4] during transform. These unknown categories will be encoded as all zeros\n",
      "  warnings.warn(\n",
      "/opt/conda/lib/python3.9/site-packages/sklearn/utils/validation.py:2739: UserWarning: X does not have valid feature names, but LGBMRegressor was fitted with feature names\n",
      "  warnings.warn(\n",
      "/opt/conda/lib/python3.9/site-packages/sklearn/preprocessing/_encoders.py:246: UserWarning: Found unknown categories in columns [4] during transform. These unknown categories will be encoded as all zeros\n",
      "  warnings.warn(\n",
      "/opt/conda/lib/python3.9/site-packages/sklearn/utils/validation.py:2739: UserWarning: X does not have valid feature names, but LGBMRegressor was fitted with feature names\n",
      "  warnings.warn(\n",
      "/opt/conda/lib/python3.9/site-packages/sklearn/utils/validation.py:2739: UserWarning: X does not have valid feature names, but LGBMRegressor was fitted with feature names\n",
      "  warnings.warn(\n",
      "/opt/conda/lib/python3.9/site-packages/sklearn/utils/validation.py:2739: UserWarning: X does not have valid feature names, but LGBMRegressor was fitted with feature names\n",
      "  warnings.warn(\n",
      "/opt/conda/lib/python3.9/site-packages/sklearn/preprocessing/_encoders.py:246: UserWarning: Found unknown categories in columns [4] during transform. These unknown categories will be encoded as all zeros\n",
      "  warnings.warn(\n",
      "/opt/conda/lib/python3.9/site-packages/sklearn/utils/validation.py:2739: UserWarning: X does not have valid feature names, but LGBMRegressor was fitted with feature names\n",
      "  warnings.warn(\n",
      "/opt/conda/lib/python3.9/site-packages/sklearn/preprocessing/_encoders.py:246: UserWarning: Found unknown categories in columns [4] during transform. These unknown categories will be encoded as all zeros\n",
      "  warnings.warn(\n",
      "/opt/conda/lib/python3.9/site-packages/sklearn/utils/validation.py:2739: UserWarning: X does not have valid feature names, but LGBMRegressor was fitted with feature names\n",
      "  warnings.warn(\n",
      "/opt/conda/lib/python3.9/site-packages/sklearn/preprocessing/_encoders.py:246: UserWarning: Found unknown categories in columns [4] during transform. These unknown categories will be encoded as all zeros\n",
      "  warnings.warn(\n",
      "/opt/conda/lib/python3.9/site-packages/sklearn/utils/validation.py:2739: UserWarning: X does not have valid feature names, but LGBMRegressor was fitted with feature names\n",
      "  warnings.warn(\n",
      "/opt/conda/lib/python3.9/site-packages/sklearn/utils/validation.py:2739: UserWarning: X does not have valid feature names, but LGBMRegressor was fitted with feature names\n",
      "  warnings.warn(\n",
      "/opt/conda/lib/python3.9/site-packages/sklearn/utils/validation.py:2739: UserWarning: X does not have valid feature names, but LGBMRegressor was fitted with feature names\n",
      "  warnings.warn(\n",
      "/opt/conda/lib/python3.9/site-packages/sklearn/preprocessing/_encoders.py:246: UserWarning: Found unknown categories in columns [4] during transform. These unknown categories will be encoded as all zeros\n",
      "  warnings.warn(\n",
      "/opt/conda/lib/python3.9/site-packages/sklearn/utils/validation.py:2739: UserWarning: X does not have valid feature names, but LGBMRegressor was fitted with feature names\n",
      "  warnings.warn(\n",
      "/opt/conda/lib/python3.9/site-packages/sklearn/preprocessing/_encoders.py:246: UserWarning: Found unknown categories in columns [4] during transform. These unknown categories will be encoded as all zeros\n",
      "  warnings.warn(\n",
      "/opt/conda/lib/python3.9/site-packages/sklearn/utils/validation.py:2739: UserWarning: X does not have valid feature names, but LGBMRegressor was fitted with feature names\n",
      "  warnings.warn(\n",
      "/opt/conda/lib/python3.9/site-packages/sklearn/preprocessing/_encoders.py:246: UserWarning: Found unknown categories in columns [4] during transform. These unknown categories will be encoded as all zeros\n",
      "  warnings.warn(\n",
      "/opt/conda/lib/python3.9/site-packages/sklearn/utils/validation.py:2739: UserWarning: X does not have valid feature names, but LGBMRegressor was fitted with feature names\n",
      "  warnings.warn(\n",
      "/opt/conda/lib/python3.9/site-packages/sklearn/utils/validation.py:2739: UserWarning: X does not have valid feature names, but LGBMRegressor was fitted with feature names\n",
      "  warnings.warn(\n",
      "/opt/conda/lib/python3.9/site-packages/sklearn/utils/validation.py:2739: UserWarning: X does not have valid feature names, but LGBMRegressor was fitted with feature names\n",
      "  warnings.warn(\n",
      "/opt/conda/lib/python3.9/site-packages/sklearn/preprocessing/_encoders.py:246: UserWarning: Found unknown categories in columns [4] during transform. These unknown categories will be encoded as all zeros\n",
      "  warnings.warn(\n",
      "/opt/conda/lib/python3.9/site-packages/sklearn/utils/validation.py:2739: UserWarning: X does not have valid feature names, but LGBMRegressor was fitted with feature names\n",
      "  warnings.warn(\n",
      "/opt/conda/lib/python3.9/site-packages/sklearn/preprocessing/_encoders.py:246: UserWarning: Found unknown categories in columns [4] during transform. These unknown categories will be encoded as all zeros\n",
      "  warnings.warn(\n",
      "/opt/conda/lib/python3.9/site-packages/sklearn/utils/validation.py:2739: UserWarning: X does not have valid feature names, but LGBMRegressor was fitted with feature names\n",
      "  warnings.warn(\n",
      "/opt/conda/lib/python3.9/site-packages/sklearn/preprocessing/_encoders.py:246: UserWarning: Found unknown categories in columns [4] during transform. These unknown categories will be encoded as all zeros\n",
      "  warnings.warn(\n",
      "/opt/conda/lib/python3.9/site-packages/sklearn/utils/validation.py:2739: UserWarning: X does not have valid feature names, but LGBMRegressor was fitted with feature names\n",
      "  warnings.warn(\n",
      "/opt/conda/lib/python3.9/site-packages/sklearn/utils/validation.py:2739: UserWarning: X does not have valid feature names, but LGBMRegressor was fitted with feature names\n",
      "  warnings.warn(\n",
      "/opt/conda/lib/python3.9/site-packages/sklearn/utils/validation.py:2739: UserWarning: X does not have valid feature names, but LGBMRegressor was fitted with feature names\n",
      "  warnings.warn(\n",
      "/opt/conda/lib/python3.9/site-packages/sklearn/preprocessing/_encoders.py:246: UserWarning: Found unknown categories in columns [4] during transform. These unknown categories will be encoded as all zeros\n",
      "  warnings.warn(\n",
      "/opt/conda/lib/python3.9/site-packages/sklearn/utils/validation.py:2739: UserWarning: X does not have valid feature names, but LGBMRegressor was fitted with feature names\n",
      "  warnings.warn(\n",
      "/opt/conda/lib/python3.9/site-packages/sklearn/preprocessing/_encoders.py:246: UserWarning: Found unknown categories in columns [4] during transform. These unknown categories will be encoded as all zeros\n",
      "  warnings.warn(\n",
      "/opt/conda/lib/python3.9/site-packages/sklearn/utils/validation.py:2739: UserWarning: X does not have valid feature names, but LGBMRegressor was fitted with feature names\n",
      "  warnings.warn(\n",
      "/opt/conda/lib/python3.9/site-packages/sklearn/preprocessing/_encoders.py:246: UserWarning: Found unknown categories in columns [4] during transform. These unknown categories will be encoded as all zeros\n",
      "  warnings.warn(\n",
      "/opt/conda/lib/python3.9/site-packages/sklearn/utils/validation.py:2739: UserWarning: X does not have valid feature names, but LGBMRegressor was fitted with feature names\n",
      "  warnings.warn(\n",
      "/opt/conda/lib/python3.9/site-packages/sklearn/utils/validation.py:2739: UserWarning: X does not have valid feature names, but LGBMRegressor was fitted with feature names\n",
      "  warnings.warn(\n",
      "/opt/conda/lib/python3.9/site-packages/sklearn/utils/validation.py:2739: UserWarning: X does not have valid feature names, but LGBMRegressor was fitted with feature names\n",
      "  warnings.warn(\n",
      "/opt/conda/lib/python3.9/site-packages/sklearn/preprocessing/_encoders.py:246: UserWarning: Found unknown categories in columns [4] during transform. These unknown categories will be encoded as all zeros\n",
      "  warnings.warn(\n",
      "/opt/conda/lib/python3.9/site-packages/sklearn/utils/validation.py:2739: UserWarning: X does not have valid feature names, but LGBMRegressor was fitted with feature names\n",
      "  warnings.warn(\n",
      "/opt/conda/lib/python3.9/site-packages/sklearn/preprocessing/_encoders.py:246: UserWarning: Found unknown categories in columns [4] during transform. These unknown categories will be encoded as all zeros\n",
      "  warnings.warn(\n",
      "/opt/conda/lib/python3.9/site-packages/sklearn/utils/validation.py:2739: UserWarning: X does not have valid feature names, but LGBMRegressor was fitted with feature names\n",
      "  warnings.warn(\n",
      "/opt/conda/lib/python3.9/site-packages/sklearn/preprocessing/_encoders.py:246: UserWarning: Found unknown categories in columns [4] during transform. These unknown categories will be encoded as all zeros\n",
      "  warnings.warn(\n",
      "/opt/conda/lib/python3.9/site-packages/sklearn/utils/validation.py:2739: UserWarning: X does not have valid feature names, but LGBMRegressor was fitted with feature names\n",
      "  warnings.warn(\n",
      "/opt/conda/lib/python3.9/site-packages/sklearn/utils/validation.py:2739: UserWarning: X does not have valid feature names, but LGBMRegressor was fitted with feature names\n",
      "  warnings.warn(\n",
      "/opt/conda/lib/python3.9/site-packages/sklearn/utils/validation.py:2739: UserWarning: X does not have valid feature names, but LGBMRegressor was fitted with feature names\n",
      "  warnings.warn(\n",
      "/opt/conda/lib/python3.9/site-packages/sklearn/preprocessing/_encoders.py:246: UserWarning: Found unknown categories in columns [4] during transform. These unknown categories will be encoded as all zeros\n",
      "  warnings.warn(\n",
      "/opt/conda/lib/python3.9/site-packages/sklearn/utils/validation.py:2739: UserWarning: X does not have valid feature names, but LGBMRegressor was fitted with feature names\n",
      "  warnings.warn(\n",
      "/opt/conda/lib/python3.9/site-packages/sklearn/preprocessing/_encoders.py:246: UserWarning: Found unknown categories in columns [4] during transform. These unknown categories will be encoded as all zeros\n",
      "  warnings.warn(\n",
      "/opt/conda/lib/python3.9/site-packages/sklearn/utils/validation.py:2739: UserWarning: X does not have valid feature names, but LGBMRegressor was fitted with feature names\n",
      "  warnings.warn(\n",
      "/opt/conda/lib/python3.9/site-packages/sklearn/preprocessing/_encoders.py:246: UserWarning: Found unknown categories in columns [4] during transform. These unknown categories will be encoded as all zeros\n",
      "  warnings.warn(\n",
      "/opt/conda/lib/python3.9/site-packages/sklearn/utils/validation.py:2739: UserWarning: X does not have valid feature names, but LGBMRegressor was fitted with feature names\n",
      "  warnings.warn(\n",
      "/opt/conda/lib/python3.9/site-packages/sklearn/utils/validation.py:2739: UserWarning: X does not have valid feature names, but LGBMRegressor was fitted with feature names\n",
      "  warnings.warn(\n",
      "/opt/conda/lib/python3.9/site-packages/sklearn/utils/validation.py:2739: UserWarning: X does not have valid feature names, but LGBMRegressor was fitted with feature names\n",
      "  warnings.warn(\n",
      "/opt/conda/lib/python3.9/site-packages/sklearn/preprocessing/_encoders.py:246: UserWarning: Found unknown categories in columns [4] during transform. These unknown categories will be encoded as all zeros\n",
      "  warnings.warn(\n",
      "/opt/conda/lib/python3.9/site-packages/sklearn/utils/validation.py:2739: UserWarning: X does not have valid feature names, but LGBMRegressor was fitted with feature names\n",
      "  warnings.warn(\n",
      "/opt/conda/lib/python3.9/site-packages/sklearn/preprocessing/_encoders.py:246: UserWarning: Found unknown categories in columns [4] during transform. These unknown categories will be encoded as all zeros\n",
      "  warnings.warn(\n",
      "/opt/conda/lib/python3.9/site-packages/sklearn/utils/validation.py:2739: UserWarning: X does not have valid feature names, but LGBMRegressor was fitted with feature names\n",
      "  warnings.warn(\n",
      "/opt/conda/lib/python3.9/site-packages/sklearn/preprocessing/_encoders.py:246: UserWarning: Found unknown categories in columns [4] during transform. These unknown categories will be encoded as all zeros\n",
      "  warnings.warn(\n",
      "/opt/conda/lib/python3.9/site-packages/sklearn/utils/validation.py:2739: UserWarning: X does not have valid feature names, but LGBMRegressor was fitted with feature names\n",
      "  warnings.warn(\n",
      "/opt/conda/lib/python3.9/site-packages/sklearn/utils/validation.py:2739: UserWarning: X does not have valid feature names, but LGBMRegressor was fitted with feature names\n",
      "  warnings.warn(\n",
      "/opt/conda/lib/python3.9/site-packages/sklearn/utils/validation.py:2739: UserWarning: X does not have valid feature names, but LGBMRegressor was fitted with feature names\n",
      "  warnings.warn(\n",
      "/opt/conda/lib/python3.9/site-packages/sklearn/preprocessing/_encoders.py:246: UserWarning: Found unknown categories in columns [4] during transform. These unknown categories will be encoded as all zeros\n",
      "  warnings.warn(\n",
      "/opt/conda/lib/python3.9/site-packages/sklearn/utils/validation.py:2739: UserWarning: X does not have valid feature names, but LGBMRegressor was fitted with feature names\n",
      "  warnings.warn(\n",
      "/opt/conda/lib/python3.9/site-packages/sklearn/preprocessing/_encoders.py:246: UserWarning: Found unknown categories in columns [4] during transform. These unknown categories will be encoded as all zeros\n",
      "  warnings.warn(\n",
      "/opt/conda/lib/python3.9/site-packages/sklearn/utils/validation.py:2739: UserWarning: X does not have valid feature names, but LGBMRegressor was fitted with feature names\n",
      "  warnings.warn(\n",
      "/opt/conda/lib/python3.9/site-packages/sklearn/preprocessing/_encoders.py:246: UserWarning: Found unknown categories in columns [4] during transform. These unknown categories will be encoded as all zeros\n",
      "  warnings.warn(\n",
      "/opt/conda/lib/python3.9/site-packages/sklearn/utils/validation.py:2739: UserWarning: X does not have valid feature names, but LGBMRegressor was fitted with feature names\n",
      "  warnings.warn(\n",
      "/opt/conda/lib/python3.9/site-packages/sklearn/utils/validation.py:2739: UserWarning: X does not have valid feature names, but LGBMRegressor was fitted with feature names\n",
      "  warnings.warn(\n",
      "/opt/conda/lib/python3.9/site-packages/sklearn/utils/validation.py:2739: UserWarning: X does not have valid feature names, but LGBMRegressor was fitted with feature names\n",
      "  warnings.warn(\n",
      "/opt/conda/lib/python3.9/site-packages/sklearn/preprocessing/_encoders.py:246: UserWarning: Found unknown categories in columns [4] during transform. These unknown categories will be encoded as all zeros\n",
      "  warnings.warn(\n",
      "/opt/conda/lib/python3.9/site-packages/sklearn/utils/validation.py:2739: UserWarning: X does not have valid feature names, but LGBMRegressor was fitted with feature names\n",
      "  warnings.warn(\n",
      "/opt/conda/lib/python3.9/site-packages/sklearn/preprocessing/_encoders.py:246: UserWarning: Found unknown categories in columns [4] during transform. These unknown categories will be encoded as all zeros\n",
      "  warnings.warn(\n",
      "/opt/conda/lib/python3.9/site-packages/sklearn/utils/validation.py:2739: UserWarning: X does not have valid feature names, but LGBMRegressor was fitted with feature names\n",
      "  warnings.warn(\n",
      "/opt/conda/lib/python3.9/site-packages/sklearn/preprocessing/_encoders.py:246: UserWarning: Found unknown categories in columns [4] during transform. These unknown categories will be encoded as all zeros\n",
      "  warnings.warn(\n",
      "/opt/conda/lib/python3.9/site-packages/sklearn/utils/validation.py:2739: UserWarning: X does not have valid feature names, but LGBMRegressor was fitted with feature names\n",
      "  warnings.warn(\n",
      "/opt/conda/lib/python3.9/site-packages/sklearn/utils/validation.py:2739: UserWarning: X does not have valid feature names, but LGBMRegressor was fitted with feature names\n",
      "  warnings.warn(\n",
      "/opt/conda/lib/python3.9/site-packages/sklearn/utils/validation.py:2739: UserWarning: X does not have valid feature names, but LGBMRegressor was fitted with feature names\n",
      "  warnings.warn(\n",
      "/opt/conda/lib/python3.9/site-packages/sklearn/preprocessing/_encoders.py:246: UserWarning: Found unknown categories in columns [4] during transform. These unknown categories will be encoded as all zeros\n",
      "  warnings.warn(\n",
      "/opt/conda/lib/python3.9/site-packages/sklearn/utils/validation.py:2739: UserWarning: X does not have valid feature names, but LGBMRegressor was fitted with feature names\n",
      "  warnings.warn(\n",
      "/opt/conda/lib/python3.9/site-packages/sklearn/preprocessing/_encoders.py:246: UserWarning: Found unknown categories in columns [4] during transform. These unknown categories will be encoded as all zeros\n",
      "  warnings.warn(\n",
      "/opt/conda/lib/python3.9/site-packages/sklearn/utils/validation.py:2739: UserWarning: X does not have valid feature names, but LGBMRegressor was fitted with feature names\n",
      "  warnings.warn(\n",
      "/opt/conda/lib/python3.9/site-packages/sklearn/preprocessing/_encoders.py:246: UserWarning: Found unknown categories in columns [4] during transform. These unknown categories will be encoded as all zeros\n",
      "  warnings.warn(\n",
      "/opt/conda/lib/python3.9/site-packages/sklearn/utils/validation.py:2739: UserWarning: X does not have valid feature names, but LGBMRegressor was fitted with feature names\n",
      "  warnings.warn(\n",
      "/opt/conda/lib/python3.9/site-packages/sklearn/utils/validation.py:2739: UserWarning: X does not have valid feature names, but LGBMRegressor was fitted with feature names\n",
      "  warnings.warn(\n",
      "/opt/conda/lib/python3.9/site-packages/sklearn/utils/validation.py:2739: UserWarning: X does not have valid feature names, but LGBMRegressor was fitted with feature names\n",
      "  warnings.warn(\n",
      "/opt/conda/lib/python3.9/site-packages/sklearn/preprocessing/_encoders.py:246: UserWarning: Found unknown categories in columns [4] during transform. These unknown categories will be encoded as all zeros\n",
      "  warnings.warn(\n",
      "/opt/conda/lib/python3.9/site-packages/sklearn/utils/validation.py:2739: UserWarning: X does not have valid feature names, but LGBMRegressor was fitted with feature names\n",
      "  warnings.warn(\n",
      "/opt/conda/lib/python3.9/site-packages/sklearn/preprocessing/_encoders.py:246: UserWarning: Found unknown categories in columns [4] during transform. These unknown categories will be encoded as all zeros\n",
      "  warnings.warn(\n",
      "/opt/conda/lib/python3.9/site-packages/sklearn/utils/validation.py:2739: UserWarning: X does not have valid feature names, but LGBMRegressor was fitted with feature names\n",
      "  warnings.warn(\n",
      "/opt/conda/lib/python3.9/site-packages/sklearn/preprocessing/_encoders.py:246: UserWarning: Found unknown categories in columns [4] during transform. These unknown categories will be encoded as all zeros\n",
      "  warnings.warn(\n",
      "/opt/conda/lib/python3.9/site-packages/sklearn/utils/validation.py:2739: UserWarning: X does not have valid feature names, but LGBMRegressor was fitted with feature names\n",
      "  warnings.warn(\n",
      "/opt/conda/lib/python3.9/site-packages/sklearn/utils/validation.py:2739: UserWarning: X does not have valid feature names, but LGBMRegressor was fitted with feature names\n",
      "  warnings.warn(\n",
      "/opt/conda/lib/python3.9/site-packages/sklearn/utils/validation.py:2739: UserWarning: X does not have valid feature names, but LGBMRegressor was fitted with feature names\n",
      "  warnings.warn(\n",
      "/opt/conda/lib/python3.9/site-packages/sklearn/preprocessing/_encoders.py:246: UserWarning: Found unknown categories in columns [4] during transform. These unknown categories will be encoded as all zeros\n",
      "  warnings.warn(\n",
      "/opt/conda/lib/python3.9/site-packages/sklearn/utils/validation.py:2739: UserWarning: X does not have valid feature names, but LGBMRegressor was fitted with feature names\n",
      "  warnings.warn(\n",
      "/opt/conda/lib/python3.9/site-packages/sklearn/preprocessing/_encoders.py:246: UserWarning: Found unknown categories in columns [4] during transform. These unknown categories will be encoded as all zeros\n",
      "  warnings.warn(\n",
      "/opt/conda/lib/python3.9/site-packages/sklearn/utils/validation.py:2739: UserWarning: X does not have valid feature names, but LGBMRegressor was fitted with feature names\n",
      "  warnings.warn(\n",
      "/opt/conda/lib/python3.9/site-packages/sklearn/preprocessing/_encoders.py:246: UserWarning: Found unknown categories in columns [4] during transform. These unknown categories will be encoded as all zeros\n",
      "  warnings.warn(\n",
      "/opt/conda/lib/python3.9/site-packages/sklearn/utils/validation.py:2739: UserWarning: X does not have valid feature names, but LGBMRegressor was fitted with feature names\n",
      "  warnings.warn(\n",
      "/opt/conda/lib/python3.9/site-packages/sklearn/utils/validation.py:2739: UserWarning: X does not have valid feature names, but LGBMRegressor was fitted with feature names\n",
      "  warnings.warn(\n",
      "/opt/conda/lib/python3.9/site-packages/sklearn/utils/validation.py:2739: UserWarning: X does not have valid feature names, but LGBMRegressor was fitted with feature names\n",
      "  warnings.warn(\n",
      "/opt/conda/lib/python3.9/site-packages/sklearn/preprocessing/_encoders.py:246: UserWarning: Found unknown categories in columns [4] during transform. These unknown categories will be encoded as all zeros\n",
      "  warnings.warn(\n",
      "/opt/conda/lib/python3.9/site-packages/sklearn/utils/validation.py:2739: UserWarning: X does not have valid feature names, but LGBMRegressor was fitted with feature names\n",
      "  warnings.warn(\n",
      "/opt/conda/lib/python3.9/site-packages/sklearn/preprocessing/_encoders.py:246: UserWarning: Found unknown categories in columns [4] during transform. These unknown categories will be encoded as all zeros\n",
      "  warnings.warn(\n",
      "/opt/conda/lib/python3.9/site-packages/sklearn/utils/validation.py:2739: UserWarning: X does not have valid feature names, but LGBMRegressor was fitted with feature names\n",
      "  warnings.warn(\n",
      "/opt/conda/lib/python3.9/site-packages/sklearn/preprocessing/_encoders.py:246: UserWarning: Found unknown categories in columns [4] during transform. These unknown categories will be encoded as all zeros\n",
      "  warnings.warn(\n",
      "/opt/conda/lib/python3.9/site-packages/sklearn/utils/validation.py:2739: UserWarning: X does not have valid feature names, but LGBMRegressor was fitted with feature names\n",
      "  warnings.warn(\n",
      "/opt/conda/lib/python3.9/site-packages/sklearn/utils/validation.py:2739: UserWarning: X does not have valid feature names, but LGBMRegressor was fitted with feature names\n",
      "  warnings.warn(\n",
      "/opt/conda/lib/python3.9/site-packages/sklearn/utils/validation.py:2739: UserWarning: X does not have valid feature names, but LGBMRegressor was fitted with feature names\n",
      "  warnings.warn(\n",
      "/opt/conda/lib/python3.9/site-packages/sklearn/preprocessing/_encoders.py:246: UserWarning: Found unknown categories in columns [4] during transform. These unknown categories will be encoded as all zeros\n",
      "  warnings.warn(\n",
      "/opt/conda/lib/python3.9/site-packages/sklearn/utils/validation.py:2739: UserWarning: X does not have valid feature names, but LGBMRegressor was fitted with feature names\n",
      "  warnings.warn(\n",
      "/opt/conda/lib/python3.9/site-packages/sklearn/preprocessing/_encoders.py:246: UserWarning: Found unknown categories in columns [4] during transform. These unknown categories will be encoded as all zeros\n",
      "  warnings.warn(\n",
      "/opt/conda/lib/python3.9/site-packages/sklearn/utils/validation.py:2739: UserWarning: X does not have valid feature names, but LGBMRegressor was fitted with feature names\n",
      "  warnings.warn(\n",
      "/opt/conda/lib/python3.9/site-packages/sklearn/preprocessing/_encoders.py:246: UserWarning: Found unknown categories in columns [4] during transform. These unknown categories will be encoded as all zeros\n",
      "  warnings.warn(\n",
      "/opt/conda/lib/python3.9/site-packages/sklearn/utils/validation.py:2739: UserWarning: X does not have valid feature names, but LGBMRegressor was fitted with feature names\n",
      "  warnings.warn(\n",
      "/opt/conda/lib/python3.9/site-packages/sklearn/utils/validation.py:2739: UserWarning: X does not have valid feature names, but LGBMRegressor was fitted with feature names\n",
      "  warnings.warn(\n",
      "/opt/conda/lib/python3.9/site-packages/sklearn/utils/validation.py:2739: UserWarning: X does not have valid feature names, but LGBMRegressor was fitted with feature names\n",
      "  warnings.warn(\n",
      "/opt/conda/lib/python3.9/site-packages/sklearn/preprocessing/_encoders.py:246: UserWarning: Found unknown categories in columns [4] during transform. These unknown categories will be encoded as all zeros\n",
      "  warnings.warn(\n",
      "/opt/conda/lib/python3.9/site-packages/sklearn/utils/validation.py:2739: UserWarning: X does not have valid feature names, but LGBMRegressor was fitted with feature names\n",
      "  warnings.warn(\n",
      "/opt/conda/lib/python3.9/site-packages/sklearn/preprocessing/_encoders.py:246: UserWarning: Found unknown categories in columns [4] during transform. These unknown categories will be encoded as all zeros\n",
      "  warnings.warn(\n",
      "/opt/conda/lib/python3.9/site-packages/sklearn/utils/validation.py:2739: UserWarning: X does not have valid feature names, but LGBMRegressor was fitted with feature names\n",
      "  warnings.warn(\n",
      "/opt/conda/lib/python3.9/site-packages/sklearn/preprocessing/_encoders.py:246: UserWarning: Found unknown categories in columns [4] during transform. These unknown categories will be encoded as all zeros\n",
      "  warnings.warn(\n",
      "/opt/conda/lib/python3.9/site-packages/sklearn/utils/validation.py:2739: UserWarning: X does not have valid feature names, but LGBMRegressor was fitted with feature names\n",
      "  warnings.warn(\n",
      "/opt/conda/lib/python3.9/site-packages/sklearn/utils/validation.py:2739: UserWarning: X does not have valid feature names, but LGBMRegressor was fitted with feature names\n",
      "  warnings.warn(\n",
      "/opt/conda/lib/python3.9/site-packages/sklearn/utils/validation.py:2739: UserWarning: X does not have valid feature names, but LGBMRegressor was fitted with feature names\n",
      "  warnings.warn(\n",
      "/opt/conda/lib/python3.9/site-packages/sklearn/preprocessing/_encoders.py:246: UserWarning: Found unknown categories in columns [4] during transform. These unknown categories will be encoded as all zeros\n",
      "  warnings.warn(\n",
      "/opt/conda/lib/python3.9/site-packages/sklearn/utils/validation.py:2739: UserWarning: X does not have valid feature names, but LGBMRegressor was fitted with feature names\n",
      "  warnings.warn(\n",
      "/opt/conda/lib/python3.9/site-packages/sklearn/preprocessing/_encoders.py:246: UserWarning: Found unknown categories in columns [4] during transform. These unknown categories will be encoded as all zeros\n",
      "  warnings.warn(\n",
      "/opt/conda/lib/python3.9/site-packages/sklearn/utils/validation.py:2739: UserWarning: X does not have valid feature names, but LGBMRegressor was fitted with feature names\n",
      "  warnings.warn(\n",
      "/opt/conda/lib/python3.9/site-packages/sklearn/preprocessing/_encoders.py:246: UserWarning: Found unknown categories in columns [4] during transform. These unknown categories will be encoded as all zeros\n",
      "  warnings.warn(\n",
      "/opt/conda/lib/python3.9/site-packages/sklearn/utils/validation.py:2739: UserWarning: X does not have valid feature names, but LGBMRegressor was fitted with feature names\n",
      "  warnings.warn(\n",
      "/opt/conda/lib/python3.9/site-packages/sklearn/utils/validation.py:2739: UserWarning: X does not have valid feature names, but LGBMRegressor was fitted with feature names\n",
      "  warnings.warn(\n",
      "/opt/conda/lib/python3.9/site-packages/sklearn/utils/validation.py:2739: UserWarning: X does not have valid feature names, but LGBMRegressor was fitted with feature names\n",
      "  warnings.warn(\n",
      "/opt/conda/lib/python3.9/site-packages/sklearn/preprocessing/_encoders.py:246: UserWarning: Found unknown categories in columns [4] during transform. These unknown categories will be encoded as all zeros\n",
      "  warnings.warn(\n",
      "/opt/conda/lib/python3.9/site-packages/sklearn/utils/validation.py:2739: UserWarning: X does not have valid feature names, but LGBMRegressor was fitted with feature names\n",
      "  warnings.warn(\n",
      "/opt/conda/lib/python3.9/site-packages/sklearn/preprocessing/_encoders.py:246: UserWarning: Found unknown categories in columns [4] during transform. These unknown categories will be encoded as all zeros\n",
      "  warnings.warn(\n",
      "/opt/conda/lib/python3.9/site-packages/sklearn/utils/validation.py:2739: UserWarning: X does not have valid feature names, but LGBMRegressor was fitted with feature names\n",
      "  warnings.warn(\n",
      "/opt/conda/lib/python3.9/site-packages/sklearn/preprocessing/_encoders.py:246: UserWarning: Found unknown categories in columns [4] during transform. These unknown categories will be encoded as all zeros\n",
      "  warnings.warn(\n",
      "/opt/conda/lib/python3.9/site-packages/sklearn/utils/validation.py:2739: UserWarning: X does not have valid feature names, but LGBMRegressor was fitted with feature names\n",
      "  warnings.warn(\n",
      "/opt/conda/lib/python3.9/site-packages/sklearn/utils/validation.py:2739: UserWarning: X does not have valid feature names, but LGBMRegressor was fitted with feature names\n",
      "  warnings.warn(\n",
      "/opt/conda/lib/python3.9/site-packages/sklearn/utils/validation.py:2739: UserWarning: X does not have valid feature names, but LGBMRegressor was fitted with feature names\n",
      "  warnings.warn(\n",
      "/opt/conda/lib/python3.9/site-packages/sklearn/preprocessing/_encoders.py:246: UserWarning: Found unknown categories in columns [4] during transform. These unknown categories will be encoded as all zeros\n",
      "  warnings.warn(\n",
      "/opt/conda/lib/python3.9/site-packages/sklearn/utils/validation.py:2739: UserWarning: X does not have valid feature names, but LGBMRegressor was fitted with feature names\n",
      "  warnings.warn(\n",
      "/opt/conda/lib/python3.9/site-packages/sklearn/preprocessing/_encoders.py:246: UserWarning: Found unknown categories in columns [4] during transform. These unknown categories will be encoded as all zeros\n",
      "  warnings.warn(\n",
      "/opt/conda/lib/python3.9/site-packages/sklearn/utils/validation.py:2739: UserWarning: X does not have valid feature names, but LGBMRegressor was fitted with feature names\n",
      "  warnings.warn(\n",
      "/opt/conda/lib/python3.9/site-packages/sklearn/preprocessing/_encoders.py:246: UserWarning: Found unknown categories in columns [4] during transform. These unknown categories will be encoded as all zeros\n",
      "  warnings.warn(\n",
      "/opt/conda/lib/python3.9/site-packages/sklearn/utils/validation.py:2739: UserWarning: X does not have valid feature names, but LGBMRegressor was fitted with feature names\n",
      "  warnings.warn(\n",
      "/opt/conda/lib/python3.9/site-packages/sklearn/utils/validation.py:2739: UserWarning: X does not have valid feature names, but LGBMRegressor was fitted with feature names\n",
      "  warnings.warn(\n",
      "/opt/conda/lib/python3.9/site-packages/sklearn/utils/validation.py:2739: UserWarning: X does not have valid feature names, but LGBMRegressor was fitted with feature names\n",
      "  warnings.warn(\n",
      "/opt/conda/lib/python3.9/site-packages/sklearn/preprocessing/_encoders.py:246: UserWarning: Found unknown categories in columns [4] during transform. These unknown categories will be encoded as all zeros\n",
      "  warnings.warn(\n",
      "/opt/conda/lib/python3.9/site-packages/sklearn/utils/validation.py:2739: UserWarning: X does not have valid feature names, but LGBMRegressor was fitted with feature names\n",
      "  warnings.warn(\n",
      "/opt/conda/lib/python3.9/site-packages/sklearn/preprocessing/_encoders.py:246: UserWarning: Found unknown categories in columns [4] during transform. These unknown categories will be encoded as all zeros\n",
      "  warnings.warn(\n",
      "/opt/conda/lib/python3.9/site-packages/sklearn/utils/validation.py:2739: UserWarning: X does not have valid feature names, but LGBMRegressor was fitted with feature names\n",
      "  warnings.warn(\n",
      "/opt/conda/lib/python3.9/site-packages/sklearn/preprocessing/_encoders.py:246: UserWarning: Found unknown categories in columns [4] during transform. These unknown categories will be encoded as all zeros\n",
      "  warnings.warn(\n",
      "/opt/conda/lib/python3.9/site-packages/sklearn/utils/validation.py:2739: UserWarning: X does not have valid feature names, but LGBMRegressor was fitted with feature names\n",
      "  warnings.warn(\n",
      "/opt/conda/lib/python3.9/site-packages/sklearn/utils/validation.py:2739: UserWarning: X does not have valid feature names, but LGBMRegressor was fitted with feature names\n",
      "  warnings.warn(\n",
      "/opt/conda/lib/python3.9/site-packages/sklearn/utils/validation.py:2739: UserWarning: X does not have valid feature names, but LGBMRegressor was fitted with feature names\n",
      "  warnings.warn(\n",
      "/opt/conda/lib/python3.9/site-packages/sklearn/preprocessing/_encoders.py:246: UserWarning: Found unknown categories in columns [4] during transform. These unknown categories will be encoded as all zeros\n",
      "  warnings.warn(\n",
      "/opt/conda/lib/python3.9/site-packages/sklearn/utils/validation.py:2739: UserWarning: X does not have valid feature names, but LGBMRegressor was fitted with feature names\n",
      "  warnings.warn(\n",
      "/opt/conda/lib/python3.9/site-packages/sklearn/preprocessing/_encoders.py:246: UserWarning: Found unknown categories in columns [4] during transform. These unknown categories will be encoded as all zeros\n",
      "  warnings.warn(\n",
      "/opt/conda/lib/python3.9/site-packages/sklearn/utils/validation.py:2739: UserWarning: X does not have valid feature names, but LGBMRegressor was fitted with feature names\n",
      "  warnings.warn(\n",
      "/opt/conda/lib/python3.9/site-packages/sklearn/preprocessing/_encoders.py:246: UserWarning: Found unknown categories in columns [4] during transform. These unknown categories will be encoded as all zeros\n",
      "  warnings.warn(\n",
      "/opt/conda/lib/python3.9/site-packages/sklearn/utils/validation.py:2739: UserWarning: X does not have valid feature names, but LGBMRegressor was fitted with feature names\n",
      "  warnings.warn(\n",
      "/opt/conda/lib/python3.9/site-packages/sklearn/utils/validation.py:2739: UserWarning: X does not have valid feature names, but LGBMRegressor was fitted with feature names\n",
      "  warnings.warn(\n",
      "/opt/conda/lib/python3.9/site-packages/sklearn/utils/validation.py:2739: UserWarning: X does not have valid feature names, but LGBMRegressor was fitted with feature names\n",
      "  warnings.warn(\n",
      "/opt/conda/lib/python3.9/site-packages/sklearn/preprocessing/_encoders.py:246: UserWarning: Found unknown categories in columns [4] during transform. These unknown categories will be encoded as all zeros\n",
      "  warnings.warn(\n",
      "/opt/conda/lib/python3.9/site-packages/sklearn/utils/validation.py:2739: UserWarning: X does not have valid feature names, but LGBMRegressor was fitted with feature names\n",
      "  warnings.warn(\n",
      "/opt/conda/lib/python3.9/site-packages/sklearn/preprocessing/_encoders.py:246: UserWarning: Found unknown categories in columns [4] during transform. These unknown categories will be encoded as all zeros\n",
      "  warnings.warn(\n",
      "/opt/conda/lib/python3.9/site-packages/sklearn/utils/validation.py:2739: UserWarning: X does not have valid feature names, but LGBMRegressor was fitted with feature names\n",
      "  warnings.warn(\n",
      "/opt/conda/lib/python3.9/site-packages/sklearn/preprocessing/_encoders.py:246: UserWarning: Found unknown categories in columns [4] during transform. These unknown categories will be encoded as all zeros\n",
      "  warnings.warn(\n",
      "/opt/conda/lib/python3.9/site-packages/sklearn/utils/validation.py:2739: UserWarning: X does not have valid feature names, but LGBMRegressor was fitted with feature names\n",
      "  warnings.warn(\n",
      "/opt/conda/lib/python3.9/site-packages/sklearn/utils/validation.py:2739: UserWarning: X does not have valid feature names, but LGBMRegressor was fitted with feature names\n",
      "  warnings.warn(\n",
      "/opt/conda/lib/python3.9/site-packages/sklearn/utils/validation.py:2739: UserWarning: X does not have valid feature names, but LGBMRegressor was fitted with feature names\n",
      "  warnings.warn(\n",
      "/opt/conda/lib/python3.9/site-packages/sklearn/preprocessing/_encoders.py:246: UserWarning: Found unknown categories in columns [4] during transform. These unknown categories will be encoded as all zeros\n",
      "  warnings.warn(\n",
      "/opt/conda/lib/python3.9/site-packages/sklearn/utils/validation.py:2739: UserWarning: X does not have valid feature names, but LGBMRegressor was fitted with feature names\n",
      "  warnings.warn(\n",
      "/opt/conda/lib/python3.9/site-packages/sklearn/preprocessing/_encoders.py:246: UserWarning: Found unknown categories in columns [4] during transform. These unknown categories will be encoded as all zeros\n",
      "  warnings.warn(\n",
      "/opt/conda/lib/python3.9/site-packages/sklearn/utils/validation.py:2739: UserWarning: X does not have valid feature names, but LGBMRegressor was fitted with feature names\n",
      "  warnings.warn(\n",
      "/opt/conda/lib/python3.9/site-packages/sklearn/preprocessing/_encoders.py:246: UserWarning: Found unknown categories in columns [4] during transform. These unknown categories will be encoded as all zeros\n",
      "  warnings.warn(\n",
      "/opt/conda/lib/python3.9/site-packages/sklearn/utils/validation.py:2739: UserWarning: X does not have valid feature names, but LGBMRegressor was fitted with feature names\n",
      "  warnings.warn(\n",
      "/opt/conda/lib/python3.9/site-packages/sklearn/utils/validation.py:2739: UserWarning: X does not have valid feature names, but LGBMRegressor was fitted with feature names\n",
      "  warnings.warn(\n",
      "/opt/conda/lib/python3.9/site-packages/sklearn/utils/validation.py:2739: UserWarning: X does not have valid feature names, but LGBMRegressor was fitted with feature names\n",
      "  warnings.warn(\n"
     ]
    },
    {
     "name": "stdout",
     "output_type": "stream",
     "text": [
      "Лучшие параметры для LGBMRegressor:  {'regressor__learning_rate': 0.05, 'regressor__min_child_samples': 10, 'regressor__reg_alpha': 0.1, 'scaler': 'passthrough'}\n",
      "Лучшая метрика на кросс-валидации для LGBMRegressor:  -1936.6421259979797\n"
     ]
    }
   ],
   "source": [
    "# создание пайплайна с препроцессором и моделью LGBMRegressor\n",
    "model_lgb = Pipeline(steps=[\n",
    "    ('data_preprocessor', data_preprocessor_lbg),\n",
    "    ('scaler', StandardScaler()),\n",
    "    ('regressor', LGBMRegressor(verbose=-1, \n",
    "                                boosting_type='gbdt', \n",
    "                                objective='regression', \n",
    "                                random_state=RANDOM_STATE))\n",
    "])\n",
    "\n",
    "# определение параметров для оптимизации LGBMRegressor\n",
    "param_grid_lgb = {\n",
    "    'scaler': [StandardScaler(), RobustScaler(), MinMaxScaler(), 'passthrough'],\n",
    "    'regressor__learning_rate': [0.05, 0.01],\n",
    "    'regressor__min_child_samples': [10, 20],  # Добавлен важный параметр\n",
    "    'regressor__reg_alpha': [0, 0.1]  # Добавлена L1-регуляризация\n",
    "}\n",
    "\n",
    "# создание объекта GridSearchCV для LGBMRegressor\n",
    "grid_search_lgb = GridSearchCV(\n",
    "    model_lgb,\n",
    "    param_grid_lgb,\n",
    "    scoring='neg_root_mean_squared_error',\n",
    "    n_jobs=-1,\n",
    "    cv=5,\n",
    "    error_score='raise'\n",
    ")\n",
    "\n",
    "# запуск оптимизации для LGBMRegressor\n",
    "grid_search_lgb.fit(X_train, y_train)\n",
    "\n",
    "# вывод лучших параметров для LGBMRegressor\n",
    "print(\"Лучшие параметры для LGBMRegressor: \", grid_search_lgb.best_params_)\n",
    "\n",
    "# вывод лучшей метрики на кросс-валидации для LGBMRegressor\n",
    "print(\"Лучшая метрика на кросс-валидации для LGBMRegressor: \", grid_search_lgb.best_score_)"
   ]
  },
  {
   "cell_type": "code",
   "execution_count": 39,
   "metadata": {},
   "outputs": [
    {
     "data": {
      "text/html": [
       "<style>#sk-container-id-3 {\n",
       "  /* Definition of color scheme common for light and dark mode */\n",
       "  --sklearn-color-text: #000;\n",
       "  --sklearn-color-text-muted: #666;\n",
       "  --sklearn-color-line: gray;\n",
       "  /* Definition of color scheme for unfitted estimators */\n",
       "  --sklearn-color-unfitted-level-0: #fff5e6;\n",
       "  --sklearn-color-unfitted-level-1: #f6e4d2;\n",
       "  --sklearn-color-unfitted-level-2: #ffe0b3;\n",
       "  --sklearn-color-unfitted-level-3: chocolate;\n",
       "  /* Definition of color scheme for fitted estimators */\n",
       "  --sklearn-color-fitted-level-0: #f0f8ff;\n",
       "  --sklearn-color-fitted-level-1: #d4ebff;\n",
       "  --sklearn-color-fitted-level-2: #b3dbfd;\n",
       "  --sklearn-color-fitted-level-3: cornflowerblue;\n",
       "\n",
       "  /* Specific color for light theme */\n",
       "  --sklearn-color-text-on-default-background: var(--sg-text-color, var(--theme-code-foreground, var(--jp-content-font-color1, black)));\n",
       "  --sklearn-color-background: var(--sg-background-color, var(--theme-background, var(--jp-layout-color0, white)));\n",
       "  --sklearn-color-border-box: var(--sg-text-color, var(--theme-code-foreground, var(--jp-content-font-color1, black)));\n",
       "  --sklearn-color-icon: #696969;\n",
       "\n",
       "  @media (prefers-color-scheme: dark) {\n",
       "    /* Redefinition of color scheme for dark theme */\n",
       "    --sklearn-color-text-on-default-background: var(--sg-text-color, var(--theme-code-foreground, var(--jp-content-font-color1, white)));\n",
       "    --sklearn-color-background: var(--sg-background-color, var(--theme-background, var(--jp-layout-color0, #111)));\n",
       "    --sklearn-color-border-box: var(--sg-text-color, var(--theme-code-foreground, var(--jp-content-font-color1, white)));\n",
       "    --sklearn-color-icon: #878787;\n",
       "  }\n",
       "}\n",
       "\n",
       "#sk-container-id-3 {\n",
       "  color: var(--sklearn-color-text);\n",
       "}\n",
       "\n",
       "#sk-container-id-3 pre {\n",
       "  padding: 0;\n",
       "}\n",
       "\n",
       "#sk-container-id-3 input.sk-hidden--visually {\n",
       "  border: 0;\n",
       "  clip: rect(1px 1px 1px 1px);\n",
       "  clip: rect(1px, 1px, 1px, 1px);\n",
       "  height: 1px;\n",
       "  margin: -1px;\n",
       "  overflow: hidden;\n",
       "  padding: 0;\n",
       "  position: absolute;\n",
       "  width: 1px;\n",
       "}\n",
       "\n",
       "#sk-container-id-3 div.sk-dashed-wrapped {\n",
       "  border: 1px dashed var(--sklearn-color-line);\n",
       "  margin: 0 0.4em 0.5em 0.4em;\n",
       "  box-sizing: border-box;\n",
       "  padding-bottom: 0.4em;\n",
       "  background-color: var(--sklearn-color-background);\n",
       "}\n",
       "\n",
       "#sk-container-id-3 div.sk-container {\n",
       "  /* jupyter's `normalize.less` sets `[hidden] { display: none; }`\n",
       "     but bootstrap.min.css set `[hidden] { display: none !important; }`\n",
       "     so we also need the `!important` here to be able to override the\n",
       "     default hidden behavior on the sphinx rendered scikit-learn.org.\n",
       "     See: https://github.com/scikit-learn/scikit-learn/issues/21755 */\n",
       "  display: inline-block !important;\n",
       "  position: relative;\n",
       "}\n",
       "\n",
       "#sk-container-id-3 div.sk-text-repr-fallback {\n",
       "  display: none;\n",
       "}\n",
       "\n",
       "div.sk-parallel-item,\n",
       "div.sk-serial,\n",
       "div.sk-item {\n",
       "  /* draw centered vertical line to link estimators */\n",
       "  background-image: linear-gradient(var(--sklearn-color-text-on-default-background), var(--sklearn-color-text-on-default-background));\n",
       "  background-size: 2px 100%;\n",
       "  background-repeat: no-repeat;\n",
       "  background-position: center center;\n",
       "}\n",
       "\n",
       "/* Parallel-specific style estimator block */\n",
       "\n",
       "#sk-container-id-3 div.sk-parallel-item::after {\n",
       "  content: \"\";\n",
       "  width: 100%;\n",
       "  border-bottom: 2px solid var(--sklearn-color-text-on-default-background);\n",
       "  flex-grow: 1;\n",
       "}\n",
       "\n",
       "#sk-container-id-3 div.sk-parallel {\n",
       "  display: flex;\n",
       "  align-items: stretch;\n",
       "  justify-content: center;\n",
       "  background-color: var(--sklearn-color-background);\n",
       "  position: relative;\n",
       "}\n",
       "\n",
       "#sk-container-id-3 div.sk-parallel-item {\n",
       "  display: flex;\n",
       "  flex-direction: column;\n",
       "}\n",
       "\n",
       "#sk-container-id-3 div.sk-parallel-item:first-child::after {\n",
       "  align-self: flex-end;\n",
       "  width: 50%;\n",
       "}\n",
       "\n",
       "#sk-container-id-3 div.sk-parallel-item:last-child::after {\n",
       "  align-self: flex-start;\n",
       "  width: 50%;\n",
       "}\n",
       "\n",
       "#sk-container-id-3 div.sk-parallel-item:only-child::after {\n",
       "  width: 0;\n",
       "}\n",
       "\n",
       "/* Serial-specific style estimator block */\n",
       "\n",
       "#sk-container-id-3 div.sk-serial {\n",
       "  display: flex;\n",
       "  flex-direction: column;\n",
       "  align-items: center;\n",
       "  background-color: var(--sklearn-color-background);\n",
       "  padding-right: 1em;\n",
       "  padding-left: 1em;\n",
       "}\n",
       "\n",
       "\n",
       "/* Toggleable style: style used for estimator/Pipeline/ColumnTransformer box that is\n",
       "clickable and can be expanded/collapsed.\n",
       "- Pipeline and ColumnTransformer use this feature and define the default style\n",
       "- Estimators will overwrite some part of the style using the `sk-estimator` class\n",
       "*/\n",
       "\n",
       "/* Pipeline and ColumnTransformer style (default) */\n",
       "\n",
       "#sk-container-id-3 div.sk-toggleable {\n",
       "  /* Default theme specific background. It is overwritten whether we have a\n",
       "  specific estimator or a Pipeline/ColumnTransformer */\n",
       "  background-color: var(--sklearn-color-background);\n",
       "}\n",
       "\n",
       "/* Toggleable label */\n",
       "#sk-container-id-3 label.sk-toggleable__label {\n",
       "  cursor: pointer;\n",
       "  display: flex;\n",
       "  width: 100%;\n",
       "  margin-bottom: 0;\n",
       "  padding: 0.5em;\n",
       "  box-sizing: border-box;\n",
       "  text-align: center;\n",
       "  align-items: start;\n",
       "  justify-content: space-between;\n",
       "  gap: 0.5em;\n",
       "}\n",
       "\n",
       "#sk-container-id-3 label.sk-toggleable__label .caption {\n",
       "  font-size: 0.6rem;\n",
       "  font-weight: lighter;\n",
       "  color: var(--sklearn-color-text-muted);\n",
       "}\n",
       "\n",
       "#sk-container-id-3 label.sk-toggleable__label-arrow:before {\n",
       "  /* Arrow on the left of the label */\n",
       "  content: \"▸\";\n",
       "  float: left;\n",
       "  margin-right: 0.25em;\n",
       "  color: var(--sklearn-color-icon);\n",
       "}\n",
       "\n",
       "#sk-container-id-3 label.sk-toggleable__label-arrow:hover:before {\n",
       "  color: var(--sklearn-color-text);\n",
       "}\n",
       "\n",
       "/* Toggleable content - dropdown */\n",
       "\n",
       "#sk-container-id-3 div.sk-toggleable__content {\n",
       "  max-height: 0;\n",
       "  max-width: 0;\n",
       "  overflow: hidden;\n",
       "  text-align: left;\n",
       "  /* unfitted */\n",
       "  background-color: var(--sklearn-color-unfitted-level-0);\n",
       "}\n",
       "\n",
       "#sk-container-id-3 div.sk-toggleable__content.fitted {\n",
       "  /* fitted */\n",
       "  background-color: var(--sklearn-color-fitted-level-0);\n",
       "}\n",
       "\n",
       "#sk-container-id-3 div.sk-toggleable__content pre {\n",
       "  margin: 0.2em;\n",
       "  border-radius: 0.25em;\n",
       "  color: var(--sklearn-color-text);\n",
       "  /* unfitted */\n",
       "  background-color: var(--sklearn-color-unfitted-level-0);\n",
       "}\n",
       "\n",
       "#sk-container-id-3 div.sk-toggleable__content.fitted pre {\n",
       "  /* unfitted */\n",
       "  background-color: var(--sklearn-color-fitted-level-0);\n",
       "}\n",
       "\n",
       "#sk-container-id-3 input.sk-toggleable__control:checked~div.sk-toggleable__content {\n",
       "  /* Expand drop-down */\n",
       "  max-height: 200px;\n",
       "  max-width: 100%;\n",
       "  overflow: auto;\n",
       "}\n",
       "\n",
       "#sk-container-id-3 input.sk-toggleable__control:checked~label.sk-toggleable__label-arrow:before {\n",
       "  content: \"▾\";\n",
       "}\n",
       "\n",
       "/* Pipeline/ColumnTransformer-specific style */\n",
       "\n",
       "#sk-container-id-3 div.sk-label input.sk-toggleable__control:checked~label.sk-toggleable__label {\n",
       "  color: var(--sklearn-color-text);\n",
       "  background-color: var(--sklearn-color-unfitted-level-2);\n",
       "}\n",
       "\n",
       "#sk-container-id-3 div.sk-label.fitted input.sk-toggleable__control:checked~label.sk-toggleable__label {\n",
       "  background-color: var(--sklearn-color-fitted-level-2);\n",
       "}\n",
       "\n",
       "/* Estimator-specific style */\n",
       "\n",
       "/* Colorize estimator box */\n",
       "#sk-container-id-3 div.sk-estimator input.sk-toggleable__control:checked~label.sk-toggleable__label {\n",
       "  /* unfitted */\n",
       "  background-color: var(--sklearn-color-unfitted-level-2);\n",
       "}\n",
       "\n",
       "#sk-container-id-3 div.sk-estimator.fitted input.sk-toggleable__control:checked~label.sk-toggleable__label {\n",
       "  /* fitted */\n",
       "  background-color: var(--sklearn-color-fitted-level-2);\n",
       "}\n",
       "\n",
       "#sk-container-id-3 div.sk-label label.sk-toggleable__label,\n",
       "#sk-container-id-3 div.sk-label label {\n",
       "  /* The background is the default theme color */\n",
       "  color: var(--sklearn-color-text-on-default-background);\n",
       "}\n",
       "\n",
       "/* On hover, darken the color of the background */\n",
       "#sk-container-id-3 div.sk-label:hover label.sk-toggleable__label {\n",
       "  color: var(--sklearn-color-text);\n",
       "  background-color: var(--sklearn-color-unfitted-level-2);\n",
       "}\n",
       "\n",
       "/* Label box, darken color on hover, fitted */\n",
       "#sk-container-id-3 div.sk-label.fitted:hover label.sk-toggleable__label.fitted {\n",
       "  color: var(--sklearn-color-text);\n",
       "  background-color: var(--sklearn-color-fitted-level-2);\n",
       "}\n",
       "\n",
       "/* Estimator label */\n",
       "\n",
       "#sk-container-id-3 div.sk-label label {\n",
       "  font-family: monospace;\n",
       "  font-weight: bold;\n",
       "  display: inline-block;\n",
       "  line-height: 1.2em;\n",
       "}\n",
       "\n",
       "#sk-container-id-3 div.sk-label-container {\n",
       "  text-align: center;\n",
       "}\n",
       "\n",
       "/* Estimator-specific */\n",
       "#sk-container-id-3 div.sk-estimator {\n",
       "  font-family: monospace;\n",
       "  border: 1px dotted var(--sklearn-color-border-box);\n",
       "  border-radius: 0.25em;\n",
       "  box-sizing: border-box;\n",
       "  margin-bottom: 0.5em;\n",
       "  /* unfitted */\n",
       "  background-color: var(--sklearn-color-unfitted-level-0);\n",
       "}\n",
       "\n",
       "#sk-container-id-3 div.sk-estimator.fitted {\n",
       "  /* fitted */\n",
       "  background-color: var(--sklearn-color-fitted-level-0);\n",
       "}\n",
       "\n",
       "/* on hover */\n",
       "#sk-container-id-3 div.sk-estimator:hover {\n",
       "  /* unfitted */\n",
       "  background-color: var(--sklearn-color-unfitted-level-2);\n",
       "}\n",
       "\n",
       "#sk-container-id-3 div.sk-estimator.fitted:hover {\n",
       "  /* fitted */\n",
       "  background-color: var(--sklearn-color-fitted-level-2);\n",
       "}\n",
       "\n",
       "/* Specification for estimator info (e.g. \"i\" and \"?\") */\n",
       "\n",
       "/* Common style for \"i\" and \"?\" */\n",
       "\n",
       ".sk-estimator-doc-link,\n",
       "a:link.sk-estimator-doc-link,\n",
       "a:visited.sk-estimator-doc-link {\n",
       "  float: right;\n",
       "  font-size: smaller;\n",
       "  line-height: 1em;\n",
       "  font-family: monospace;\n",
       "  background-color: var(--sklearn-color-background);\n",
       "  border-radius: 1em;\n",
       "  height: 1em;\n",
       "  width: 1em;\n",
       "  text-decoration: none !important;\n",
       "  margin-left: 0.5em;\n",
       "  text-align: center;\n",
       "  /* unfitted */\n",
       "  border: var(--sklearn-color-unfitted-level-1) 1pt solid;\n",
       "  color: var(--sklearn-color-unfitted-level-1);\n",
       "}\n",
       "\n",
       ".sk-estimator-doc-link.fitted,\n",
       "a:link.sk-estimator-doc-link.fitted,\n",
       "a:visited.sk-estimator-doc-link.fitted {\n",
       "  /* fitted */\n",
       "  border: var(--sklearn-color-fitted-level-1) 1pt solid;\n",
       "  color: var(--sklearn-color-fitted-level-1);\n",
       "}\n",
       "\n",
       "/* On hover */\n",
       "div.sk-estimator:hover .sk-estimator-doc-link:hover,\n",
       ".sk-estimator-doc-link:hover,\n",
       "div.sk-label-container:hover .sk-estimator-doc-link:hover,\n",
       ".sk-estimator-doc-link:hover {\n",
       "  /* unfitted */\n",
       "  background-color: var(--sklearn-color-unfitted-level-3);\n",
       "  color: var(--sklearn-color-background);\n",
       "  text-decoration: none;\n",
       "}\n",
       "\n",
       "div.sk-estimator.fitted:hover .sk-estimator-doc-link.fitted:hover,\n",
       ".sk-estimator-doc-link.fitted:hover,\n",
       "div.sk-label-container:hover .sk-estimator-doc-link.fitted:hover,\n",
       ".sk-estimator-doc-link.fitted:hover {\n",
       "  /* fitted */\n",
       "  background-color: var(--sklearn-color-fitted-level-3);\n",
       "  color: var(--sklearn-color-background);\n",
       "  text-decoration: none;\n",
       "}\n",
       "\n",
       "/* Span, style for the box shown on hovering the info icon */\n",
       ".sk-estimator-doc-link span {\n",
       "  display: none;\n",
       "  z-index: 9999;\n",
       "  position: relative;\n",
       "  font-weight: normal;\n",
       "  right: .2ex;\n",
       "  padding: .5ex;\n",
       "  margin: .5ex;\n",
       "  width: min-content;\n",
       "  min-width: 20ex;\n",
       "  max-width: 50ex;\n",
       "  color: var(--sklearn-color-text);\n",
       "  box-shadow: 2pt 2pt 4pt #999;\n",
       "  /* unfitted */\n",
       "  background: var(--sklearn-color-unfitted-level-0);\n",
       "  border: .5pt solid var(--sklearn-color-unfitted-level-3);\n",
       "}\n",
       "\n",
       ".sk-estimator-doc-link.fitted span {\n",
       "  /* fitted */\n",
       "  background: var(--sklearn-color-fitted-level-0);\n",
       "  border: var(--sklearn-color-fitted-level-3);\n",
       "}\n",
       "\n",
       ".sk-estimator-doc-link:hover span {\n",
       "  display: block;\n",
       "}\n",
       "\n",
       "/* \"?\"-specific style due to the `<a>` HTML tag */\n",
       "\n",
       "#sk-container-id-3 a.estimator_doc_link {\n",
       "  float: right;\n",
       "  font-size: 1rem;\n",
       "  line-height: 1em;\n",
       "  font-family: monospace;\n",
       "  background-color: var(--sklearn-color-background);\n",
       "  border-radius: 1rem;\n",
       "  height: 1rem;\n",
       "  width: 1rem;\n",
       "  text-decoration: none;\n",
       "  /* unfitted */\n",
       "  color: var(--sklearn-color-unfitted-level-1);\n",
       "  border: var(--sklearn-color-unfitted-level-1) 1pt solid;\n",
       "}\n",
       "\n",
       "#sk-container-id-3 a.estimator_doc_link.fitted {\n",
       "  /* fitted */\n",
       "  border: var(--sklearn-color-fitted-level-1) 1pt solid;\n",
       "  color: var(--sklearn-color-fitted-level-1);\n",
       "}\n",
       "\n",
       "/* On hover */\n",
       "#sk-container-id-3 a.estimator_doc_link:hover {\n",
       "  /* unfitted */\n",
       "  background-color: var(--sklearn-color-unfitted-level-3);\n",
       "  color: var(--sklearn-color-background);\n",
       "  text-decoration: none;\n",
       "}\n",
       "\n",
       "#sk-container-id-3 a.estimator_doc_link.fitted:hover {\n",
       "  /* fitted */\n",
       "  background-color: var(--sklearn-color-fitted-level-3);\n",
       "}\n",
       "</style><div id=\"sk-container-id-3\" class=\"sk-top-container\"><div class=\"sk-text-repr-fallback\"><pre>Pipeline(steps=[(&#x27;data_preprocessor&#x27;,\n",
       "                 ColumnTransformer(remainder=&#x27;passthrough&#x27;,\n",
       "                                   transformers=[(&#x27;num&#x27;,\n",
       "                                                  Pipeline(steps=[(&#x27;imputer&#x27;,\n",
       "                                                                   SimpleImputer(strategy=&#x27;median&#x27;)),\n",
       "                                                                  (&#x27;poly&#x27;,\n",
       "                                                                   PolynomialFeatures(include_bias=False)),\n",
       "                                                                  (&#x27;scaler&#x27;,\n",
       "                                                                   StandardScaler())]),\n",
       "                                                  [&#x27;power&#x27;, &#x27;kilometer&#x27;,\n",
       "                                                   &#x27;age_month&#x27;]),\n",
       "                                                 (&#x27;cat&#x27;,\n",
       "                                                  Pipeline(steps=[(&#x27;imputer&#x27;,\n",
       "                                                                   SimpleImputer(strategy=&#x27;most_frequent&#x27;)),\n",
       "                                                                  (&#x27;onehot&#x27;,\n",
       "                                                                   OneHotEncoder(drop=&#x27;first&#x27;,\n",
       "                                                                                 handle_unknown=&#x27;infrequent_if_exist&#x27;,\n",
       "                                                                                 min_frequency=0.05,\n",
       "                                                                                 sparse_output=False))]),\n",
       "                                                  [&#x27;vehicle_type&#x27;, &#x27;gearbox&#x27;,\n",
       "                                                   &#x27;fuel_type&#x27;, &#x27;repaired&#x27;,\n",
       "                                                   &#x27;brand_model&#x27;])])),\n",
       "                (&#x27;scaler&#x27;, &#x27;passthrough&#x27;),\n",
       "                (&#x27;regressor&#x27;,\n",
       "                 LGBMRegressor(learning_rate=0.05, min_child_samples=10,\n",
       "                               objective=&#x27;regression&#x27;, random_state=42,\n",
       "                               reg_alpha=0.1, verbose=-1))])</pre><b>In a Jupyter environment, please rerun this cell to show the HTML representation or trust the notebook. <br />On GitHub, the HTML representation is unable to render, please try loading this page with nbviewer.org.</b></div><div class=\"sk-container\" hidden><div class=\"sk-item sk-dashed-wrapped\"><div class=\"sk-label-container\"><div class=\"sk-label fitted sk-toggleable\"><input class=\"sk-toggleable__control sk-hidden--visually\" id=\"sk-estimator-id-24\" type=\"checkbox\" ><label for=\"sk-estimator-id-24\" class=\"sk-toggleable__label fitted sk-toggleable__label-arrow\"><div><div>Pipeline</div></div><div><a class=\"sk-estimator-doc-link fitted\" rel=\"noreferrer\" target=\"_blank\" href=\"https://scikit-learn.org/1.6/modules/generated/sklearn.pipeline.Pipeline.html\">?<span>Documentation for Pipeline</span></a><span class=\"sk-estimator-doc-link fitted\">i<span>Fitted</span></span></div></label><div class=\"sk-toggleable__content fitted\"><pre>Pipeline(steps=[(&#x27;data_preprocessor&#x27;,\n",
       "                 ColumnTransformer(remainder=&#x27;passthrough&#x27;,\n",
       "                                   transformers=[(&#x27;num&#x27;,\n",
       "                                                  Pipeline(steps=[(&#x27;imputer&#x27;,\n",
       "                                                                   SimpleImputer(strategy=&#x27;median&#x27;)),\n",
       "                                                                  (&#x27;poly&#x27;,\n",
       "                                                                   PolynomialFeatures(include_bias=False)),\n",
       "                                                                  (&#x27;scaler&#x27;,\n",
       "                                                                   StandardScaler())]),\n",
       "                                                  [&#x27;power&#x27;, &#x27;kilometer&#x27;,\n",
       "                                                   &#x27;age_month&#x27;]),\n",
       "                                                 (&#x27;cat&#x27;,\n",
       "                                                  Pipeline(steps=[(&#x27;imputer&#x27;,\n",
       "                                                                   SimpleImputer(strategy=&#x27;most_frequent&#x27;)),\n",
       "                                                                  (&#x27;onehot&#x27;,\n",
       "                                                                   OneHotEncoder(drop=&#x27;first&#x27;,\n",
       "                                                                                 handle_unknown=&#x27;infrequent_if_exist&#x27;,\n",
       "                                                                                 min_frequency=0.05,\n",
       "                                                                                 sparse_output=False))]),\n",
       "                                                  [&#x27;vehicle_type&#x27;, &#x27;gearbox&#x27;,\n",
       "                                                   &#x27;fuel_type&#x27;, &#x27;repaired&#x27;,\n",
       "                                                   &#x27;brand_model&#x27;])])),\n",
       "                (&#x27;scaler&#x27;, &#x27;passthrough&#x27;),\n",
       "                (&#x27;regressor&#x27;,\n",
       "                 LGBMRegressor(learning_rate=0.05, min_child_samples=10,\n",
       "                               objective=&#x27;regression&#x27;, random_state=42,\n",
       "                               reg_alpha=0.1, verbose=-1))])</pre></div> </div></div><div class=\"sk-serial\"><div class=\"sk-item sk-dashed-wrapped\"><div class=\"sk-label-container\"><div class=\"sk-label fitted sk-toggleable\"><input class=\"sk-toggleable__control sk-hidden--visually\" id=\"sk-estimator-id-25\" type=\"checkbox\" ><label for=\"sk-estimator-id-25\" class=\"sk-toggleable__label fitted sk-toggleable__label-arrow\"><div><div>data_preprocessor: ColumnTransformer</div></div><div><a class=\"sk-estimator-doc-link fitted\" rel=\"noreferrer\" target=\"_blank\" href=\"https://scikit-learn.org/1.6/modules/generated/sklearn.compose.ColumnTransformer.html\">?<span>Documentation for data_preprocessor: ColumnTransformer</span></a></div></label><div class=\"sk-toggleable__content fitted\"><pre>ColumnTransformer(remainder=&#x27;passthrough&#x27;,\n",
       "                  transformers=[(&#x27;num&#x27;,\n",
       "                                 Pipeline(steps=[(&#x27;imputer&#x27;,\n",
       "                                                  SimpleImputer(strategy=&#x27;median&#x27;)),\n",
       "                                                 (&#x27;poly&#x27;,\n",
       "                                                  PolynomialFeatures(include_bias=False)),\n",
       "                                                 (&#x27;scaler&#x27;, StandardScaler())]),\n",
       "                                 [&#x27;power&#x27;, &#x27;kilometer&#x27;, &#x27;age_month&#x27;]),\n",
       "                                (&#x27;cat&#x27;,\n",
       "                                 Pipeline(steps=[(&#x27;imputer&#x27;,\n",
       "                                                  SimpleImputer(strategy=&#x27;most_frequent&#x27;)),\n",
       "                                                 (&#x27;onehot&#x27;,\n",
       "                                                  OneHotEncoder(drop=&#x27;first&#x27;,\n",
       "                                                                handle_unknown=&#x27;infrequent_if_exist&#x27;,\n",
       "                                                                min_frequency=0.05,\n",
       "                                                                sparse_output=False))]),\n",
       "                                 [&#x27;vehicle_type&#x27;, &#x27;gearbox&#x27;, &#x27;fuel_type&#x27;,\n",
       "                                  &#x27;repaired&#x27;, &#x27;brand_model&#x27;])])</pre></div> </div></div><div class=\"sk-parallel\"><div class=\"sk-parallel-item\"><div class=\"sk-item\"><div class=\"sk-label-container\"><div class=\"sk-label fitted sk-toggleable\"><input class=\"sk-toggleable__control sk-hidden--visually\" id=\"sk-estimator-id-26\" type=\"checkbox\" ><label for=\"sk-estimator-id-26\" class=\"sk-toggleable__label fitted sk-toggleable__label-arrow\"><div><div>num</div></div></label><div class=\"sk-toggleable__content fitted\"><pre>[&#x27;power&#x27;, &#x27;kilometer&#x27;, &#x27;age_month&#x27;]</pre></div> </div></div><div class=\"sk-serial\"><div class=\"sk-item\"><div class=\"sk-serial\"><div class=\"sk-item\"><div class=\"sk-estimator fitted sk-toggleable\"><input class=\"sk-toggleable__control sk-hidden--visually\" id=\"sk-estimator-id-27\" type=\"checkbox\" ><label for=\"sk-estimator-id-27\" class=\"sk-toggleable__label fitted sk-toggleable__label-arrow\"><div><div>SimpleImputer</div></div><div><a class=\"sk-estimator-doc-link fitted\" rel=\"noreferrer\" target=\"_blank\" href=\"https://scikit-learn.org/1.6/modules/generated/sklearn.impute.SimpleImputer.html\">?<span>Documentation for SimpleImputer</span></a></div></label><div class=\"sk-toggleable__content fitted\"><pre>SimpleImputer(strategy=&#x27;median&#x27;)</pre></div> </div></div><div class=\"sk-item\"><div class=\"sk-estimator fitted sk-toggleable\"><input class=\"sk-toggleable__control sk-hidden--visually\" id=\"sk-estimator-id-28\" type=\"checkbox\" ><label for=\"sk-estimator-id-28\" class=\"sk-toggleable__label fitted sk-toggleable__label-arrow\"><div><div>PolynomialFeatures</div></div><div><a class=\"sk-estimator-doc-link fitted\" rel=\"noreferrer\" target=\"_blank\" href=\"https://scikit-learn.org/1.6/modules/generated/sklearn.preprocessing.PolynomialFeatures.html\">?<span>Documentation for PolynomialFeatures</span></a></div></label><div class=\"sk-toggleable__content fitted\"><pre>PolynomialFeatures(include_bias=False)</pre></div> </div></div><div class=\"sk-item\"><div class=\"sk-estimator fitted sk-toggleable\"><input class=\"sk-toggleable__control sk-hidden--visually\" id=\"sk-estimator-id-29\" type=\"checkbox\" ><label for=\"sk-estimator-id-29\" class=\"sk-toggleable__label fitted sk-toggleable__label-arrow\"><div><div>StandardScaler</div></div><div><a class=\"sk-estimator-doc-link fitted\" rel=\"noreferrer\" target=\"_blank\" href=\"https://scikit-learn.org/1.6/modules/generated/sklearn.preprocessing.StandardScaler.html\">?<span>Documentation for StandardScaler</span></a></div></label><div class=\"sk-toggleable__content fitted\"><pre>StandardScaler()</pre></div> </div></div></div></div></div></div></div><div class=\"sk-parallel-item\"><div class=\"sk-item\"><div class=\"sk-label-container\"><div class=\"sk-label fitted sk-toggleable\"><input class=\"sk-toggleable__control sk-hidden--visually\" id=\"sk-estimator-id-30\" type=\"checkbox\" ><label for=\"sk-estimator-id-30\" class=\"sk-toggleable__label fitted sk-toggleable__label-arrow\"><div><div>cat</div></div></label><div class=\"sk-toggleable__content fitted\"><pre>[&#x27;vehicle_type&#x27;, &#x27;gearbox&#x27;, &#x27;fuel_type&#x27;, &#x27;repaired&#x27;, &#x27;brand_model&#x27;]</pre></div> </div></div><div class=\"sk-serial\"><div class=\"sk-item\"><div class=\"sk-serial\"><div class=\"sk-item\"><div class=\"sk-estimator fitted sk-toggleable\"><input class=\"sk-toggleable__control sk-hidden--visually\" id=\"sk-estimator-id-31\" type=\"checkbox\" ><label for=\"sk-estimator-id-31\" class=\"sk-toggleable__label fitted sk-toggleable__label-arrow\"><div><div>SimpleImputer</div></div><div><a class=\"sk-estimator-doc-link fitted\" rel=\"noreferrer\" target=\"_blank\" href=\"https://scikit-learn.org/1.6/modules/generated/sklearn.impute.SimpleImputer.html\">?<span>Documentation for SimpleImputer</span></a></div></label><div class=\"sk-toggleable__content fitted\"><pre>SimpleImputer(strategy=&#x27;most_frequent&#x27;)</pre></div> </div></div><div class=\"sk-item\"><div class=\"sk-estimator fitted sk-toggleable\"><input class=\"sk-toggleable__control sk-hidden--visually\" id=\"sk-estimator-id-32\" type=\"checkbox\" ><label for=\"sk-estimator-id-32\" class=\"sk-toggleable__label fitted sk-toggleable__label-arrow\"><div><div>OneHotEncoder</div></div><div><a class=\"sk-estimator-doc-link fitted\" rel=\"noreferrer\" target=\"_blank\" href=\"https://scikit-learn.org/1.6/modules/generated/sklearn.preprocessing.OneHotEncoder.html\">?<span>Documentation for OneHotEncoder</span></a></div></label><div class=\"sk-toggleable__content fitted\"><pre>OneHotEncoder(drop=&#x27;first&#x27;, handle_unknown=&#x27;infrequent_if_exist&#x27;,\n",
       "              min_frequency=0.05, sparse_output=False)</pre></div> </div></div></div></div></div></div></div><div class=\"sk-parallel-item\"><div class=\"sk-item\"><div class=\"sk-label-container\"><div class=\"sk-label fitted sk-toggleable\"><input class=\"sk-toggleable__control sk-hidden--visually\" id=\"sk-estimator-id-33\" type=\"checkbox\" ><label for=\"sk-estimator-id-33\" class=\"sk-toggleable__label fitted sk-toggleable__label-arrow\"><div><div>remainder</div></div></label><div class=\"sk-toggleable__content fitted\"><pre>[]</pre></div> </div></div><div class=\"sk-serial\"><div class=\"sk-item\"><div class=\"sk-estimator fitted sk-toggleable\"><input class=\"sk-toggleable__control sk-hidden--visually\" id=\"sk-estimator-id-34\" type=\"checkbox\" ><label for=\"sk-estimator-id-34\" class=\"sk-toggleable__label fitted sk-toggleable__label-arrow\"><div><div>passthrough</div></div></label><div class=\"sk-toggleable__content fitted\"><pre>passthrough</pre></div> </div></div></div></div></div></div></div><div class=\"sk-item\"><div class=\"sk-estimator fitted sk-toggleable\"><input class=\"sk-toggleable__control sk-hidden--visually\" id=\"sk-estimator-id-35\" type=\"checkbox\" ><label for=\"sk-estimator-id-35\" class=\"sk-toggleable__label fitted sk-toggleable__label-arrow\"><div><div>passthrough</div></div></label><div class=\"sk-toggleable__content fitted\"><pre>passthrough</pre></div> </div></div><div class=\"sk-item\"><div class=\"sk-estimator fitted sk-toggleable\"><input class=\"sk-toggleable__control sk-hidden--visually\" id=\"sk-estimator-id-36\" type=\"checkbox\" ><label for=\"sk-estimator-id-36\" class=\"sk-toggleable__label fitted sk-toggleable__label-arrow\"><div><div>LGBMRegressor</div></div></label><div class=\"sk-toggleable__content fitted\"><pre>LGBMRegressor(learning_rate=0.05, min_child_samples=10, objective=&#x27;regression&#x27;,\n",
       "              random_state=42, reg_alpha=0.1, verbose=-1)</pre></div> </div></div></div></div></div></div>"
      ],
      "text/plain": [
       "Pipeline(steps=[('data_preprocessor',\n",
       "                 ColumnTransformer(remainder='passthrough',\n",
       "                                   transformers=[('num',\n",
       "                                                  Pipeline(steps=[('imputer',\n",
       "                                                                   SimpleImputer(strategy='median')),\n",
       "                                                                  ('poly',\n",
       "                                                                   PolynomialFeatures(include_bias=False)),\n",
       "                                                                  ('scaler',\n",
       "                                                                   StandardScaler())]),\n",
       "                                                  ['power', 'kilometer',\n",
       "                                                   'age_month']),\n",
       "                                                 ('cat',\n",
       "                                                  Pipeline(steps=[('imputer',\n",
       "                                                                   SimpleImputer(strategy='most_frequent')),\n",
       "                                                                  ('onehot',\n",
       "                                                                   OneHotEncoder(drop='first',\n",
       "                                                                                 handle_unknown='infrequent_if_exist',\n",
       "                                                                                 min_frequency=0.05,\n",
       "                                                                                 sparse_output=False))]),\n",
       "                                                  ['vehicle_type', 'gearbox',\n",
       "                                                   'fuel_type', 'repaired',\n",
       "                                                   'brand_model'])])),\n",
       "                ('scaler', 'passthrough'),\n",
       "                ('regressor',\n",
       "                 LGBMRegressor(learning_rate=0.05, min_child_samples=10,\n",
       "                               objective='regression', random_state=42,\n",
       "                               reg_alpha=0.1, verbose=-1))])"
      ]
     },
     "execution_count": 39,
     "metadata": {},
     "output_type": "execute_result"
    }
   ],
   "source": [
    "best_model_lgb = grid_search_lgb.best_estimator_\n",
    "best_model_lgb"
   ]
  },
  {
   "cell_type": "markdown",
   "metadata": {},
   "source": [
    "При сравнении моделей LinearRegression и LGBMRegressor, модель LGBMRegressor показывает лучшую метрику на кросс-валидации - 1937, тогда как у модели LinearRegression эта метрика -2409. Так же модель LGBMRegressor может оказаться более подходящим выбором, особенно если в данных присутствуют сложные нелинейные зависимости, которые LinearRegression не может уловить."
   ]
  },
  {
   "cell_type": "markdown",
   "metadata": {},
   "source": [
    "## Анализ моделей"
   ]
  },
  {
   "cell_type": "code",
   "execution_count": 40,
   "metadata": {},
   "outputs": [
    {
     "name": "stdout",
     "output_type": "stream",
     "text": [
      "Время обучения линейной модели: 2.254504919052124 секунд\n",
      "Время предсказания линейной модели: 0.6861743927001953 секунд\n"
     ]
    }
   ],
   "source": [
    "# время обучения линейной модели\n",
    "start_time = time.time()\n",
    "best_model_lr.fit(X_train, y_train)\n",
    "lr_training_time = time.time() - start_time\n",
    "print(f\"Время обучения линейной модели: {lr_training_time} секунд\")\n",
    "\n",
    "# время предсказания линейной модели\n",
    "start_time = time.time()\n",
    "lr_predictions = best_model_lr.predict(X_train)\n",
    "lr_prediction_time = time.time() - start_time\n",
    "lr_prediction_time\n",
    "print(f\"Время предсказания линейной модели: {lr_prediction_time} секунд\")"
   ]
  },
  {
   "cell_type": "code",
   "execution_count": 41,
   "metadata": {},
   "outputs": [
    {
     "name": "stdout",
     "output_type": "stream",
     "text": [
      "Время обучения LightGBM модели: 4.421981573104858 секунд\n"
     ]
    },
    {
     "name": "stderr",
     "output_type": "stream",
     "text": [
      "/opt/conda/lib/python3.9/site-packages/sklearn/utils/validation.py:2739: UserWarning: X does not have valid feature names, but LGBMRegressor was fitted with feature names\n",
      "  warnings.warn(\n"
     ]
    },
    {
     "name": "stdout",
     "output_type": "stream",
     "text": [
      "Время предсказания LightGBM модели: 2.019045352935791 секунд\n"
     ]
    }
   ],
   "source": [
    "# время обучения LGBMRegressor\n",
    "start_time = time.time()\n",
    "best_model_lgb.fit(X_train, y_train)\n",
    "lgb_training_time = time.time() - start_time\n",
    "lgb_training_time\n",
    "print(f\"Время обучения LightGBM модели: {lgb_training_time} секунд\")\n",
    "\n",
    "# время предсказания LGBMRegressor\n",
    "start_time = time.time()\n",
    "lgb_predictions = best_model_lgb.predict(X_train)\n",
    "lgb_prediction_time = time.time() - start_time\n",
    "lgb_prediction_time\n",
    "print(f\"Время предсказания LightGBM модели: {lgb_prediction_time} секунд\")"
   ]
  },
  {
   "cell_type": "markdown",
   "metadata": {},
   "source": [
    "Время обучения и предсказания LGBMRegressor сильно больше, время обучения 4,42 секунды, при этом у  линейной модели - 2,25, время предсказания у модели LightGBM - 2,02, в то время как у LinearRegression - 0,69 секунды. RMSE линейной модели равен 2409, RMSE модели LightGBM равен 1937. Исходя из того, что метрика все же лучше у LightGBM модели, для нас она является лучшей моделью. Но если для нас сильно важны время, следовало бы выбрать линейную модель."
   ]
  },
  {
   "cell_type": "code",
   "execution_count": null,
   "metadata": {},
   "outputs": [],
   "source": [
    "# применение лучшей модели к тестовым данным\n",
    "lgb_test_predictions = best_model_lgb.predict(X_test)\n",
    "\n",
    "# вычисление RMSE и средней ошибки для модели LightGBM на тестовых данных\n",
    "lgb_test_rmse = np.sqrt(mean_squared_error(y_test, lgb_test_predictions))\n",
    "\n",
    "print(f\"RMSE модели LightGBM на тестовых данных: {lgb_test_rmse}\")\n"
   ]
  },
  {
   "cell_type": "code",
   "execution_count": null,
   "metadata": {},
   "outputs": [],
   "source": [
    "# получаем имена преобразованных признаков\n",
    "transformed_features = best_model_lgb.named_steps['data_preprocessor'].get_feature_names_out()\n",
    "\n",
    "# получаем важность признаков из LGBM\n",
    "lgb_regressor = best_model_lgb.named_steps['regressor']\n",
    "importances = lgb_regressor.feature_importances_\n",
    "\n",
    "# создаём DataFrame с правильными именами признаков\n",
    "feature_importance = pd.DataFrame({\n",
    "    'feature': transformed_features,\n",
    "    'importance': importances\n",
    "}).sort_values('importance', ascending=False)\n",
    "\n",
    "# выводим топ-10 важных признаков\n",
    "print(feature_importance.head(20))\n",
    "\n",
    "plt.figure(figsize=(10, 8))\n",
    "sns.barplot(x='importance', y='feature', data=feature_importance.head(20))\n",
    "plt.title('Top 20 Feature Importance')\n",
    "plt.show()"
   ]
  },
  {
   "cell_type": "markdown",
   "metadata": {},
   "source": [
    "На графике видно, что самый важный признак - это мощность автомобиля, на втором месте по важности - возраст машины, следующий по важности признак, влияющий на цену - это совокупность пробега и возраста машины."
   ]
  },
  {
   "cell_type": "markdown",
   "metadata": {},
   "source": [
    "## Общий вывод"
   ]
  },
  {
   "cell_type": "markdown",
   "metadata": {},
   "source": [
    "Для разработки приложения по расчету рыночной стоимости автомобилей была проведена огромная работа по подготовке и анализу данных. Была проведена предобработка данных, выявлены и удалены дубликаты, выявлены некорректные типы данных и заменены на корректные, найдены и удалены аномалии в данных, была проведена работа с пропусками в данных, а так же добавлены необходимые для обучения моделей признаки и удалены неиформативные.\n",
    "\n",
    "Был проведен исследовательский анализ данных и корреляционный анализ.\n",
    "\n",
    "Затем была проведена подготовка данных к обучению. \n",
    "\n",
    "Для обучения были выбраны 2 модели: линейная модель и модель градиентного бустинга с использованием LightGBM.\n",
    "\n",
    "После сравнения моделей можно сказать, что модель LightGBM показала лучшее значение метрики RMSE, так же у этой моделе меньше время обучения, однако почти в 2 раза больше время предсказания. Можем сказать, что требование проекта было выполнено, обе модели показали RMSE ниже установленного порога в 2500. \n",
    "\n",
    "Для достижения наилучшего баланса между качеством предсказаний и временем обучения и предсказания, LGBMRegressor может потребовать дополнительной настройки гиперпараметров.\n"
   ]
  }
 ],
 "metadata": {
  "ExecuteTimeLog": [
   {
    "duration": 51,
    "start_time": "2025-04-29T14:13:48.466Z"
   },
   {
    "duration": 1682,
    "start_time": "2025-04-29T14:14:15.513Z"
   },
   {
    "duration": 4,
    "start_time": "2025-04-29T14:14:24.609Z"
   },
   {
    "duration": 960,
    "start_time": "2025-04-29T14:14:27.104Z"
   },
   {
    "duration": 146,
    "start_time": "2025-04-29T14:16:09.936Z"
   },
   {
    "duration": 4,
    "start_time": "2025-04-29T14:38:40.574Z"
   },
   {
    "duration": 148,
    "start_time": "2025-04-29T14:38:51.000Z"
   },
   {
    "duration": 5,
    "start_time": "2025-04-29T14:46:16.020Z"
   },
   {
    "duration": 10,
    "start_time": "2025-04-29T14:46:18.233Z"
   },
   {
    "duration": 4,
    "start_time": "2025-04-29T14:46:22.977Z"
   },
   {
    "duration": 8,
    "start_time": "2025-04-29T14:46:34.868Z"
   },
   {
    "duration": 14,
    "start_time": "2025-04-29T14:53:09.889Z"
   },
   {
    "duration": 419,
    "start_time": "2025-04-29T14:54:01.342Z"
   },
   {
    "duration": 228,
    "start_time": "2025-04-29T15:01:29.322Z"
   },
   {
    "duration": 243,
    "start_time": "2025-04-29T15:01:57.294Z"
   },
   {
    "duration": 289,
    "start_time": "2025-04-29T15:04:25.974Z"
   },
   {
    "duration": 11,
    "start_time": "2025-04-29T15:05:20.111Z"
   },
   {
    "duration": 628,
    "start_time": "2025-04-29T15:05:31.382Z"
   },
   {
    "duration": 129,
    "start_time": "2025-04-29T15:09:28.179Z"
   },
   {
    "duration": 59,
    "start_time": "2025-04-29T19:28:48.656Z"
   },
   {
    "duration": 1844,
    "start_time": "2025-04-29T19:29:07.014Z"
   },
   {
    "duration": 1045,
    "start_time": "2025-04-29T19:29:08.862Z"
   },
   {
    "duration": 207,
    "start_time": "2025-04-29T19:29:09.909Z"
   },
   {
    "duration": 20,
    "start_time": "2025-04-29T19:29:10.119Z"
   },
   {
    "duration": 475,
    "start_time": "2025-04-29T19:29:10.144Z"
   },
   {
    "duration": 288,
    "start_time": "2025-04-29T19:29:10.620Z"
   },
   {
    "duration": 344,
    "start_time": "2025-04-29T19:29:10.910Z"
   },
   {
    "duration": 679,
    "start_time": "2025-04-29T19:29:11.255Z"
   },
   {
    "duration": 165,
    "start_time": "2025-04-29T19:29:11.943Z"
   },
   {
    "duration": 57,
    "start_time": "2025-04-29T19:29:12.109Z"
   },
   {
    "duration": 156,
    "start_time": "2025-04-29T19:29:12.169Z"
   },
   {
    "duration": 11,
    "start_time": "2025-04-29T19:33:31.315Z"
   },
   {
    "duration": 12,
    "start_time": "2025-04-29T19:35:11.581Z"
   },
   {
    "duration": 66,
    "start_time": "2025-04-29T19:35:19.227Z"
   },
   {
    "duration": 6,
    "start_time": "2025-04-29T19:35:23.298Z"
   },
   {
    "duration": 6,
    "start_time": "2025-04-29T19:35:42.231Z"
   },
   {
    "duration": 6,
    "start_time": "2025-04-29T19:52:48.488Z"
   },
   {
    "duration": 20,
    "start_time": "2025-04-29T19:54:06.868Z"
   },
   {
    "duration": 13,
    "start_time": "2025-04-29T19:54:55.786Z"
   },
   {
    "duration": 6,
    "start_time": "2025-04-29T19:55:05.282Z"
   },
   {
    "duration": 5331,
    "start_time": "2025-04-29T19:55:08.053Z"
   },
   {
    "duration": 5374,
    "start_time": "2025-04-29T19:56:33.467Z"
   },
   {
    "duration": 5,
    "start_time": "2025-04-29T20:00:58.467Z"
   },
   {
    "duration": 55468,
    "start_time": "2025-04-29T20:00:59.716Z"
   },
   {
    "duration": 37299,
    "start_time": "2025-04-29T20:01:57.016Z"
   },
   {
    "duration": 4,
    "start_time": "2025-04-29T20:02:37.732Z"
   },
   {
    "duration": 201268,
    "start_time": "2025-04-29T20:02:40.832Z"
   },
   {
    "duration": 1618,
    "start_time": "2025-04-29T20:06:10.345Z"
   },
   {
    "duration": 1122,
    "start_time": "2025-04-29T20:06:11.966Z"
   },
   {
    "duration": 182,
    "start_time": "2025-04-29T20:06:13.090Z"
   },
   {
    "duration": 9,
    "start_time": "2025-04-29T20:06:13.274Z"
   },
   {
    "duration": 506,
    "start_time": "2025-04-29T20:06:13.286Z"
   },
   {
    "duration": 280,
    "start_time": "2025-04-29T20:06:13.794Z"
   },
   {
    "duration": 387,
    "start_time": "2025-04-29T20:06:14.076Z"
   },
   {
    "duration": 699,
    "start_time": "2025-04-29T20:06:14.465Z"
   },
   {
    "duration": 175,
    "start_time": "2025-04-29T20:06:15.166Z"
   },
   {
    "duration": 51,
    "start_time": "2025-04-29T20:06:15.346Z"
   },
   {
    "duration": 16,
    "start_time": "2025-04-29T20:06:15.399Z"
   },
   {
    "duration": 35,
    "start_time": "2025-04-29T20:06:15.417Z"
   },
   {
    "duration": 37253,
    "start_time": "2025-04-29T20:06:15.454Z"
   },
   {
    "duration": 0,
    "start_time": "2025-04-29T20:06:52.708Z"
   },
   {
    "duration": 136924,
    "start_time": "2025-04-29T20:06:56.581Z"
   },
   {
    "duration": 245174,
    "start_time": "2025-04-29T20:09:15.330Z"
   },
   {
    "duration": 188230,
    "start_time": "2025-04-29T20:13:22.028Z"
   },
   {
    "duration": 16,
    "start_time": "2025-04-29T20:16:40.593Z"
   },
   {
    "duration": 54709,
    "start_time": "2025-04-29T20:18:12.269Z"
   },
   {
    "duration": 23,
    "start_time": "2025-04-29T20:19:09.143Z"
   },
   {
    "duration": 10181,
    "start_time": "2025-04-29T20:19:14.572Z"
   },
   {
    "duration": 48847,
    "start_time": "2025-04-29T20:19:56.014Z"
   },
   {
    "duration": 1495,
    "start_time": "2025-04-29T20:20:44.864Z"
   },
   {
    "duration": 950,
    "start_time": "2025-04-29T20:20:46.361Z"
   },
   {
    "duration": 169,
    "start_time": "2025-04-29T20:20:47.314Z"
   },
   {
    "duration": 8,
    "start_time": "2025-04-29T20:20:47.485Z"
   },
   {
    "duration": 456,
    "start_time": "2025-04-29T20:20:47.495Z"
   },
   {
    "duration": 249,
    "start_time": "2025-04-29T20:20:47.953Z"
   },
   {
    "duration": 316,
    "start_time": "2025-04-29T20:20:48.203Z"
   },
   {
    "duration": 634,
    "start_time": "2025-04-29T20:20:48.521Z"
   },
   {
    "duration": 132,
    "start_time": "2025-04-29T20:20:49.158Z"
   },
   {
    "duration": 50,
    "start_time": "2025-04-29T20:20:49.292Z"
   },
   {
    "duration": 26,
    "start_time": "2025-04-29T20:20:49.343Z"
   },
   {
    "duration": 90697,
    "start_time": "2025-04-29T20:20:49.371Z"
   },
   {
    "duration": 0,
    "start_time": "2025-04-29T20:22:20.070Z"
   },
   {
    "duration": 0,
    "start_time": "2025-04-29T20:22:20.072Z"
   },
   {
    "duration": 293,
    "start_time": "2025-04-29T20:22:25.622Z"
   },
   {
    "duration": 138466,
    "start_time": "2025-04-29T20:22:32.423Z"
   },
   {
    "duration": 8,
    "start_time": "2025-04-29T20:24:58.087Z"
   },
   {
    "duration": 44,
    "start_time": "2025-04-29T20:33:02.978Z"
   },
   {
    "duration": 49,
    "start_time": "2025-04-29T20:33:25.314Z"
   },
   {
    "duration": 251,
    "start_time": "2025-04-29T20:34:03.414Z"
   },
   {
    "duration": 43,
    "start_time": "2025-04-29T20:35:01.947Z"
   },
   {
    "duration": 5,
    "start_time": "2025-04-29T20:41:33.012Z"
   },
   {
    "duration": 15,
    "start_time": "2025-04-29T20:41:34.476Z"
   },
   {
    "duration": 17,
    "start_time": "2025-04-29T20:41:51.361Z"
   },
   {
    "duration": 2565,
    "start_time": "2025-04-29T20:44:41.844Z"
   },
   {
    "duration": 1458,
    "start_time": "2025-04-29T20:44:44.412Z"
   },
   {
    "duration": 912,
    "start_time": "2025-04-29T20:44:45.872Z"
   },
   {
    "duration": 153,
    "start_time": "2025-04-29T20:44:46.786Z"
   },
   {
    "duration": 25,
    "start_time": "2025-04-29T20:44:46.941Z"
   },
   {
    "duration": 358,
    "start_time": "2025-04-29T20:44:46.968Z"
   },
   {
    "duration": 242,
    "start_time": "2025-04-29T20:44:47.328Z"
   },
   {
    "duration": 334,
    "start_time": "2025-04-29T20:44:47.571Z"
   },
   {
    "duration": 621,
    "start_time": "2025-04-29T20:44:47.907Z"
   },
   {
    "duration": 137,
    "start_time": "2025-04-29T20:44:48.531Z"
   },
   {
    "duration": 37,
    "start_time": "2025-04-29T20:44:48.670Z"
   },
   {
    "duration": 456,
    "start_time": "2025-04-29T20:44:48.709Z"
   },
   {
    "duration": 0,
    "start_time": "2025-04-29T20:44:49.167Z"
   },
   {
    "duration": 0,
    "start_time": "2025-04-29T20:44:49.168Z"
   },
   {
    "duration": 18,
    "start_time": "2025-04-29T20:44:57.924Z"
   },
   {
    "duration": 1543,
    "start_time": "2025-04-29T20:45:26.077Z"
   },
   {
    "duration": 930,
    "start_time": "2025-04-29T20:45:27.623Z"
   },
   {
    "duration": 154,
    "start_time": "2025-04-29T20:45:28.555Z"
   },
   {
    "duration": 7,
    "start_time": "2025-04-29T20:45:28.710Z"
   },
   {
    "duration": 432,
    "start_time": "2025-04-29T20:45:28.719Z"
   },
   {
    "duration": 228,
    "start_time": "2025-04-29T20:45:29.153Z"
   },
   {
    "duration": 297,
    "start_time": "2025-04-29T20:45:29.383Z"
   },
   {
    "duration": 619,
    "start_time": "2025-04-29T20:45:29.682Z"
   },
   {
    "duration": 139,
    "start_time": "2025-04-29T20:45:30.302Z"
   },
   {
    "duration": 37,
    "start_time": "2025-04-29T20:45:30.443Z"
   },
   {
    "duration": 476,
    "start_time": "2025-04-29T20:45:30.481Z"
   },
   {
    "duration": 0,
    "start_time": "2025-04-29T20:45:30.959Z"
   },
   {
    "duration": 0,
    "start_time": "2025-04-29T20:45:30.960Z"
   },
   {
    "duration": 17,
    "start_time": "2025-04-29T20:45:43.085Z"
   },
   {
    "duration": 18,
    "start_time": "2025-04-29T20:45:56.138Z"
   },
   {
    "duration": 38,
    "start_time": "2025-04-29T20:46:19.972Z"
   },
   {
    "duration": 16,
    "start_time": "2025-04-29T20:46:25.150Z"
   },
   {
    "duration": 14,
    "start_time": "2025-04-29T20:48:33.698Z"
   },
   {
    "duration": 199,
    "start_time": "2025-04-29T20:49:02.302Z"
   },
   {
    "duration": 1557,
    "start_time": "2025-04-30T07:38:20.017Z"
   },
   {
    "duration": 895,
    "start_time": "2025-04-30T07:38:21.576Z"
   },
   {
    "duration": 165,
    "start_time": "2025-04-30T07:38:22.472Z"
   },
   {
    "duration": 6,
    "start_time": "2025-04-30T07:38:22.638Z"
   },
   {
    "duration": 403,
    "start_time": "2025-04-30T07:38:22.646Z"
   },
   {
    "duration": 217,
    "start_time": "2025-04-30T07:38:23.051Z"
   },
   {
    "duration": 273,
    "start_time": "2025-04-30T07:38:23.270Z"
   },
   {
    "duration": 591,
    "start_time": "2025-04-30T07:38:23.545Z"
   },
   {
    "duration": 148,
    "start_time": "2025-04-30T07:38:24.137Z"
   },
   {
    "duration": 37,
    "start_time": "2025-04-30T07:38:24.287Z"
   },
   {
    "duration": 509,
    "start_time": "2025-04-30T07:38:24.326Z"
   },
   {
    "duration": 562,
    "start_time": "2025-04-30T07:48:51.482Z"
   },
   {
    "duration": 97,
    "start_time": "2025-04-30T08:07:26.533Z"
   },
   {
    "duration": 137,
    "start_time": "2025-04-30T08:07:55.788Z"
   },
   {
    "duration": 4,
    "start_time": "2025-04-30T08:10:47.303Z"
   },
   {
    "duration": 117,
    "start_time": "2025-04-30T08:11:32.698Z"
   },
   {
    "duration": 39,
    "start_time": "2025-04-30T08:11:37.835Z"
   },
   {
    "duration": 556,
    "start_time": "2025-04-30T08:11:42.469Z"
   },
   {
    "duration": 42,
    "start_time": "2025-04-30T08:12:14.715Z"
   },
   {
    "duration": 1869,
    "start_time": "2025-04-30T08:12:17.535Z"
   },
   {
    "duration": 38,
    "start_time": "2025-04-30T08:14:21.782Z"
   },
   {
    "duration": 557,
    "start_time": "2025-04-30T08:14:24.313Z"
   },
   {
    "duration": 293,
    "start_time": "2025-04-30T08:30:46.355Z"
   },
   {
    "duration": 101,
    "start_time": "2025-04-30T08:31:33.053Z"
   },
   {
    "duration": 367,
    "start_time": "2025-04-30T08:47:27.115Z"
   },
   {
    "duration": 268,
    "start_time": "2025-04-30T08:48:31.015Z"
   },
   {
    "duration": 749,
    "start_time": "2025-04-30T08:49:54.863Z"
   },
   {
    "duration": 467,
    "start_time": "2025-04-30T08:50:07.980Z"
   },
   {
    "duration": 81,
    "start_time": "2025-04-30T08:51:47.379Z"
   },
   {
    "duration": 40,
    "start_time": "2025-04-30T08:52:01.773Z"
   },
   {
    "duration": 528,
    "start_time": "2025-04-30T08:52:29.327Z"
   },
   {
    "duration": 355,
    "start_time": "2025-04-30T08:53:47.911Z"
   },
   {
    "duration": 37,
    "start_time": "2025-04-30T08:54:06.110Z"
   },
   {
    "duration": 45,
    "start_time": "2025-04-30T08:54:25.077Z"
   },
   {
    "duration": 47,
    "start_time": "2025-04-30T08:54:51.062Z"
   },
   {
    "duration": 41,
    "start_time": "2025-04-30T08:56:31.808Z"
   },
   {
    "duration": 34,
    "start_time": "2025-04-30T08:56:50.326Z"
   },
   {
    "duration": 42,
    "start_time": "2025-04-30T08:59:35.690Z"
   },
   {
    "duration": 36,
    "start_time": "2025-04-30T09:00:23.240Z"
   },
   {
    "duration": 28,
    "start_time": "2025-04-30T09:06:09.732Z"
   },
   {
    "duration": 617,
    "start_time": "2025-04-30T09:06:52.285Z"
   },
   {
    "duration": 345,
    "start_time": "2025-04-30T09:07:47.515Z"
   },
   {
    "duration": 1406,
    "start_time": "2025-04-30T09:07:53.198Z"
   },
   {
    "duration": 933,
    "start_time": "2025-04-30T09:07:54.605Z"
   },
   {
    "duration": 163,
    "start_time": "2025-04-30T09:07:55.540Z"
   },
   {
    "duration": 6,
    "start_time": "2025-04-30T09:07:55.704Z"
   },
   {
    "duration": 417,
    "start_time": "2025-04-30T09:07:55.712Z"
   },
   {
    "duration": 215,
    "start_time": "2025-04-30T09:07:56.135Z"
   },
   {
    "duration": 300,
    "start_time": "2025-04-30T09:07:56.352Z"
   },
   {
    "duration": 589,
    "start_time": "2025-04-30T09:07:56.654Z"
   },
   {
    "duration": 137,
    "start_time": "2025-04-30T09:07:57.244Z"
   },
   {
    "duration": 40,
    "start_time": "2025-04-30T09:07:57.383Z"
   },
   {
    "duration": 549,
    "start_time": "2025-04-30T09:07:57.436Z"
   },
   {
    "duration": 26,
    "start_time": "2025-04-30T09:07:57.987Z"
   },
   {
    "duration": 43,
    "start_time": "2025-04-30T09:07:58.015Z"
   },
   {
    "duration": 121,
    "start_time": "2025-04-30T09:07:58.062Z"
   },
   {
    "duration": 0,
    "start_time": "2025-04-30T09:07:58.184Z"
   },
   {
    "duration": 0,
    "start_time": "2025-04-30T09:07:58.185Z"
   },
   {
    "duration": 371,
    "start_time": "2025-04-30T09:08:32.353Z"
   },
   {
    "duration": 52,
    "start_time": "2025-04-30T09:08:52.814Z"
   },
   {
    "duration": 57,
    "start_time": "2025-04-30T09:09:39.436Z"
   },
   {
    "duration": 36,
    "start_time": "2025-04-30T09:12:43.076Z"
   },
   {
    "duration": 1474,
    "start_time": "2025-04-30T09:12:59.309Z"
   },
   {
    "duration": 901,
    "start_time": "2025-04-30T09:13:00.784Z"
   },
   {
    "duration": 150,
    "start_time": "2025-04-30T09:13:01.686Z"
   },
   {
    "duration": 6,
    "start_time": "2025-04-30T09:13:01.838Z"
   },
   {
    "duration": 399,
    "start_time": "2025-04-30T09:13:01.846Z"
   },
   {
    "duration": 223,
    "start_time": "2025-04-30T09:13:02.247Z"
   },
   {
    "duration": 294,
    "start_time": "2025-04-30T09:13:02.472Z"
   },
   {
    "duration": 595,
    "start_time": "2025-04-30T09:13:02.768Z"
   },
   {
    "duration": 146,
    "start_time": "2025-04-30T09:13:03.365Z"
   },
   {
    "duration": 48,
    "start_time": "2025-04-30T09:13:03.513Z"
   },
   {
    "duration": 621,
    "start_time": "2025-04-30T09:13:03.563Z"
   },
   {
    "duration": 28,
    "start_time": "2025-04-30T09:13:04.187Z"
   },
   {
    "duration": 47,
    "start_time": "2025-04-30T09:13:04.216Z"
   },
   {
    "duration": 56,
    "start_time": "2025-04-30T09:13:04.266Z"
   },
   {
    "duration": 855,
    "start_time": "2025-04-30T09:13:04.336Z"
   },
   {
    "duration": 135,
    "start_time": "2025-04-30T09:13:05.193Z"
   },
   {
    "duration": 1500,
    "start_time": "2025-04-30T09:17:26.639Z"
   },
   {
    "duration": 934,
    "start_time": "2025-04-30T09:17:28.141Z"
   },
   {
    "duration": 171,
    "start_time": "2025-04-30T09:17:29.079Z"
   },
   {
    "duration": 7,
    "start_time": "2025-04-30T09:17:29.252Z"
   },
   {
    "duration": 441,
    "start_time": "2025-04-30T09:17:29.260Z"
   },
   {
    "duration": 253,
    "start_time": "2025-04-30T09:17:29.703Z"
   },
   {
    "duration": 322,
    "start_time": "2025-04-30T09:17:29.957Z"
   },
   {
    "duration": 625,
    "start_time": "2025-04-30T09:17:30.281Z"
   },
   {
    "duration": 178,
    "start_time": "2025-04-30T09:17:30.909Z"
   },
   {
    "duration": 57,
    "start_time": "2025-04-30T09:17:31.090Z"
   },
   {
    "duration": 601,
    "start_time": "2025-04-30T09:17:31.149Z"
   },
   {
    "duration": 25,
    "start_time": "2025-04-30T09:17:31.754Z"
   },
   {
    "duration": 128,
    "start_time": "2025-04-30T09:17:31.780Z"
   },
   {
    "duration": 0,
    "start_time": "2025-04-30T09:17:31.910Z"
   },
   {
    "duration": 0,
    "start_time": "2025-04-30T09:17:31.911Z"
   },
   {
    "duration": 0,
    "start_time": "2025-04-30T09:17:31.912Z"
   },
   {
    "duration": 27,
    "start_time": "2025-04-30T09:17:49.107Z"
   },
   {
    "duration": 55,
    "start_time": "2025-04-30T09:18:02.956Z"
   },
   {
    "duration": 27,
    "start_time": "2025-04-30T09:18:18.936Z"
   },
   {
    "duration": 1367,
    "start_time": "2025-04-30T09:18:27.682Z"
   },
   {
    "duration": 881,
    "start_time": "2025-04-30T09:18:29.051Z"
   },
   {
    "duration": 159,
    "start_time": "2025-04-30T09:18:29.935Z"
   },
   {
    "duration": 7,
    "start_time": "2025-04-30T09:18:30.096Z"
   },
   {
    "duration": 413,
    "start_time": "2025-04-30T09:18:30.105Z"
   },
   {
    "duration": 237,
    "start_time": "2025-04-30T09:18:30.520Z"
   },
   {
    "duration": 280,
    "start_time": "2025-04-30T09:18:30.759Z"
   },
   {
    "duration": 597,
    "start_time": "2025-04-30T09:18:31.041Z"
   },
   {
    "duration": 140,
    "start_time": "2025-04-30T09:18:31.640Z"
   },
   {
    "duration": 37,
    "start_time": "2025-04-30T09:18:31.782Z"
   },
   {
    "duration": 565,
    "start_time": "2025-04-30T09:18:31.835Z"
   },
   {
    "duration": 33,
    "start_time": "2025-04-30T09:18:32.402Z"
   },
   {
    "duration": 27,
    "start_time": "2025-04-30T09:18:32.437Z"
   },
   {
    "duration": 69,
    "start_time": "2025-04-30T09:18:32.467Z"
   },
   {
    "duration": 862,
    "start_time": "2025-04-30T09:18:32.538Z"
   },
   {
    "duration": 143,
    "start_time": "2025-04-30T09:18:33.402Z"
   },
   {
    "duration": 457,
    "start_time": "2025-04-30T09:20:49.047Z"
   },
   {
    "duration": 1479,
    "start_time": "2025-04-30T09:20:57.797Z"
   },
   {
    "duration": 892,
    "start_time": "2025-04-30T09:20:59.278Z"
   },
   {
    "duration": 163,
    "start_time": "2025-04-30T09:21:00.172Z"
   },
   {
    "duration": 7,
    "start_time": "2025-04-30T09:21:00.337Z"
   },
   {
    "duration": 419,
    "start_time": "2025-04-30T09:21:00.346Z"
   },
   {
    "duration": 217,
    "start_time": "2025-04-30T09:21:00.767Z"
   },
   {
    "duration": 281,
    "start_time": "2025-04-30T09:21:00.985Z"
   },
   {
    "duration": 603,
    "start_time": "2025-04-30T09:21:01.267Z"
   },
   {
    "duration": 143,
    "start_time": "2025-04-30T09:21:01.872Z"
   },
   {
    "duration": 45,
    "start_time": "2025-04-30T09:21:02.017Z"
   },
   {
    "duration": 561,
    "start_time": "2025-04-30T09:21:02.064Z"
   },
   {
    "duration": 31,
    "start_time": "2025-04-30T09:21:02.627Z"
   },
   {
    "duration": 28,
    "start_time": "2025-04-30T09:21:02.660Z"
   },
   {
    "duration": 71,
    "start_time": "2025-04-30T09:21:02.691Z"
   },
   {
    "duration": 866,
    "start_time": "2025-04-30T09:21:02.763Z"
   },
   {
    "duration": 136,
    "start_time": "2025-04-30T09:21:03.634Z"
   },
   {
    "duration": 154,
    "start_time": "2025-04-30T09:32:27.642Z"
   },
   {
    "duration": 35,
    "start_time": "2025-04-30T09:41:11.428Z"
   },
   {
    "duration": 35,
    "start_time": "2025-04-30T09:41:49.139Z"
   },
   {
    "duration": 42,
    "start_time": "2025-04-30T09:45:00.418Z"
   },
   {
    "duration": 72,
    "start_time": "2025-04-30T09:48:56.673Z"
   },
   {
    "duration": 108,
    "start_time": "2025-04-30T09:49:29.122Z"
   },
   {
    "duration": 16,
    "start_time": "2025-04-30T09:49:35.321Z"
   },
   {
    "duration": 68,
    "start_time": "2025-04-30T09:58:10.093Z"
   },
   {
    "duration": 20934,
    "start_time": "2025-04-30T10:02:53.220Z"
   },
   {
    "duration": 9966,
    "start_time": "2025-04-30T10:15:13.154Z"
   },
   {
    "duration": 8180,
    "start_time": "2025-04-30T10:16:16.382Z"
   },
   {
    "duration": 7776,
    "start_time": "2025-04-30T10:16:40.986Z"
   },
   {
    "duration": 7415,
    "start_time": "2025-04-30T10:17:04.223Z"
   },
   {
    "duration": 111,
    "start_time": "2025-04-30T10:24:21.775Z"
   },
   {
    "duration": 107,
    "start_time": "2025-04-30T10:24:29.483Z"
   },
   {
    "duration": 46,
    "start_time": "2025-04-30T12:34:10.349Z"
   },
   {
    "duration": 1578,
    "start_time": "2025-04-30T12:34:15.049Z"
   },
   {
    "duration": 862,
    "start_time": "2025-04-30T12:34:16.629Z"
   },
   {
    "duration": 145,
    "start_time": "2025-04-30T12:34:17.493Z"
   },
   {
    "duration": 23,
    "start_time": "2025-04-30T12:34:17.640Z"
   },
   {
    "duration": 472,
    "start_time": "2025-04-30T12:34:17.665Z"
   },
   {
    "duration": 211,
    "start_time": "2025-04-30T12:34:18.139Z"
   },
   {
    "duration": 290,
    "start_time": "2025-04-30T12:34:18.352Z"
   },
   {
    "duration": 573,
    "start_time": "2025-04-30T12:34:18.644Z"
   },
   {
    "duration": 136,
    "start_time": "2025-04-30T12:34:19.220Z"
   },
   {
    "duration": 37,
    "start_time": "2025-04-30T12:34:19.361Z"
   },
   {
    "duration": 562,
    "start_time": "2025-04-30T12:34:19.401Z"
   },
   {
    "duration": 35,
    "start_time": "2025-04-30T12:34:19.965Z"
   },
   {
    "duration": 29,
    "start_time": "2025-04-30T12:34:20.002Z"
   },
   {
    "duration": 83,
    "start_time": "2025-04-30T12:34:20.033Z"
   },
   {
    "duration": 2175,
    "start_time": "2025-04-30T12:34:20.118Z"
   },
   {
    "duration": 0,
    "start_time": "2025-04-30T12:34:22.295Z"
   },
   {
    "duration": 0,
    "start_time": "2025-04-30T12:34:22.297Z"
   },
   {
    "duration": 0,
    "start_time": "2025-04-30T12:34:22.298Z"
   },
   {
    "duration": 0,
    "start_time": "2025-04-30T12:34:22.300Z"
   },
   {
    "duration": 0,
    "start_time": "2025-04-30T12:34:22.301Z"
   },
   {
    "duration": 0,
    "start_time": "2025-04-30T12:34:22.303Z"
   },
   {
    "duration": 0,
    "start_time": "2025-04-30T12:34:22.304Z"
   },
   {
    "duration": 0,
    "start_time": "2025-04-30T12:34:22.306Z"
   },
   {
    "duration": 456,
    "start_time": "2025-04-30T12:34:46.923Z"
   },
   {
    "duration": 41,
    "start_time": "2025-04-30T12:34:50.868Z"
   },
   {
    "duration": 66,
    "start_time": "2025-04-30T12:34:51.316Z"
   },
   {
    "duration": 15,
    "start_time": "2025-04-30T12:34:53.887Z"
   },
   {
    "duration": 50,
    "start_time": "2025-04-30T12:34:54.412Z"
   },
   {
    "duration": 20093,
    "start_time": "2025-04-30T12:34:55.132Z"
   },
   {
    "duration": 119,
    "start_time": "2025-04-30T12:35:15.226Z"
   },
   {
    "duration": 134,
    "start_time": "2025-04-30T12:36:01.658Z"
   },
   {
    "duration": 82,
    "start_time": "2025-04-30T12:36:02.735Z"
   },
   {
    "duration": 16,
    "start_time": "2025-04-30T12:39:30.318Z"
   },
   {
    "duration": 10156,
    "start_time": "2025-04-30T12:40:43.347Z"
   },
   {
    "duration": 50,
    "start_time": "2025-04-30T12:42:25.435Z"
   },
   {
    "duration": 5673,
    "start_time": "2025-04-30T12:43:15.677Z"
   },
   {
    "duration": 1413,
    "start_time": "2025-04-30T12:43:21.353Z"
   },
   {
    "duration": 871,
    "start_time": "2025-04-30T12:43:22.768Z"
   },
   {
    "duration": 152,
    "start_time": "2025-04-30T12:43:23.641Z"
   },
   {
    "duration": 6,
    "start_time": "2025-04-30T12:43:23.795Z"
   },
   {
    "duration": 401,
    "start_time": "2025-04-30T12:43:23.803Z"
   },
   {
    "duration": 241,
    "start_time": "2025-04-30T12:43:24.206Z"
   },
   {
    "duration": 293,
    "start_time": "2025-04-30T12:43:24.449Z"
   },
   {
    "duration": 587,
    "start_time": "2025-04-30T12:43:24.744Z"
   },
   {
    "duration": 141,
    "start_time": "2025-04-30T12:43:25.332Z"
   },
   {
    "duration": 38,
    "start_time": "2025-04-30T12:43:25.474Z"
   },
   {
    "duration": 576,
    "start_time": "2025-04-30T12:43:25.514Z"
   },
   {
    "duration": 25,
    "start_time": "2025-04-30T12:43:26.091Z"
   },
   {
    "duration": 44,
    "start_time": "2025-04-30T12:43:26.119Z"
   },
   {
    "duration": 54,
    "start_time": "2025-04-30T12:43:26.165Z"
   },
   {
    "duration": 905,
    "start_time": "2025-04-30T12:43:26.220Z"
   },
   {
    "duration": 50,
    "start_time": "2025-04-30T12:43:27.126Z"
   },
   {
    "duration": 60,
    "start_time": "2025-04-30T12:43:27.178Z"
   },
   {
    "duration": 32,
    "start_time": "2025-04-30T12:43:27.239Z"
   },
   {
    "duration": 52,
    "start_time": "2025-04-30T12:43:27.273Z"
   },
   {
    "duration": 20125,
    "start_time": "2025-04-30T12:43:27.326Z"
   },
   {
    "duration": 115,
    "start_time": "2025-04-30T12:43:47.453Z"
   },
   {
    "duration": 120,
    "start_time": "2025-04-30T12:43:47.570Z"
   },
   {
    "duration": 109,
    "start_time": "2025-04-30T12:43:47.692Z"
   },
   {
    "duration": 2384,
    "start_time": "2025-04-30T12:44:23.785Z"
   },
   {
    "duration": 1266,
    "start_time": "2025-04-30T12:44:26.171Z"
   },
   {
    "duration": 863,
    "start_time": "2025-04-30T12:44:27.438Z"
   },
   {
    "duration": 139,
    "start_time": "2025-04-30T12:44:28.303Z"
   },
   {
    "duration": 18,
    "start_time": "2025-04-30T12:44:28.444Z"
   },
   {
    "duration": 362,
    "start_time": "2025-04-30T12:44:28.463Z"
   },
   {
    "duration": 214,
    "start_time": "2025-04-30T12:44:28.827Z"
   },
   {
    "duration": 273,
    "start_time": "2025-04-30T12:44:29.043Z"
   },
   {
    "duration": 591,
    "start_time": "2025-04-30T12:44:29.318Z"
   },
   {
    "duration": 138,
    "start_time": "2025-04-30T12:44:29.911Z"
   },
   {
    "duration": 45,
    "start_time": "2025-04-30T12:44:30.051Z"
   },
   {
    "duration": 565,
    "start_time": "2025-04-30T12:44:30.097Z"
   },
   {
    "duration": 24,
    "start_time": "2025-04-30T12:44:30.663Z"
   },
   {
    "duration": 43,
    "start_time": "2025-04-30T12:44:30.688Z"
   },
   {
    "duration": 50,
    "start_time": "2025-04-30T12:44:30.733Z"
   },
   {
    "duration": 841,
    "start_time": "2025-04-30T12:44:30.785Z"
   },
   {
    "duration": 44,
    "start_time": "2025-04-30T12:44:31.628Z"
   },
   {
    "duration": 58,
    "start_time": "2025-04-30T12:44:31.673Z"
   },
   {
    "duration": 29,
    "start_time": "2025-04-30T12:44:31.733Z"
   },
   {
    "duration": 81,
    "start_time": "2025-04-30T12:44:31.764Z"
   },
   {
    "duration": 19773,
    "start_time": "2025-04-30T12:44:31.847Z"
   },
   {
    "duration": 114,
    "start_time": "2025-04-30T12:44:51.622Z"
   },
   {
    "duration": 120,
    "start_time": "2025-04-30T12:44:51.737Z"
   },
   {
    "duration": 107,
    "start_time": "2025-04-30T12:44:51.858Z"
   },
   {
    "duration": 2291,
    "start_time": "2025-04-30T12:50:20.043Z"
   },
   {
    "duration": 1297,
    "start_time": "2025-04-30T12:50:22.336Z"
   },
   {
    "duration": 828,
    "start_time": "2025-04-30T12:50:23.635Z"
   },
   {
    "duration": 151,
    "start_time": "2025-04-30T12:50:24.464Z"
   },
   {
    "duration": 6,
    "start_time": "2025-04-30T12:50:24.617Z"
   },
   {
    "duration": 404,
    "start_time": "2025-04-30T12:50:24.624Z"
   },
   {
    "duration": 211,
    "start_time": "2025-04-30T12:50:25.029Z"
   },
   {
    "duration": 274,
    "start_time": "2025-04-30T12:50:25.242Z"
   },
   {
    "duration": 549,
    "start_time": "2025-04-30T12:50:25.518Z"
   },
   {
    "duration": 135,
    "start_time": "2025-04-30T12:50:26.068Z"
   },
   {
    "duration": 36,
    "start_time": "2025-04-30T12:50:26.205Z"
   },
   {
    "duration": 523,
    "start_time": "2025-04-30T12:50:26.242Z"
   },
   {
    "duration": 24,
    "start_time": "2025-04-30T12:50:26.766Z"
   },
   {
    "duration": 24,
    "start_time": "2025-04-30T12:50:26.793Z"
   },
   {
    "duration": 71,
    "start_time": "2025-04-30T12:50:26.819Z"
   },
   {
    "duration": 810,
    "start_time": "2025-04-30T12:50:26.892Z"
   },
   {
    "duration": 36,
    "start_time": "2025-04-30T12:50:27.703Z"
   },
   {
    "duration": 81,
    "start_time": "2025-04-30T12:50:27.741Z"
   },
   {
    "duration": 19,
    "start_time": "2025-04-30T12:50:27.823Z"
   },
   {
    "duration": 56,
    "start_time": "2025-04-30T12:50:27.843Z"
   },
   {
    "duration": 19369,
    "start_time": "2025-04-30T12:50:27.900Z"
   },
   {
    "duration": 113,
    "start_time": "2025-04-30T12:50:47.271Z"
   },
   {
    "duration": 121,
    "start_time": "2025-04-30T12:50:47.386Z"
   },
   {
    "duration": 107,
    "start_time": "2025-04-30T12:50:47.508Z"
   },
   {
    "duration": 243784,
    "start_time": "2025-04-30T12:50:47.617Z"
   },
   {
    "duration": 12,
    "start_time": "2025-04-30T12:54:53.727Z"
   },
   {
    "duration": 10,
    "start_time": "2025-04-30T12:55:11.439Z"
   },
   {
    "duration": 90,
    "start_time": "2025-04-30T12:55:22.967Z"
   },
   {
    "duration": 49262,
    "start_time": "2025-04-30T12:55:39.901Z"
   },
   {
    "duration": 1,
    "start_time": "2025-04-30T12:56:29.164Z"
   },
   {
    "duration": 20,
    "start_time": "2025-04-30T12:56:31.150Z"
   },
   {
    "duration": 2309,
    "start_time": "2025-04-30T12:56:36.854Z"
   },
   {
    "duration": 1236,
    "start_time": "2025-04-30T12:56:39.165Z"
   },
   {
    "duration": 855,
    "start_time": "2025-04-30T12:56:40.402Z"
   },
   {
    "duration": 152,
    "start_time": "2025-04-30T12:56:41.259Z"
   },
   {
    "duration": 6,
    "start_time": "2025-04-30T12:56:41.413Z"
   },
   {
    "duration": 405,
    "start_time": "2025-04-30T12:56:41.421Z"
   },
   {
    "duration": 221,
    "start_time": "2025-04-30T12:56:41.828Z"
   },
   {
    "duration": 272,
    "start_time": "2025-04-30T12:56:42.051Z"
   },
   {
    "duration": 563,
    "start_time": "2025-04-30T12:56:42.324Z"
   },
   {
    "duration": 126,
    "start_time": "2025-04-30T12:56:42.889Z"
   },
   {
    "duration": 47,
    "start_time": "2025-04-30T12:56:43.016Z"
   },
   {
    "duration": 517,
    "start_time": "2025-04-30T12:56:43.065Z"
   },
   {
    "duration": 23,
    "start_time": "2025-04-30T12:56:43.583Z"
   },
   {
    "duration": 34,
    "start_time": "2025-04-30T12:56:43.608Z"
   },
   {
    "duration": 53,
    "start_time": "2025-04-30T12:56:43.662Z"
   },
   {
    "duration": 834,
    "start_time": "2025-04-30T12:56:43.716Z"
   },
   {
    "duration": 53,
    "start_time": "2025-04-30T12:56:44.552Z"
   },
   {
    "duration": 83,
    "start_time": "2025-04-30T12:56:44.606Z"
   },
   {
    "duration": 13,
    "start_time": "2025-04-30T12:56:44.691Z"
   },
   {
    "duration": 81,
    "start_time": "2025-04-30T12:56:44.705Z"
   },
   {
    "duration": 20274,
    "start_time": "2025-04-30T12:56:44.788Z"
   },
   {
    "duration": 119,
    "start_time": "2025-04-30T12:57:05.064Z"
   },
   {
    "duration": 121,
    "start_time": "2025-04-30T12:57:05.184Z"
   },
   {
    "duration": 109,
    "start_time": "2025-04-30T12:57:05.306Z"
   },
   {
    "duration": 1760,
    "start_time": "2025-04-30T12:57:05.416Z"
   },
   {
    "duration": 22131,
    "start_time": "2025-04-30T12:58:16.375Z"
   },
   {
    "duration": 887,
    "start_time": "2025-04-30T12:58:56.656Z"
   },
   {
    "duration": 1666,
    "start_time": "2025-04-30T13:38:07.871Z"
   },
   {
    "duration": 2445,
    "start_time": "2025-04-30T13:38:14.353Z"
   },
   {
    "duration": 1235,
    "start_time": "2025-04-30T13:38:16.800Z"
   },
   {
    "duration": 808,
    "start_time": "2025-04-30T13:38:18.038Z"
   },
   {
    "duration": 141,
    "start_time": "2025-04-30T13:38:18.848Z"
   },
   {
    "duration": 7,
    "start_time": "2025-04-30T13:38:18.991Z"
   },
   {
    "duration": 369,
    "start_time": "2025-04-30T13:38:18.999Z"
   },
   {
    "duration": 207,
    "start_time": "2025-04-30T13:38:19.370Z"
   },
   {
    "duration": 273,
    "start_time": "2025-04-30T13:38:19.579Z"
   },
   {
    "duration": 575,
    "start_time": "2025-04-30T13:38:19.853Z"
   },
   {
    "duration": 132,
    "start_time": "2025-04-30T13:38:20.430Z"
   },
   {
    "duration": 36,
    "start_time": "2025-04-30T13:38:20.564Z"
   },
   {
    "duration": 530,
    "start_time": "2025-04-30T13:38:20.601Z"
   },
   {
    "duration": 36,
    "start_time": "2025-04-30T13:38:21.135Z"
   },
   {
    "duration": 27,
    "start_time": "2025-04-30T13:38:21.173Z"
   },
   {
    "duration": 70,
    "start_time": "2025-04-30T13:38:21.201Z"
   },
   {
    "duration": 810,
    "start_time": "2025-04-30T13:38:21.273Z"
   },
   {
    "duration": 35,
    "start_time": "2025-04-30T13:38:22.085Z"
   },
   {
    "duration": 73,
    "start_time": "2025-04-30T13:38:22.121Z"
   },
   {
    "duration": 12,
    "start_time": "2025-04-30T13:38:22.195Z"
   },
   {
    "duration": 56,
    "start_time": "2025-04-30T13:38:22.208Z"
   },
   {
    "duration": 19416,
    "start_time": "2025-04-30T13:38:22.265Z"
   },
   {
    "duration": 116,
    "start_time": "2025-04-30T13:38:41.682Z"
   },
   {
    "duration": 121,
    "start_time": "2025-04-30T13:38:41.800Z"
   },
   {
    "duration": 1649,
    "start_time": "2025-04-30T13:38:41.923Z"
   },
   {
    "duration": 0,
    "start_time": "2025-04-30T13:38:43.574Z"
   },
   {
    "duration": 0,
    "start_time": "2025-04-30T13:38:43.575Z"
   },
   {
    "duration": 0,
    "start_time": "2025-04-30T13:38:43.576Z"
   },
   {
    "duration": 0,
    "start_time": "2025-04-30T13:38:43.577Z"
   },
   {
    "duration": 0,
    "start_time": "2025-04-30T13:38:43.578Z"
   },
   {
    "duration": 18,
    "start_time": "2025-04-30T13:39:09.451Z"
   },
   {
    "duration": 101,
    "start_time": "2025-04-30T13:40:11.128Z"
   },
   {
    "duration": 3593,
    "start_time": "2025-04-30T13:40:30.577Z"
   },
   {
    "duration": 823,
    "start_time": "2025-04-30T13:40:37.572Z"
   },
   {
    "duration": 88,
    "start_time": "2025-04-30T13:45:29.519Z"
   },
   {
    "duration": 12,
    "start_time": "2025-04-30T13:57:12.536Z"
   },
   {
    "duration": 7,
    "start_time": "2025-04-30T13:58:31.569Z"
   },
   {
    "duration": 12,
    "start_time": "2025-04-30T13:58:37.382Z"
   },
   {
    "duration": 26,
    "start_time": "2025-04-30T13:59:01.167Z"
   },
   {
    "duration": 15,
    "start_time": "2025-04-30T13:59:05.046Z"
   },
   {
    "duration": 3,
    "start_time": "2025-04-30T14:01:48.747Z"
   },
   {
    "duration": 11,
    "start_time": "2025-04-30T14:01:52.709Z"
   },
   {
    "duration": 3,
    "start_time": "2025-04-30T14:03:45.898Z"
   },
   {
    "duration": 12,
    "start_time": "2025-04-30T14:03:49.872Z"
   },
   {
    "duration": 6,
    "start_time": "2025-04-30T14:04:23.340Z"
   },
   {
    "duration": 25,
    "start_time": "2025-04-30T14:04:26.070Z"
   },
   {
    "duration": 12,
    "start_time": "2025-04-30T14:16:36.391Z"
   },
   {
    "duration": 11,
    "start_time": "2025-04-30T14:17:04.379Z"
   },
   {
    "duration": 4,
    "start_time": "2025-04-30T14:17:43.522Z"
   },
   {
    "duration": 1558,
    "start_time": "2025-04-30T14:17:51.118Z"
   },
   {
    "duration": 22,
    "start_time": "2025-04-30T14:21:28.706Z"
   },
   {
    "duration": 2404,
    "start_time": "2025-04-30T14:23:20.012Z"
   },
   {
    "duration": 1234,
    "start_time": "2025-04-30T14:23:22.418Z"
   },
   {
    "duration": 870,
    "start_time": "2025-04-30T14:23:23.654Z"
   },
   {
    "duration": 149,
    "start_time": "2025-04-30T14:23:24.526Z"
   },
   {
    "duration": 13,
    "start_time": "2025-04-30T14:23:24.676Z"
   },
   {
    "duration": 380,
    "start_time": "2025-04-30T14:23:24.690Z"
   },
   {
    "duration": 205,
    "start_time": "2025-04-30T14:23:25.072Z"
   },
   {
    "duration": 288,
    "start_time": "2025-04-30T14:23:25.278Z"
   },
   {
    "duration": 587,
    "start_time": "2025-04-30T14:23:25.567Z"
   },
   {
    "duration": 133,
    "start_time": "2025-04-30T14:23:26.161Z"
   },
   {
    "duration": 38,
    "start_time": "2025-04-30T14:23:26.295Z"
   },
   {
    "duration": 565,
    "start_time": "2025-04-30T14:23:26.335Z"
   },
   {
    "duration": 26,
    "start_time": "2025-04-30T14:23:26.902Z"
   },
   {
    "duration": 49,
    "start_time": "2025-04-30T14:23:26.930Z"
   },
   {
    "duration": 59,
    "start_time": "2025-04-30T14:23:26.980Z"
   },
   {
    "duration": 897,
    "start_time": "2025-04-30T14:23:27.041Z"
   },
   {
    "duration": 58,
    "start_time": "2025-04-30T14:23:27.939Z"
   },
   {
    "duration": 81,
    "start_time": "2025-04-30T14:23:28.000Z"
   },
   {
    "duration": 16,
    "start_time": "2025-04-30T14:23:28.082Z"
   },
   {
    "duration": 70,
    "start_time": "2025-04-30T14:23:28.099Z"
   },
   {
    "duration": 20770,
    "start_time": "2025-04-30T14:23:28.171Z"
   },
   {
    "duration": 129,
    "start_time": "2025-04-30T14:23:48.942Z"
   },
   {
    "duration": 132,
    "start_time": "2025-04-30T14:23:49.072Z"
   },
   {
    "duration": 17,
    "start_time": "2025-04-30T14:23:49.206Z"
   },
   {
    "duration": 120,
    "start_time": "2025-04-30T14:23:49.225Z"
   },
   {
    "duration": 5098,
    "start_time": "2025-04-30T14:23:49.347Z"
   },
   {
    "duration": 768,
    "start_time": "2025-04-30T14:23:54.447Z"
   },
   {
    "duration": 93,
    "start_time": "2025-04-30T14:23:55.217Z"
   },
   {
    "duration": 23,
    "start_time": "2025-04-30T14:23:55.312Z"
   },
   {
    "duration": 189342,
    "start_time": "2025-04-30T14:23:55.337Z"
   },
   {
    "duration": 0,
    "start_time": "2025-04-30T14:27:04.681Z"
   },
   {
    "duration": 24,
    "start_time": "2025-04-30T14:27:07.611Z"
   },
   {
    "duration": 2290,
    "start_time": "2025-04-30T14:28:14.708Z"
   },
   {
    "duration": 1232,
    "start_time": "2025-04-30T14:28:17.000Z"
   },
   {
    "duration": 822,
    "start_time": "2025-04-30T14:28:18.233Z"
   },
   {
    "duration": 140,
    "start_time": "2025-04-30T14:28:19.056Z"
   },
   {
    "duration": 5,
    "start_time": "2025-04-30T14:28:19.198Z"
   },
   {
    "duration": 372,
    "start_time": "2025-04-30T14:28:19.205Z"
   },
   {
    "duration": 199,
    "start_time": "2025-04-30T14:28:19.579Z"
   },
   {
    "duration": 283,
    "start_time": "2025-04-30T14:28:19.780Z"
   },
   {
    "duration": 571,
    "start_time": "2025-04-30T14:28:20.064Z"
   },
   {
    "duration": 132,
    "start_time": "2025-04-30T14:28:20.637Z"
   },
   {
    "duration": 36,
    "start_time": "2025-04-30T14:28:20.771Z"
   },
   {
    "duration": 523,
    "start_time": "2025-04-30T14:28:20.808Z"
   },
   {
    "duration": 37,
    "start_time": "2025-04-30T14:28:21.332Z"
   },
   {
    "duration": 26,
    "start_time": "2025-04-30T14:28:21.371Z"
   },
   {
    "duration": 64,
    "start_time": "2025-04-30T14:28:21.399Z"
   },
   {
    "duration": 885,
    "start_time": "2025-04-30T14:28:21.464Z"
   },
   {
    "duration": 41,
    "start_time": "2025-04-30T14:28:22.350Z"
   },
   {
    "duration": 58,
    "start_time": "2025-04-30T14:28:22.392Z"
   },
   {
    "duration": 13,
    "start_time": "2025-04-30T14:28:22.461Z"
   },
   {
    "duration": 50,
    "start_time": "2025-04-30T14:28:22.476Z"
   },
   {
    "duration": 19263,
    "start_time": "2025-04-30T14:28:22.528Z"
   },
   {
    "duration": 126,
    "start_time": "2025-04-30T14:28:41.793Z"
   },
   {
    "duration": 122,
    "start_time": "2025-04-30T14:28:41.920Z"
   },
   {
    "duration": 30,
    "start_time": "2025-04-30T14:28:42.044Z"
   },
   {
    "duration": 107,
    "start_time": "2025-04-30T14:28:42.075Z"
   },
   {
    "duration": 4805,
    "start_time": "2025-04-30T14:28:42.184Z"
   },
   {
    "duration": 716,
    "start_time": "2025-04-30T14:28:46.991Z"
   },
   {
    "duration": 90,
    "start_time": "2025-04-30T14:28:47.708Z"
   },
   {
    "duration": 24,
    "start_time": "2025-04-30T14:28:47.800Z"
   },
   {
    "duration": 5303,
    "start_time": "2025-04-30T14:33:31.494Z"
   },
   {
    "duration": 1298,
    "start_time": "2025-04-30T14:33:36.799Z"
   },
   {
    "duration": 852,
    "start_time": "2025-04-30T14:33:38.099Z"
   },
   {
    "duration": 144,
    "start_time": "2025-04-30T14:33:38.953Z"
   },
   {
    "duration": 24,
    "start_time": "2025-04-30T14:33:39.099Z"
   },
   {
    "duration": 384,
    "start_time": "2025-04-30T14:33:39.125Z"
   },
   {
    "duration": 230,
    "start_time": "2025-04-30T14:33:39.511Z"
   },
   {
    "duration": 281,
    "start_time": "2025-04-30T14:33:39.743Z"
   },
   {
    "duration": 628,
    "start_time": "2025-04-30T14:33:40.028Z"
   },
   {
    "duration": 140,
    "start_time": "2025-04-30T14:33:40.661Z"
   },
   {
    "duration": 37,
    "start_time": "2025-04-30T14:33:40.803Z"
   },
   {
    "duration": 553,
    "start_time": "2025-04-30T14:33:40.842Z"
   },
   {
    "duration": 24,
    "start_time": "2025-04-30T14:33:41.397Z"
   },
   {
    "duration": 44,
    "start_time": "2025-04-30T14:33:41.423Z"
   },
   {
    "duration": 66,
    "start_time": "2025-04-30T14:33:41.469Z"
   },
   {
    "duration": 904,
    "start_time": "2025-04-30T14:33:41.536Z"
   },
   {
    "duration": 53,
    "start_time": "2025-04-30T14:33:42.442Z"
   },
   {
    "duration": 83,
    "start_time": "2025-04-30T14:33:42.497Z"
   },
   {
    "duration": 15,
    "start_time": "2025-04-30T14:33:42.582Z"
   },
   {
    "duration": 80,
    "start_time": "2025-04-30T14:33:42.598Z"
   },
   {
    "duration": 19710,
    "start_time": "2025-04-30T14:33:42.680Z"
   },
   {
    "duration": 121,
    "start_time": "2025-04-30T14:34:02.392Z"
   },
   {
    "duration": 121,
    "start_time": "2025-04-30T14:34:02.515Z"
   },
   {
    "duration": 26,
    "start_time": "2025-04-30T14:34:02.638Z"
   },
   {
    "duration": 111,
    "start_time": "2025-04-30T14:34:02.665Z"
   },
   {
    "duration": 4817,
    "start_time": "2025-04-30T14:34:02.778Z"
   },
   {
    "duration": 754,
    "start_time": "2025-04-30T14:34:07.597Z"
   },
   {
    "duration": 93,
    "start_time": "2025-04-30T14:34:08.354Z"
   },
   {
    "duration": 28,
    "start_time": "2025-04-30T14:34:08.448Z"
   },
   {
    "duration": 0,
    "start_time": "2025-04-30T14:50:34.003Z"
   },
   {
    "duration": 0,
    "start_time": "2025-04-30T14:50:34.004Z"
   },
   {
    "duration": 5506,
    "start_time": "2025-04-30T14:50:39.936Z"
   },
   {
    "duration": 1301,
    "start_time": "2025-04-30T14:50:45.445Z"
   },
   {
    "duration": 900,
    "start_time": "2025-04-30T14:50:46.748Z"
   },
   {
    "duration": 156,
    "start_time": "2025-04-30T14:50:47.650Z"
   },
   {
    "duration": 6,
    "start_time": "2025-04-30T14:50:47.808Z"
   },
   {
    "duration": 438,
    "start_time": "2025-04-30T14:50:47.815Z"
   },
   {
    "duration": 223,
    "start_time": "2025-04-30T14:50:48.263Z"
   },
   {
    "duration": 313,
    "start_time": "2025-04-30T14:50:48.487Z"
   },
   {
    "duration": 619,
    "start_time": "2025-04-30T14:50:48.802Z"
   },
   {
    "duration": 135,
    "start_time": "2025-04-30T14:50:49.423Z"
   },
   {
    "duration": 45,
    "start_time": "2025-04-30T14:50:49.564Z"
   },
   {
    "duration": 620,
    "start_time": "2025-04-30T14:50:49.611Z"
   },
   {
    "duration": 43,
    "start_time": "2025-04-30T14:50:50.232Z"
   },
   {
    "duration": 32,
    "start_time": "2025-04-30T14:50:50.277Z"
   },
   {
    "duration": 65,
    "start_time": "2025-04-30T14:50:50.311Z"
   },
   {
    "duration": 898,
    "start_time": "2025-04-30T14:50:50.378Z"
   },
   {
    "duration": 37,
    "start_time": "2025-04-30T14:50:51.277Z"
   },
   {
    "duration": 82,
    "start_time": "2025-04-30T14:50:51.316Z"
   },
   {
    "duration": 12,
    "start_time": "2025-04-30T14:50:51.400Z"
   },
   {
    "duration": 64,
    "start_time": "2025-04-30T14:50:51.414Z"
   },
   {
    "duration": 20811,
    "start_time": "2025-04-30T14:50:51.479Z"
   },
   {
    "duration": 125,
    "start_time": "2025-04-30T14:51:12.292Z"
   },
   {
    "duration": 128,
    "start_time": "2025-04-30T14:51:12.419Z"
   },
   {
    "duration": 31,
    "start_time": "2025-04-30T14:51:12.548Z"
   },
   {
    "duration": 110,
    "start_time": "2025-04-30T14:51:12.581Z"
   },
   {
    "duration": 5395,
    "start_time": "2025-04-30T14:51:12.693Z"
   },
   {
    "duration": 845,
    "start_time": "2025-04-30T14:51:18.090Z"
   },
   {
    "duration": 97,
    "start_time": "2025-04-30T14:51:18.937Z"
   },
   {
    "duration": 46,
    "start_time": "2025-04-30T14:51:19.035Z"
   },
   {
    "duration": 123,
    "start_time": "2025-04-30T14:51:19.084Z"
   },
   {
    "duration": 5198,
    "start_time": "2025-04-30T14:54:05.468Z"
   },
   {
    "duration": 1269,
    "start_time": "2025-04-30T14:54:10.668Z"
   },
   {
    "duration": 818,
    "start_time": "2025-04-30T14:54:11.939Z"
   },
   {
    "duration": 136,
    "start_time": "2025-04-30T14:54:12.761Z"
   },
   {
    "duration": 5,
    "start_time": "2025-04-30T14:54:12.899Z"
   },
   {
    "duration": 379,
    "start_time": "2025-04-30T14:54:12.906Z"
   },
   {
    "duration": 202,
    "start_time": "2025-04-30T14:54:13.286Z"
   },
   {
    "duration": 263,
    "start_time": "2025-04-30T14:54:13.490Z"
   },
   {
    "duration": 586,
    "start_time": "2025-04-30T14:54:13.755Z"
   },
   {
    "duration": 126,
    "start_time": "2025-04-30T14:54:14.342Z"
   },
   {
    "duration": 35,
    "start_time": "2025-04-30T14:54:14.469Z"
   },
   {
    "duration": 522,
    "start_time": "2025-04-30T14:54:14.506Z"
   },
   {
    "duration": 22,
    "start_time": "2025-04-30T14:54:15.030Z"
   },
   {
    "duration": 104,
    "start_time": "2025-04-30T14:54:15.063Z"
   },
   {
    "duration": 52,
    "start_time": "2025-04-30T14:54:15.168Z"
   },
   {
    "duration": 910,
    "start_time": "2025-04-30T14:54:15.222Z"
   },
   {
    "duration": 46,
    "start_time": "2025-04-30T14:54:16.134Z"
   },
   {
    "duration": 59,
    "start_time": "2025-04-30T14:54:16.181Z"
   },
   {
    "duration": 30,
    "start_time": "2025-04-30T14:54:16.242Z"
   },
   {
    "duration": 50,
    "start_time": "2025-04-30T14:54:16.273Z"
   },
   {
    "duration": 19010,
    "start_time": "2025-04-30T14:54:16.324Z"
   },
   {
    "duration": 122,
    "start_time": "2025-04-30T14:54:35.336Z"
   },
   {
    "duration": 122,
    "start_time": "2025-04-30T14:54:35.461Z"
   },
   {
    "duration": 17,
    "start_time": "2025-04-30T14:54:35.584Z"
   },
   {
    "duration": 111,
    "start_time": "2025-04-30T14:54:35.603Z"
   },
   {
    "duration": 4812,
    "start_time": "2025-04-30T14:54:35.715Z"
   },
   {
    "duration": 763,
    "start_time": "2025-04-30T14:54:40.528Z"
   },
   {
    "duration": 86,
    "start_time": "2025-04-30T14:54:41.293Z"
   },
   {
    "duration": 23,
    "start_time": "2025-04-30T14:54:41.381Z"
   },
   {
    "duration": 308364,
    "start_time": "2025-04-30T14:54:41.406Z"
   },
   {
    "duration": 4,
    "start_time": "2025-04-30T14:59:56.117Z"
   },
   {
    "duration": 28,
    "start_time": "2025-04-30T15:05:36.475Z"
   },
   {
    "duration": 334759,
    "start_time": "2025-04-30T15:05:51.143Z"
   },
   {
    "duration": 0,
    "start_time": "2025-04-30T15:11:25.904Z"
   },
   {
    "duration": 5501,
    "start_time": "2025-04-30T15:11:35.274Z"
   },
   {
    "duration": 1292,
    "start_time": "2025-04-30T15:11:40.777Z"
   },
   {
    "duration": 867,
    "start_time": "2025-04-30T15:11:42.071Z"
   },
   {
    "duration": 142,
    "start_time": "2025-04-30T15:11:42.940Z"
   },
   {
    "duration": 6,
    "start_time": "2025-04-30T15:11:43.084Z"
   },
   {
    "duration": 352,
    "start_time": "2025-04-30T15:11:43.091Z"
   },
   {
    "duration": 222,
    "start_time": "2025-04-30T15:11:43.444Z"
   },
   {
    "duration": 280,
    "start_time": "2025-04-30T15:11:43.667Z"
   },
   {
    "duration": 588,
    "start_time": "2025-04-30T15:11:43.948Z"
   },
   {
    "duration": 134,
    "start_time": "2025-04-30T15:11:44.537Z"
   },
   {
    "duration": 37,
    "start_time": "2025-04-30T15:11:44.673Z"
   },
   {
    "duration": 550,
    "start_time": "2025-04-30T15:11:44.712Z"
   },
   {
    "duration": 25,
    "start_time": "2025-04-30T15:11:45.263Z"
   },
   {
    "duration": 86,
    "start_time": "2025-04-30T15:11:45.291Z"
   },
   {
    "duration": 65,
    "start_time": "2025-04-30T15:11:45.378Z"
   },
   {
    "duration": 893,
    "start_time": "2025-04-30T15:11:45.444Z"
   },
   {
    "duration": 50,
    "start_time": "2025-04-30T15:11:46.338Z"
   },
   {
    "duration": 77,
    "start_time": "2025-04-30T15:11:46.389Z"
   },
   {
    "duration": 14,
    "start_time": "2025-04-30T15:11:46.467Z"
   },
   {
    "duration": 66,
    "start_time": "2025-04-30T15:11:46.482Z"
   },
   {
    "duration": 20375,
    "start_time": "2025-04-30T15:11:46.549Z"
   },
   {
    "duration": 120,
    "start_time": "2025-04-30T15:12:06.925Z"
   },
   {
    "duration": 127,
    "start_time": "2025-04-30T15:12:07.046Z"
   },
   {
    "duration": 17,
    "start_time": "2025-04-30T15:12:07.174Z"
   },
   {
    "duration": 117,
    "start_time": "2025-04-30T15:12:07.192Z"
   },
   {
    "duration": 4900,
    "start_time": "2025-04-30T15:12:07.310Z"
   },
   {
    "duration": 758,
    "start_time": "2025-04-30T15:12:12.212Z"
   },
   {
    "duration": 96,
    "start_time": "2025-04-30T15:12:12.971Z"
   },
   {
    "duration": 27,
    "start_time": "2025-04-30T15:12:13.068Z"
   },
   {
    "duration": 3,
    "start_time": "2025-04-30T15:12:13.097Z"
   },
   {
    "duration": 229578,
    "start_time": "2025-04-30T15:12:13.101Z"
   },
   {
    "duration": 9708,
    "start_time": "2025-04-30T19:15:38.514Z"
   },
   {
    "duration": 1462,
    "start_time": "2025-04-30T19:15:48.224Z"
   },
   {
    "duration": 865,
    "start_time": "2025-04-30T19:15:49.687Z"
   },
   {
    "duration": 163,
    "start_time": "2025-04-30T19:15:50.553Z"
   },
   {
    "duration": 12,
    "start_time": "2025-04-30T19:15:50.718Z"
   },
   {
    "duration": 391,
    "start_time": "2025-04-30T19:15:50.731Z"
   },
   {
    "duration": 228,
    "start_time": "2025-04-30T19:15:51.124Z"
   },
   {
    "duration": 309,
    "start_time": "2025-04-30T19:15:51.353Z"
   },
   {
    "duration": 572,
    "start_time": "2025-04-30T19:15:51.664Z"
   },
   {
    "duration": 130,
    "start_time": "2025-04-30T19:15:52.238Z"
   },
   {
    "duration": 41,
    "start_time": "2025-04-30T19:15:52.369Z"
   },
   {
    "duration": 630,
    "start_time": "2025-04-30T19:15:52.411Z"
   },
   {
    "duration": 32,
    "start_time": "2025-04-30T19:15:53.043Z"
   },
   {
    "duration": 54,
    "start_time": "2025-04-30T19:15:53.078Z"
   },
   {
    "duration": 52,
    "start_time": "2025-04-30T19:15:53.134Z"
   },
   {
    "duration": 850,
    "start_time": "2025-04-30T19:15:53.187Z"
   },
   {
    "duration": 48,
    "start_time": "2025-04-30T19:15:54.039Z"
   },
   {
    "duration": 86,
    "start_time": "2025-04-30T19:15:54.088Z"
   },
   {
    "duration": 13,
    "start_time": "2025-04-30T19:15:54.176Z"
   },
   {
    "duration": 84,
    "start_time": "2025-04-30T19:15:54.191Z"
   },
   {
    "duration": 19840,
    "start_time": "2025-04-30T19:15:54.276Z"
   },
   {
    "duration": 123,
    "start_time": "2025-04-30T19:16:14.117Z"
   },
   {
    "duration": 128,
    "start_time": "2025-04-30T19:16:14.242Z"
   },
   {
    "duration": 18,
    "start_time": "2025-04-30T19:16:14.372Z"
   },
   {
    "duration": 113,
    "start_time": "2025-04-30T19:16:14.391Z"
   },
   {
    "duration": 4964,
    "start_time": "2025-04-30T19:16:14.506Z"
   },
   {
    "duration": 791,
    "start_time": "2025-04-30T19:16:19.472Z"
   },
   {
    "duration": 99,
    "start_time": "2025-04-30T19:16:20.265Z"
   },
   {
    "duration": 30,
    "start_time": "2025-04-30T19:16:20.366Z"
   },
   {
    "duration": 4,
    "start_time": "2025-04-30T19:16:20.398Z"
   },
   {
    "duration": 229458,
    "start_time": "2025-04-30T19:16:20.404Z"
   },
   {
    "duration": 59,
    "start_time": "2025-04-30T19:25:27.113Z"
   },
   {
    "duration": 121,
    "start_time": "2025-04-30T19:39:36.869Z"
   },
   {
    "duration": 12,
    "start_time": "2025-04-30T19:40:35.438Z"
   },
   {
    "duration": 6074,
    "start_time": "2025-04-30T19:40:45.400Z"
   },
   {
    "duration": 1382,
    "start_time": "2025-04-30T19:40:51.477Z"
   },
   {
    "duration": 941,
    "start_time": "2025-04-30T19:40:52.864Z"
   },
   {
    "duration": 192,
    "start_time": "2025-04-30T19:40:53.809Z"
   },
   {
    "duration": 11,
    "start_time": "2025-04-30T19:40:54.003Z"
   },
   {
    "duration": 479,
    "start_time": "2025-04-30T19:40:54.015Z"
   },
   {
    "duration": 251,
    "start_time": "2025-04-30T19:40:54.497Z"
   },
   {
    "duration": 323,
    "start_time": "2025-04-30T19:40:54.750Z"
   },
   {
    "duration": 679,
    "start_time": "2025-04-30T19:40:55.075Z"
   },
   {
    "duration": 228,
    "start_time": "2025-04-30T19:40:55.763Z"
   },
   {
    "duration": 55,
    "start_time": "2025-04-30T19:40:55.993Z"
   },
   {
    "duration": 625,
    "start_time": "2025-04-30T19:40:56.050Z"
   },
   {
    "duration": 39,
    "start_time": "2025-04-30T19:40:56.677Z"
   },
   {
    "duration": 28,
    "start_time": "2025-04-30T19:40:56.718Z"
   },
   {
    "duration": 76,
    "start_time": "2025-04-30T19:40:56.748Z"
   },
   {
    "duration": 945,
    "start_time": "2025-04-30T19:40:56.825Z"
   },
   {
    "duration": 38,
    "start_time": "2025-04-30T19:40:57.776Z"
   },
   {
    "duration": 97,
    "start_time": "2025-04-30T19:40:57.816Z"
   },
   {
    "duration": 21,
    "start_time": "2025-04-30T19:40:57.916Z"
   },
   {
    "duration": 83,
    "start_time": "2025-04-30T19:40:57.940Z"
   },
   {
    "duration": 21206,
    "start_time": "2025-04-30T19:40:58.025Z"
   },
   {
    "duration": 124,
    "start_time": "2025-04-30T19:41:19.234Z"
   },
   {
    "duration": 141,
    "start_time": "2025-04-30T19:41:19.360Z"
   },
   {
    "duration": 19,
    "start_time": "2025-04-30T19:41:19.503Z"
   },
   {
    "duration": 120,
    "start_time": "2025-04-30T19:41:19.523Z"
   },
   {
    "duration": 5304,
    "start_time": "2025-04-30T19:41:19.644Z"
   },
   {
    "duration": 833,
    "start_time": "2025-04-30T19:41:24.950Z"
   },
   {
    "duration": 101,
    "start_time": "2025-04-30T19:41:25.787Z"
   },
   {
    "duration": 30,
    "start_time": "2025-04-30T19:41:25.889Z"
   },
   {
    "duration": 4,
    "start_time": "2025-04-30T19:41:25.921Z"
   },
   {
    "duration": 242061,
    "start_time": "2025-04-30T19:41:25.927Z"
   },
   {
    "duration": 133,
    "start_time": "2025-04-30T19:45:27.990Z"
   },
   {
    "duration": 135,
    "start_time": "2025-04-30T19:45:28.124Z"
   },
   {
    "duration": 26,
    "start_time": "2025-04-30T19:47:48.435Z"
   },
   {
    "duration": 328418,
    "start_time": "2025-04-30T19:48:45.980Z"
   },
   {
    "duration": 27,
    "start_time": "2025-04-30T19:54:17.149Z"
   },
   {
    "duration": 20,
    "start_time": "2025-04-30T19:55:40.980Z"
   },
   {
    "duration": 143084,
    "start_time": "2025-04-30T19:56:11.227Z"
   },
   {
    "duration": 460834,
    "start_time": "2025-04-30T20:00:58.461Z"
   },
   {
    "duration": 0,
    "start_time": "2025-04-30T20:08:39.297Z"
   },
   {
    "duration": 5606,
    "start_time": "2025-04-30T20:08:46.198Z"
   },
   {
    "duration": 4636,
    "start_time": "2025-04-30T20:08:51.806Z"
   },
   {
    "duration": 1408,
    "start_time": "2025-04-30T20:08:56.444Z"
   },
   {
    "duration": 948,
    "start_time": "2025-04-30T20:08:57.854Z"
   },
   {
    "duration": 170,
    "start_time": "2025-04-30T20:08:58.804Z"
   },
   {
    "duration": 9,
    "start_time": "2025-04-30T20:08:58.982Z"
   },
   {
    "duration": 393,
    "start_time": "2025-04-30T20:08:58.992Z"
   },
   {
    "duration": 240,
    "start_time": "2025-04-30T20:08:59.387Z"
   },
   {
    "duration": 302,
    "start_time": "2025-04-30T20:08:59.629Z"
   },
   {
    "duration": 650,
    "start_time": "2025-04-30T20:08:59.933Z"
   },
   {
    "duration": 135,
    "start_time": "2025-04-30T20:09:00.585Z"
   },
   {
    "duration": 53,
    "start_time": "2025-04-30T20:09:00.722Z"
   },
   {
    "duration": 585,
    "start_time": "2025-04-30T20:09:00.776Z"
   },
   {
    "duration": 33,
    "start_time": "2025-04-30T20:09:01.371Z"
   },
   {
    "duration": 26,
    "start_time": "2025-04-30T20:09:01.406Z"
   },
   {
    "duration": 66,
    "start_time": "2025-04-30T20:09:01.433Z"
   },
   {
    "duration": 984,
    "start_time": "2025-04-30T20:09:01.501Z"
   },
   {
    "duration": 38,
    "start_time": "2025-04-30T20:09:02.487Z"
   },
   {
    "duration": 155,
    "start_time": "2025-04-30T20:09:02.526Z"
   },
   {
    "duration": 16,
    "start_time": "2025-04-30T20:09:02.683Z"
   },
   {
    "duration": 52,
    "start_time": "2025-04-30T20:09:02.701Z"
   },
   {
    "duration": 20659,
    "start_time": "2025-04-30T20:09:02.754Z"
   },
   {
    "duration": 115,
    "start_time": "2025-04-30T20:09:23.414Z"
   },
   {
    "duration": 122,
    "start_time": "2025-04-30T20:09:23.530Z"
   },
   {
    "duration": 36,
    "start_time": "2025-04-30T20:09:23.653Z"
   },
   {
    "duration": 105,
    "start_time": "2025-04-30T20:09:23.691Z"
   },
   {
    "duration": 5194,
    "start_time": "2025-04-30T20:09:23.797Z"
   },
   {
    "duration": 774,
    "start_time": "2025-04-30T20:09:28.993Z"
   },
   {
    "duration": 102,
    "start_time": "2025-04-30T20:09:29.769Z"
   },
   {
    "duration": 33,
    "start_time": "2025-04-30T20:09:29.880Z"
   },
   {
    "duration": 4,
    "start_time": "2025-04-30T20:09:29.914Z"
   },
   {
    "duration": 252565,
    "start_time": "2025-04-30T20:09:29.920Z"
   },
   {
    "duration": 135,
    "start_time": "2025-04-30T20:13:42.492Z"
   },
   {
    "duration": 594274,
    "start_time": "2025-04-30T20:13:42.628Z"
   },
   {
    "duration": 11428,
    "start_time": "2025-05-02T11:38:06.987Z"
   },
   {
    "duration": 5269,
    "start_time": "2025-05-02T11:38:18.418Z"
   },
   {
    "duration": 1887,
    "start_time": "2025-05-02T11:38:23.689Z"
   },
   {
    "duration": 1069,
    "start_time": "2025-05-02T11:38:25.578Z"
   },
   {
    "duration": 169,
    "start_time": "2025-05-02T11:38:26.649Z"
   },
   {
    "duration": 8,
    "start_time": "2025-05-02T11:38:26.820Z"
   },
   {
    "duration": 453,
    "start_time": "2025-05-02T11:38:26.830Z"
   },
   {
    "duration": 252,
    "start_time": "2025-05-02T11:38:27.285Z"
   },
   {
    "duration": 307,
    "start_time": "2025-05-02T11:38:27.538Z"
   },
   {
    "duration": 628,
    "start_time": "2025-05-02T11:38:27.847Z"
   },
   {
    "duration": 152,
    "start_time": "2025-05-02T11:38:28.477Z"
   },
   {
    "duration": 41,
    "start_time": "2025-05-02T11:38:28.631Z"
   },
   {
    "duration": 635,
    "start_time": "2025-05-02T11:38:28.674Z"
   },
   {
    "duration": 31,
    "start_time": "2025-05-02T11:38:29.313Z"
   },
   {
    "duration": 30,
    "start_time": "2025-05-02T11:38:29.346Z"
   },
   {
    "duration": 87,
    "start_time": "2025-05-02T11:38:29.378Z"
   },
   {
    "duration": 1085,
    "start_time": "2025-05-02T11:38:29.467Z"
   },
   {
    "duration": 40,
    "start_time": "2025-05-02T11:38:30.553Z"
   },
   {
    "duration": 94,
    "start_time": "2025-05-02T11:38:30.594Z"
   },
   {
    "duration": 36,
    "start_time": "2025-05-02T11:38:30.689Z"
   },
   {
    "duration": 69,
    "start_time": "2025-05-02T11:38:30.727Z"
   },
   {
    "duration": 24056,
    "start_time": "2025-05-02T11:38:30.798Z"
   },
   {
    "duration": 154,
    "start_time": "2025-05-02T11:38:54.856Z"
   },
   {
    "duration": 159,
    "start_time": "2025-05-02T11:38:55.012Z"
   },
   {
    "duration": 19,
    "start_time": "2025-05-02T11:38:55.173Z"
   },
   {
    "duration": 163,
    "start_time": "2025-05-02T11:38:55.193Z"
   },
   {
    "duration": 6084,
    "start_time": "2025-05-02T11:38:55.358Z"
   },
   {
    "duration": 922,
    "start_time": "2025-05-02T11:39:01.444Z"
   },
   {
    "duration": 99,
    "start_time": "2025-05-02T11:39:02.368Z"
   },
   {
    "duration": 38,
    "start_time": "2025-05-02T11:39:02.469Z"
   },
   {
    "duration": 5,
    "start_time": "2025-05-02T11:39:02.509Z"
   },
   {
    "duration": 271599,
    "start_time": "2025-05-02T11:39:02.517Z"
   },
   {
    "duration": 120,
    "start_time": "2025-05-02T11:43:34.118Z"
   },
   {
    "duration": 864416,
    "start_time": "2025-05-02T11:43:34.240Z"
   },
   {
    "duration": 373632,
    "start_time": "2025-05-02T11:58:29.225Z"
   },
   {
    "duration": 44,
    "start_time": "2025-05-02T12:11:40.036Z"
   },
   {
    "duration": 14,
    "start_time": "2025-05-02T12:14:43.919Z"
   },
   {
    "duration": 5,
    "start_time": "2025-05-02T12:15:30.348Z"
   },
   {
    "duration": 2725,
    "start_time": "2025-05-02T12:15:37.084Z"
   },
   {
    "duration": 2699,
    "start_time": "2025-05-02T12:15:52.914Z"
   },
   {
    "duration": 2684,
    "start_time": "2025-05-02T12:16:45.433Z"
   },
   {
    "duration": 2094,
    "start_time": "2025-05-02T12:17:36.030Z"
   },
   {
    "duration": 658,
    "start_time": "2025-05-02T12:29:46.060Z"
   },
   {
    "duration": 1419,
    "start_time": "2025-05-02T12:31:22.376Z"
   },
   {
    "duration": 3658,
    "start_time": "2025-05-02T12:32:38.455Z"
   },
   {
    "duration": 3405,
    "start_time": "2025-05-02T12:32:59.207Z"
   },
   {
    "duration": 9829,
    "start_time": "2025-05-04T11:20:39.245Z"
   },
   {
    "duration": 4778,
    "start_time": "2025-05-04T11:20:49.077Z"
   },
   {
    "duration": 1597,
    "start_time": "2025-05-04T11:20:53.856Z"
   },
   {
    "duration": 932,
    "start_time": "2025-05-04T11:20:55.455Z"
   },
   {
    "duration": 146,
    "start_time": "2025-05-04T11:20:56.389Z"
   },
   {
    "duration": 193,
    "start_time": "2025-05-04T11:20:56.537Z"
   },
   {
    "duration": 390,
    "start_time": "2025-05-04T11:20:56.732Z"
   },
   {
    "duration": 229,
    "start_time": "2025-05-04T11:20:57.125Z"
   },
   {
    "duration": 299,
    "start_time": "2025-05-04T11:20:57.356Z"
   },
   {
    "duration": 626,
    "start_time": "2025-05-04T11:20:57.657Z"
   },
   {
    "duration": 138,
    "start_time": "2025-05-04T11:20:58.285Z"
   },
   {
    "duration": 38,
    "start_time": "2025-05-04T11:20:58.425Z"
   },
   {
    "duration": 554,
    "start_time": "2025-05-04T11:20:58.464Z"
   },
   {
    "duration": 26,
    "start_time": "2025-05-04T11:20:59.021Z"
   },
   {
    "duration": 35,
    "start_time": "2025-05-04T11:20:59.049Z"
   },
   {
    "duration": 54,
    "start_time": "2025-05-04T11:20:59.085Z"
   },
   {
    "duration": 991,
    "start_time": "2025-05-04T11:20:59.141Z"
   },
   {
    "duration": 43,
    "start_time": "2025-05-04T11:21:00.134Z"
   },
   {
    "duration": 97,
    "start_time": "2025-05-04T11:21:00.179Z"
   },
   {
    "duration": 13,
    "start_time": "2025-05-04T11:21:00.278Z"
   },
   {
    "duration": 74,
    "start_time": "2025-05-04T11:21:00.292Z"
   },
   {
    "duration": 20773,
    "start_time": "2025-05-04T11:21:00.368Z"
   },
   {
    "duration": 135,
    "start_time": "2025-05-04T11:21:21.142Z"
   },
   {
    "duration": 133,
    "start_time": "2025-05-04T11:21:21.279Z"
   },
   {
    "duration": 18,
    "start_time": "2025-05-04T11:21:21.413Z"
   },
   {
    "duration": 124,
    "start_time": "2025-05-04T11:21:21.432Z"
   },
   {
    "duration": 5354,
    "start_time": "2025-05-04T11:21:21.557Z"
   },
   {
    "duration": 760,
    "start_time": "2025-05-04T11:21:26.913Z"
   },
   {
    "duration": 101,
    "start_time": "2025-05-04T11:21:27.675Z"
   },
   {
    "duration": 27,
    "start_time": "2025-05-04T11:21:27.778Z"
   },
   {
    "duration": 4,
    "start_time": "2025-05-04T11:21:27.806Z"
   },
   {
    "duration": 242474,
    "start_time": "2025-05-04T11:21:27.811Z"
   },
   {
    "duration": 141,
    "start_time": "2025-05-04T11:25:30.288Z"
   },
   {
    "duration": 67350,
    "start_time": "2025-05-04T11:25:30.430Z"
   },
   {
    "duration": 0,
    "start_time": "2025-05-04T11:26:37.782Z"
   },
   {
    "duration": 0,
    "start_time": "2025-05-04T11:26:37.783Z"
   },
   {
    "duration": 0,
    "start_time": "2025-05-04T11:26:37.785Z"
   },
   {
    "duration": 5807,
    "start_time": "2025-05-04T11:28:18.083Z"
   },
   {
    "duration": 3716,
    "start_time": "2025-05-04T11:28:23.893Z"
   },
   {
    "duration": 1474,
    "start_time": "2025-05-04T11:28:27.611Z"
   },
   {
    "duration": 941,
    "start_time": "2025-05-04T11:28:29.087Z"
   },
   {
    "duration": 168,
    "start_time": "2025-05-04T11:28:30.030Z"
   },
   {
    "duration": 7,
    "start_time": "2025-05-04T11:28:30.199Z"
   },
   {
    "duration": 432,
    "start_time": "2025-05-04T11:28:30.207Z"
   },
   {
    "duration": 255,
    "start_time": "2025-05-04T11:28:30.641Z"
   },
   {
    "duration": 316,
    "start_time": "2025-05-04T11:28:30.898Z"
   },
   {
    "duration": 642,
    "start_time": "2025-05-04T11:28:31.216Z"
   },
   {
    "duration": 172,
    "start_time": "2025-05-04T11:28:31.859Z"
   },
   {
    "duration": 55,
    "start_time": "2025-05-04T11:28:32.035Z"
   },
   {
    "duration": 569,
    "start_time": "2025-05-04T11:28:32.092Z"
   },
   {
    "duration": 37,
    "start_time": "2025-05-04T11:28:32.664Z"
   },
   {
    "duration": 90,
    "start_time": "2025-05-04T11:28:32.702Z"
   },
   {
    "duration": 55,
    "start_time": "2025-05-04T11:28:32.793Z"
   },
   {
    "duration": 953,
    "start_time": "2025-05-04T11:28:32.849Z"
   },
   {
    "duration": 39,
    "start_time": "2025-05-04T11:28:33.804Z"
   },
   {
    "duration": 79,
    "start_time": "2025-05-04T11:28:33.844Z"
   },
   {
    "duration": 14,
    "start_time": "2025-05-04T11:28:33.925Z"
   },
   {
    "duration": 73,
    "start_time": "2025-05-04T11:28:33.941Z"
   },
   {
    "duration": 22128,
    "start_time": "2025-05-04T11:28:34.016Z"
   },
   {
    "duration": 137,
    "start_time": "2025-05-04T11:28:56.146Z"
   },
   {
    "duration": 131,
    "start_time": "2025-05-04T11:28:56.287Z"
   },
   {
    "duration": 17,
    "start_time": "2025-05-04T11:28:56.420Z"
   },
   {
    "duration": 153,
    "start_time": "2025-05-04T11:28:56.438Z"
   },
   {
    "duration": 5686,
    "start_time": "2025-05-04T11:28:56.597Z"
   },
   {
    "duration": 827,
    "start_time": "2025-05-04T11:29:02.286Z"
   },
   {
    "duration": 105,
    "start_time": "2025-05-04T11:29:03.114Z"
   },
   {
    "duration": 29,
    "start_time": "2025-05-04T11:29:03.221Z"
   },
   {
    "duration": 4,
    "start_time": "2025-05-04T11:29:03.251Z"
   },
   {
    "duration": 250744,
    "start_time": "2025-05-04T11:29:03.257Z"
   },
   {
    "duration": 57,
    "start_time": "2025-05-04T11:33:14.077Z"
   },
   {
    "duration": 319535,
    "start_time": "2025-05-04T11:33:14.136Z"
   },
   {
    "duration": 47,
    "start_time": "2025-05-04T11:38:33.677Z"
   },
   {
    "duration": 3457,
    "start_time": "2025-05-04T11:38:33.726Z"
   },
   {
    "duration": 3375,
    "start_time": "2025-05-04T11:38:37.186Z"
   },
   {
    "duration": 447,
    "start_time": "2025-05-04T11:38:40.562Z"
   },
   {
    "duration": 10119,
    "start_time": "2025-05-04T19:24:42.050Z"
   },
   {
    "duration": 4712,
    "start_time": "2025-05-04T19:24:52.172Z"
   },
   {
    "duration": 1595,
    "start_time": "2025-05-04T19:24:56.886Z"
   },
   {
    "duration": 907,
    "start_time": "2025-05-04T19:24:58.483Z"
   },
   {
    "duration": 160,
    "start_time": "2025-05-04T19:24:59.391Z"
   },
   {
    "duration": 6,
    "start_time": "2025-05-04T19:24:59.553Z"
   },
   {
    "duration": 421,
    "start_time": "2025-05-04T19:24:59.561Z"
   },
   {
    "duration": 230,
    "start_time": "2025-05-04T19:24:59.984Z"
   },
   {
    "duration": 283,
    "start_time": "2025-05-04T19:25:00.216Z"
   },
   {
    "duration": 618,
    "start_time": "2025-05-04T19:25:00.501Z"
   },
   {
    "duration": 137,
    "start_time": "2025-05-04T19:25:01.121Z"
   },
   {
    "duration": 38,
    "start_time": "2025-05-04T19:25:01.260Z"
   },
   {
    "duration": 611,
    "start_time": "2025-05-04T19:25:01.299Z"
   },
   {
    "duration": 33,
    "start_time": "2025-05-04T19:25:01.912Z"
   },
   {
    "duration": 29,
    "start_time": "2025-05-04T19:25:01.947Z"
   },
   {
    "duration": 69,
    "start_time": "2025-05-04T19:25:01.978Z"
   },
   {
    "duration": 891,
    "start_time": "2025-05-04T19:25:02.049Z"
   },
   {
    "duration": 39,
    "start_time": "2025-05-04T19:25:02.942Z"
   },
   {
    "duration": 77,
    "start_time": "2025-05-04T19:25:02.983Z"
   },
   {
    "duration": 16,
    "start_time": "2025-05-04T19:25:03.061Z"
   },
   {
    "duration": 73,
    "start_time": "2025-05-04T19:25:03.078Z"
   },
   {
    "duration": 21000,
    "start_time": "2025-05-04T19:25:03.153Z"
   },
   {
    "duration": 120,
    "start_time": "2025-05-04T19:25:24.155Z"
   },
   {
    "duration": 126,
    "start_time": "2025-05-04T19:25:24.277Z"
   },
   {
    "duration": 17,
    "start_time": "2025-05-04T19:25:24.405Z"
   },
   {
    "duration": 121,
    "start_time": "2025-05-04T19:25:24.423Z"
   },
   {
    "duration": 5094,
    "start_time": "2025-05-04T19:25:24.546Z"
   },
   {
    "duration": 829,
    "start_time": "2025-05-04T19:25:29.643Z"
   },
   {
    "duration": 93,
    "start_time": "2025-05-04T19:25:30.474Z"
   },
   {
    "duration": 31,
    "start_time": "2025-05-04T19:25:30.569Z"
   },
   {
    "duration": 30,
    "start_time": "2025-05-04T19:25:30.601Z"
   },
   {
    "duration": 239907,
    "start_time": "2025-05-04T19:25:30.633Z"
   },
   {
    "duration": 63,
    "start_time": "2025-05-04T19:29:30.542Z"
   },
   {
    "duration": 318276,
    "start_time": "2025-05-04T19:29:30.606Z"
   },
   {
    "duration": 41,
    "start_time": "2025-05-04T19:34:48.884Z"
   },
   {
    "duration": 3201,
    "start_time": "2025-05-04T19:34:48.939Z"
   },
   {
    "duration": 3297,
    "start_time": "2025-05-04T19:34:52.143Z"
   },
   {
    "duration": 446,
    "start_time": "2025-05-04T19:34:55.441Z"
   },
   {
    "duration": 10320,
    "start_time": "2025-05-05T10:31:29.652Z"
   },
   {
    "duration": 4906,
    "start_time": "2025-05-05T10:31:39.975Z"
   },
   {
    "duration": 1648,
    "start_time": "2025-05-05T10:31:44.884Z"
   },
   {
    "duration": 921,
    "start_time": "2025-05-05T10:31:46.534Z"
   },
   {
    "duration": 168,
    "start_time": "2025-05-05T10:31:47.457Z"
   },
   {
    "duration": 7,
    "start_time": "2025-05-05T10:31:47.626Z"
   },
   {
    "duration": 419,
    "start_time": "2025-05-05T10:31:47.635Z"
   },
   {
    "duration": 236,
    "start_time": "2025-05-05T10:31:48.056Z"
   },
   {
    "duration": 270,
    "start_time": "2025-05-05T10:31:48.293Z"
   },
   {
    "duration": 577,
    "start_time": "2025-05-05T10:31:48.565Z"
   },
   {
    "duration": 140,
    "start_time": "2025-05-05T10:31:49.144Z"
   },
   {
    "duration": 39,
    "start_time": "2025-05-05T10:31:49.286Z"
   },
   {
    "duration": 585,
    "start_time": "2025-05-05T10:31:49.327Z"
   },
   {
    "duration": 26,
    "start_time": "2025-05-05T10:31:49.915Z"
   },
   {
    "duration": 44,
    "start_time": "2025-05-05T10:31:49.942Z"
   },
   {
    "duration": 53,
    "start_time": "2025-05-05T10:31:49.988Z"
   },
   {
    "duration": 892,
    "start_time": "2025-05-05T10:31:50.042Z"
   },
   {
    "duration": 44,
    "start_time": "2025-05-05T10:31:50.936Z"
   },
   {
    "duration": 59,
    "start_time": "2025-05-05T10:31:50.982Z"
   },
   {
    "duration": 27,
    "start_time": "2025-05-05T10:31:51.043Z"
   },
   {
    "duration": 50,
    "start_time": "2025-05-05T10:31:51.071Z"
   },
   {
    "duration": 21492,
    "start_time": "2025-05-05T10:31:51.123Z"
   },
   {
    "duration": 132,
    "start_time": "2025-05-05T10:32:12.617Z"
   },
   {
    "duration": 136,
    "start_time": "2025-05-05T10:32:12.751Z"
   },
   {
    "duration": 19,
    "start_time": "2025-05-05T10:32:12.889Z"
   },
   {
    "duration": 120,
    "start_time": "2025-05-05T10:32:12.909Z"
   },
   {
    "duration": 5098,
    "start_time": "2025-05-05T10:32:13.030Z"
   },
   {
    "duration": 846,
    "start_time": "2025-05-05T10:32:18.129Z"
   },
   {
    "duration": 91,
    "start_time": "2025-05-05T10:32:18.977Z"
   },
   {
    "duration": 30,
    "start_time": "2025-05-05T10:32:19.070Z"
   },
   {
    "duration": 10,
    "start_time": "2025-05-05T10:32:19.101Z"
   },
   {
    "duration": 244465,
    "start_time": "2025-05-05T10:32:19.113Z"
   },
   {
    "duration": 135,
    "start_time": "2025-05-05T10:36:23.580Z"
   },
   {
    "duration": 321730,
    "start_time": "2025-05-05T10:36:23.717Z"
   },
   {
    "duration": 46,
    "start_time": "2025-05-05T10:41:45.449Z"
   },
   {
    "duration": 3067,
    "start_time": "2025-05-05T10:41:45.497Z"
   },
   {
    "duration": 3468,
    "start_time": "2025-05-05T10:41:48.566Z"
   },
   {
    "duration": 462,
    "start_time": "2025-05-05T10:41:52.036Z"
   },
   {
    "duration": 49,
    "start_time": "2025-05-05T10:49:22.794Z"
   },
   {
    "duration": 1735,
    "start_time": "2025-05-05T11:03:38.687Z"
   },
   {
    "duration": 158,
    "start_time": "2025-05-05T11:05:20.803Z"
   },
   {
    "duration": 5804,
    "start_time": "2025-05-05T11:05:43.425Z"
   },
   {
    "duration": 3584,
    "start_time": "2025-05-05T11:05:49.232Z"
   },
   {
    "duration": 1373,
    "start_time": "2025-05-05T11:05:52.820Z"
   },
   {
    "duration": 923,
    "start_time": "2025-05-05T11:05:54.195Z"
   },
   {
    "duration": 166,
    "start_time": "2025-05-05T11:05:55.121Z"
   },
   {
    "duration": 8,
    "start_time": "2025-05-05T11:05:55.289Z"
   },
   {
    "duration": 435,
    "start_time": "2025-05-05T11:05:55.299Z"
   },
   {
    "duration": 236,
    "start_time": "2025-05-05T11:05:55.736Z"
   },
   {
    "duration": 284,
    "start_time": "2025-05-05T11:05:55.974Z"
   },
   {
    "duration": 589,
    "start_time": "2025-05-05T11:05:56.263Z"
   },
   {
    "duration": 141,
    "start_time": "2025-05-05T11:05:56.854Z"
   },
   {
    "duration": 40,
    "start_time": "2025-05-05T11:05:56.996Z"
   },
   {
    "duration": 627,
    "start_time": "2025-05-05T11:05:57.038Z"
   },
   {
    "duration": 24,
    "start_time": "2025-05-05T11:05:57.668Z"
   },
   {
    "duration": 29,
    "start_time": "2025-05-05T11:05:57.694Z"
   },
   {
    "duration": 85,
    "start_time": "2025-05-05T11:05:57.725Z"
   },
   {
    "duration": 922,
    "start_time": "2025-05-05T11:05:57.812Z"
   },
   {
    "duration": 53,
    "start_time": "2025-05-05T11:05:58.736Z"
   },
   {
    "duration": 72,
    "start_time": "2025-05-05T11:05:58.792Z"
   },
   {
    "duration": 17,
    "start_time": "2025-05-05T11:05:58.866Z"
   },
   {
    "duration": 53,
    "start_time": "2025-05-05T11:05:58.885Z"
   },
   {
    "duration": 21231,
    "start_time": "2025-05-05T11:05:58.962Z"
   },
   {
    "duration": 121,
    "start_time": "2025-05-05T11:06:20.195Z"
   },
   {
    "duration": 120,
    "start_time": "2025-05-05T11:06:20.318Z"
   },
   {
    "duration": 30,
    "start_time": "2025-05-05T11:06:20.440Z"
   },
   {
    "duration": 109,
    "start_time": "2025-05-05T11:06:20.472Z"
   },
   {
    "duration": 4756,
    "start_time": "2025-05-05T11:06:20.583Z"
   },
   {
    "duration": 838,
    "start_time": "2025-05-05T11:06:25.341Z"
   },
   {
    "duration": 83,
    "start_time": "2025-05-05T11:06:26.181Z"
   },
   {
    "duration": 156,
    "start_time": "2025-05-05T11:06:26.266Z"
   },
   {
    "duration": 4,
    "start_time": "2025-05-05T11:06:26.424Z"
   },
   {
    "duration": 209645,
    "start_time": "2025-05-05T11:06:26.429Z"
   },
   {
    "duration": 135,
    "start_time": "2025-05-05T11:09:56.076Z"
   },
   {
    "duration": 298203,
    "start_time": "2025-05-05T11:09:56.214Z"
   },
   {
    "duration": 50,
    "start_time": "2025-05-05T11:14:54.419Z"
   },
   {
    "duration": 2792,
    "start_time": "2025-05-05T11:14:54.471Z"
   },
   {
    "duration": 3163,
    "start_time": "2025-05-05T11:14:57.265Z"
   },
   {
    "duration": 433,
    "start_time": "2025-05-05T11:15:00.430Z"
   },
   {
    "duration": 5878,
    "start_time": "2025-05-05T11:52:03.102Z"
   },
   {
    "duration": 3898,
    "start_time": "2025-05-05T11:52:08.984Z"
   },
   {
    "duration": 1498,
    "start_time": "2025-05-05T11:52:12.884Z"
   },
   {
    "duration": 918,
    "start_time": "2025-05-05T11:52:14.384Z"
   },
   {
    "duration": 167,
    "start_time": "2025-05-05T11:52:15.304Z"
   },
   {
    "duration": 7,
    "start_time": "2025-05-05T11:52:15.473Z"
   },
   {
    "duration": 408,
    "start_time": "2025-05-05T11:52:15.481Z"
   },
   {
    "duration": 224,
    "start_time": "2025-05-05T11:52:15.891Z"
   },
   {
    "duration": 313,
    "start_time": "2025-05-05T11:52:16.117Z"
   },
   {
    "duration": 627,
    "start_time": "2025-05-05T11:52:16.432Z"
   },
   {
    "duration": 163,
    "start_time": "2025-05-05T11:52:17.063Z"
   },
   {
    "duration": 47,
    "start_time": "2025-05-05T11:52:17.228Z"
   },
   {
    "duration": 625,
    "start_time": "2025-05-05T11:52:17.283Z"
   },
   {
    "duration": 26,
    "start_time": "2025-05-05T11:52:17.912Z"
   },
   {
    "duration": 47,
    "start_time": "2025-05-05T11:52:17.940Z"
   },
   {
    "duration": 56,
    "start_time": "2025-05-05T11:52:17.989Z"
   },
   {
    "duration": 930,
    "start_time": "2025-05-05T11:52:18.047Z"
   },
   {
    "duration": 39,
    "start_time": "2025-05-05T11:52:18.979Z"
   },
   {
    "duration": 80,
    "start_time": "2025-05-05T11:52:19.021Z"
   },
   {
    "duration": 17,
    "start_time": "2025-05-05T11:52:19.104Z"
   },
   {
    "duration": 73,
    "start_time": "2025-05-05T11:52:19.123Z"
   },
   {
    "duration": 21500,
    "start_time": "2025-05-05T11:52:19.198Z"
   },
   {
    "duration": 114,
    "start_time": "2025-05-05T11:52:40.700Z"
   },
   {
    "duration": 124,
    "start_time": "2025-05-05T11:52:40.815Z"
   },
   {
    "duration": 25,
    "start_time": "2025-05-05T11:52:40.941Z"
   },
   {
    "duration": 103,
    "start_time": "2025-05-05T11:52:40.968Z"
   },
   {
    "duration": 4847,
    "start_time": "2025-05-05T11:52:41.073Z"
   },
   {
    "duration": 849,
    "start_time": "2025-05-05T11:52:45.922Z"
   },
   {
    "duration": 82,
    "start_time": "2025-05-05T11:52:46.773Z"
   },
   {
    "duration": 163,
    "start_time": "2025-05-05T11:52:46.857Z"
   },
   {
    "duration": 4,
    "start_time": "2025-05-05T11:52:47.022Z"
   },
   {
    "duration": 212853,
    "start_time": "2025-05-05T11:52:47.027Z"
   },
   {
    "duration": 143,
    "start_time": "2025-05-05T11:56:19.882Z"
   },
   {
    "duration": 306310,
    "start_time": "2025-05-05T11:56:20.027Z"
   },
   {
    "duration": 55,
    "start_time": "2025-05-05T12:01:26.339Z"
   },
   {
    "duration": 2998,
    "start_time": "2025-05-05T12:01:26.397Z"
   },
   {
    "duration": 3432,
    "start_time": "2025-05-05T12:01:29.397Z"
   },
   {
    "duration": 136,
    "start_time": "2025-05-05T12:01:32.831Z"
   },
   {
    "duration": 0,
    "start_time": "2025-05-05T12:01:32.969Z"
   },
   {
    "duration": 0,
    "start_time": "2025-05-05T12:01:32.970Z"
   },
   {
    "duration": 0,
    "start_time": "2025-05-05T12:01:32.971Z"
   },
   {
    "duration": 14,
    "start_time": "2025-05-05T12:11:57.332Z"
   },
   {
    "duration": 17,
    "start_time": "2025-05-05T12:12:56.016Z"
   },
   {
    "duration": 9,
    "start_time": "2025-05-05T12:15:55.915Z"
   },
   {
    "duration": 243,
    "start_time": "2025-05-05T12:16:26.315Z"
   },
   {
    "duration": 10635,
    "start_time": "2025-05-06T08:35:23.677Z"
   },
   {
    "duration": 5159,
    "start_time": "2025-05-06T08:35:34.315Z"
   },
   {
    "duration": 1815,
    "start_time": "2025-05-06T08:35:39.476Z"
   },
   {
    "duration": 995,
    "start_time": "2025-05-06T08:35:41.292Z"
   },
   {
    "duration": 173,
    "start_time": "2025-05-06T08:35:42.290Z"
   },
   {
    "duration": 16,
    "start_time": "2025-05-06T08:35:42.466Z"
   },
   {
    "duration": 461,
    "start_time": "2025-05-06T08:35:42.485Z"
   },
   {
    "duration": 257,
    "start_time": "2025-05-06T08:35:42.949Z"
   },
   {
    "duration": 336,
    "start_time": "2025-05-06T08:35:43.208Z"
   },
   {
    "duration": 644,
    "start_time": "2025-05-06T08:35:43.547Z"
   },
   {
    "duration": 146,
    "start_time": "2025-05-06T08:35:44.193Z"
   },
   {
    "duration": 50,
    "start_time": "2025-05-06T08:35:44.342Z"
   },
   {
    "duration": 620,
    "start_time": "2025-05-06T08:35:44.394Z"
   },
   {
    "duration": 36,
    "start_time": "2025-05-06T08:35:45.017Z"
   },
   {
    "duration": 68,
    "start_time": "2025-05-06T08:35:45.055Z"
   },
   {
    "duration": 74,
    "start_time": "2025-05-06T08:35:45.125Z"
   },
   {
    "duration": 998,
    "start_time": "2025-05-06T08:35:45.201Z"
   },
   {
    "duration": 53,
    "start_time": "2025-05-06T08:35:46.201Z"
   },
   {
    "duration": 61,
    "start_time": "2025-05-06T08:35:46.256Z"
   },
   {
    "duration": 38,
    "start_time": "2025-05-06T08:35:46.318Z"
   },
   {
    "duration": 51,
    "start_time": "2025-05-06T08:35:46.358Z"
   },
   {
    "duration": 22773,
    "start_time": "2025-05-06T08:35:46.410Z"
   },
   {
    "duration": 130,
    "start_time": "2025-05-06T08:36:09.185Z"
   },
   {
    "duration": 143,
    "start_time": "2025-05-06T08:36:09.316Z"
   },
   {
    "duration": 17,
    "start_time": "2025-05-06T08:36:09.461Z"
   },
   {
    "duration": 125,
    "start_time": "2025-05-06T08:36:09.480Z"
   },
   {
    "duration": 5415,
    "start_time": "2025-05-06T08:36:09.607Z"
   },
   {
    "duration": 880,
    "start_time": "2025-05-06T08:36:15.024Z"
   },
   {
    "duration": 93,
    "start_time": "2025-05-06T08:36:15.905Z"
   },
   {
    "duration": 180,
    "start_time": "2025-05-06T08:36:16.000Z"
   },
   {
    "duration": 3,
    "start_time": "2025-05-06T08:36:16.181Z"
   },
   {
    "duration": 225454,
    "start_time": "2025-05-06T08:36:16.186Z"
   },
   {
    "duration": 149,
    "start_time": "2025-05-06T08:40:01.645Z"
   },
   {
    "duration": 396,
    "start_time": "2025-05-06T08:40:01.796Z"
   },
   {
    "duration": 0,
    "start_time": "2025-05-06T08:40:02.194Z"
   },
   {
    "duration": 0,
    "start_time": "2025-05-06T08:40:02.195Z"
   },
   {
    "duration": 0,
    "start_time": "2025-05-06T08:40:02.197Z"
   },
   {
    "duration": 0,
    "start_time": "2025-05-06T08:40:02.198Z"
   },
   {
    "duration": 0,
    "start_time": "2025-05-06T08:40:02.199Z"
   },
   {
    "duration": 6089,
    "start_time": "2025-05-06T08:52:03.539Z"
   },
   {
    "duration": 3704,
    "start_time": "2025-05-06T08:52:09.631Z"
   },
   {
    "duration": 1447,
    "start_time": "2025-05-06T08:52:13.337Z"
   },
   {
    "duration": 923,
    "start_time": "2025-05-06T08:52:14.786Z"
   },
   {
    "duration": 152,
    "start_time": "2025-05-06T08:52:15.711Z"
   },
   {
    "duration": 6,
    "start_time": "2025-05-06T08:52:15.865Z"
   },
   {
    "duration": 411,
    "start_time": "2025-05-06T08:52:15.873Z"
   },
   {
    "duration": 221,
    "start_time": "2025-05-06T08:52:16.285Z"
   },
   {
    "duration": 285,
    "start_time": "2025-05-06T08:52:16.507Z"
   },
   {
    "duration": 604,
    "start_time": "2025-05-06T08:52:16.794Z"
   },
   {
    "duration": 142,
    "start_time": "2025-05-06T08:52:17.400Z"
   },
   {
    "duration": 43,
    "start_time": "2025-05-06T08:52:17.544Z"
   },
   {
    "duration": 618,
    "start_time": "2025-05-06T08:52:17.590Z"
   },
   {
    "duration": 39,
    "start_time": "2025-05-06T08:52:18.212Z"
   },
   {
    "duration": 29,
    "start_time": "2025-05-06T08:52:18.253Z"
   },
   {
    "duration": 72,
    "start_time": "2025-05-06T08:52:18.284Z"
   },
   {
    "duration": 902,
    "start_time": "2025-05-06T08:52:18.357Z"
   },
   {
    "duration": 39,
    "start_time": "2025-05-06T08:52:19.260Z"
   },
   {
    "duration": 78,
    "start_time": "2025-05-06T08:52:19.301Z"
   },
   {
    "duration": 15,
    "start_time": "2025-05-06T08:52:19.380Z"
   },
   {
    "duration": 68,
    "start_time": "2025-05-06T08:52:19.397Z"
   },
   {
    "duration": 21295,
    "start_time": "2025-05-06T08:52:19.467Z"
   },
   {
    "duration": 121,
    "start_time": "2025-05-06T08:52:40.764Z"
   },
   {
    "duration": 138,
    "start_time": "2025-05-06T08:52:40.887Z"
   },
   {
    "duration": 22,
    "start_time": "2025-05-06T08:52:41.027Z"
   },
   {
    "duration": 111,
    "start_time": "2025-05-06T08:52:41.050Z"
   },
   {
    "duration": 5361,
    "start_time": "2025-05-06T08:52:41.163Z"
   },
   {
    "duration": 842,
    "start_time": "2025-05-06T08:52:46.526Z"
   },
   {
    "duration": 87,
    "start_time": "2025-05-06T08:52:47.370Z"
   },
   {
    "duration": 186,
    "start_time": "2025-05-06T08:52:47.459Z"
   },
   {
    "duration": 4,
    "start_time": "2025-05-06T08:52:47.647Z"
   },
   {
    "duration": 83,
    "start_time": "2025-05-06T08:52:47.652Z"
   },
   {
    "duration": 0,
    "start_time": "2025-05-06T08:52:47.736Z"
   },
   {
    "duration": 0,
    "start_time": "2025-05-06T08:52:47.738Z"
   },
   {
    "duration": 0,
    "start_time": "2025-05-06T08:52:47.739Z"
   },
   {
    "duration": 0,
    "start_time": "2025-05-06T08:52:47.740Z"
   },
   {
    "duration": 0,
    "start_time": "2025-05-06T08:52:47.741Z"
   },
   {
    "duration": 0,
    "start_time": "2025-05-06T08:52:47.743Z"
   },
   {
    "duration": 0,
    "start_time": "2025-05-06T08:52:47.744Z"
   },
   {
    "duration": 5763,
    "start_time": "2025-05-06T09:26:47.775Z"
   },
   {
    "duration": 3602,
    "start_time": "2025-05-06T09:26:53.541Z"
   },
   {
    "duration": 1410,
    "start_time": "2025-05-06T09:26:57.145Z"
   },
   {
    "duration": 947,
    "start_time": "2025-05-06T09:26:58.556Z"
   },
   {
    "duration": 175,
    "start_time": "2025-05-06T09:26:59.505Z"
   },
   {
    "duration": 7,
    "start_time": "2025-05-06T09:26:59.681Z"
   },
   {
    "duration": 436,
    "start_time": "2025-05-06T09:26:59.690Z"
   },
   {
    "duration": 230,
    "start_time": "2025-05-06T09:27:00.128Z"
   },
   {
    "duration": 292,
    "start_time": "2025-05-06T09:27:00.360Z"
   },
   {
    "duration": 651,
    "start_time": "2025-05-06T09:27:00.653Z"
   },
   {
    "duration": 141,
    "start_time": "2025-05-06T09:27:01.305Z"
   },
   {
    "duration": 39,
    "start_time": "2025-05-06T09:27:01.447Z"
   },
   {
    "duration": 625,
    "start_time": "2025-05-06T09:27:01.487Z"
   },
   {
    "duration": 36,
    "start_time": "2025-05-06T09:27:02.115Z"
   },
   {
    "duration": 62,
    "start_time": "2025-05-06T09:27:02.153Z"
   },
   {
    "duration": 83,
    "start_time": "2025-05-06T09:27:02.217Z"
   },
   {
    "duration": 886,
    "start_time": "2025-05-06T09:27:02.302Z"
   },
   {
    "duration": 38,
    "start_time": "2025-05-06T09:27:03.190Z"
   },
   {
    "duration": 64,
    "start_time": "2025-05-06T09:27:03.239Z"
   },
   {
    "duration": 15,
    "start_time": "2025-05-06T09:27:03.305Z"
   },
   {
    "duration": 56,
    "start_time": "2025-05-06T09:27:03.340Z"
   },
   {
    "duration": 21366,
    "start_time": "2025-05-06T09:27:03.398Z"
   },
   {
    "duration": 121,
    "start_time": "2025-05-06T09:27:24.767Z"
   },
   {
    "duration": 121,
    "start_time": "2025-05-06T09:27:24.891Z"
   },
   {
    "duration": 28,
    "start_time": "2025-05-06T09:27:25.015Z"
   },
   {
    "duration": 118,
    "start_time": "2025-05-06T09:27:25.045Z"
   },
   {
    "duration": 5056,
    "start_time": "2025-05-06T09:27:25.165Z"
   },
   {
    "duration": 869,
    "start_time": "2025-05-06T09:27:30.223Z"
   },
   {
    "duration": 86,
    "start_time": "2025-05-06T09:27:31.094Z"
   },
   {
    "duration": 167,
    "start_time": "2025-05-06T09:27:31.182Z"
   },
   {
    "duration": 4,
    "start_time": "2025-05-06T09:27:31.351Z"
   },
   {
    "duration": 212802,
    "start_time": "2025-05-06T09:27:31.356Z"
   },
   {
    "duration": 63,
    "start_time": "2025-05-06T09:31:04.240Z"
   },
   {
    "duration": 97,
    "start_time": "2025-05-06T09:31:04.305Z"
   },
   {
    "duration": 0,
    "start_time": "2025-05-06T09:31:04.404Z"
   },
   {
    "duration": 0,
    "start_time": "2025-05-06T09:31:04.405Z"
   },
   {
    "duration": 0,
    "start_time": "2025-05-06T09:31:04.406Z"
   },
   {
    "duration": 0,
    "start_time": "2025-05-06T09:31:04.407Z"
   },
   {
    "duration": 0,
    "start_time": "2025-05-06T09:31:04.408Z"
   },
   {
    "duration": 5644,
    "start_time": "2025-05-06T09:48:33.301Z"
   },
   {
    "duration": 3553,
    "start_time": "2025-05-06T09:48:38.948Z"
   },
   {
    "duration": 1514,
    "start_time": "2025-05-06T09:48:42.503Z"
   },
   {
    "duration": 939,
    "start_time": "2025-05-06T09:48:44.019Z"
   },
   {
    "duration": 158,
    "start_time": "2025-05-06T09:48:44.960Z"
   },
   {
    "duration": 19,
    "start_time": "2025-05-06T09:48:45.120Z"
   },
   {
    "duration": 408,
    "start_time": "2025-05-06T09:48:45.140Z"
   },
   {
    "duration": 240,
    "start_time": "2025-05-06T09:48:45.550Z"
   },
   {
    "duration": 304,
    "start_time": "2025-05-06T09:48:45.792Z"
   },
   {
    "duration": 607,
    "start_time": "2025-05-06T09:48:46.097Z"
   },
   {
    "duration": 134,
    "start_time": "2025-05-06T09:48:46.706Z"
   },
   {
    "duration": 39,
    "start_time": "2025-05-06T09:48:46.842Z"
   },
   {
    "duration": 582,
    "start_time": "2025-05-06T09:48:46.883Z"
   },
   {
    "duration": 26,
    "start_time": "2025-05-06T09:48:47.469Z"
   },
   {
    "duration": 103,
    "start_time": "2025-05-06T09:48:47.497Z"
   },
   {
    "duration": 56,
    "start_time": "2025-05-06T09:48:47.603Z"
   },
   {
    "duration": 911,
    "start_time": "2025-05-06T09:48:47.661Z"
   },
   {
    "duration": 41,
    "start_time": "2025-05-06T09:48:48.574Z"
   },
   {
    "duration": 77,
    "start_time": "2025-05-06T09:48:48.617Z"
   },
   {
    "duration": 15,
    "start_time": "2025-05-06T09:48:48.696Z"
   },
   {
    "duration": 71,
    "start_time": "2025-05-06T09:48:48.713Z"
   },
   {
    "duration": 21164,
    "start_time": "2025-05-06T09:48:48.786Z"
   },
   {
    "duration": 121,
    "start_time": "2025-05-06T09:49:09.952Z"
   },
   {
    "duration": 121,
    "start_time": "2025-05-06T09:49:10.075Z"
   },
   {
    "duration": 16,
    "start_time": "2025-05-06T09:49:10.198Z"
   },
   {
    "duration": 112,
    "start_time": "2025-05-06T09:49:10.216Z"
   },
   {
    "duration": 5011,
    "start_time": "2025-05-06T09:49:10.329Z"
   },
   {
    "duration": 814,
    "start_time": "2025-05-06T09:49:15.342Z"
   },
   {
    "duration": 83,
    "start_time": "2025-05-06T09:49:16.158Z"
   },
   {
    "duration": 153,
    "start_time": "2025-05-06T09:49:16.243Z"
   },
   {
    "duration": 3,
    "start_time": "2025-05-06T09:49:16.398Z"
   },
   {
    "duration": 212557,
    "start_time": "2025-05-06T09:49:16.403Z"
   },
   {
    "duration": 103,
    "start_time": "2025-05-06T09:52:49.040Z"
   },
   {
    "duration": 82,
    "start_time": "2025-05-06T09:52:49.144Z"
   },
   {
    "duration": 0,
    "start_time": "2025-05-06T09:52:49.228Z"
   },
   {
    "duration": 0,
    "start_time": "2025-05-06T09:52:49.229Z"
   },
   {
    "duration": 0,
    "start_time": "2025-05-06T09:52:49.231Z"
   },
   {
    "duration": 0,
    "start_time": "2025-05-06T09:52:49.232Z"
   },
   {
    "duration": 0,
    "start_time": "2025-05-06T09:52:49.233Z"
   },
   {
    "duration": 79,
    "start_time": "2025-05-06T09:53:01.438Z"
   },
   {
    "duration": 97,
    "start_time": "2025-05-06T09:53:12.500Z"
   },
   {
    "duration": 77,
    "start_time": "2025-05-06T09:53:39.063Z"
   },
   {
    "duration": 670330,
    "start_time": "2025-05-06T09:53:55.101Z"
   },
   {
    "duration": 72,
    "start_time": "2025-05-06T10:06:04.028Z"
   },
   {
    "duration": 2947,
    "start_time": "2025-05-06T10:06:09.900Z"
   },
   {
    "duration": 6445,
    "start_time": "2025-05-06T10:06:16.617Z"
   },
   {
    "duration": 84,
    "start_time": "2025-05-06T10:19:46.973Z"
   }
  ],
  "kernelspec": {
   "display_name": "Python 3 (ipykernel)",
   "language": "python",
   "name": "python3"
  },
  "language_info": {
   "codemirror_mode": {
    "name": "ipython",
    "version": 3
   },
   "file_extension": ".py",
   "mimetype": "text/x-python",
   "name": "python",
   "nbconvert_exporter": "python",
   "pygments_lexer": "ipython3",
   "version": "3.9.5"
  },
  "toc": {
   "base_numbering": 1,
   "nav_menu": {},
   "number_sections": true,
   "sideBar": true,
   "skip_h1_title": true,
   "title_cell": "Table of Contents",
   "title_sidebar": "Contents",
   "toc_cell": false,
   "toc_position": {
    "height": "calc(100% - 180px)",
    "left": "10px",
    "top": "150px",
    "width": "236.259px"
   },
   "toc_section_display": true,
   "toc_window_display": true
  }
 },
 "nbformat": 4,
 "nbformat_minor": 2
}
