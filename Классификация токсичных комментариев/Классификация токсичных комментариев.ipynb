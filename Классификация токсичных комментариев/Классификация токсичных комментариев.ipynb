{
 "cells": [
  {
   "cell_type": "markdown",
   "metadata": {},
   "source": [
    "# Проект для «Викишоп»"
   ]
  },
  {
   "cell_type": "markdown",
   "metadata": {},
   "source": [
    "Интернет-магазин «Викишоп» запускает новый сервис. Теперь пользователи могут редактировать и дополнять описания товаров, как в вики-сообществах. То есть клиенты предлагают свои правки и комментируют изменения других. Магазину нужен инструмент, который будет искать токсичные комментарии и отправлять их на модерацию. \n",
    "\n",
    "Необходимо обучить модель классифицировать комментарии на позитивные и негативные. В распоряжении набор данных с разметкой о токсичности правок.\n",
    "\n",
    "**Описание данных**\n",
    "\n",
    "Данные находятся в файле `toxic_comments.csv`. Столбец *text* в нём содержит текст комментария, а *toxic* — целевой признак."
   ]
  },
  {
   "cell_type": "markdown",
   "metadata": {
    "toc": true
   },
   "source": [
    "<h1>Содержание<span class=\"tocSkip\"></span></h1>\n",
    "<div class=\"toc\"><ul class=\"toc-item\"><li><span><a href=\"#Подготовка\" data-toc-modified-id=\"Подготовка-1\"><span class=\"toc-item-num\">1&nbsp;&nbsp;</span>Подготовка</a></span></li><li><span><a href=\"#Обучение\" data-toc-modified-id=\"Обучение-2\"><span class=\"toc-item-num\">2&nbsp;&nbsp;</span>Обучение</a></span></li><li><span><a href=\"#Выводы\" data-toc-modified-id=\"Выводы-3\"><span class=\"toc-item-num\">3&nbsp;&nbsp;</span>Выводы</a></span></li></ul></div>"
   ]
  },
  {
   "cell_type": "markdown",
   "metadata": {},
   "source": [
    "## Подготовка"
   ]
  },
  {
   "cell_type": "code",
   "execution_count": 1,
   "metadata": {},
   "outputs": [],
   "source": [
    "import pandas as pd\n",
    "import matplotlib.pyplot as plt\n",
    "import seaborn as sns\n",
    "import spacy\n",
    "import re\n",
    "import numpy as np\n",
    "\n",
    "from tqdm.notebook import tqdm\n",
    "from sklearn.feature_extraction.text import TfidfVectorizer\n",
    "from sklearn.linear_model import LogisticRegression, PassiveAggressiveClassifier\n",
    "from sklearn.metrics import f1_score, confusion_matrix\n",
    "from sklearn.model_selection import GridSearchCV, train_test_split\n",
    "from sklearn.pipeline import Pipeline"
   ]
  },
  {
   "cell_type": "code",
   "execution_count": 2,
   "metadata": {},
   "outputs": [
    {
     "data": {
      "text/html": [
       "<div>\n",
       "<style scoped>\n",
       "    .dataframe tbody tr th:only-of-type {\n",
       "        vertical-align: middle;\n",
       "    }\n",
       "\n",
       "    .dataframe tbody tr th {\n",
       "        vertical-align: top;\n",
       "    }\n",
       "\n",
       "    .dataframe thead th {\n",
       "        text-align: right;\n",
       "    }\n",
       "</style>\n",
       "<table border=\"1\" class=\"dataframe\">\n",
       "  <thead>\n",
       "    <tr style=\"text-align: right;\">\n",
       "      <th></th>\n",
       "      <th>text</th>\n",
       "      <th>toxic</th>\n",
       "    </tr>\n",
       "  </thead>\n",
       "  <tbody>\n",
       "    <tr>\n",
       "      <th>0</th>\n",
       "      <td>Explanation\\nWhy the edits made under my usern...</td>\n",
       "      <td>0</td>\n",
       "    </tr>\n",
       "    <tr>\n",
       "      <th>1</th>\n",
       "      <td>D'aww! He matches this background colour I'm s...</td>\n",
       "      <td>0</td>\n",
       "    </tr>\n",
       "    <tr>\n",
       "      <th>2</th>\n",
       "      <td>Hey man, I'm really not trying to edit war. It...</td>\n",
       "      <td>0</td>\n",
       "    </tr>\n",
       "    <tr>\n",
       "      <th>3</th>\n",
       "      <td>\"\\nMore\\nI can't make any real suggestions on ...</td>\n",
       "      <td>0</td>\n",
       "    </tr>\n",
       "    <tr>\n",
       "      <th>4</th>\n",
       "      <td>You, sir, are my hero. Any chance you remember...</td>\n",
       "      <td>0</td>\n",
       "    </tr>\n",
       "  </tbody>\n",
       "</table>\n",
       "</div>"
      ],
      "text/plain": [
       "                                                text  toxic\n",
       "0  Explanation\\nWhy the edits made under my usern...      0\n",
       "1  D'aww! He matches this background colour I'm s...      0\n",
       "2  Hey man, I'm really not trying to edit war. It...      0\n",
       "3  \"\\nMore\\nI can't make any real suggestions on ...      0\n",
       "4  You, sir, are my hero. Any chance you remember...      0"
      ]
     },
     "execution_count": 2,
     "metadata": {},
     "output_type": "execute_result"
    }
   ],
   "source": [
    "toxic_comments = pd.read_csv('/datasets/toxic_comments.csv', index_col=0)\n",
    "toxic_comments.head()"
   ]
  },
  {
   "cell_type": "code",
   "execution_count": 3,
   "metadata": {},
   "outputs": [
    {
     "name": "stdout",
     "output_type": "stream",
     "text": [
      "<class 'pandas.core.frame.DataFrame'>\n",
      "Int64Index: 159292 entries, 0 to 159450\n",
      "Data columns (total 2 columns):\n",
      " #   Column  Non-Null Count   Dtype \n",
      "---  ------  --------------   ----- \n",
      " 0   text    159292 non-null  object\n",
      " 1   toxic   159292 non-null  int64 \n",
      "dtypes: int64(1), object(1)\n",
      "memory usage: 3.6+ MB\n"
     ]
    }
   ],
   "source": [
    "toxic_comments.info()"
   ]
  },
  {
   "cell_type": "code",
   "execution_count": 4,
   "metadata": {},
   "outputs": [
    {
     "data": {
      "text/plain": [
       "0"
      ]
     },
     "execution_count": 4,
     "metadata": {},
     "output_type": "execute_result"
    }
   ],
   "source": [
    "toxic_comments.duplicated().sum()"
   ]
  },
  {
   "cell_type": "markdown",
   "metadata": {},
   "source": [
    "Изучив общую информацию о датасете можем сказать, что в таблице 2 столбца, один с текстом комментария, другой с оценкой токсичности этого комментария, где 0 - комеентарий не токсичен, оценка 1 соответтвует токсичному комментарию. Пропусков в таблице нет. Дубликатов в таблице тоже нет."
   ]
  },
  {
   "cell_type": "markdown",
   "metadata": {},
   "source": [
    "Посмотрим на распределение токсичных и нетоксичных комментариев."
   ]
  },
  {
   "cell_type": "code",
   "execution_count": 5,
   "metadata": {},
   "outputs": [
    {
     "data": {
      "image/png": "[encoded data removed]",
      "text/plain": [
       "<Figure size 432x288 with 1 Axes>"
      ]
     },
     "metadata": {
      "needs_background": "light"
     },
     "output_type": "display_data"
    }
   ],
   "source": [
    "# распределение классов\n",
    "sns.countplot(x='toxic', data=toxic_comments, palette = \"Set2\")\n",
    "plt.title('Распределение токсичных и нетоксичных комментариев')\n",
    "plt.show()"
   ]
  },
  {
   "cell_type": "markdown",
   "metadata": {},
   "source": [
    "Большая часть комментариев не токсична, что создаёт дисбаланс классов. При обучении моделей это необходимо учитывать, так как модели могут отдавать предпочтение преобладающему классу (нетоксичным комментариям)."
   ]
  },
  {
   "cell_type": "markdown",
   "metadata": {},
   "source": [
    "Проведем текс к нижнему регистру и очистим текст от пунктуации. Далее проведем  лемматизацию, чтобы уменьшить количество форм одного и того же слова, что улучшит качество представления текста для модели."
   ]
  },
  {
   "cell_type": "code",
   "execution_count": 6,
   "metadata": {},
   "outputs": [],
   "source": [
    "# активируем tqdm для Pandas\n",
    "tqdm.pandas()"
   ]
  },
  {
   "cell_type": "code",
   "execution_count": 7,
   "metadata": {},
   "outputs": [
    {
     "data": {
      "application/vnd.jupyter.widget-view+json": {
       "model_id": "0c4b34cf723b486189a9ca0099069ed1",
       "version_major": 2,
       "version_minor": 0
      },
      "text/plain": [
       "  0%|          | 0/159292 [00:00<?, ?it/s]"
      ]
     },
     "metadata": {},
     "output_type": "display_data"
    }
   ],
   "source": [
    "# функция для очистки текста\n",
    "def clean_text(text):\n",
    "    text = text.lower()  # приводим к нижнему регистру\n",
    "    text = re.sub(r'http\\S+', '', text)  # удаляем ссылки\n",
    "    text = re.sub(r'[^a-zA-Z]', ' ', text)  # оставляем только кириллицу\n",
    "    text = re.sub(r'\\s+', ' ', text)  # удаляем лишние пробелы\n",
    "    return text.strip()\n",
    "\n",
    "# применяем функцию ко всем комментариям\n",
    "toxic_comments['cleaned_text'] = toxic_comments['text'].progress_apply(clean_text)"
   ]
  },
  {
   "cell_type": "code",
   "execution_count": 8,
   "metadata": {},
   "outputs": [
    {
     "data": {
      "application/vnd.jupyter.widget-view+json": {
       "model_id": "162a861bef7f4141a7139d4efbea7e78",
       "version_major": 2,
       "version_minor": 0
      },
      "text/plain": [
       "  0%|          | 0/159292 [00:00<?, ?it/s]"
      ]
     },
     "metadata": {},
     "output_type": "display_data"
    },
    {
     "data": {
      "text/html": [
       "<div>\n",
       "<style scoped>\n",
       "    .dataframe tbody tr th:only-of-type {\n",
       "        vertical-align: middle;\n",
       "    }\n",
       "\n",
       "    .dataframe tbody tr th {\n",
       "        vertical-align: top;\n",
       "    }\n",
       "\n",
       "    .dataframe thead th {\n",
       "        text-align: right;\n",
       "    }\n",
       "</style>\n",
       "<table border=\"1\" class=\"dataframe\">\n",
       "  <thead>\n",
       "    <tr style=\"text-align: right;\">\n",
       "      <th></th>\n",
       "      <th>text</th>\n",
       "      <th>toxic</th>\n",
       "      <th>cleaned_text</th>\n",
       "      <th>lemmatized_text</th>\n",
       "    </tr>\n",
       "  </thead>\n",
       "  <tbody>\n",
       "    <tr>\n",
       "      <th>0</th>\n",
       "      <td>Explanation\\nWhy the edits made under my usern...</td>\n",
       "      <td>0</td>\n",
       "      <td>explanation why the edits made under my userna...</td>\n",
       "      <td>explanation edit username hardcore metallica f...</td>\n",
       "    </tr>\n",
       "    <tr>\n",
       "      <th>1</th>\n",
       "      <td>D'aww! He matches this background colour I'm s...</td>\n",
       "      <td>0</td>\n",
       "      <td>d aww he matches this background colour i m se...</td>\n",
       "      <td>d aww match background colour m seemingly stuc...</td>\n",
       "    </tr>\n",
       "    <tr>\n",
       "      <th>2</th>\n",
       "      <td>Hey man, I'm really not trying to edit war. It...</td>\n",
       "      <td>0</td>\n",
       "      <td>hey man i m really not trying to edit war it s...</td>\n",
       "      <td>hey man m try edit war s guy constantly remove...</td>\n",
       "    </tr>\n",
       "    <tr>\n",
       "      <th>3</th>\n",
       "      <td>\"\\nMore\\nI can't make any real suggestions on ...</td>\n",
       "      <td>0</td>\n",
       "      <td>more i can t make any real suggestions on impr...</td>\n",
       "      <td>t real suggestion improvement wonder section s...</td>\n",
       "    </tr>\n",
       "    <tr>\n",
       "      <th>4</th>\n",
       "      <td>You, sir, are my hero. Any chance you remember...</td>\n",
       "      <td>0</td>\n",
       "      <td>you sir are my hero any chance you remember wh...</td>\n",
       "      <td>sir hero chance remember page s</td>\n",
       "    </tr>\n",
       "  </tbody>\n",
       "</table>\n",
       "</div>"
      ],
      "text/plain": [
       "                                                text  toxic  \\\n",
       "0  Explanation\\nWhy the edits made under my usern...      0   \n",
       "1  D'aww! He matches this background colour I'm s...      0   \n",
       "2  Hey man, I'm really not trying to edit war. It...      0   \n",
       "3  \"\\nMore\\nI can't make any real suggestions on ...      0   \n",
       "4  You, sir, are my hero. Any chance you remember...      0   \n",
       "\n",
       "                                        cleaned_text  \\\n",
       "0  explanation why the edits made under my userna...   \n",
       "1  d aww he matches this background colour i m se...   \n",
       "2  hey man i m really not trying to edit war it s...   \n",
       "3  more i can t make any real suggestions on impr...   \n",
       "4  you sir are my hero any chance you remember wh...   \n",
       "\n",
       "                                     lemmatized_text  \n",
       "0  explanation edit username hardcore metallica f...  \n",
       "1  d aww match background colour m seemingly stuc...  \n",
       "2  hey man m try edit war s guy constantly remove...  \n",
       "3  t real suggestion improvement wonder section s...  \n",
       "4                    sir hero chance remember page s  "
      ]
     },
     "execution_count": 8,
     "metadata": {},
     "output_type": "execute_result"
    }
   ],
   "source": [
    "# загружаем модель spaCy для английского языка\n",
    "nlp = spacy.load('en_core_web_sm')\n",
    "\n",
    "# функция для лемматизации текста\n",
    "def lemmatize_text_spacy(text):\n",
    "    doc = nlp(text)\n",
    "    lemmas = [token.lemma_ for token in doc if not token.is_stop]\n",
    "    return ' '.join(lemmas)\n",
    "\n",
    "# применяем функцию к очищенным комментариям\n",
    "toxic_comments['lemmatized_text'] = toxic_comments['cleaned_text'].progress_apply(lemmatize_text_spacy)\n",
    "toxic_comments.head()"
   ]
  },
  {
   "cell_type": "code",
   "execution_count": null,
   "metadata": {},
   "outputs": [],
   "source": [
    "# проверка на наличие пустых строк\n",
    "empty_rows = toxic_comments['lemmatized_text'].str.strip() == ''\n",
    "empty_rows.sum()"
   ]
  },
  {
   "cell_type": "code",
   "execution_count": 10,
   "metadata": {},
   "outputs": [],
   "source": [
    "# заменяем пустые строки на пробелы\n",
    "toxic_comments['lemmatized_text'] = toxic_comments['lemmatized_text'].replace('', ' ') "
   ]
  },
  {
   "cell_type": "code",
   "execution_count": 11,
   "metadata": {},
   "outputs": [
    {
     "name": "stdout",
     "output_type": "stream",
     "text": [
      "Распределение классов в обучающей выборке:\n",
      "0    0.898386\n",
      "1    0.101614\n",
      "Name: toxic, dtype: float64\n",
      "\n",
      "Распределение классов в тестовой выборке:\n",
      "0    0.898396\n",
      "1    0.101604\n",
      "Name: toxic, dtype: float64\n"
     ]
    }
   ],
   "source": [
    "# делим данные на обучающую и тестовую выборки\n",
    "X = toxic_comments['lemmatized_text']\n",
    "y = toxic_comments['toxic']\n",
    "\n",
    "X_train, X_test, y_train, y_test = train_test_split(X, y, test_size=0.2, random_state=13, stratify=y)\n",
    "\n",
    "\n",
    "# проверка распределения классов в выборках\n",
    "print(\"Распределение классов в обучающей выборке:\")\n",
    "print(y_train.value_counts(normalize=True))\n",
    "print(\"\\nРаспределение классов в тестовой выборке:\")\n",
    "print(y_test.value_counts(normalize=True))"
   ]
  },
  {
   "cell_type": "markdown",
   "metadata": {},
   "source": [
    "Данные были разделены на обучающую и тестовую выборки с учетом стратификации. Пропорции классов были сохранены в каждой выборке, что позволяет модели лучше адаптироваться к дисбалансу данных."
   ]
  },
  {
   "cell_type": "markdown",
   "metadata": {},
   "source": [
    "## Обучение"
   ]
  },
  {
   "cell_type": "code",
   "execution_count": null,
   "metadata": {},
   "outputs": [
    {
     "name": "stdout",
     "output_type": "stream",
     "text": [
      "Fitting 5 folds for each of 3 candidates, totalling 15 fits\n"
     ]
    }
   ],
   "source": [
    "# cоздание пайплайна с моделью LogisticRegression\n",
    "model_log = Pipeline(steps=[\n",
    "    ('tfidf', TfidfVectorizer(max_features=5000)),\n",
    "    ('classifier', LogisticRegression(random_state=42, max_iter=10000))\n",
    "])\n",
    "\n",
    "# oпределение параметров для оптимизации LogisticRegression\n",
    "param_grid_log = {\n",
    "    'classifier__C': [0.1, 1.0, 10.0]\n",
    "}\n",
    "# создание объекта GridSearchCV для LogisticRegression\n",
    "grid_search_log = GridSearchCV(\n",
    "    model_log,\n",
    "    param_grid_log,\n",
    "    scoring='f1',\n",
    "    verbose=1,\n",
    "    cv=5\n",
    ")\n",
    "\n",
    "# обучение на исходных данных\n",
    "grid_search_log.fit(X_train, y_train) \n",
    "\n",
    "# вывод лучших параметров для LogisticRegression    \n",
    "print(f\"Лучшие параметры для LogisticRegression: {grid_search_log.best_params_}\")\n",
    "# вывод лучшей метрики на кросс-валидации для LogisticRegression \n",
    "print(f\"Лучший F1-score для LogisticRegression: {grid_search_log.best_score_:.4f}\")"
   ]
  },
  {
   "cell_type": "code",
   "execution_count": null,
   "metadata": {},
   "outputs": [],
   "source": [
    "# cоздание пайплайна с моделью PassiveAggressiveClassifier\n",
    "model_pac = Pipeline(steps=[\n",
    "    ('tfidf', TfidfVectorizer(max_features=5000)),\n",
    "    ('classifier', PassiveAggressiveClassifier(random_state=42, max_iter=10000))\n",
    "])\n",
    "\n",
    "# oпределение параметров для оптимизации PassiveAggressiveClassifier\n",
    "param_grid_pac = {\n",
    "    'classifier__C': [0.1, 1.0, 10.0],\n",
    "    'classifier__max_iter': [50, 100]\n",
    "}\n",
    "# создание объекта GridSearchCV для PassiveAggressiveClassifier\n",
    "grid_search_pac = GridSearchCV(\n",
    "    model_pac,\n",
    "    param_grid_pac,\n",
    "    scoring='f1',\n",
    "    verbose=1,\n",
    "    cv=5\n",
    ")\n",
    "\n",
    "# обучение на исходных данных\n",
    "grid_search_pac.fit(X_train, y_train)  # Обучаем на исходных данных\n",
    "\n",
    "# вывод лучших параметров для PassiveAggressiveClassifier     \n",
    "print(f\"Лучшие параметры для PassiveAggressiveClassifier: {grid_search_pac.best_params_}\")\n",
    "# вывод лучшей метрики на кросс-валидации для PassiveAggressiveClassifier\n",
    "print(f\"Лучший F1-score для PassiveAggressiveClassifier: {grid_search_pac.best_score_:.4f}\")"
   ]
  },
  {
   "cell_type": "markdown",
   "metadata": {},
   "source": [
    "Для исследования мы выбрали две модели: логистическая регрессия (LogisticRegression) и PassiveAggressiveClassifier. Для каждой модели был настроен поиск оптимальных гиперпараметров с использованием GridSearchCV и кросс-валидации на 5 фолдах. Для оценки качества использовалась метрика F1.\n",
    "\n",
    "Лучшие параметры для LogisticRegression: {'classifier__C': 10.0}, F1: 0.7727.\n",
    "\n",
    "Лучшие параметры для PassiveAggressiveClassifier: {'classifier__C': 0.1, 'classifier__max_iter': 50}, F1: 0.7783.\n",
    "\n",
    "Обе модели показали достаточно высокий результатБ и приблизительно одинаковый, однако у модели PassiveAggressiveClassifier метрика F1 немного выше, поэтому считаем эту модель лучшей. Проведем оценку тестовых данных лучшей модели."
   ]
  },
  {
   "cell_type": "code",
   "execution_count": null,
   "metadata": {},
   "outputs": [],
   "source": [
    "# оценка на тестовых данных\n",
    "best_model = grid_search_pac.best_estimator_\n",
    "y_pred = best_model.predict(X_test)\n",
    "\n",
    "f1 = f1_score(y_test, y_pred)\n",
    "print(f\"F1-score модели PassiveAggressiveClassifier на тестовых данных: {f1:.4f}\\n\")"
   ]
  },
  {
   "cell_type": "markdown",
   "metadata": {},
   "source": [
    "F1-метрика на тестовой выборке составляет 0.7759 . Это означает, что модель достаточно эффективно определяет токсичные комментарии."
   ]
  },
  {
   "cell_type": "code",
   "execution_count": null,
   "metadata": {},
   "outputs": [],
   "source": [
    "# построение матрицы ошибок\n",
    "conf_matrix = confusion_matrix(y_test, y_pred)\n",
    "\n",
    "plt.figure(figsize=(8, 6))\n",
    "sns.heatmap(conf_matrix, annot=True, fmt='d', cmap='Blues', cbar=False,\n",
    "            xticklabels=np.unique(y_test), yticklabels=np.unique(y_test))\n",
    "plt.xlabel('Предсказанные метки')\n",
    "plt.ylabel('Истинные метки')\n",
    "plt.title(f'Матрица ошибок для ')\n",
    "plt.show()"
   ]
  },
  {
   "cell_type": "markdown",
   "metadata": {},
   "source": [
    "Точность для нетоксичных комментариев составила 97% (28309/(28313+987)), что говорит о высокой вероятности корректной идентификации безопасного контента.\n",
    "\n",
    "Точность для токсичных комментариев составила 88% (2250/(2250+313)),тоже достаточно хороший результат, это может быть улучшено за счёт дальнейших настроек и увеличения данных для обучения."
   ]
  },
  {
   "cell_type": "markdown",
   "metadata": {},
   "source": [
    "## Выводы"
   ]
  },
  {
   "cell_type": "markdown",
   "metadata": {},
   "source": [
    "В рамках проекта была построена модель, способная с высокой точностью классифицировать токсичные комментарии. Была проведена очистка и лемматизация текста. \n",
    "\n",
    "Для исследования были использованы две модели: логистическая регрессия (LogisticRegression) и PassiveAggressiveClassifier. Для каждой модели был настроен поиск оптимальных гиперпараметров с использованием GridSearchCV и кросс-валидации на 5 фолдах. Для оценки качества использовалась метрика F1. Лучшей моделью оказалась PassiveAggressiveClassifier, которая достигла F1-score на уровне  приблизительно 0.78 на тестовой выборке. Это хороший результат для классификации на основе текста, указывающий на то, что модель достаточно точно выявляет токсичные сообщения.\n",
    "\n",
    "Для поддержания точности модели необходимо регулярно обновлять данные и дообучать модель."
   ]
  }
 ],
 "metadata": {
  "ExecuteTimeLog": [
   {
    "duration": 449,
    "start_time": "2025-05-21T08:33:26.063Z"
   },
   {
    "duration": 1096,
    "start_time": "2025-05-21T08:34:15.630Z"
   },
   {
    "duration": 992,
    "start_time": "2025-05-21T08:40:38.173Z"
   },
   {
    "duration": 35,
    "start_time": "2025-05-21T08:41:14.292Z"
   },
   {
    "duration": 49,
    "start_time": "2025-05-22T14:18:24.525Z"
   },
   {
    "duration": 367,
    "start_time": "2025-05-22T14:18:29.497Z"
   },
   {
    "duration": 1028,
    "start_time": "2025-05-22T14:18:29.865Z"
   },
   {
    "duration": 31,
    "start_time": "2025-05-22T14:18:30.894Z"
   },
   {
    "duration": 238,
    "start_time": "2025-05-22T14:18:30.926Z"
   },
   {
    "duration": 68,
    "start_time": "2025-05-22T14:23:01.018Z"
   },
   {
    "duration": 901,
    "start_time": "2025-05-22T14:23:22.789Z"
   },
   {
    "duration": 168,
    "start_time": "2025-05-22T14:23:28.022Z"
   },
   {
    "duration": 2,
    "start_time": "2025-05-22T14:23:48.754Z"
   },
   {
    "duration": 119,
    "start_time": "2025-05-22T14:23:53.503Z"
   },
   {
    "duration": 2166,
    "start_time": "2025-05-22T14:39:09.333Z"
   },
   {
    "duration": 5696,
    "start_time": "2025-05-23T08:49:32.877Z"
   },
   {
    "duration": 895,
    "start_time": "2025-05-23T08:49:38.575Z"
   },
   {
    "duration": 33,
    "start_time": "2025-05-23T08:49:39.471Z"
   },
   {
    "duration": 249,
    "start_time": "2025-05-23T08:49:39.505Z"
   },
   {
    "duration": 137,
    "start_time": "2025-05-23T08:49:39.756Z"
   },
   {
    "duration": 40800,
    "start_time": "2025-05-23T08:49:39.894Z"
   },
   {
    "duration": 4019,
    "start_time": "2025-05-23T08:50:27.452Z"
   },
   {
    "duration": 942,
    "start_time": "2025-05-23T08:50:31.473Z"
   },
   {
    "duration": 45,
    "start_time": "2025-05-23T08:50:32.417Z"
   },
   {
    "duration": 241,
    "start_time": "2025-05-23T08:50:32.464Z"
   },
   {
    "duration": 144,
    "start_time": "2025-05-23T08:50:32.707Z"
   },
   {
    "duration": 285118,
    "start_time": "2025-05-23T08:50:32.853Z"
   },
   {
    "duration": 4096,
    "start_time": "2025-05-23T08:55:24.828Z"
   },
   {
    "duration": 901,
    "start_time": "2025-05-23T08:55:28.926Z"
   },
   {
    "duration": 36,
    "start_time": "2025-05-23T08:55:29.829Z"
   },
   {
    "duration": 323,
    "start_time": "2025-05-23T08:55:29.867Z"
   },
   {
    "duration": 144,
    "start_time": "2025-05-23T08:55:30.192Z"
   },
   {
    "duration": 321,
    "start_time": "2025-05-23T08:55:30.338Z"
   },
   {
    "duration": 0,
    "start_time": "2025-05-23T08:55:30.660Z"
   },
   {
    "duration": 4,
    "start_time": "2025-05-23T08:57:35.591Z"
   },
   {
    "duration": 4033,
    "start_time": "2025-05-23T08:57:41.762Z"
   },
   {
    "duration": 884,
    "start_time": "2025-05-23T08:57:45.797Z"
   },
   {
    "duration": 34,
    "start_time": "2025-05-23T08:57:46.684Z"
   },
   {
    "duration": 248,
    "start_time": "2025-05-23T08:57:46.719Z"
   },
   {
    "duration": 140,
    "start_time": "2025-05-23T08:57:46.969Z"
   },
   {
    "duration": 3,
    "start_time": "2025-05-23T08:57:47.111Z"
   },
   {
    "duration": 0,
    "start_time": "2025-05-23T08:58:30.089Z"
   },
   {
    "duration": 3972,
    "start_time": "2025-05-23T08:58:41.315Z"
   },
   {
    "duration": 941,
    "start_time": "2025-05-23T08:58:45.289Z"
   },
   {
    "duration": 51,
    "start_time": "2025-05-23T08:58:46.233Z"
   },
   {
    "duration": 250,
    "start_time": "2025-05-23T08:58:46.287Z"
   },
   {
    "duration": 147,
    "start_time": "2025-05-23T08:58:46.539Z"
   },
   {
    "duration": 3,
    "start_time": "2025-05-23T08:58:46.688Z"
   },
   {
    "duration": 53,
    "start_time": "2025-05-23T11:29:58.736Z"
   },
   {
    "duration": 4524,
    "start_time": "2025-05-23T11:30:03.503Z"
   },
   {
    "duration": 955,
    "start_time": "2025-05-23T11:30:08.029Z"
   },
   {
    "duration": 41,
    "start_time": "2025-05-23T11:30:08.986Z"
   },
   {
    "duration": 250,
    "start_time": "2025-05-23T11:30:09.029Z"
   },
   {
    "duration": 150,
    "start_time": "2025-05-23T11:30:09.281Z"
   },
   {
    "duration": 3,
    "start_time": "2025-05-23T11:30:09.432Z"
   },
   {
    "duration": 4551,
    "start_time": "2025-05-26T11:56:29.912Z"
   },
   {
    "duration": 967,
    "start_time": "2025-05-26T11:56:34.466Z"
   },
   {
    "duration": 44,
    "start_time": "2025-05-26T11:56:35.435Z"
   },
   {
    "duration": 319,
    "start_time": "2025-05-26T11:56:35.481Z"
   },
   {
    "duration": 163,
    "start_time": "2025-05-26T11:56:35.803Z"
   },
   {
    "duration": 3,
    "start_time": "2025-05-26T11:56:35.969Z"
   },
   {
    "duration": 741,
    "start_time": "2025-05-26T11:56:35.974Z"
   },
   {
    "duration": 0,
    "start_time": "2025-05-26T11:56:36.718Z"
   },
   {
    "duration": 4291,
    "start_time": "2025-05-26T11:57:58.386Z"
   },
   {
    "duration": 928,
    "start_time": "2025-05-26T11:58:02.680Z"
   },
   {
    "duration": 36,
    "start_time": "2025-05-26T11:58:03.610Z"
   },
   {
    "duration": 253,
    "start_time": "2025-05-26T11:58:03.661Z"
   },
   {
    "duration": 148,
    "start_time": "2025-05-26T11:58:03.917Z"
   },
   {
    "duration": 3,
    "start_time": "2025-05-26T11:58:04.067Z"
   },
   {
    "duration": 8310,
    "start_time": "2025-05-26T11:58:04.072Z"
   },
   {
    "duration": 2556546,
    "start_time": "2025-05-26T11:58:12.384Z"
   },
   {
    "duration": 182,
    "start_time": "2025-05-26T12:50:02.681Z"
   },
   {
    "duration": 37,
    "start_time": "2025-05-26T12:50:45.263Z"
   },
   {
    "duration": 50,
    "start_time": "2025-05-26T12:52:24.962Z"
   },
   {
    "duration": 73,
    "start_time": "2025-05-26T12:52:30.475Z"
   },
   {
    "duration": 28,
    "start_time": "2025-05-26T13:08:41.634Z"
   },
   {
    "duration": 121,
    "start_time": "2025-05-26T13:08:45.407Z"
   },
   {
    "duration": 300,
    "start_time": "2025-05-26T13:09:27.154Z"
   },
   {
    "duration": 79091,
    "start_time": "2025-05-26T13:10:43.805Z"
   },
   {
    "duration": 112194,
    "start_time": "2025-05-26T13:20:01.296Z"
   },
   {
    "duration": 756,
    "start_time": "2025-05-26T13:22:32.066Z"
   },
   {
    "duration": 39,
    "start_time": "2025-05-26T13:22:51.866Z"
   },
   {
    "duration": 4,
    "start_time": "2025-05-26T13:23:29.215Z"
   },
   {
    "duration": 115,
    "start_time": "2025-05-26T13:23:34.531Z"
   },
   {
    "duration": 157,
    "start_time": "2025-05-26T13:27:41.263Z"
   },
   {
    "duration": 29,
    "start_time": "2025-05-26T13:28:50.862Z"
   },
   {
    "duration": 82817,
    "start_time": "2025-05-26T13:33:22.476Z"
   },
   {
    "duration": 169,
    "start_time": "2025-05-26T13:43:40.288Z"
   },
   {
    "duration": 4403,
    "start_time": "2025-05-26T14:11:33.417Z"
   },
   {
    "duration": 994,
    "start_time": "2025-05-26T14:11:37.822Z"
   },
   {
    "duration": 49,
    "start_time": "2025-05-26T14:11:38.818Z"
   },
   {
    "duration": 271,
    "start_time": "2025-05-26T14:11:38.869Z"
   },
   {
    "duration": 153,
    "start_time": "2025-05-26T14:11:39.143Z"
   },
   {
    "duration": 4,
    "start_time": "2025-05-26T14:11:39.298Z"
   },
   {
    "duration": 8304,
    "start_time": "2025-05-26T14:11:39.304Z"
   },
   {
    "duration": 4595,
    "start_time": "2025-05-26T14:23:35.079Z"
   },
   {
    "duration": 1014,
    "start_time": "2025-05-26T14:23:39.676Z"
   },
   {
    "duration": 36,
    "start_time": "2025-05-26T14:23:40.692Z"
   },
   {
    "duration": 297,
    "start_time": "2025-05-26T14:23:40.730Z"
   },
   {
    "duration": 150,
    "start_time": "2025-05-26T14:23:41.030Z"
   },
   {
    "duration": 3,
    "start_time": "2025-05-26T14:23:41.182Z"
   },
   {
    "duration": 8350,
    "start_time": "2025-05-26T14:23:41.187Z"
   },
   {
    "duration": 2580022,
    "start_time": "2025-05-26T14:23:49.538Z"
   },
   {
    "duration": 42,
    "start_time": "2025-05-26T15:06:49.747Z"
   },
   {
    "duration": 107,
    "start_time": "2025-05-26T15:06:49.791Z"
   }
  ],
  "kernelspec": {
   "display_name": "Python 3 (ipykernel)",
   "language": "python",
   "name": "python3"
  },
  "language_info": {
   "codemirror_mode": {
    "name": "ipython",
    "version": 3
   },
   "file_extension": ".py",
   "mimetype": "text/x-python",
   "name": "python",
   "nbconvert_exporter": "python",
   "pygments_lexer": "ipython3",
   "version": "3.9.5"
  },
  "toc": {
   "base_numbering": 1,
   "nav_menu": {},
   "number_sections": true,
   "sideBar": true,
   "skip_h1_title": true,
   "title_cell": "Содержание",
   "title_sidebar": "Contents",
   "toc_cell": true,
   "toc_position": {
    "height": "calc(100% - 180px)",
    "left": "10px",
    "top": "150px",
    "width": "302.391px"
   },
   "toc_section_display": true,
   "toc_window_display": true
  }
 },
 "nbformat": 4,
 "nbformat_minor": 2
}
